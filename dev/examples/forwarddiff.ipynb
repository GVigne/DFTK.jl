{
 "cells": [
  {
   "cell_type": "markdown",
   "source": [
    "# Polarizability using automatic differentiation\n",
    "\n",
    "Simple example for computing properties using (forward-mode)\n",
    "automatic differentation.\n",
    "For a more classical approach and more details about computing polarizabilities,\n",
    "see Polarizability by linear response."
   ],
   "metadata": {}
  },
  {
   "outputs": [],
   "cell_type": "code",
   "source": [
    "using DFTK\n",
    "using LinearAlgebra\n",
    "using ForwardDiff\n",
    "\n",
    "# Construct PlaneWaveBasis given a particular electric field strength\n",
    "# Again we take the example of a Helium atom.\n",
    "function make_basis(ε::T; a=10., Ecut=30) where T\n",
    "    lattice=T(a) * I(3)  # lattice is a cube of ``a`` Bohrs\n",
    "    He = ElementPsp(:He, psp=load_psp(\"hgh/lda/He-q2\"))\n",
    "    atoms = [He => [[1/2; 1/2; 1/2]]]  # Helium at the center of the box\n",
    "\n",
    "    model = model_DFT(lattice, atoms, [:lda_x, :lda_c_vwn];\n",
    "                      extra_terms=[ExternalFromReal(r -> -ε * (r[1] - a/2))],\n",
    "                      symmetries=false)\n",
    "    PlaneWaveBasis(model; Ecut, kgrid=[1, 1, 1])  # No k-point sampling on isolated system\n",
    "end\n",
    "\n",
    "# dipole moment of a given density (assuming the current geometry)\n",
    "function dipole(basis, ρ)\n",
    "    @assert isdiag(basis.model.lattice)\n",
    "    a  = basis.model.lattice[1, 1]\n",
    "    rr = [a * (r[1] - 1/2) for r in r_vectors(basis)]\n",
    "    sum(rr .* ρ) * basis.dvol\n",
    "end\n",
    "\n",
    "# Function to compute the dipole for a given field strength\n",
    "function compute_dipole(ε; tol=1e-8, kwargs...)\n",
    "    scfres = self_consistent_field(make_basis(ε; kwargs...), tol=tol)\n",
    "    dipole(scfres.basis, scfres.ρ)\n",
    "end;"
   ],
   "metadata": {},
   "execution_count": 1
  },
  {
   "cell_type": "markdown",
   "source": [
    "With this in place we can compute the polarizability from finite differences\n",
    "(just like in the previous example):"
   ],
   "metadata": {}
  },
  {
   "outputs": [
    {
     "name": "stdout",
     "output_type": "stream",
     "text": [
      "n     Energy            Eₙ-Eₙ₋₁     ρout-ρin   α      Diag\n",
      "---   ---------------   ---------   --------   ----   ----\n",
      "  1   -2.770841400796         NaN   2.99e-01   0.80    9.0\n",
      "  2   -2.772147214716   -1.31e-03   4.75e-02   0.80    1.0\n",
      "  3   -2.772169844520   -2.26e-05   4.37e-03   0.80    2.0\n",
      "  4   -2.772170722481   -8.78e-07   9.41e-05   0.80    2.0\n",
      "  5   -2.772170723001   -5.20e-10   1.11e-05   0.80    2.0\n",
      "n     Energy            Eₙ-Eₙ₋₁     ρout-ρin   α      Diag\n",
      "---   ---------------   ---------   --------   ----   ----\n",
      "  1   -2.770449063060         NaN   2.96e-01   0.80    8.0\n",
      "  2   -2.772046007640   -1.60e-03   5.12e-02   0.80    1.0\n",
      "  3   -2.772083341695   -3.73e-05   1.95e-03   0.80    2.0\n",
      "  4   -2.772083416731   -7.50e-08   6.59e-05   0.80    2.0\n",
      "  5   -2.772083417773   -1.04e-09   2.18e-05   0.80    3.0\n"
     ]
    },
    {
     "output_type": "execute_result",
     "data": {
      "text/plain": "1.7737964981538545"
     },
     "metadata": {},
     "execution_count": 2
    }
   ],
   "cell_type": "code",
   "source": [
    "polarizability_fd = let\n",
    "    ε = 0.01\n",
    "    (compute_dipole(ε) - compute_dipole(0.0)) / ε\n",
    "end"
   ],
   "metadata": {},
   "execution_count": 2
  },
  {
   "cell_type": "markdown",
   "source": [
    "We do the same thing using automatic differentiation. Under the hood this uses\n",
    "custom rules to implicitly differentiate through the self-consistent\n",
    "field fixed-point problem."
   ],
   "metadata": {}
  },
  {
   "outputs": [
    {
     "name": "stdout",
     "output_type": "stream",
     "text": [
      "n     Energy            Eₙ-Eₙ₋₁     ρout-ρin   α      Diag\n",
      "---   ---------------   ---------   --------   ----   ----\n",
      "  1   -2.770741020294         NaN   2.98e-01   0.80    8.0\n",
      "  2   -2.772052207936   -1.31e-03   4.85e-02   0.80    1.0\n",
      "  3   -2.772082687447   -3.05e-05   2.91e-03   0.80    1.0\n",
      "  4   -2.772083395277   -7.08e-07   3.63e-04   0.80    2.0\n",
      "  5   -2.772083415946   -2.07e-08   1.32e-04   0.80    2.0\n",
      "  6   -2.772083417803   -1.86e-09   5.62e-06   0.80    2.0\n",
      "\n",
      "Polarizability via ForwardDiff:       1.7725473344327516\n",
      "Polarizability via finite difference: 1.7737964981538545\n"
     ]
    }
   ],
   "cell_type": "code",
   "source": [
    "polarizability = ForwardDiff.derivative(compute_dipole, 0.0)\n",
    "println()\n",
    "println(\"Polarizability via ForwardDiff:       $polarizability\")\n",
    "println(\"Polarizability via finite difference: $polarizability_fd\")"
   ],
   "metadata": {},
   "execution_count": 3
  }
 ],
 "nbformat_minor": 3,
 "metadata": {
  "language_info": {
   "file_extension": ".jl",
   "mimetype": "application/julia",
   "name": "julia",
   "version": "1.7.2"
  },
  "kernelspec": {
   "name": "julia-1.7",
   "display_name": "Julia 1.7.2",
   "language": "julia"
  }
 },
 "nbformat": 4
}
