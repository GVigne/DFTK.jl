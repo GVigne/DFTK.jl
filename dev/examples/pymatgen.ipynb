{
 "cells": [
  {
   "cell_type": "markdown",
   "source": [
    "# Creating supercells with pymatgen\n",
    "\n",
    "The [Pymatgen](https://pymatgen.org/) python library allows to setup\n",
    "solid-state calculations using a flexible set of classes as well as an API\n",
    "to an online data base of structures. Its `Structure` and `Lattice`\n",
    "objects are directly supported by the DFTK `load_atoms` and `load_lattice`\n",
    "functions, such that DFTK may be readily used to run calculation on systems\n",
    "defined in pymatgen. Using the `pymatgen_structure` function a conversion\n",
    "from DFTK to pymatgen structures is also possible. In the following we\n",
    "use this to create a silicon supercell and find its LDA ground state\n",
    "using direct minimisation. To run this example Julia's `PyCall` package\n",
    "needs to be able to find an installation of `pymatgen`."
   ],
   "metadata": {}
  },
  {
   "cell_type": "markdown",
   "source": [
    "First we setup the silicon lattice in DFTK."
   ],
   "metadata": {}
  },
  {
   "outputs": [],
   "cell_type": "code",
   "source": [
    "using DFTK\n",
    "\n",
    "a = 10.263141334305942  # Lattice constant in Bohr\n",
    "lattice = a / 2 .* [[0 1 1.]; [1 0 1.]; [1 1 0.]]\n",
    "Si = ElementPsp(:Si, psp=load_psp(\"hgh/lda/Si-q4\"))\n",
    "atoms = [Si => [ones(3)/8, -ones(3)/8]];"
   ],
   "metadata": {},
   "execution_count": 1
  },
  {
   "cell_type": "markdown",
   "source": [
    "Next we make a `[2, 2, 2]` supercell using pymatgen"
   ],
   "metadata": {}
  },
  {
   "outputs": [
    {
     "name": "stdout",
     "output_type": "stream",
     "text": [
      "┌ Warning: `vendor()` is deprecated, use `BLAS.get_config()` and inspect the output instead\n",
      "│   caller = npyinitialize() at numpy.jl:67\n",
      "└ @ PyCall /home/runner/.julia/packages/PyCall/L0fLP/src/numpy.jl:67\n"
     ]
    }
   ],
   "cell_type": "code",
   "source": [
    "pystruct = pymatgen_structure(lattice, atoms)\n",
    "pystruct.make_supercell([2, 2, 2])\n",
    "lattice = load_lattice(pystruct)\n",
    "atoms = [Si => [s.frac_coords for s in pystruct.sites]];"
   ],
   "metadata": {},
   "execution_count": 2
  },
  {
   "cell_type": "markdown",
   "source": [
    "Setup an LDA model and discretize using\n",
    "a single k-point and a small `Ecut` of 5 Hartree."
   ],
   "metadata": {}
  },
  {
   "outputs": [
    {
     "output_type": "execute_result",
     "data": {
      "text/plain": "PlaneWaveBasis discretization:\n    Ecut                 : 5.0 Ha\n    fft_size             : (32, 32, 32), 32768 total points\n    kgrid type           : Monkhorst-Pack\n    kgrid                : [1, 1, 1]\n    num. irred. kpoints  : 1\n\n    Discretized Model(lda_xc_teter93, 3D):\n        lattice (in Bohr)    : [0         , 10.2631   , 10.2631   ]\n                               [10.2631   , 0         , 10.2631   ]\n                               [10.2631   , 10.2631   , 0         ]\n        unit cell volume     : 2162.1 Bohr³\n    \n        atoms                : Si₁₆\n        atom potentials      : ElementPsp(Si, psp=\"hgh/lda/si-q4\")\n    \n        num. electrons       : 64\n        spin polarization    : none\n        temperature          : 0 Ha\n    \n        terms                : Kinetic()\n                               AtomicLocal()\n                               AtomicNonlocal()\n                               Ewald()\n                               PspCorrection()\n                               Hartree()\n                               Xc(:lda_xc_teter93)"
     },
     "metadata": {},
     "execution_count": 3
    }
   ],
   "cell_type": "code",
   "source": [
    "model = model_LDA(lattice, atoms)\n",
    "basis = PlaneWaveBasis(model; Ecut=5, kgrid=(1, 1, 1))"
   ],
   "metadata": {},
   "execution_count": 3
  },
  {
   "cell_type": "markdown",
   "source": [
    "Find the ground state using direct minimisation (always using SCF is boring ...)"
   ],
   "metadata": {}
  },
  {
   "outputs": [
    {
     "name": "stdout",
     "output_type": "stream",
     "text": [
      "Iter     Function value   Gradient norm \n",
      "     0     1.115824e+02     1.492370e+00\n",
      " * time: 0.43640995025634766\n",
      "     1     1.064050e+01     9.363666e-01\n",
      " * time: 1.1786160469055176\n",
      "     2    -1.108785e+01     1.059030e+00\n",
      " * time: 1.2555978298187256\n",
      "     3    -3.353590e+01     7.167854e-01\n",
      " * time: 1.3629920482635498\n",
      "     4    -4.679525e+01     5.545151e-01\n",
      " * time: 1.488800048828125\n",
      "     5    -5.672393e+01     2.303792e-01\n",
      " * time: 1.5722389221191406\n",
      "     6    -5.963109e+01     1.722818e-01\n",
      " * time: 1.6371710300445557\n",
      "     7    -6.085781e+01     7.658288e-02\n",
      " * time: 1.7123630046844482\n",
      "     8    -6.139268e+01     3.505146e-02\n",
      " * time: 1.7874929904937744\n",
      "     9    -6.166074e+01     3.183408e-02\n",
      " * time: 1.973127841949463\n",
      "    10    -6.181361e+01     2.836616e-02\n",
      " * time: 2.0494790077209473\n",
      "    11    -6.194784e+01     1.777265e-02\n",
      " * time: 2.124145030975342\n",
      "    12    -6.203082e+01     1.435931e-02\n",
      " * time: 2.199025869369507\n",
      "    13    -6.207963e+01     1.293358e-02\n",
      " * time: 2.2773969173431396\n",
      "    14    -6.211910e+01     1.167461e-02\n",
      " * time: 2.7889509201049805\n",
      "    15    -6.214391e+01     1.237167e-02\n",
      " * time: 2.851649045944214\n",
      "    16    -6.216344e+01     9.717011e-03\n",
      " * time: 2.9138028621673584\n",
      "    17    -6.217789e+01     8.336852e-03\n",
      " * time: 2.9768998622894287\n",
      "    18    -6.218898e+01     7.907836e-03\n",
      " * time: 3.039886951446533\n",
      "    19    -6.219791e+01     7.100368e-03\n",
      " * time: 3.1008780002593994\n",
      "    20    -6.220518e+01     7.770759e-03\n",
      " * time: 3.1770548820495605\n",
      "    21    -6.221168e+01     7.972532e-03\n",
      " * time: 3.237436056137085\n",
      "    22    -6.221770e+01     8.141801e-03\n",
      " * time: 3.2971129417419434\n",
      "    23    -6.222345e+01     7.616306e-03\n",
      " * time: 3.3588080406188965\n",
      "    24    -6.222941e+01     6.865262e-03\n",
      " * time: 3.4329068660736084\n",
      "    25    -6.223583e+01     5.817328e-03\n",
      " * time: 3.4932730197906494\n",
      "    26    -6.224213e+01     6.284428e-03\n",
      " * time: 3.5547850131988525\n",
      "    27    -6.224756e+01     5.823905e-03\n",
      " * time: 3.630297899246216\n",
      "    28    -6.225192e+01     4.214797e-03\n",
      " * time: 3.692020893096924\n",
      "    29    -6.225505e+01     3.643529e-03\n",
      " * time: 3.750701904296875\n",
      "    30    -6.225725e+01     3.269768e-03\n",
      " * time: 3.811811923980713\n",
      "    31    -6.225885e+01     2.139023e-03\n",
      " * time: 3.879106044769287\n",
      "    32    -6.225999e+01     1.770373e-03\n",
      " * time: 3.943721055984497\n",
      "    33    -6.226073e+01     1.508937e-03\n",
      " * time: 4.005461931228638\n",
      "    34    -6.226121e+01     1.042187e-03\n",
      " * time: 4.064425945281982\n",
      "    35    -6.226146e+01     7.063861e-04\n",
      " * time: 4.133333921432495\n",
      "    36    -6.226156e+01     6.161823e-04\n",
      " * time: 4.1954450607299805\n",
      "    37    -6.226161e+01     3.119484e-04\n",
      " * time: 4.257669925689697\n",
      "    38    -6.226163e+01     2.219950e-04\n",
      " * time: 4.32077693939209\n",
      "    39    -6.226165e+01     1.841240e-04\n",
      " * time: 4.387408971786499\n",
      "    40    -6.226165e+01     1.521737e-04\n",
      " * time: 4.448215007781982\n",
      "    41    -6.226166e+01     1.154075e-04\n",
      " * time: 4.51000189781189\n",
      "    42    -6.226166e+01     1.003995e-04\n",
      " * time: 4.577944993972778\n",
      "    43    -6.226166e+01     8.203361e-05\n",
      " * time: 4.64031195640564\n",
      "    44    -6.226166e+01     7.386244e-05\n",
      " * time: 4.7028748989105225\n",
      "    45    -6.226166e+01     5.358617e-05\n",
      " * time: 4.764969825744629\n",
      "    46    -6.226167e+01     3.916978e-05\n",
      " * time: 4.834409952163696\n",
      "    47    -6.226167e+01     2.692705e-05\n",
      " * time: 4.8963189125061035\n",
      "    48    -6.226167e+01     2.174465e-05\n",
      " * time: 4.9583189487457275\n",
      "    49    -6.226167e+01     1.589460e-05\n",
      " * time: 5.020009994506836\n",
      "    50    -6.226167e+01     1.310415e-05\n",
      " * time: 5.087985992431641\n",
      "    51    -6.226167e+01     9.721954e-06\n",
      " * time: 5.149158000946045\n",
      "    52    -6.226167e+01     9.093113e-06\n",
      " * time: 5.210165977478027\n",
      "    53    -6.226167e+01     7.238215e-06\n",
      " * time: 5.275174856185913\n",
      "    54    -6.226167e+01     5.557296e-06\n",
      " * time: 5.343966007232666\n",
      "    55    -6.226167e+01     3.875605e-06\n",
      " * time: 5.406744956970215\n",
      "    56    -6.226167e+01     3.093550e-06\n",
      " * time: 5.469796895980835\n",
      "    57    -6.226167e+01     2.388858e-06\n",
      " * time: 5.530241966247559\n",
      "    58    -6.226167e+01     2.208147e-06\n",
      " * time: 5.598963022232056\n"
     ]
    }
   ],
   "cell_type": "code",
   "source": [
    "scfres = direct_minimization(basis, tol=1e-5);"
   ],
   "metadata": {},
   "execution_count": 4
  },
  {
   "outputs": [
    {
     "output_type": "execute_result",
     "data": {
      "text/plain": "Energy breakdown (in Ha):\n    Kinetic             25.7671065\n    AtomicLocal         -18.8557659\n    AtomicNonlocal      14.8522632\n    Ewald               -67.1831486\n    PspCorrection       -2.3569765\n    Hartree             4.8485368 \n    Xc                  -19.3336819\n\n    total               -62.261666461944"
     },
     "metadata": {},
     "execution_count": 5
    }
   ],
   "cell_type": "code",
   "source": [
    "scfres.energies"
   ],
   "metadata": {},
   "execution_count": 5
  }
 ],
 "nbformat_minor": 3,
 "metadata": {
  "language_info": {
   "file_extension": ".jl",
   "mimetype": "application/julia",
   "name": "julia",
   "version": "1.7.2"
  },
  "kernelspec": {
   "name": "julia-1.7",
   "display_name": "Julia 1.7.2",
   "language": "julia"
  }
 },
 "nbformat": 4
}
