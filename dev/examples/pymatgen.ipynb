{
 "cells": [
  {
   "cell_type": "markdown",
   "source": [
    "# Creating supercells with pymatgen\n",
    "\n",
    "The [Pymatgen](https://pymatgen.org/) python library allows to setup\n",
    "solid-state calculations using a flexible set of classes as well as an API\n",
    "to an online data base of structures. Its `Structure` and `Lattice`\n",
    "objects are directly supported by the DFTK `load_atoms` and `load_lattice`\n",
    "functions, such that DFTK may be readily used to run calculation on systems\n",
    "defined in pymatgen. Using the `pymatgen_structure` function a conversion\n",
    "from DFTK to pymatgen structures is also possible. In the following we\n",
    "use this to create a silicon supercell and find its LDA ground state\n",
    "using direct minimisation. To run this example Julia's `PyCall` package\n",
    "needs to be able to find an installation of `pymatgen`."
   ],
   "metadata": {}
  },
  {
   "cell_type": "markdown",
   "source": [
    "First we setup the silicon lattice in DFTK."
   ],
   "metadata": {}
  },
  {
   "outputs": [],
   "cell_type": "code",
   "source": [
    "using DFTK\n",
    "\n",
    "a = 10.263141334305942  # Lattice constant in Bohr\n",
    "lattice = a / 2 .* [[0 1 1.]; [1 0 1.]; [1 1 0.]]\n",
    "Si = ElementPsp(:Si, psp=load_psp(\"hgh/lda/Si-q4\"))\n",
    "atoms = [Si => [ones(3)/8, -ones(3)/8]];"
   ],
   "metadata": {},
   "execution_count": 1
  },
  {
   "cell_type": "markdown",
   "source": [
    "Next we make a `[2, 2, 2]` supercell using pymatgen"
   ],
   "metadata": {}
  },
  {
   "outputs": [
    {
     "name": "stdout",
     "output_type": "stream",
     "text": [
      "┌ Warning: `vendor()` is deprecated, use `BLAS.get_config()` and inspect the output instead\n",
      "│   caller = npyinitialize() at numpy.jl:67\n",
      "└ @ PyCall /home/runner/.julia/packages/PyCall/L0fLP/src/numpy.jl:67\n"
     ]
    }
   ],
   "cell_type": "code",
   "source": [
    "pystruct = pymatgen_structure(lattice, atoms)\n",
    "pystruct.make_supercell([2, 2, 2])\n",
    "lattice = load_lattice(pystruct)\n",
    "atoms = [Si => [s.frac_coords for s in pystruct.sites]];"
   ],
   "metadata": {},
   "execution_count": 2
  },
  {
   "cell_type": "markdown",
   "source": [
    "Setup an LDA model and discretize using\n",
    "a single k-point and a small `Ecut` of 5 Hartree."
   ],
   "metadata": {}
  },
  {
   "outputs": [
    {
     "output_type": "execute_result",
     "data": {
      "text/plain": "PlaneWaveBasis discretization:\n    Ecut                 : 5.0 Ha\n    fft_size             : (32, 32, 32), 32768 total points\n    kgrid type           : Monkhorst-Pack\n    kgrid                : [1, 1, 1]\n    num. irred. kpoints  : 1\n\n    Discretized Model(lda_xc_teter93, 3D):\n        lattice (in Bohr)    : [0         , 10.2631   , 10.2631   ]\n                               [10.2631   , 0         , 10.2631   ]\n                               [10.2631   , 10.2631   , 0         ]\n        unit cell volume     : 2162.1 Bohr³\n    \n        atoms                : Si₁₆\n        atom potentials      : ElementPsp(Si, psp=\"hgh/lda/si-q4\")\n    \n        num. electrons       : 64\n        spin polarization    : none\n        temperature          : 0 Ha\n    \n        terms                : Kinetic()\n                               AtomicLocal()\n                               AtomicNonlocal()\n                               Ewald()\n                               PspCorrection()\n                               Hartree()\n                               Xc(:lda_xc_teter93)"
     },
     "metadata": {},
     "execution_count": 3
    }
   ],
   "cell_type": "code",
   "source": [
    "model = model_LDA(lattice, atoms)\n",
    "basis = PlaneWaveBasis(model; Ecut=5, kgrid=(1, 1, 1))"
   ],
   "metadata": {},
   "execution_count": 3
  },
  {
   "cell_type": "markdown",
   "source": [
    "Find the ground state using direct minimisation (always using SCF is boring ...)"
   ],
   "metadata": {}
  },
  {
   "outputs": [
    {
     "name": "stdout",
     "output_type": "stream",
     "text": [
      "Iter     Function value   Gradient norm \n",
      "     0     1.119624e+02     1.371171e+00\n",
      " * time: 0.4870460033416748\n",
      "     1     1.122311e+01     8.764239e-01\n",
      " * time: 1.0943191051483154\n",
      "     2    -1.175265e+01     9.272386e-01\n",
      " * time: 1.15818190574646\n",
      "     3    -3.407199e+01     7.505241e-01\n",
      " * time: 1.2800359725952148\n",
      "     4    -4.745053e+01     5.694316e-01\n",
      " * time: 1.3615350723266602\n",
      "     5    -5.691136e+01     2.255406e-01\n",
      " * time: 1.4542279243469238\n",
      "     6    -5.975202e+01     1.924874e-01\n",
      " * time: 1.5405960083007812\n",
      "     7    -6.089204e+01     7.525978e-02\n",
      " * time: 1.5955500602722168\n",
      "     8    -6.135514e+01     3.916752e-02\n",
      " * time: 1.6501679420471191\n",
      "     9    -6.161536e+01     3.903533e-02\n",
      " * time: 1.706408977508545\n",
      "    10    -6.178912e+01     2.833005e-02\n",
      " * time: 1.7622160911560059\n",
      "    11    -6.194418e+01     2.213022e-02\n",
      " * time: 1.817647933959961\n",
      "    12    -6.204867e+01     1.679010e-02\n",
      " * time: 1.8920629024505615\n",
      "    13    -6.209410e+01     1.602960e-02\n",
      " * time: 1.9471099376678467\n",
      "    14    -6.214598e+01     1.204875e-02\n",
      " * time: 2.003485918045044\n",
      "    15    -6.216715e+01     1.229414e-02\n",
      " * time: 2.0591189861297607\n",
      "    16    -6.218574e+01     8.637895e-03\n",
      " * time: 2.114901065826416\n",
      "    17    -6.219881e+01     7.414298e-03\n",
      " * time: 2.1779279708862305\n",
      "    18    -6.220889e+01     6.789015e-03\n",
      " * time: 2.232680082321167\n",
      "    19    -6.221846e+01     5.601716e-03\n",
      " * time: 2.2884950637817383\n",
      "    20    -6.222729e+01     7.534020e-03\n",
      " * time: 2.3434219360351562\n",
      "    21    -6.223610e+01     5.878339e-03\n",
      " * time: 2.3991501331329346\n",
      "    22    -6.224422e+01     5.823944e-03\n",
      " * time: 2.4640159606933594\n",
      "    23    -6.225082e+01     5.161116e-03\n",
      " * time: 2.5226259231567383\n",
      "    24    -6.225544e+01     3.377736e-03\n",
      " * time: 2.5815019607543945\n",
      "    25    -6.225811e+01     2.479002e-03\n",
      " * time: 2.637852907180786\n",
      "    26    -6.225948e+01     1.917999e-03\n",
      " * time: 2.694409132003784\n",
      "    27    -6.226023e+01     1.776809e-03\n",
      " * time: 2.7588090896606445\n",
      "    28    -6.226066e+01     1.846734e-03\n",
      " * time: 2.8134539127349854\n",
      "    29    -6.226098e+01     1.132846e-03\n",
      " * time: 2.8689959049224854\n",
      "    30    -6.226121e+01     8.979880e-04\n",
      " * time: 2.925676107406616\n",
      "    31    -6.226139e+01     7.570378e-04\n",
      " * time: 2.981274127960205\n",
      "    32    -6.226150e+01     5.927456e-04\n",
      " * time: 3.0548949241638184\n",
      "    33    -6.226158e+01     4.161899e-04\n",
      " * time: 3.1097450256347656\n",
      "    34    -6.226162e+01     2.980789e-04\n",
      " * time: 3.1650390625\n",
      "    35    -6.226164e+01     2.442500e-04\n",
      " * time: 3.220386028289795\n",
      "    36    -6.226165e+01     1.891806e-04\n",
      " * time: 3.276492118835449\n",
      "    37    -6.226166e+01     1.293548e-04\n",
      " * time: 3.3322229385375977\n",
      "    38    -6.226166e+01     9.647197e-05\n",
      " * time: 3.394972085952759\n",
      "    39    -6.226166e+01     7.682693e-05\n",
      " * time: 3.450256109237671\n",
      "    40    -6.226166e+01     6.579643e-05\n",
      " * time: 3.5069849491119385\n",
      "    41    -6.226167e+01     5.582686e-05\n",
      " * time: 3.561998128890991\n",
      "    42    -6.226167e+01     3.653692e-05\n",
      " * time: 3.6178200244903564\n",
      "    43    -6.226167e+01     3.177352e-05\n",
      " * time: 3.682487964630127\n",
      "    44    -6.226167e+01     2.688473e-05\n",
      " * time: 3.737370014190674\n",
      "    45    -6.226167e+01     1.808691e-05\n",
      " * time: 3.7937510013580322\n",
      "    46    -6.226167e+01     1.271182e-05\n",
      " * time: 3.8491039276123047\n",
      "    47    -6.226167e+01     8.381934e-06\n",
      " * time: 3.905303955078125\n",
      "    48    -6.226167e+01     6.342148e-06\n",
      " * time: 3.970345973968506\n",
      "    49    -6.226167e+01     5.245926e-06\n",
      " * time: 4.0252439975738525\n",
      "    50    -6.226167e+01     3.062746e-06\n",
      " * time: 4.0799150466918945\n"
     ]
    }
   ],
   "cell_type": "code",
   "source": [
    "scfres = direct_minimization(basis, tol=1e-5);"
   ],
   "metadata": {},
   "execution_count": 4
  },
  {
   "outputs": [
    {
     "output_type": "execute_result",
     "data": {
      "text/plain": "Energy breakdown (in Ha):\n    Kinetic             25.7671076\n    AtomicLocal         -18.8557697\n    AtomicNonlocal      14.8522653\n    Ewald               -67.1831486\n    PspCorrection       -2.3569765\n    Hartree             4.8485379 \n    Xc                  -19.3336823\n\n    total               -62.261666458994"
     },
     "metadata": {},
     "execution_count": 5
    }
   ],
   "cell_type": "code",
   "source": [
    "scfres.energies"
   ],
   "metadata": {},
   "execution_count": 5
  }
 ],
 "nbformat_minor": 3,
 "metadata": {
  "language_info": {
   "file_extension": ".jl",
   "mimetype": "application/julia",
   "name": "julia",
   "version": "1.7.2"
  },
  "kernelspec": {
   "name": "julia-1.7",
   "display_name": "Julia 1.7.2",
   "language": "julia"
  }
 },
 "nbformat": 4
}
