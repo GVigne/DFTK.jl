{
 "cells": [
  {
   "cell_type": "markdown",
   "source": [
    "# Creating supercells with pymatgen\n",
    "\n",
    "The [Pymatgen](https://pymatgen.org/) python library allows to setup\n",
    "solid-state calculations using a flexible set of classes as well as an API\n",
    "to an online data base of structures. Its `Structure` and `Lattice`\n",
    "objects are directly supported by the DFTK `load_atoms` and `load_lattice`\n",
    "functions, such that DFTK may be readily used to run calculation on systems\n",
    "defined in pymatgen. Using the `pymatgen_structure` function a conversion\n",
    "from DFTK to pymatgen structures is also possible. In the following we\n",
    "use this to create a silicon supercell and find its LDA ground state\n",
    "using direct minimisation. To run this example Julia's `PyCall` package\n",
    "needs to be able to find an installation of `pymatgen`."
   ],
   "metadata": {}
  },
  {
   "cell_type": "markdown",
   "source": [
    "First we setup the silicon lattice in DFTK."
   ],
   "metadata": {}
  },
  {
   "outputs": [],
   "cell_type": "code",
   "source": [
    "using DFTK\n",
    "\n",
    "a = 10.263141334305942  # Lattice constant in Bohr\n",
    "lattice = a / 2 .* [[0 1 1.]; [1 0 1.]; [1 1 0.]]\n",
    "Si = ElementPsp(:Si, psp=load_psp(\"hgh/lda/Si-q4\"))\n",
    "atoms = [Si => [ones(3)/8, -ones(3)/8]];"
   ],
   "metadata": {},
   "execution_count": 1
  },
  {
   "cell_type": "markdown",
   "source": [
    "Next we make a `[2, 2, 2]` supercell using pymatgen"
   ],
   "metadata": {}
  },
  {
   "outputs": [
    {
     "name": "stdout",
     "output_type": "stream",
     "text": [
      "┌ Warning: `vendor()` is deprecated, use `BLAS.get_config()` and inspect the output instead\n",
      "│   caller = npyinitialize() at numpy.jl:67\n",
      "└ @ PyCall /home/runner/.julia/packages/PyCall/L0fLP/src/numpy.jl:67\n"
     ]
    }
   ],
   "cell_type": "code",
   "source": [
    "pystruct = pymatgen_structure(lattice, atoms)\n",
    "pystruct.make_supercell([2, 2, 2])\n",
    "lattice = load_lattice(pystruct)\n",
    "atoms = [Si => [s.frac_coords for s in pystruct.sites]];"
   ],
   "metadata": {},
   "execution_count": 2
  },
  {
   "cell_type": "markdown",
   "source": [
    "Setup an LDA model and discretize using\n",
    "a single k-point and a small `Ecut` of 5 Hartree."
   ],
   "metadata": {}
  },
  {
   "outputs": [
    {
     "output_type": "execute_result",
     "data": {
      "text/plain": "PlaneWaveBasis discretization:\n    Ecut                 : 5.0 Ha\n    fft_size             : (32, 32, 32)\n    kgrid type           : Monkhorst-Pack\n    kgrid                : [1, 1, 1]\n    num. irred. kpoints  : 1\n\n    Discretized Model(lda_xc_teter93, 3D):\n        lattice (in Bohr)    : [0         , 10.2631   , 10.2631   ]\n                               [10.2631   , 0         , 10.2631   ]\n                               [10.2631   , 10.2631   , 0         ]\n        unit cell volume     : 2162.1 Bohr³\n    \n        atoms                : Si₁₆\n        atom potentials      : ElementPsp(Si, psp=hgh/lda/si-q4)\n    \n        num. electrons       : 64\n        spin polarization    : none\n        temperature          : 0 Ha\n    \n        terms                : Kinetic()\n                               AtomicLocal()\n                               AtomicNonlocal()\n                               Ewald()\n                               PspCorrection()\n                               Hartree()\n                               Xc(:lda_xc_teter93)"
     },
     "metadata": {},
     "execution_count": 3
    }
   ],
   "cell_type": "code",
   "source": [
    "model = model_LDA(lattice, atoms)\n",
    "basis = PlaneWaveBasis(model; Ecut=5, kgrid=(1, 1, 1))"
   ],
   "metadata": {},
   "execution_count": 3
  },
  {
   "cell_type": "markdown",
   "source": [
    "Find the ground state using direct minimisation (always using SCF is boring ...)"
   ],
   "metadata": {}
  },
  {
   "outputs": [
    {
     "name": "stdout",
     "output_type": "stream",
     "text": [
      "Iter     Function value   Gradient norm \n",
      "     0     1.125727e+02     1.563218e+00\n",
      " * time: 0.6073718070983887\n",
      "     1     1.086974e+01     8.998273e-01\n",
      " * time: 1.5577099323272705\n",
      "     2    -1.127478e+01     1.044311e+00\n",
      " * time: 2.0381698608398438\n",
      "     3    -3.313016e+01     7.573885e-01\n",
      " * time: 2.6840219497680664\n",
      "     4    -4.622845e+01     5.948360e-01\n",
      " * time: 3.3372409343719482\n",
      "     5    -5.649370e+01     2.083150e-01\n",
      " * time: 4.0079028606414795\n",
      "     6    -5.957153e+01     1.687396e-01\n",
      " * time: 4.438501834869385\n",
      "     7    -6.088119e+01     6.460664e-02\n",
      " * time: 4.870097875595093\n",
      "     8    -6.138391e+01     4.052264e-02\n",
      " * time: 5.302686929702759\n",
      "     9    -6.166642e+01     2.864179e-02\n",
      " * time: 5.7548089027404785\n",
      "    10    -6.184538e+01     2.682137e-02\n",
      " * time: 6.185622930526733\n",
      "    11    -6.195897e+01     3.441458e-02\n",
      " * time: 6.61732292175293\n",
      "    12    -6.204375e+01     2.330895e-02\n",
      " * time: 7.049807786941528\n",
      "    13    -6.211522e+01     1.399016e-02\n",
      " * time: 7.481406927108765\n",
      "    14    -6.215932e+01     1.177160e-02\n",
      " * time: 7.922652006149292\n",
      "    15    -6.218747e+01     1.122048e-02\n",
      " * time: 8.354558944702148\n",
      "    16    -6.220350e+01     8.446863e-03\n",
      " * time: 8.790351867675781\n",
      "    17    -6.221566e+01     7.378372e-03\n",
      " * time: 9.222360849380493\n",
      "    18    -6.222618e+01     7.136623e-03\n",
      " * time: 9.663400888442993\n",
      "    19    -6.223426e+01     6.542876e-03\n",
      " * time: 10.094964981079102\n",
      "    20    -6.224092e+01     6.169706e-03\n",
      " * time: 10.526229858398438\n",
      "    21    -6.224714e+01     5.689238e-03\n",
      " * time: 10.958251953125\n",
      "    22    -6.225244e+01     4.862313e-03\n",
      " * time: 11.390175819396973\n",
      "    23    -6.225631e+01     4.310243e-03\n",
      " * time: 11.831081867218018\n",
      "    24    -6.225872e+01     3.098908e-03\n",
      " * time: 12.263690948486328\n",
      "    25    -6.226008e+01     1.878990e-03\n",
      " * time: 12.695189952850342\n",
      "    26    -6.226076e+01     1.278688e-03\n",
      " * time: 13.128110885620117\n",
      "    27    -6.226109e+01     1.020007e-03\n",
      " * time: 13.569279909133911\n",
      "    28    -6.226128e+01     7.406098e-04\n",
      " * time: 14.0028657913208\n",
      "    29    -6.226140e+01     6.375023e-04\n",
      " * time: 14.43449592590332\n",
      "    30    -6.226148e+01     6.996734e-04\n",
      " * time: 14.866844892501831\n",
      "    31    -6.226155e+01     5.424531e-04\n",
      " * time: 15.299235820770264\n",
      "    32    -6.226160e+01     3.776710e-04\n",
      " * time: 15.74035382270813\n",
      "    33    -6.226163e+01     2.910803e-04\n",
      " * time: 16.17216682434082\n",
      "    34    -6.226165e+01     1.997524e-04\n",
      " * time: 16.6055908203125\n",
      "    35    -6.226166e+01     1.382498e-04\n",
      " * time: 17.038296937942505\n",
      "    36    -6.226166e+01     1.152378e-04\n",
      " * time: 17.480055809020996\n",
      "    37    -6.226166e+01     8.631680e-05\n",
      " * time: 17.913704872131348\n",
      "    38    -6.226166e+01     4.935534e-05\n",
      " * time: 18.346359968185425\n",
      "    39    -6.226167e+01     4.013753e-05\n",
      " * time: 18.786234855651855\n",
      "    40    -6.226167e+01     3.485709e-05\n",
      " * time: 19.219443798065186\n",
      "    41    -6.226167e+01     3.512698e-05\n",
      " * time: 19.663102865219116\n",
      "    42    -6.226167e+01     3.371360e-05\n",
      " * time: 20.09417486190796\n",
      "    43    -6.226167e+01     2.227957e-05\n",
      " * time: 20.527108907699585\n",
      "    44    -6.226167e+01     2.045648e-05\n",
      " * time: 20.960492849349976\n",
      "    45    -6.226167e+01     1.118571e-05\n",
      " * time: 21.401965856552124\n",
      "    46    -6.226167e+01     7.993689e-06\n",
      " * time: 21.834717988967896\n",
      "    47    -6.226167e+01     6.510745e-06\n",
      " * time: 22.26813292503357\n",
      "    48    -6.226167e+01     4.881393e-06\n",
      " * time: 22.7005398273468\n",
      "    49    -6.226167e+01     3.175986e-06\n",
      " * time: 23.13441300392151\n",
      "    50    -6.226167e+01     2.658917e-06\n",
      " * time: 23.57532286643982\n"
     ]
    }
   ],
   "cell_type": "code",
   "source": [
    "scfres = direct_minimization(basis, tol=1e-5);"
   ],
   "metadata": {},
   "execution_count": 4
  },
  {
   "outputs": [
    {
     "output_type": "execute_result",
     "data": {
      "text/plain": "Energy breakdown (in Ha):\n    Kinetic             25.7671061\n    AtomicLocal         -18.8557637\n    AtomicNonlocal      14.8522619\n    Ewald               -67.1831486\n    PspCorrection       -2.3569765\n    Hartree             4.8485358 \n    Xc                  -19.3336815\n\n    total               -62.261666460968"
     },
     "metadata": {},
     "execution_count": 5
    }
   ],
   "cell_type": "code",
   "source": [
    "scfres.energies"
   ],
   "metadata": {},
   "execution_count": 5
  }
 ],
 "nbformat_minor": 3,
 "metadata": {
  "language_info": {
   "file_extension": ".jl",
   "mimetype": "application/julia",
   "name": "julia",
   "version": "1.7.1"
  },
  "kernelspec": {
   "name": "julia-1.7",
   "display_name": "Julia 1.7.1",
   "language": "julia"
  }
 },
 "nbformat": 4
}
