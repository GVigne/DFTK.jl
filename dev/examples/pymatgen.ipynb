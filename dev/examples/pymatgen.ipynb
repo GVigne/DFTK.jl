{
 "cells": [
  {
   "cell_type": "markdown",
   "source": [
    "# Creating supercells with pymatgen\n",
    "\n",
    "The [Pymatgen](https://pymatgen.org/) python library allows to setup\n",
    "solid-state calculations using a flexible set of classes as well as an API\n",
    "to an online data base of structures. Its `Structure` and `Lattice`\n",
    "objects are directly supported by the DFTK `load_atoms` and `load_lattice`\n",
    "functions, such that DFTK may be readily used to run calculation on systems\n",
    "defined in pymatgen. Using the `pymatgen_structure` function a conversion\n",
    "from DFTK to pymatgen structures is also possible. In the following we\n",
    "use this to create a silicon supercell and find its LDA ground state\n",
    "using direct minimisation."
   ],
   "metadata": {}
  },
  {
   "cell_type": "markdown",
   "source": [
    "First we setup the silicon lattice in DFTK."
   ],
   "metadata": {}
  },
  {
   "outputs": [],
   "cell_type": "code",
   "source": [
    "using DFTK\n",
    "\n",
    "a = 10.263141334305942  # Lattice constant in Bohr\n",
    "lattice = a / 2 .* [[0 1 1.]; [1 0 1.]; [1 1 0.]]\n",
    "Si = ElementPsp(:Si, psp=load_psp(\"hgh/lda/Si-q4\"))\n",
    "atoms = [Si => [ones(3)/8, -ones(3)/8]];"
   ],
   "metadata": {},
   "execution_count": 1
  },
  {
   "cell_type": "markdown",
   "source": [
    "Next we make a `[2, 2, 2]` supercell using pymatgen"
   ],
   "metadata": {}
  },
  {
   "outputs": [],
   "cell_type": "code",
   "source": [
    "pystruct = pymatgen_structure(lattice, atoms)\n",
    "pystruct.make_supercell([2, 2, 2])\n",
    "lattice = load_lattice(pystruct)\n",
    "atoms = [Si => [s.frac_coords for s in pystruct.sites]];"
   ],
   "metadata": {},
   "execution_count": 2
  },
  {
   "cell_type": "markdown",
   "source": [
    "Setup an LDA model and discretize using\n",
    "a single kpoint and a small `Ecut` of 5 Hartree."
   ],
   "metadata": {}
  },
  {
   "outputs": [
    {
     "output_type": "execute_result",
     "data": {
      "text/plain": "PlaneWaveBasis discretization:\n    Ecut                 : 5.0 Ha\n    fft_size             : (32, 32, 32)\n    kgrid type           : Monkhorst-Pack\n    kgrid                : [1, 1, 1]\n    num. irred. kpoints  : 1\n\n    Discretized Model(lda_xc_teter93, 3D):\n        lattice (in Bohr)    : [0         , 10.2631   , 10.2631   ]\n                               [10.2631   , 0         , 10.2631   ]\n                               [10.2631   , 10.2631   , 0         ]\n        unit cell volume     : 2162.1 Bohr³\n    \n        atoms                : Si₁₆\n        atom potentials      : ElementPsp(Si, psp=hgh/lda/si-q4)\n    \n        num. electrons       : 64\n        spin polarization    : none\n        temperature          : 0 Ha\n    \n        terms                : Kinetic(1)\n                               AtomicLocal()\n                               AtomicNonlocal()\n                               Ewald()\n                               PspCorrection()\n                               Hartree(1)\n                               Xc([:lda_xc_teter93], 1, nothing)"
     },
     "metadata": {},
     "execution_count": 3
    }
   ],
   "cell_type": "code",
   "source": [
    "model = model_LDA(lattice, atoms)\n",
    "basis = PlaneWaveBasis(model; Ecut=5, kgrid=(1, 1, 1))"
   ],
   "metadata": {},
   "execution_count": 3
  },
  {
   "cell_type": "markdown",
   "source": [
    "Find the ground state using direct minimisation (always using SCF is boring ...)"
   ],
   "metadata": {}
  },
  {
   "outputs": [
    {
     "name": "stdout",
     "output_type": "stream",
     "text": [
      "Iter     Function value   Gradient norm \n",
      "     0     1.123159e+02     1.489365e+00\n",
      " * time: 0.7980210781097412\n",
      "     1     1.116052e+01     9.305279e-01\n",
      " * time: 2.1083030700683594\n",
      "     2    -1.170498e+01     1.040106e+00\n",
      " * time: 2.7525479793548584\n",
      "     3    -3.424346e+01     6.912879e-01\n",
      " * time: 3.7094380855560303\n",
      "     4    -4.788492e+01     4.605837e-01\n",
      " * time: 4.630439043045044\n",
      "     5    -5.710154e+01     1.705422e-01\n",
      " * time: 5.563780069351196\n",
      "     6    -5.994104e+01     9.023609e-02\n",
      " * time: 6.208985090255737\n",
      "     7    -6.094026e+01     5.437975e-02\n",
      " * time: 6.819653034210205\n",
      "     8    -6.133558e+01     6.455901e-02\n",
      " * time: 7.4510579109191895\n",
      "     9    -6.164665e+01     3.946750e-02\n",
      " * time: 8.073868036270142\n",
      "    10    -6.184814e+01     2.818175e-02\n",
      " * time: 8.685014009475708\n",
      "    11    -6.198560e+01     1.799976e-02\n",
      " * time: 9.320240020751953\n",
      "    12    -6.204902e+01     1.789602e-02\n",
      " * time: 9.967684984207153\n",
      "    13    -6.210886e+01     1.797937e-02\n",
      " * time: 10.595458030700684\n",
      "    14    -6.214366e+01     1.161240e-02\n",
      " * time: 11.209920883178711\n",
      "    15    -6.217186e+01     1.052565e-02\n",
      " * time: 11.827035903930664\n",
      "    16    -6.218707e+01     7.573357e-03\n",
      " * time: 12.451124906539917\n",
      "    17    -6.219620e+01     4.823727e-03\n",
      " * time: 13.097234964370728\n",
      "    18    -6.220195e+01     4.611511e-03\n",
      " * time: 13.737504959106445\n",
      "    19    -6.220557e+01     4.838998e-03\n",
      " * time: 14.36197304725647\n",
      "    20    -6.220816e+01     4.453527e-03\n",
      " * time: 14.983747005462646\n",
      "    21    -6.221045e+01     3.444425e-03\n",
      " * time: 15.62759804725647\n",
      "    22    -6.221275e+01     3.760559e-03\n",
      " * time: 16.256098985671997\n",
      "    23    -6.221515e+01     4.173704e-03\n",
      " * time: 16.897480964660645\n",
      "    24    -6.221772e+01     4.324620e-03\n",
      " * time: 17.53396201133728\n",
      "    25    -6.222101e+01     5.553551e-03\n",
      " * time: 18.170814990997314\n",
      "    26    -6.222544e+01     5.352690e-03\n",
      " * time: 18.79590106010437\n",
      "    27    -6.223097e+01     6.201501e-03\n",
      " * time: 19.44195294380188\n",
      "    28    -6.223793e+01     5.715084e-03\n",
      " * time: 20.069659948349\n",
      "    29    -6.224529e+01     6.570526e-03\n",
      " * time: 20.685620069503784\n",
      "    30    -6.225068e+01     4.619546e-03\n",
      " * time: 21.310173988342285\n",
      "    31    -6.225488e+01     3.670681e-03\n",
      " * time: 21.92919087409973\n",
      "    32    -6.225768e+01     3.057552e-03\n",
      " * time: 22.55743408203125\n",
      "    33    -6.225937e+01     2.337868e-03\n",
      " * time: 23.196510076522827\n",
      "    34    -6.226044e+01     1.770742e-03\n",
      " * time: 23.822263956069946\n",
      "    35    -6.226099e+01     1.175225e-03\n",
      " * time: 24.47439694404602\n",
      "    36    -6.226128e+01     8.125900e-04\n",
      " * time: 25.106971979141235\n",
      "    37    -6.226142e+01     6.951282e-04\n",
      " * time: 25.74461007118225\n",
      "    38    -6.226150e+01     6.103624e-04\n",
      " * time: 26.397619009017944\n",
      "    39    -6.226156e+01     4.892767e-04\n",
      " * time: 27.03207802772522\n",
      "    40    -6.226160e+01     3.841530e-04\n",
      " * time: 27.654880046844482\n",
      "    41    -6.226162e+01     3.627895e-04\n",
      " * time: 28.27619194984436\n",
      "    42    -6.226164e+01     3.079316e-04\n",
      " * time: 28.893128871917725\n",
      "    43    -6.226165e+01     2.146652e-04\n",
      " * time: 29.542931079864502\n",
      "    44    -6.226166e+01     1.518181e-04\n",
      " * time: 30.186699867248535\n",
      "    45    -6.226166e+01     1.014100e-04\n",
      " * time: 30.808045864105225\n",
      "    46    -6.226166e+01     7.350498e-05\n",
      " * time: 31.43986701965332\n",
      "    47    -6.226167e+01     5.437462e-05\n",
      " * time: 32.08375000953674\n",
      "    48    -6.226167e+01     3.996552e-05\n",
      " * time: 32.72885799407959\n",
      "    49    -6.226167e+01     2.666216e-05\n",
      " * time: 33.35446000099182\n",
      "    50    -6.226167e+01     2.264536e-05\n",
      " * time: 34.00659704208374\n",
      "    51    -6.226167e+01     2.399624e-05\n",
      " * time: 34.64692187309265\n",
      "    52    -6.226167e+01     1.911656e-05\n",
      " * time: 35.29048299789429\n",
      "    53    -6.226167e+01     1.357196e-05\n",
      " * time: 35.933762073516846\n",
      "    54    -6.226167e+01     1.182934e-05\n",
      " * time: 36.55830097198486\n",
      "    55    -6.226167e+01     7.519221e-06\n",
      " * time: 37.18421292304993\n",
      "    56    -6.226167e+01     7.679309e-06\n",
      " * time: 37.81429386138916\n",
      "    57    -6.226167e+01     5.592798e-06\n",
      " * time: 38.45674705505371\n",
      "    58    -6.226167e+01     2.972383e-06\n",
      " * time: 39.08339786529541\n"
     ]
    }
   ],
   "cell_type": "code",
   "source": [
    "scfres = direct_minimization(basis, tol=1e-5);"
   ],
   "metadata": {},
   "execution_count": 4
  },
  {
   "outputs": [
    {
     "output_type": "execute_result",
     "data": {
      "text/plain": "Energy breakdown (in Ha):\n    Kinetic             25.7671075\n    AtomicLocal         -18.8557662\n    AtomicNonlocal      14.8522616\n    Ewald               -67.1831486\n    PspCorrection       -2.3569765\n    Hartree             4.8485385 \n    Xc                  -19.3336826\n\n    total               -62.261666458845"
     },
     "metadata": {},
     "execution_count": 5
    }
   ],
   "cell_type": "code",
   "source": [
    "scfres.energies"
   ],
   "metadata": {},
   "execution_count": 5
  }
 ],
 "nbformat_minor": 3,
 "metadata": {
  "language_info": {
   "file_extension": ".jl",
   "mimetype": "application/julia",
   "name": "julia",
   "version": "1.6.3"
  },
  "kernelspec": {
   "name": "julia-1.6",
   "display_name": "Julia 1.6.3",
   "language": "julia"
  }
 },
 "nbformat": 4
}
