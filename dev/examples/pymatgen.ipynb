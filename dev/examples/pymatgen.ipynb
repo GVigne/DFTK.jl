{
 "cells": [
  {
   "cell_type": "markdown",
   "source": [
    "# Creating supercells with pymatgen\n",
    "\n",
    "The [Pymatgen](https://pymatgen.org/) python library allows to setup\n",
    "solid-state calculations using a flexible set of classes as well as an API\n",
    "to an online data base of structures. Its `Structure` and `Lattice`\n",
    "objects are directly supported by the DFTK `load_atoms` and `load_lattice`\n",
    "functions, such that DFTK may be readily used to run calculation on systems\n",
    "defined in pymatgen. Using the `pymatgen_structure` function a conversion\n",
    "from DFTK to pymatgen structures is also possible. In the following we\n",
    "use this to create a silicon supercell and find its LDA ground state\n",
    "using direct minimisation. To run this example Julia's `PyCall` package\n",
    "needs to be able to find an installation of `pymatgen`."
   ],
   "metadata": {}
  },
  {
   "cell_type": "markdown",
   "source": [
    "First we setup the silicon lattice in DFTK."
   ],
   "metadata": {}
  },
  {
   "outputs": [],
   "cell_type": "code",
   "source": [
    "using DFTK\n",
    "\n",
    "a = 10.263141334305942  # Lattice constant in Bohr\n",
    "lattice = a / 2 .* [[0 1 1.]; [1 0 1.]; [1 1 0.]]\n",
    "Si = ElementPsp(:Si, psp=load_psp(\"hgh/lda/Si-q4\"))\n",
    "atoms = [Si => [ones(3)/8, -ones(3)/8]];"
   ],
   "metadata": {},
   "execution_count": 1
  },
  {
   "cell_type": "markdown",
   "source": [
    "Next we make a `[2, 2, 2]` supercell using pymatgen"
   ],
   "metadata": {}
  },
  {
   "outputs": [
    {
     "name": "stdout",
     "output_type": "stream",
     "text": [
      "┌ Warning: `vendor()` is deprecated, use `BLAS.get_config()` and inspect the output instead\n",
      "│   caller = npyinitialize() at numpy.jl:67\n",
      "└ @ PyCall /home/runner/.julia/packages/PyCall/L0fLP/src/numpy.jl:67\n"
     ]
    }
   ],
   "cell_type": "code",
   "source": [
    "pystruct = pymatgen_structure(lattice, atoms)\n",
    "pystruct.make_supercell([2, 2, 2])\n",
    "lattice = load_lattice(pystruct)\n",
    "atoms = [Si => [s.frac_coords for s in pystruct.sites]];"
   ],
   "metadata": {},
   "execution_count": 2
  },
  {
   "cell_type": "markdown",
   "source": [
    "Setup an LDA model and discretize using\n",
    "a single k-point and a small `Ecut` of 5 Hartree."
   ],
   "metadata": {}
  },
  {
   "outputs": [
    {
     "output_type": "execute_result",
     "data": {
      "text/plain": "PlaneWaveBasis discretization:\n    Ecut                 : 5.0 Ha\n    fft_size             : (32, 32, 32)\n    kgrid type           : Monkhorst-Pack\n    kgrid                : [1, 1, 1]\n    num. irred. kpoints  : 1\n\n    Discretized Model(lda_xc_teter93, 3D):\n        lattice (in Bohr)    : [0         , 10.2631   , 10.2631   ]\n                               [10.2631   , 0         , 10.2631   ]\n                               [10.2631   , 10.2631   , 0         ]\n        unit cell volume     : 2162.1 Bohr³\n    \n        atoms                : Si₁₆\n        atom potentials      : ElementPsp(Si, psp=hgh/lda/si-q4)\n    \n        num. electrons       : 64\n        spin polarization    : none\n        temperature          : 0 Ha\n    \n        terms                : Kinetic()\n                               AtomicLocal()\n                               AtomicNonlocal()\n                               Ewald()\n                               PspCorrection()\n                               Hartree()\n                               Xc(:lda_xc_teter93)"
     },
     "metadata": {},
     "execution_count": 3
    }
   ],
   "cell_type": "code",
   "source": [
    "model = model_LDA(lattice, atoms)\n",
    "basis = PlaneWaveBasis(model; Ecut=5, kgrid=(1, 1, 1))"
   ],
   "metadata": {},
   "execution_count": 3
  },
  {
   "cell_type": "markdown",
   "source": [
    "Find the ground state using direct minimisation (always using SCF is boring ...)"
   ],
   "metadata": {}
  },
  {
   "outputs": [
    {
     "name": "stdout",
     "output_type": "stream",
     "text": [
      "Iter     Function value   Gradient norm \n",
      "     0     1.120058e+02     1.588629e+00\n",
      " * time: 0.6950821876525879\n",
      "     1     1.090217e+01     8.532932e-01\n",
      " * time: 1.8696889877319336\n",
      "     2    -1.178755e+01     1.043034e+00\n",
      " * time: 2.422194004058838\n",
      "     3    -3.402328e+01     7.510281e-01\n",
      " * time: 3.25360107421875\n",
      "     4    -4.762343e+01     5.458149e-01\n",
      " * time: 4.088795185089111\n",
      "     5    -5.712128e+01     2.346842e-01\n",
      " * time: 4.9198009967803955\n",
      "     6    -5.991681e+01     1.343063e-01\n",
      " * time: 5.458863973617554\n",
      "     7    -6.097842e+01     6.388954e-02\n",
      " * time: 6.044905185699463\n",
      "     8    -6.139923e+01     4.999352e-02\n",
      " * time: 6.592895030975342\n",
      "     9    -6.165323e+01     5.302766e-02\n",
      " * time: 7.140709161758423\n",
      "    10    -6.185036e+01     2.846209e-02\n",
      " * time: 7.676805019378662\n",
      "    11    -6.199597e+01     2.305292e-02\n",
      " * time: 8.209609985351562\n",
      "    12    -6.207638e+01     1.672773e-02\n",
      " * time: 8.751085996627808\n",
      "    13    -6.213169e+01     1.501447e-02\n",
      " * time: 9.32360315322876\n",
      "    14    -6.217256e+01     1.348689e-02\n",
      " * time: 9.879024982452393\n",
      "    15    -6.219571e+01     9.321414e-03\n",
      " * time: 10.428117036819458\n",
      "    16    -6.220939e+01     7.472572e-03\n",
      " * time: 10.966760158538818\n",
      "    17    -6.221860e+01     7.743596e-03\n",
      " * time: 11.510388135910034\n",
      "    18    -6.222668e+01     5.728575e-03\n",
      " * time: 12.059051990509033\n",
      "    19    -6.223316e+01     5.165373e-03\n",
      " * time: 12.62187910079956\n",
      "    20    -6.223927e+01     4.929472e-03\n",
      " * time: 13.158715009689331\n",
      "    21    -6.224537e+01     4.789587e-03\n",
      " * time: 13.695940971374512\n",
      "    22    -6.225086e+01     4.388765e-03\n",
      " * time: 14.243256092071533\n",
      "    23    -6.225509e+01     3.661752e-03\n",
      " * time: 14.804685115814209\n",
      "    24    -6.225790e+01     2.595628e-03\n",
      " * time: 15.34673810005188\n",
      "    25    -6.225952e+01     2.033319e-03\n",
      " * time: 15.901992082595825\n",
      "    26    -6.226037e+01     1.459135e-03\n",
      " * time: 16.437199115753174\n",
      "    27    -6.226082e+01     1.059857e-03\n",
      " * time: 16.99381113052368\n",
      "    28    -6.226109e+01     8.309979e-04\n",
      " * time: 17.562591075897217\n",
      "    29    -6.226128e+01     7.791976e-04\n",
      " * time: 18.133628129959106\n",
      "    30    -6.226141e+01     7.785791e-04\n",
      " * time: 18.69995903968811\n",
      "    31    -6.226150e+01     6.292915e-04\n",
      " * time: 19.279330015182495\n",
      "    32    -6.226157e+01     5.334704e-04\n",
      " * time: 19.858842134475708\n",
      "    33    -6.226161e+01     3.815642e-04\n",
      " * time: 20.445098161697388\n",
      "    34    -6.226164e+01     3.124974e-04\n",
      " * time: 21.002005100250244\n",
      "    35    -6.226165e+01     1.697405e-04\n",
      " * time: 21.5488600730896\n",
      "    36    -6.226166e+01     1.322608e-04\n",
      " * time: 22.097697973251343\n",
      "    37    -6.226166e+01     1.076546e-04\n",
      " * time: 22.64811396598816\n",
      "    38    -6.226166e+01     8.902176e-05\n",
      " * time: 23.182528972625732\n",
      "    39    -6.226167e+01     5.132695e-05\n",
      " * time: 23.73484706878662\n",
      "    40    -6.226167e+01     3.675167e-05\n",
      " * time: 24.280848026275635\n",
      "    41    -6.226167e+01     3.155465e-05\n",
      " * time: 24.825606107711792\n",
      "    42    -6.226167e+01     2.293785e-05\n",
      " * time: 25.386768102645874\n",
      "    43    -6.226167e+01     1.469277e-05\n",
      " * time: 25.959517002105713\n",
      "    44    -6.226167e+01     1.384770e-05\n",
      " * time: 26.499725103378296\n",
      "    45    -6.226167e+01     1.207930e-05\n",
      " * time: 27.05469298362732\n",
      "    46    -6.226167e+01     9.681506e-06\n",
      " * time: 27.62100911140442\n",
      "    47    -6.226167e+01     7.691376e-06\n",
      " * time: 28.165212154388428\n",
      "    48    -6.226167e+01     4.809748e-06\n",
      " * time: 28.710928201675415\n",
      "    49    -6.226167e+01     3.779590e-06\n",
      " * time: 29.24739408493042\n",
      "    50    -6.226167e+01     2.707184e-06\n",
      " * time: 29.793122053146362\n"
     ]
    }
   ],
   "cell_type": "code",
   "source": [
    "scfres = direct_minimization(basis, tol=1e-5);"
   ],
   "metadata": {},
   "execution_count": 4
  },
  {
   "outputs": [
    {
     "output_type": "execute_result",
     "data": {
      "text/plain": "Energy breakdown (in Ha):\n    Kinetic             25.7671060\n    AtomicLocal         -18.8557648\n    AtomicNonlocal      14.8522631\n    Ewald               -67.1831486\n    PspCorrection       -2.3569765\n    Hartree             4.8485359 \n    Xc                  -19.3336815\n\n    total               -62.261666460066"
     },
     "metadata": {},
     "execution_count": 5
    }
   ],
   "cell_type": "code",
   "source": [
    "scfres.energies"
   ],
   "metadata": {},
   "execution_count": 5
  }
 ],
 "nbformat_minor": 3,
 "metadata": {
  "language_info": {
   "file_extension": ".jl",
   "mimetype": "application/julia",
   "name": "julia",
   "version": "1.7.1"
  },
  "kernelspec": {
   "name": "julia-1.7",
   "display_name": "Julia 1.7.1",
   "language": "julia"
  }
 },
 "nbformat": 4
}
