{
 "cells": [
  {
   "cell_type": "markdown",
   "source": [
    "# Creating supercells with pymatgen\n",
    "\n",
    "The [Pymatgen](https://pymatgen.org/) python library allows to setup\n",
    "solid-state calculations using a flexible set of classes as well as an API\n",
    "to an online data base of structures. Its `Structure` and `Lattice`\n",
    "objects are directly supported by the DFTK `load_atoms` and `load_lattice`\n",
    "functions, such that DFTK may be readily used to run calculation on systems\n",
    "defined in pymatgen. Using the `pymatgen_structure` function a conversion\n",
    "from DFTK to pymatgen structures is also possible. In the following we\n",
    "use this to create a silicon supercell and find its LDA ground state\n",
    "using direct minimisation. To run this example Julia's `PyCall` package\n",
    "needs to be able to find an installation of `pymatgen`."
   ],
   "metadata": {}
  },
  {
   "cell_type": "markdown",
   "source": [
    "First we setup the silicon lattice in DFTK."
   ],
   "metadata": {}
  },
  {
   "outputs": [],
   "cell_type": "code",
   "source": [
    "using DFTK\n",
    "\n",
    "a = 10.263141334305942  # Lattice constant in Bohr\n",
    "lattice = a / 2 .* [[0 1 1.]; [1 0 1.]; [1 1 0.]]\n",
    "Si = ElementPsp(:Si, psp=load_psp(\"hgh/lda/Si-q4\"))\n",
    "atoms = [Si => [ones(3)/8, -ones(3)/8]];"
   ],
   "metadata": {},
   "execution_count": 1
  },
  {
   "cell_type": "markdown",
   "source": [
    "Next we make a `[2, 2, 2]` supercell using pymatgen"
   ],
   "metadata": {}
  },
  {
   "outputs": [],
   "cell_type": "code",
   "source": [
    "pystruct = pymatgen_structure(lattice, atoms)\n",
    "pystruct.make_supercell([2, 2, 2])\n",
    "lattice = load_lattice(pystruct)\n",
    "atoms = [Si => [s.frac_coords for s in pystruct.sites]];"
   ],
   "metadata": {},
   "execution_count": 2
  },
  {
   "cell_type": "markdown",
   "source": [
    "Setup an LDA model and discretize using\n",
    "a single k-point and a small `Ecut` of 5 Hartree."
   ],
   "metadata": {}
  },
  {
   "outputs": [
    {
     "output_type": "execute_result",
     "data": {
      "text/plain": "PlaneWaveBasis discretization:\n    Ecut                 : 5.0 Ha\n    fft_size             : (32, 32, 32)\n    kgrid type           : Monkhorst-Pack\n    kgrid                : [1, 1, 1]\n    num. irred. kpoints  : 1\n\n    Discretized Model(lda_xc_teter93, 3D):\n        lattice (in Bohr)    : [0         , 10.2631   , 10.2631   ]\n                               [10.2631   , 0         , 10.2631   ]\n                               [10.2631   , 10.2631   , 0         ]\n        unit cell volume     : 2162.1 Bohr³\n    \n        atoms                : Si₁₆\n        atom potentials      : ElementPsp(Si, psp=hgh/lda/si-q4)\n    \n        num. electrons       : 64\n        spin polarization    : none\n        temperature          : 0 Ha\n    \n        terms                : Kinetic(1)\n                               AtomicLocal()\n                               AtomicNonlocal()\n                               Ewald()\n                               PspCorrection()\n                               Hartree(1)\n                               Xc([:lda_xc_teter93], 1, nothing)"
     },
     "metadata": {},
     "execution_count": 3
    }
   ],
   "cell_type": "code",
   "source": [
    "model = model_LDA(lattice, atoms)\n",
    "basis = PlaneWaveBasis(model; Ecut=5, kgrid=(1, 1, 1))"
   ],
   "metadata": {},
   "execution_count": 3
  },
  {
   "cell_type": "markdown",
   "source": [
    "Find the ground state using direct minimisation (always using SCF is boring ...)"
   ],
   "metadata": {}
  },
  {
   "outputs": [
    {
     "name": "stdout",
     "output_type": "stream",
     "text": [
      "Iter     Function value   Gradient norm \n",
      "     0     1.120542e+02     1.603669e+00\n",
      " * time: 0.7700278759002686\n",
      "     1     1.046274e+01     8.938910e-01\n",
      " * time: 2.1400129795074463\n",
      "     2    -1.139931e+01     9.560629e-01\n",
      " * time: 2.7520320415496826\n",
      "     3    -3.401978e+01     6.885031e-01\n",
      " * time: 3.6644508838653564\n",
      "     4    -4.730279e+01     5.317986e-01\n",
      " * time: 4.5343358516693115\n",
      "     5    -5.678136e+01     2.246459e-01\n",
      " * time: 5.354042053222656\n",
      "     6    -5.975356e+01     1.609857e-01\n",
      " * time: 5.961169004440308\n",
      "     7    -6.089889e+01     6.173704e-02\n",
      " * time: 6.570036888122559\n",
      "     8    -6.136184e+01     5.009785e-02\n",
      " * time: 7.143466949462891\n",
      "     9    -6.160222e+01     6.230059e-02\n",
      " * time: 7.711845874786377\n",
      "    10    -6.180005e+01     2.804718e-02\n",
      " * time: 8.301197052001953\n",
      "    11    -6.194512e+01     2.444181e-02\n",
      " * time: 8.890339851379395\n",
      "    12    -6.203490e+01     1.992398e-02\n",
      " * time: 9.459983825683594\n",
      "    13    -6.209368e+01     1.493984e-02\n",
      " * time: 10.013208866119385\n",
      "    14    -6.214063e+01     1.517671e-02\n",
      " * time: 10.558979988098145\n",
      "    15    -6.216847e+01     1.378288e-02\n",
      " * time: 11.11128282546997\n",
      "    16    -6.218720e+01     9.340576e-03\n",
      " * time: 11.676874876022339\n",
      "    17    -6.219934e+01     6.825351e-03\n",
      " * time: 12.241209030151367\n",
      "    18    -6.220813e+01     6.779477e-03\n",
      " * time: 12.806826829910278\n",
      "    19    -6.221438e+01     5.079264e-03\n",
      " * time: 13.365880966186523\n",
      "    20    -6.222017e+01     5.377508e-03\n",
      " * time: 13.929177045822144\n",
      "    21    -6.222603e+01     6.966214e-03\n",
      " * time: 14.488996028900146\n",
      "    22    -6.223226e+01     6.485593e-03\n",
      " * time: 15.05263900756836\n",
      "    23    -6.223866e+01     5.534504e-03\n",
      " * time: 15.6287100315094\n",
      "    24    -6.224516e+01     4.320343e-03\n",
      " * time: 16.19371199607849\n",
      "    25    -6.225077e+01     3.836187e-03\n",
      " * time: 16.74502682685852\n",
      "    26    -6.225454e+01     2.961169e-03\n",
      " * time: 17.325548887252808\n",
      "    27    -6.225692e+01     2.780859e-03\n",
      " * time: 17.90529704093933\n",
      "    28    -6.225844e+01     2.157108e-03\n",
      " * time: 18.484210968017578\n",
      "    29    -6.225946e+01     2.094119e-03\n",
      " * time: 19.024186849594116\n",
      "    30    -6.226022e+01     1.628249e-03\n",
      " * time: 19.618058919906616\n",
      "    31    -6.226078e+01     1.112567e-03\n",
      " * time: 20.219868898391724\n",
      "    32    -6.226115e+01     9.551831e-04\n",
      " * time: 20.8320529460907\n",
      "    33    -6.226138e+01     8.137561e-04\n",
      " * time: 21.378509998321533\n",
      "    34    -6.226152e+01     5.702571e-04\n",
      " * time: 21.935130834579468\n",
      "    35    -6.226159e+01     4.462232e-04\n",
      " * time: 22.487961053848267\n",
      "    36    -6.226163e+01     2.921591e-04\n",
      " * time: 23.038935899734497\n",
      "    37    -6.226164e+01     2.771938e-04\n",
      " * time: 23.586210012435913\n",
      "    38    -6.226165e+01     2.313134e-04\n",
      " * time: 24.125772953033447\n",
      "    39    -6.226166e+01     1.350890e-04\n",
      " * time: 24.683401823043823\n",
      "    40    -6.226166e+01     1.177421e-04\n",
      " * time: 25.21280288696289\n",
      "    41    -6.226166e+01     9.502280e-05\n",
      " * time: 25.76805591583252\n",
      "    42    -6.226166e+01     8.786013e-05\n",
      " * time: 26.33939290046692\n",
      "    43    -6.226167e+01     5.279123e-05\n",
      " * time: 26.936455965042114\n",
      "    44    -6.226167e+01     3.691056e-05\n",
      " * time: 27.522783994674683\n",
      "    45    -6.226167e+01     3.491709e-05\n",
      " * time: 28.098809957504272\n",
      "    46    -6.226167e+01     2.238376e-05\n",
      " * time: 28.649556875228882\n",
      "    47    -6.226167e+01     1.731030e-05\n",
      " * time: 29.214431047439575\n",
      "    48    -6.226167e+01     1.097319e-05\n",
      " * time: 29.786052942276\n",
      "    49    -6.226167e+01     8.386898e-06\n",
      " * time: 30.367384910583496\n",
      "    50    -6.226167e+01     4.808918e-06\n",
      " * time: 30.930989980697632\n",
      "    51    -6.226167e+01     3.778439e-06\n",
      " * time: 31.531514883041382\n"
     ]
    }
   ],
   "cell_type": "code",
   "source": [
    "scfres = direct_minimization(basis, tol=1e-5);"
   ],
   "metadata": {},
   "execution_count": 4
  },
  {
   "outputs": [
    {
     "output_type": "execute_result",
     "data": {
      "text/plain": "Energy breakdown (in Ha):\n    Kinetic             25.7671071\n    AtomicLocal         -18.8557723\n    AtomicNonlocal      14.8522682\n    Ewald               -67.1831486\n    PspCorrection       -2.3569765\n    Hartree             4.8485380 \n    Xc                  -19.3336823\n\n    total               -62.261666455216"
     },
     "metadata": {},
     "execution_count": 5
    }
   ],
   "cell_type": "code",
   "source": [
    "scfres.energies"
   ],
   "metadata": {},
   "execution_count": 5
  }
 ],
 "nbformat_minor": 3,
 "metadata": {
  "language_info": {
   "file_extension": ".jl",
   "mimetype": "application/julia",
   "name": "julia",
   "version": "1.6.3"
  },
  "kernelspec": {
   "name": "julia-1.6",
   "display_name": "Julia 1.6.3",
   "language": "julia"
  }
 },
 "nbformat": 4
}
