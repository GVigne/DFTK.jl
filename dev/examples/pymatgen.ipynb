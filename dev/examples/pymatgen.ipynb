{
 "cells": [
  {
   "cell_type": "markdown",
   "source": [
    "# Creating supercells with pymatgen\n",
    "\n",
    "The [Pymatgen](https://pymatgen.org/) python library allows to setup\n",
    "solid-state calculations using a flexible set of classes as well as an API\n",
    "to an online data base of structures. Its `Structure` and `Lattice`\n",
    "objects are directly supported by the DFTK `load_atoms` and `load_lattice`\n",
    "functions, such that DFTK may be readily used to run calculation on systems\n",
    "defined in pymatgen. Using the `pymatgen_structure` function a conversion\n",
    "from DFTK to pymatgen structures is also possible. In the following we\n",
    "use this to create a silicon supercell and find its LDA ground state\n",
    "using direct minimisation."
   ],
   "metadata": {}
  },
  {
   "cell_type": "markdown",
   "source": [
    "First we setup the silicon lattice in DFTK."
   ],
   "metadata": {}
  },
  {
   "outputs": [],
   "cell_type": "code",
   "source": [
    "using DFTK\n",
    "\n",
    "a = 10.263141334305942  # Lattice constant in Bohr\n",
    "lattice = a / 2 .* [[0 1 1.]; [1 0 1.]; [1 1 0.]]\n",
    "Si = ElementPsp(:Si, psp=load_psp(\"hgh/lda/Si-q4\"))\n",
    "atoms = [Si => [ones(3)/8, -ones(3)/8]];"
   ],
   "metadata": {},
   "execution_count": 1
  },
  {
   "cell_type": "markdown",
   "source": [
    "Next we make a `[2, 2, 2]` supercell using pymatgen"
   ],
   "metadata": {}
  },
  {
   "outputs": [],
   "cell_type": "code",
   "source": [
    "pystruct = pymatgen_structure(lattice, atoms)\n",
    "pystruct.make_supercell([2, 2, 2])\n",
    "lattice = load_lattice(pystruct)\n",
    "atoms = [Si => [s.frac_coords for s in pystruct.sites]];"
   ],
   "metadata": {},
   "execution_count": 2
  },
  {
   "cell_type": "markdown",
   "source": [
    "Setup an LDA model and discretize using\n",
    "a single kpoint and a small `Ecut` of 5 Hartree."
   ],
   "metadata": {}
  },
  {
   "outputs": [
    {
     "output_type": "execute_result",
     "data": {
      "text/plain": "PlaneWaveBasis (Ecut=5.0, 1 kpoints)"
     },
     "metadata": {},
     "execution_count": 3
    }
   ],
   "cell_type": "code",
   "source": [
    "model = model_LDA(lattice, atoms)\n",
    "basis = PlaneWaveBasis(model; Ecut=5, kgrid=(1, 1, 1))"
   ],
   "metadata": {},
   "execution_count": 3
  },
  {
   "cell_type": "markdown",
   "source": [
    "Find the ground state using direct minimisation (always using SCF is boring ...)"
   ],
   "metadata": {}
  },
  {
   "outputs": [
    {
     "name": "stdout",
     "output_type": "stream",
     "text": [
      "Iter     Function value   Gradient norm \n",
      "     0     1.117085e+02     1.500695e+00\n",
      " * time: 0.7661230564117432\n",
      "     1     1.112615e+01     8.871868e-01\n",
      " * time: 2.063620090484619\n",
      "     2    -1.155866e+01     9.951425e-01\n",
      " * time: 2.7383999824523926\n",
      "     3    -3.394075e+01     7.107279e-01\n",
      " * time: 3.6978421211242676\n",
      "     4    -4.757327e+01     4.999526e-01\n",
      " * time: 4.673973083496094\n",
      "     5    -5.686615e+01     2.152605e-01\n",
      " * time: 5.780449151992798\n",
      "     6    -5.979342e+01     1.151247e-01\n",
      " * time: 6.430971145629883\n",
      "     7    -6.085769e+01     4.902209e-02\n",
      " * time: 7.094743967056274\n",
      "     8    -6.124255e+01     8.768793e-02\n",
      " * time: 7.742669105529785\n",
      "     9    -6.156308e+01     3.051082e-02\n",
      " * time: 8.3995840549469\n",
      "    10    -6.176660e+01     2.903121e-02\n",
      " * time: 9.522019147872925\n",
      "    11    -6.193122e+01     2.142979e-02\n",
      " * time: 10.162341117858887\n",
      "    12    -6.200025e+01     1.772833e-02\n",
      " * time: 10.807984113693237\n",
      "    13    -6.207345e+01     1.581843e-02\n",
      " * time: 11.45383906364441\n",
      "    14    -6.210908e+01     1.457831e-02\n",
      " * time: 12.352152109146118\n",
      "    15    -6.214165e+01     1.113117e-02\n",
      " * time: 12.992226123809814\n",
      "    16    -6.215978e+01     1.147388e-02\n",
      " * time: 13.644474029541016\n",
      "    17    -6.217253e+01     8.814144e-03\n",
      " * time: 14.314839124679565\n",
      "    18    -6.218257e+01     6.958554e-03\n",
      " * time: 14.950153112411499\n",
      "    19    -6.219012e+01     5.563513e-03\n",
      " * time: 15.579914093017578\n",
      "    20    -6.219626e+01     4.595049e-03\n",
      " * time: 16.234858989715576\n",
      "    21    -6.220118e+01     4.176284e-03\n",
      " * time: 16.921646118164062\n",
      "    22    -6.220490e+01     3.994719e-03\n",
      " * time: 17.589935064315796\n",
      "    23    -6.220759e+01     3.045070e-03\n",
      " * time: 18.25566601753235\n",
      "    24    -6.220937e+01     2.356530e-03\n",
      " * time: 18.911705017089844\n",
      "    25    -6.221050e+01     2.425661e-03\n",
      " * time: 19.550498008728027\n",
      "    26    -6.221131e+01     2.667470e-03\n",
      " * time: 20.185572147369385\n",
      "    27    -6.221194e+01     2.199553e-03\n",
      " * time: 20.843208074569702\n",
      "    28    -6.221250e+01     2.293936e-03\n",
      " * time: 21.495211124420166\n",
      "    29    -6.221309e+01     2.334770e-03\n",
      " * time: 22.14730405807495\n",
      "    30    -6.221386e+01     2.434210e-03\n",
      " * time: 22.798262119293213\n",
      "    31    -6.221506e+01     3.736120e-03\n",
      " * time: 23.44148898124695\n",
      "    32    -6.221705e+01     5.694948e-03\n",
      " * time: 24.09070110321045\n",
      "    33    -6.222015e+01     7.139102e-03\n",
      " * time: 24.74219012260437\n",
      "    34    -6.222531e+01     7.286190e-03\n",
      " * time: 25.38913893699646\n",
      "    35    -6.223445e+01     6.823378e-03\n",
      " * time: 26.04804515838623\n",
      "    36    -6.224252e+01     6.070479e-03\n",
      " * time: 26.677968978881836\n",
      "    37    -6.224927e+01     4.946005e-03\n",
      " * time: 27.333657026290894\n",
      "    38    -6.225274e+01     4.006588e-03\n",
      " * time: 27.9651780128479\n",
      "    39    -6.225583e+01     3.711825e-03\n",
      " * time: 28.606613159179688\n",
      "    40    -6.225786e+01     2.892710e-03\n",
      " * time: 29.24416995048523\n",
      "    41    -6.225922e+01     2.255107e-03\n",
      " * time: 29.87272000312805\n",
      "    42    -6.226011e+01     2.087028e-03\n",
      " * time: 30.50159502029419\n",
      "    43    -6.226071e+01     1.656722e-03\n",
      " * time: 31.165377140045166\n",
      "    44    -6.226111e+01     1.297074e-03\n",
      " * time: 31.834150075912476\n",
      "    45    -6.226132e+01     9.651029e-04\n",
      " * time: 32.45764398574829\n",
      "    46    -6.226144e+01     1.036802e-03\n",
      " * time: 33.088947057724\n",
      "    47    -6.226152e+01     6.158919e-04\n",
      " * time: 33.72155714035034\n",
      "    48    -6.226157e+01     4.016174e-04\n",
      " * time: 34.33879804611206\n",
      "    49    -6.226161e+01     3.482713e-04\n",
      " * time: 34.96884107589722\n",
      "    50    -6.226163e+01     2.998117e-04\n",
      " * time: 35.586843967437744\n",
      "    51    -6.226164e+01     2.196066e-04\n",
      " * time: 36.25475311279297\n",
      "    52    -6.226165e+01     1.819329e-04\n",
      " * time: 36.868613958358765\n",
      "    53    -6.226166e+01     1.541670e-04\n",
      " * time: 37.51267099380493\n",
      "    54    -6.226166e+01     1.004869e-04\n",
      " * time: 38.1356201171875\n",
      "    55    -6.226166e+01     6.323743e-05\n",
      " * time: 38.77042102813721\n",
      "    56    -6.226167e+01     4.876864e-05\n",
      " * time: 39.403351068496704\n",
      "    57    -6.226167e+01     3.941927e-05\n",
      " * time: 40.03546404838562\n",
      "    58    -6.226167e+01     3.070735e-05\n",
      " * time: 40.671218156814575\n",
      "    59    -6.226167e+01     2.741361e-05\n",
      " * time: 41.33574914932251\n",
      "    60    -6.226167e+01     1.721603e-05\n",
      " * time: 41.98956513404846\n",
      "    61    -6.226167e+01     1.503985e-05\n",
      " * time: 42.62735295295715\n",
      "    62    -6.226167e+01     1.214162e-05\n",
      " * time: 43.25332307815552\n",
      "    63    -6.226167e+01     8.884825e-06\n",
      " * time: 43.89331293106079\n",
      "    64    -6.226167e+01     8.619846e-06\n",
      " * time: 44.559492111206055\n",
      "    65    -6.226167e+01     6.485407e-06\n",
      " * time: 45.22769212722778\n",
      "    66    -6.226167e+01     4.851027e-06\n",
      " * time: 45.85844898223877\n",
      "    67    -6.226167e+01     3.482764e-06\n",
      " * time: 46.507039070129395\n",
      "    68    -6.226167e+01     2.722394e-06\n",
      " * time: 47.14344000816345\n"
     ]
    }
   ],
   "cell_type": "code",
   "source": [
    "scfres = direct_minimization(basis, tol=1e-5);"
   ],
   "metadata": {},
   "execution_count": 4
  },
  {
   "outputs": [
    {
     "output_type": "execute_result",
     "data": {
      "text/plain": "Energy breakdown:\n    Kinetic             25.7671069\n    AtomicLocal         -18.8557690\n    AtomicNonlocal      14.8522654\n    Ewald               -67.1831486\n    PspCorrection       -2.3569765\n    Hartree             4.8485374 \n    Xc                  -19.3336821\n\n    total               -62.261666460290\n"
     },
     "metadata": {},
     "execution_count": 5
    }
   ],
   "cell_type": "code",
   "source": [
    "scfres.energies"
   ],
   "metadata": {},
   "execution_count": 5
  }
 ],
 "nbformat_minor": 3,
 "metadata": {
  "language_info": {
   "file_extension": ".jl",
   "mimetype": "application/julia",
   "name": "julia",
   "version": "1.6.2"
  },
  "kernelspec": {
   "name": "julia-1.6",
   "display_name": "Julia 1.6.2",
   "language": "julia"
  }
 },
 "nbformat": 4
}
