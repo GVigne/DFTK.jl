{
 "cells": [
  {
   "cell_type": "markdown",
   "source": [
    "# Creating supercells with pymatgen\n",
    "\n",
    "The [Pymatgen](https://pymatgen.org/) python library allows to setup\n",
    "solid-state calculations using a flexible set of classes as well as an API\n",
    "to an online data base of structures. Its `Structure` and `Lattice`\n",
    "objects are directly supported by the DFTK `load_atoms` and `load_lattice`\n",
    "functions, such that DFTK may be readily used to run calculation on systems\n",
    "defined in pymatgen. Using the `pymatgen_structure` function a conversion\n",
    "from DFTK to pymatgen structures is also possible. In the following we\n",
    "use this to create a silicon supercell and find its LDA ground state\n",
    "using direct minimisation."
   ],
   "metadata": {}
  },
  {
   "cell_type": "markdown",
   "source": [
    "First we setup the silicon lattice in DFTK."
   ],
   "metadata": {}
  },
  {
   "outputs": [],
   "cell_type": "code",
   "source": [
    "using DFTK\n",
    "\n",
    "a = 10.263141334305942  # Lattice constant in Bohr\n",
    "lattice = a / 2 .* [[0 1 1.]; [1 0 1.]; [1 1 0.]]\n",
    "Si = ElementPsp(:Si, psp=load_psp(\"hgh/lda/Si-q4\"))\n",
    "atoms = [Si => [ones(3)/8, -ones(3)/8]];"
   ],
   "metadata": {},
   "execution_count": 1
  },
  {
   "cell_type": "markdown",
   "source": [
    "Next we make a `[2, 2, 2]` supercell using pymatgen"
   ],
   "metadata": {}
  },
  {
   "outputs": [],
   "cell_type": "code",
   "source": [
    "pystruct = pymatgen_structure(lattice, atoms)\n",
    "pystruct.make_supercell([2, 2, 2])\n",
    "lattice = load_lattice(pystruct)\n",
    "atoms = [Si => [s.frac_coords for s in pystruct.sites]];"
   ],
   "metadata": {},
   "execution_count": 2
  },
  {
   "cell_type": "markdown",
   "source": [
    "Setup an LDA model and discretize using\n",
    "a single k-point and a small `Ecut` of 5 Hartree."
   ],
   "metadata": {}
  },
  {
   "outputs": [
    {
     "output_type": "execute_result",
     "data": {
      "text/plain": "PlaneWaveBasis discretization:\n    Ecut                 : 5.0 Ha\n    fft_size             : (32, 32, 32)\n    kgrid type           : Monkhorst-Pack\n    kgrid                : [1, 1, 1]\n    num. irred. kpoints  : 1\n\n    Discretized Model(lda_xc_teter93, 3D):\n        lattice (in Bohr)    : [0         , 10.2631   , 10.2631   ]\n                               [10.2631   , 0         , 10.2631   ]\n                               [10.2631   , 10.2631   , 0         ]\n        unit cell volume     : 2162.1 Bohr³\n    \n        atoms                : Si₁₆\n        atom potentials      : ElementPsp(Si, psp=hgh/lda/si-q4)\n    \n        num. electrons       : 64\n        spin polarization    : none\n        temperature          : 0 Ha\n    \n        terms                : Kinetic(1)\n                               AtomicLocal()\n                               AtomicNonlocal()\n                               Ewald()\n                               PspCorrection()\n                               Hartree(1)\n                               Xc([:lda_xc_teter93], 1, nothing)"
     },
     "metadata": {},
     "execution_count": 3
    }
   ],
   "cell_type": "code",
   "source": [
    "model = model_LDA(lattice, atoms)\n",
    "basis = PlaneWaveBasis(model; Ecut=5, kgrid=(1, 1, 1))"
   ],
   "metadata": {},
   "execution_count": 3
  },
  {
   "cell_type": "markdown",
   "source": [
    "Find the ground state using direct minimisation (always using SCF is boring ...)"
   ],
   "metadata": {}
  },
  {
   "outputs": [
    {
     "name": "stdout",
     "output_type": "stream",
     "text": [
      "Iter     Function value   Gradient norm \n",
      "     0     1.120118e+02     1.420426e+00\n",
      " * time: 0.6817131042480469\n",
      "     1     1.010130e+01     8.712026e-01\n",
      " * time: 2.0104241371154785\n",
      "     2    -1.249473e+01     9.608107e-01\n",
      " * time: 2.6683170795440674\n",
      "     3    -3.448065e+01     7.452178e-01\n",
      " * time: 3.6437649726867676\n",
      "     4    -4.805041e+01     5.712158e-01\n",
      " * time: 4.6558921337127686\n",
      "     5    -5.690955e+01     1.714700e-01\n",
      " * time: 5.640860080718994\n",
      "     6    -5.971687e+01     1.092351e-01\n",
      " * time: 6.296607971191406\n",
      "     7    -6.084303e+01     4.552844e-02\n",
      " * time: 6.935544013977051\n",
      "     8    -6.128101e+01     5.931990e-02\n",
      " * time: 7.572005987167358\n",
      "     9    -6.159389e+01     3.950439e-02\n",
      " * time: 8.208033084869385\n",
      "    10    -6.182012e+01     2.579984e-02\n",
      " * time: 8.855574131011963\n",
      "    11    -6.199242e+01     2.334469e-02\n",
      " * time: 9.510976076126099\n",
      "    12    -6.205645e+01     1.924282e-02\n",
      " * time: 10.14306092262268\n",
      "    13    -6.212314e+01     1.220343e-02\n",
      " * time: 10.77394413948059\n",
      "    14    -6.214894e+01     1.218028e-02\n",
      " * time: 11.440478086471558\n",
      "    15    -6.217242e+01     8.227195e-03\n",
      " * time: 12.078297138214111\n",
      "    16    -6.218448e+01     7.703046e-03\n",
      " * time: 12.716438055038452\n",
      "    17    -6.219323e+01     6.063034e-03\n",
      " * time: 13.370615005493164\n",
      "    18    -6.220027e+01     5.918345e-03\n",
      " * time: 14.00984811782837\n",
      "    19    -6.220630e+01     5.905088e-03\n",
      " * time: 14.632885932922363\n",
      "    20    -6.221217e+01     6.161159e-03\n",
      " * time: 15.284642934799194\n",
      "    21    -6.221808e+01     6.544557e-03\n",
      " * time: 15.914822101593018\n",
      "    22    -6.222403e+01     6.791807e-03\n",
      " * time: 16.57400393486023\n",
      "    23    -6.223010e+01     6.782318e-03\n",
      " * time: 17.21931791305542\n",
      "    24    -6.223596e+01     6.617845e-03\n",
      " * time: 17.854344129562378\n",
      "    25    -6.224160e+01     5.884048e-03\n",
      " * time: 18.478742122650146\n",
      "    26    -6.224677e+01     4.856659e-03\n",
      " * time: 19.11821699142456\n",
      "    27    -6.225123e+01     4.165820e-03\n",
      " * time: 19.752308130264282\n",
      "    28    -6.225463e+01     3.532094e-03\n",
      " * time: 20.378132104873657\n",
      "    29    -6.225721e+01     2.668848e-03\n",
      " * time: 21.02151107788086\n",
      "    30    -6.225911e+01     2.078930e-03\n",
      " * time: 21.701853036880493\n",
      "    31    -6.226027e+01     1.609187e-03\n",
      " * time: 22.34983205795288\n",
      "    32    -6.226089e+01     1.279608e-03\n",
      " * time: 22.984364986419678\n",
      "    33    -6.226125e+01     9.364379e-04\n",
      " * time: 23.61703610420227\n",
      "    34    -6.226143e+01     7.874670e-04\n",
      " * time: 24.26584792137146\n",
      "    35    -6.226153e+01     5.282929e-04\n",
      " * time: 24.907166004180908\n",
      "    36    -6.226158e+01     4.254998e-04\n",
      " * time: 25.569939136505127\n",
      "    37    -6.226161e+01     3.701305e-04\n",
      " * time: 26.204724073410034\n",
      "    38    -6.226163e+01     2.934415e-04\n",
      " * time: 26.842148065567017\n",
      "    39    -6.226164e+01     2.553151e-04\n",
      " * time: 27.506123065948486\n",
      "    40    -6.226165e+01     2.150454e-04\n",
      " * time: 28.136975049972534\n",
      "    41    -6.226166e+01     1.550254e-04\n",
      " * time: 28.773109912872314\n",
      "    42    -6.226166e+01     1.101524e-04\n",
      " * time: 29.425694942474365\n",
      "    43    -6.226166e+01     8.364409e-05\n",
      " * time: 30.0698881149292\n",
      "    44    -6.226167e+01     6.410325e-05\n",
      " * time: 30.721182107925415\n",
      "    45    -6.226167e+01     3.588553e-05\n",
      " * time: 31.375694036483765\n",
      "    46    -6.226167e+01     2.613891e-05\n",
      " * time: 32.007686138153076\n",
      "    47    -6.226167e+01     1.865397e-05\n",
      " * time: 32.68187594413757\n",
      "    48    -6.226167e+01     1.585014e-05\n",
      " * time: 33.33370900154114\n",
      "    49    -6.226167e+01     1.371173e-05\n",
      " * time: 33.96565794944763\n",
      "    50    -6.226167e+01     1.082808e-05\n",
      " * time: 34.59689712524414\n",
      "    51    -6.226167e+01     8.379606e-06\n",
      " * time: 35.237447023391724\n",
      "    52    -6.226167e+01     6.413584e-06\n",
      " * time: 35.878154039382935\n",
      "    53    -6.226167e+01     5.767472e-06\n",
      " * time: 36.524807929992676\n",
      "    54    -6.226167e+01     4.870700e-06\n",
      " * time: 37.16586208343506\n",
      "    55    -6.226167e+01     3.015198e-06\n",
      " * time: 37.83203601837158\n",
      "    56    -6.226167e+01     2.588880e-06\n",
      " * time: 38.467517137527466\n"
     ]
    }
   ],
   "cell_type": "code",
   "source": [
    "scfres = direct_minimization(basis, tol=1e-5);"
   ],
   "metadata": {},
   "execution_count": 4
  },
  {
   "outputs": [
    {
     "output_type": "execute_result",
     "data": {
      "text/plain": "Energy breakdown (in Ha):\n    Kinetic             25.7671075\n    AtomicLocal         -18.8557703\n    AtomicNonlocal      14.8522656\n    Ewald               -67.1831486\n    PspCorrection       -2.3569765\n    Hartree             4.8485383 \n    Xc                  -19.3336825\n\n    total               -62.261666461722"
     },
     "metadata": {},
     "execution_count": 5
    }
   ],
   "cell_type": "code",
   "source": [
    "scfres.energies"
   ],
   "metadata": {},
   "execution_count": 5
  }
 ],
 "nbformat_minor": 3,
 "metadata": {
  "language_info": {
   "file_extension": ".jl",
   "mimetype": "application/julia",
   "name": "julia",
   "version": "1.6.3"
  },
  "kernelspec": {
   "name": "julia-1.6",
   "display_name": "Julia 1.6.3",
   "language": "julia"
  }
 },
 "nbformat": 4
}
