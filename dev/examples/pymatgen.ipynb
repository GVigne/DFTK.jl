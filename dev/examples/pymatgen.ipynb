{
 "cells": [
  {
   "cell_type": "markdown",
   "source": [
    "# Creating supercells with pymatgen\n",
    "\n",
    "The [Pymatgen](https://pymatgen.org/) python library allows to setup\n",
    "solid-state calculations using a flexible set of classes as well as an API\n",
    "to an online data base of structures. Its `Structure` and `Lattice`\n",
    "objects are directly supported by the DFTK `load_atoms` and `load_lattice`\n",
    "functions, such that DFTK may be readily used to run calculation on systems\n",
    "defined in pymatgen. Using the `pymatgen_structure` function a conversion\n",
    "from DFTK to pymatgen structures is also possible. In the following we\n",
    "use this to create a silicon supercell and find its LDA ground state\n",
    "using direct minimisation. To run this example Julia's `PyCall` package\n",
    "needs to be able to find an installation of `pymatgen`."
   ],
   "metadata": {}
  },
  {
   "cell_type": "markdown",
   "source": [
    "First we setup the silicon lattice in DFTK."
   ],
   "metadata": {}
  },
  {
   "outputs": [],
   "cell_type": "code",
   "source": [
    "using DFTK\n",
    "\n",
    "a = 10.263141334305942  # Lattice constant in Bohr\n",
    "lattice = a / 2 .* [[0 1 1.]; [1 0 1.]; [1 1 0.]]\n",
    "Si = ElementPsp(:Si, psp=load_psp(\"hgh/lda/Si-q4\"))\n",
    "atoms = [Si => [ones(3)/8, -ones(3)/8]];"
   ],
   "metadata": {},
   "execution_count": 1
  },
  {
   "cell_type": "markdown",
   "source": [
    "Next we make a `[2, 2, 2]` supercell using pymatgen"
   ],
   "metadata": {}
  },
  {
   "outputs": [
    {
     "name": "stdout",
     "output_type": "stream",
     "text": [
      "┌ Warning: `vendor()` is deprecated, use `BLAS.get_config()` and inspect the output instead\n",
      "│   caller = npyinitialize() at numpy.jl:67\n",
      "└ @ PyCall /home/runner/.julia/packages/PyCall/3fwVL/src/numpy.jl:67\n"
     ]
    }
   ],
   "cell_type": "code",
   "source": [
    "pystruct = pymatgen_structure(lattice, atoms)\n",
    "pystruct.make_supercell([2, 2, 2])\n",
    "lattice = load_lattice(pystruct)\n",
    "atoms = [Si => [s.frac_coords for s in pystruct.sites]];"
   ],
   "metadata": {},
   "execution_count": 2
  },
  {
   "cell_type": "markdown",
   "source": [
    "Setup an LDA model and discretize using\n",
    "a single k-point and a small `Ecut` of 5 Hartree."
   ],
   "metadata": {}
  },
  {
   "outputs": [
    {
     "output_type": "execute_result",
     "data": {
      "text/plain": "PlaneWaveBasis discretization:\n    Ecut                 : 5.0 Ha\n    fft_size             : (32, 32, 32)\n    kgrid type           : Monkhorst-Pack\n    kgrid                : [1, 1, 1]\n    num. irred. kpoints  : 1\n\n    Discretized Model(lda_xc_teter93, 3D):\n        lattice (in Bohr)    : [0         , 10.2631   , 10.2631   ]\n                               [10.2631   , 0         , 10.2631   ]\n                               [10.2631   , 10.2631   , 0         ]\n        unit cell volume     : 2162.1 Bohr³\n    \n        atoms                : Si₁₆\n        atom potentials      : ElementPsp(Si, psp=hgh/lda/si-q4)\n    \n        num. electrons       : 64\n        spin polarization    : none\n        temperature          : 0 Ha\n    \n        terms                : Kinetic()\n                               AtomicLocal()\n                               AtomicNonlocal()\n                               Ewald()\n                               PspCorrection()\n                               Hartree()\n                               Xc(:lda_xc_teter93)"
     },
     "metadata": {},
     "execution_count": 3
    }
   ],
   "cell_type": "code",
   "source": [
    "model = model_LDA(lattice, atoms)\n",
    "basis = PlaneWaveBasis(model; Ecut=5, kgrid=(1, 1, 1))"
   ],
   "metadata": {},
   "execution_count": 3
  },
  {
   "cell_type": "markdown",
   "source": [
    "Find the ground state using direct minimisation (always using SCF is boring ...)"
   ],
   "metadata": {}
  },
  {
   "outputs": [
    {
     "name": "stdout",
     "output_type": "stream",
     "text": [
      "Iter     Function value   Gradient norm \n",
      "     0     1.120536e+02     1.362940e+00\n",
      " * time: 0.6233298778533936\n",
      "     1     1.122088e+01     9.934351e-01\n",
      " * time: 1.7267489433288574\n",
      "     2    -1.213786e+01     9.686975e-01\n",
      " * time: 2.2224409580230713\n",
      "     3    -3.385689e+01     7.979538e-01\n",
      " * time: 2.985687017440796\n",
      "     4    -4.742984e+01     6.528826e-01\n",
      " * time: 3.7090070247650146\n",
      "     5    -5.684245e+01     2.181597e-01\n",
      " * time: 4.443939924240112\n",
      "     6    -5.973426e+01     1.518820e-01\n",
      " * time: 4.942529916763306\n",
      "     7    -6.083742e+01     5.135099e-02\n",
      " * time: 5.446016073226929\n",
      "     8    -6.126202e+01     6.828077e-02\n",
      " * time: 5.930806875228882\n",
      "     9    -6.154528e+01     4.022129e-02\n",
      " * time: 6.417121887207031\n",
      "    10    -6.178213e+01     2.797883e-02\n",
      " * time: 6.904478073120117\n",
      "    11    -6.196934e+01     2.112961e-02\n",
      " * time: 7.405834913253784\n",
      "    12    -6.204517e+01     1.492117e-02\n",
      " * time: 7.89101505279541\n",
      "    13    -6.211826e+01     1.400862e-02\n",
      " * time: 8.378428936004639\n",
      "    14    -6.214895e+01     1.195579e-02\n",
      " * time: 8.86338186264038\n",
      "    15    -6.217497e+01     8.720529e-03\n",
      " * time: 9.358530044555664\n",
      "    16    -6.218729e+01     6.773096e-03\n",
      " * time: 9.843631029129028\n",
      "    17    -6.219640e+01     5.314750e-03\n",
      " * time: 10.329766988754272\n",
      "    18    -6.220314e+01     6.326500e-03\n",
      " * time: 10.816674947738647\n",
      "    19    -6.220833e+01     6.190673e-03\n",
      " * time: 11.303194046020508\n",
      "    20    -6.221290e+01     4.954531e-03\n",
      " * time: 11.799072027206421\n",
      "    21    -6.221716e+01     4.800120e-03\n",
      " * time: 12.282842874526978\n",
      "    22    -6.222144e+01     5.119118e-03\n",
      " * time: 12.768632888793945\n",
      "    23    -6.222614e+01     6.087556e-03\n",
      " * time: 13.254096984863281\n",
      "    24    -6.223154e+01     5.774698e-03\n",
      " * time: 13.747995853424072\n",
      "    25    -6.223717e+01     6.453374e-03\n",
      " * time: 14.239001989364624\n",
      "    26    -6.224290e+01     6.200340e-03\n",
      " * time: 14.727025985717773\n",
      "    27    -6.224827e+01     4.554087e-03\n",
      " * time: 15.21372103691101\n",
      "    28    -6.225252e+01     3.659480e-03\n",
      " * time: 15.708930969238281\n",
      "    29    -6.225564e+01     3.523642e-03\n",
      " * time: 16.194341897964478\n",
      "    30    -6.225797e+01     3.081518e-03\n",
      " * time: 16.6802020072937\n",
      "    31    -6.225962e+01     2.540374e-03\n",
      " * time: 17.167420864105225\n",
      "    32    -6.226054e+01     2.050278e-03\n",
      " * time: 17.654617071151733\n",
      "    33    -6.226111e+01     1.275789e-03\n",
      " * time: 18.151306867599487\n",
      "    34    -6.226140e+01     8.927541e-04\n",
      " * time: 18.637176036834717\n",
      "    35    -6.226153e+01     6.670445e-04\n",
      " * time: 19.12394690513611\n",
      "    36    -6.226160e+01     3.661128e-04\n",
      " * time: 19.61113691329956\n",
      "    37    -6.226163e+01     2.644268e-04\n",
      " * time: 20.10922598838806\n",
      "    38    -6.226164e+01     2.369930e-04\n",
      " * time: 20.59975790977478\n",
      "    39    -6.226165e+01     1.942317e-04\n",
      " * time: 21.087223052978516\n",
      "    40    -6.226165e+01     1.370566e-04\n",
      " * time: 21.57466197013855\n",
      "    41    -6.226166e+01     1.246649e-04\n",
      " * time: 22.069867849349976\n",
      "    42    -6.226166e+01     9.076298e-05\n",
      " * time: 22.55516290664673\n",
      "    43    -6.226166e+01     6.512154e-05\n",
      " * time: 23.041363954544067\n",
      "    44    -6.226166e+01     5.044331e-05\n",
      " * time: 23.526252031326294\n",
      "    45    -6.226167e+01     3.827619e-05\n",
      " * time: 24.01126194000244\n",
      "    46    -6.226167e+01     2.554677e-05\n",
      " * time: 24.50592303276062\n",
      "    47    -6.226167e+01     2.182341e-05\n",
      " * time: 24.99255084991455\n",
      "    48    -6.226167e+01     1.584821e-05\n",
      " * time: 25.479372024536133\n",
      "    49    -6.226167e+01     1.037596e-05\n",
      " * time: 25.967954874038696\n",
      "    50    -6.226167e+01     8.189312e-06\n",
      " * time: 26.465383052825928\n",
      "    51    -6.226167e+01     7.611949e-06\n",
      " * time: 26.95201086997986\n",
      "    52    -6.226167e+01     6.538783e-06\n",
      " * time: 27.437963008880615\n",
      "    53    -6.226167e+01     5.228637e-06\n",
      " * time: 27.92682695388794\n",
      "    54    -6.226167e+01     4.316266e-06\n",
      " * time: 28.426799058914185\n",
      "    55    -6.226167e+01     3.651959e-06\n",
      " * time: 28.916411876678467\n",
      "    56    -6.226167e+01     2.895501e-06\n",
      " * time: 29.402760982513428\n",
      "    57    -6.226167e+01     2.028491e-06\n",
      " * time: 29.889461994171143\n"
     ]
    }
   ],
   "cell_type": "code",
   "source": [
    "scfres = direct_minimization(basis, tol=1e-5);"
   ],
   "metadata": {},
   "execution_count": 4
  },
  {
   "outputs": [
    {
     "output_type": "execute_result",
     "data": {
      "text/plain": "Energy breakdown (in Ha):\n    Kinetic             25.7671072\n    AtomicLocal         -18.8557721\n    AtomicNonlocal      14.8522676\n    Ewald               -67.1831486\n    PspCorrection       -2.3569765\n    Hartree             4.8485384 \n    Xc                  -19.3336825\n\n    total               -62.261666462293"
     },
     "metadata": {},
     "execution_count": 5
    }
   ],
   "cell_type": "code",
   "source": [
    "scfres.energies"
   ],
   "metadata": {},
   "execution_count": 5
  }
 ],
 "nbformat_minor": 3,
 "metadata": {
  "language_info": {
   "file_extension": ".jl",
   "mimetype": "application/julia",
   "name": "julia",
   "version": "1.7.0"
  },
  "kernelspec": {
   "name": "julia-1.7",
   "display_name": "Julia 1.7.0",
   "language": "julia"
  }
 },
 "nbformat": 4
}
