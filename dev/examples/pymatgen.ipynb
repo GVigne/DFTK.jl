{
 "cells": [
  {
   "cell_type": "markdown",
   "source": [
    "# Creating supercells with pymatgen\n",
    "\n",
    "The [Pymatgen](https://pymatgen.org/) python library allows to setup\n",
    "solid-state calculations using a flexible set of classes as well as an API\n",
    "to an online data base of structures. Its `Structure` and `Lattice`\n",
    "objects are directly supported by the DFTK `load_atoms` and `load_lattice`\n",
    "functions, such that DFTK may be readily used to run calculation on systems\n",
    "defined in pymatgen. Using the `pymatgen_structure` function a conversion\n",
    "from DFTK to pymatgen structures is also possible. In the following we\n",
    "use this to create a silicon supercell and find its LDA ground state\n",
    "using direct minimisation. To run this example Julia's `PyCall` package\n",
    "needs to be able to find an installation of `pymatgen`."
   ],
   "metadata": {}
  },
  {
   "cell_type": "markdown",
   "source": [
    "First we setup the silicon lattice in DFTK."
   ],
   "metadata": {}
  },
  {
   "outputs": [],
   "cell_type": "code",
   "source": [
    "using DFTK\n",
    "\n",
    "a = 10.263141334305942  # Lattice constant in Bohr\n",
    "lattice = a / 2 .* [[0 1 1.]; [1 0 1.]; [1 1 0.]]\n",
    "Si = ElementPsp(:Si, psp=load_psp(\"hgh/lda/Si-q4\"))\n",
    "atoms = [Si => [ones(3)/8, -ones(3)/8]];"
   ],
   "metadata": {},
   "execution_count": 1
  },
  {
   "cell_type": "markdown",
   "source": [
    "Next we make a `[2, 2, 2]` supercell using pymatgen"
   ],
   "metadata": {}
  },
  {
   "outputs": [
    {
     "name": "stdout",
     "output_type": "stream",
     "text": [
      "┌ Warning: `vendor()` is deprecated, use `BLAS.get_config()` and inspect the output instead\n",
      "│   caller = npyinitialize() at numpy.jl:67\n",
      "└ @ PyCall /home/runner/.julia/packages/PyCall/L0fLP/src/numpy.jl:67\n"
     ]
    }
   ],
   "cell_type": "code",
   "source": [
    "pystruct = pymatgen_structure(lattice, atoms)\n",
    "pystruct.make_supercell([2, 2, 2])\n",
    "lattice = load_lattice(pystruct)\n",
    "atoms = [Si => [s.frac_coords for s in pystruct.sites]];"
   ],
   "metadata": {},
   "execution_count": 2
  },
  {
   "cell_type": "markdown",
   "source": [
    "Setup an LDA model and discretize using\n",
    "a single k-point and a small `Ecut` of 5 Hartree."
   ],
   "metadata": {}
  },
  {
   "outputs": [
    {
     "output_type": "execute_result",
     "data": {
      "text/plain": "PlaneWaveBasis discretization:\n    Ecut                 : 5.0 Ha\n    fft_size             : (32, 32, 32), 32768 total points\n    kgrid type           : Monkhorst-Pack\n    kgrid                : [1, 1, 1]\n    num. irred. kpoints  : 1\n\n    Discretized Model(lda_xc_teter93, 3D):\n        lattice (in Bohr)    : [0         , 10.2631   , 10.2631   ]\n                               [10.2631   , 0         , 10.2631   ]\n                               [10.2631   , 10.2631   , 0         ]\n        unit cell volume     : 2162.1 Bohr³\n    \n        atoms                : Si₁₆\n        atom potentials      : ElementPsp(Si, psp=\"hgh/lda/si-q4\")\n    \n        num. electrons       : 64\n        spin polarization    : none\n        temperature          : 0 Ha\n    \n        terms                : Kinetic()\n                               AtomicLocal()\n                               AtomicNonlocal()\n                               Ewald()\n                               PspCorrection()\n                               Hartree()\n                               Xc(:lda_xc_teter93)"
     },
     "metadata": {},
     "execution_count": 3
    }
   ],
   "cell_type": "code",
   "source": [
    "model = model_LDA(lattice, atoms)\n",
    "basis = PlaneWaveBasis(model; Ecut=5, kgrid=(1, 1, 1))"
   ],
   "metadata": {},
   "execution_count": 3
  },
  {
   "cell_type": "markdown",
   "source": [
    "Find the ground state using direct minimisation (always using SCF is boring ...)"
   ],
   "metadata": {}
  },
  {
   "outputs": [
    {
     "name": "stdout",
     "output_type": "stream",
     "text": [
      "Iter     Function value   Gradient norm \n",
      "     0     1.116293e+02     1.467991e+00\n",
      " * time: 0.4684908390045166\n",
      "     1     1.086027e+01     8.944963e-01\n",
      " * time: 1.046172857284546\n",
      "     2    -1.206485e+01     1.037327e+00\n",
      " * time: 1.117743968963623\n",
      "     3    -3.371055e+01     7.155700e-01\n",
      " * time: 1.2331008911132812\n",
      "     4    -4.704302e+01     5.844901e-01\n",
      " * time: 1.3220138549804688\n",
      "     5    -5.680233e+01     2.197233e-01\n",
      " * time: 1.418823003768921\n",
      "     6    -5.968755e+01     1.615510e-01\n",
      " * time: 1.4921259880065918\n",
      "     7    -6.090814e+01     5.494498e-02\n",
      " * time: 1.5691359043121338\n",
      "     8    -6.143932e+01     3.887461e-02\n",
      " * time: 1.6325268745422363\n",
      "     9    -6.176597e+01     3.567509e-02\n",
      " * time: 1.6963369846343994\n",
      "    10    -6.192284e+01     2.414319e-02\n",
      " * time: 1.7609758377075195\n",
      "    11    -6.203477e+01     2.061719e-02\n",
      " * time: 1.8251049518585205\n",
      "    12    -6.209673e+01     1.320041e-02\n",
      " * time: 1.9004249572753906\n",
      "    13    -6.213598e+01     9.957523e-03\n",
      " * time: 1.9639918804168701\n",
      "    14    -6.215714e+01     8.899846e-03\n",
      " * time: 2.028719902038574\n",
      "    15    -6.217139e+01     8.608522e-03\n",
      " * time: 2.093086004257202\n",
      "    16    -6.217944e+01     6.945887e-03\n",
      " * time: 2.1575050354003906\n",
      "    17    -6.218613e+01     6.297055e-03\n",
      " * time: 2.2268569469451904\n",
      "    18    -6.219290e+01     6.254423e-03\n",
      " * time: 2.2908568382263184\n",
      "    19    -6.219995e+01     6.132814e-03\n",
      " * time: 2.354667901992798\n",
      "    20    -6.220769e+01     5.702608e-03\n",
      " * time: 2.419240951538086\n",
      "    21    -6.221602e+01     6.507171e-03\n",
      " * time: 2.4834389686584473\n",
      "    22    -6.222438e+01     7.284107e-03\n",
      " * time: 2.5538060665130615\n",
      "    23    -6.223139e+01     5.849086e-03\n",
      " * time: 2.6177659034729004\n",
      "    24    -6.223729e+01     5.292009e-03\n",
      " * time: 2.6819310188293457\n",
      "    25    -6.224262e+01     4.395956e-03\n",
      " * time: 2.7467520236968994\n",
      "    26    -6.224772e+01     3.874741e-03\n",
      " * time: 2.8120598793029785\n",
      "    27    -6.225177e+01     3.416295e-03\n",
      " * time: 2.881852865219116\n",
      "    28    -6.225509e+01     3.230527e-03\n",
      " * time: 2.9457919597625732\n",
      "    29    -6.225752e+01     3.169004e-03\n",
      " * time: 3.0098979473114014\n",
      "    30    -6.225927e+01     2.086103e-03\n",
      " * time: 3.074694871902466\n",
      "    31    -6.226040e+01     1.646371e-03\n",
      " * time: 3.139169931411743\n",
      "    32    -6.226100e+01     1.012990e-03\n",
      " * time: 3.203436851501465\n",
      "    33    -6.226129e+01     8.425276e-04\n",
      " * time: 3.2726619243621826\n",
      "    34    -6.226146e+01     5.943105e-04\n",
      " * time: 3.3366458415985107\n",
      "    35    -6.226154e+01     4.800716e-04\n",
      " * time: 3.401521921157837\n",
      "    36    -6.226159e+01     3.573803e-04\n",
      " * time: 3.4660768508911133\n",
      "    37    -6.226161e+01     2.998055e-04\n",
      " * time: 3.5302278995513916\n",
      "    38    -6.226163e+01     2.335358e-04\n",
      " * time: 3.5996599197387695\n",
      "    39    -6.226164e+01     1.887674e-04\n",
      " * time: 3.666606903076172\n",
      "    40    -6.226165e+01     1.527344e-04\n",
      " * time: 3.730978012084961\n",
      "    41    -6.226166e+01     1.613732e-04\n",
      " * time: 3.795639991760254\n",
      "    42    -6.226166e+01     1.119131e-04\n",
      " * time: 3.860059976577759\n",
      "    43    -6.226166e+01     8.840153e-05\n",
      " * time: 3.9299850463867188\n",
      "    44    -6.226167e+01     6.081991e-05\n",
      " * time: 3.9978909492492676\n",
      "    45    -6.226167e+01     3.858951e-05\n",
      " * time: 4.062083005905151\n",
      "    46    -6.226167e+01     2.784952e-05\n",
      " * time: 4.127238988876343\n",
      "    47    -6.226167e+01     2.036646e-05\n",
      " * time: 4.191549062728882\n",
      "    48    -6.226167e+01     1.471011e-05\n",
      " * time: 4.261400938034058\n",
      "    49    -6.226167e+01     1.073938e-05\n",
      " * time: 4.325487852096558\n",
      "    50    -6.226167e+01     9.654742e-06\n",
      " * time: 4.389474868774414\n",
      "    51    -6.226167e+01     8.585687e-06\n",
      " * time: 4.454133033752441\n",
      "    52    -6.226167e+01     6.726961e-06\n",
      " * time: 4.518802881240845\n",
      "    53    -6.226167e+01     5.166562e-06\n",
      " * time: 4.588551044464111\n",
      "    54    -6.226167e+01     3.833868e-06\n",
      " * time: 4.652602910995483\n",
      "    55    -6.226167e+01     2.519734e-06\n",
      " * time: 4.716639041900635\n"
     ]
    }
   ],
   "cell_type": "code",
   "source": [
    "scfres = direct_minimization(basis, tol=1e-5);"
   ],
   "metadata": {},
   "execution_count": 4
  },
  {
   "outputs": [
    {
     "output_type": "execute_result",
     "data": {
      "text/plain": "Energy breakdown (in Ha):\n    Kinetic             25.7671072\n    AtomicLocal         -18.8557698\n    AtomicNonlocal      14.8522659\n    Ewald               -67.1831486\n    PspCorrection       -2.3569765\n    Hartree             4.8485376 \n    Xc                  -19.3336822\n\n    total               -62.261666459737"
     },
     "metadata": {},
     "execution_count": 5
    }
   ],
   "cell_type": "code",
   "source": [
    "scfres.energies"
   ],
   "metadata": {},
   "execution_count": 5
  }
 ],
 "nbformat_minor": 3,
 "metadata": {
  "language_info": {
   "file_extension": ".jl",
   "mimetype": "application/julia",
   "name": "julia",
   "version": "1.7.2"
  },
  "kernelspec": {
   "name": "julia-1.7",
   "display_name": "Julia 1.7.2",
   "language": "julia"
  }
 },
 "nbformat": 4
}
