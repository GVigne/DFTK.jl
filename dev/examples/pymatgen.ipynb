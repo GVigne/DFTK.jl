{
 "cells": [
  {
   "cell_type": "markdown",
   "source": [
    "# Creating supercells with pymatgen\n",
    "\n",
    "The [Pymatgen](https://pymatgen.org/) python library allows to setup\n",
    "solid-state calculations using a flexible set of classes as well as an API\n",
    "to an online data base of structures. Its `Structure` and `Lattice`\n",
    "objects are directly supported by the DFTK `load_atoms` and `load_lattice`\n",
    "functions, such that DFTK may be readily used to run calculation on systems\n",
    "defined in pymatgen. Using the `pymatgen_structure` function a conversion\n",
    "from DFTK to pymatgen structures is also possible. In the following we\n",
    "use this to create a silicon supercell and find its LDA ground state\n",
    "using direct minimisation. To run this example Julia's `PyCall` package\n",
    "needs to be able to find an installation of `pymatgen`."
   ],
   "metadata": {}
  },
  {
   "cell_type": "markdown",
   "source": [
    "First we setup the silicon lattice in DFTK."
   ],
   "metadata": {}
  },
  {
   "outputs": [],
   "cell_type": "code",
   "source": [
    "using DFTK\n",
    "\n",
    "a = 10.263141334305942  # Lattice constant in Bohr\n",
    "lattice = a / 2 .* [[0 1 1.]; [1 0 1.]; [1 1 0.]]\n",
    "Si = ElementPsp(:Si, psp=load_psp(\"hgh/lda/Si-q4\"))\n",
    "atoms = [Si => [ones(3)/8, -ones(3)/8]];"
   ],
   "metadata": {},
   "execution_count": 1
  },
  {
   "cell_type": "markdown",
   "source": [
    "Next we make a `[2, 2, 2]` supercell using pymatgen"
   ],
   "metadata": {}
  },
  {
   "outputs": [
    {
     "name": "stdout",
     "output_type": "stream",
     "text": [
      "┌ Warning: `vendor()` is deprecated, use `BLAS.get_config()` and inspect the output instead\n",
      "│   caller = npyinitialize() at numpy.jl:67\n",
      "└ @ PyCall /home/runner/.julia/packages/PyCall/L0fLP/src/numpy.jl:67\n"
     ]
    }
   ],
   "cell_type": "code",
   "source": [
    "pystruct = pymatgen_structure(lattice, atoms)\n",
    "pystruct.make_supercell([2, 2, 2])\n",
    "lattice = load_lattice(pystruct)\n",
    "atoms = [Si => [s.frac_coords for s in pystruct.sites]];"
   ],
   "metadata": {},
   "execution_count": 2
  },
  {
   "cell_type": "markdown",
   "source": [
    "Setup an LDA model and discretize using\n",
    "a single k-point and a small `Ecut` of 5 Hartree."
   ],
   "metadata": {}
  },
  {
   "outputs": [
    {
     "output_type": "execute_result",
     "data": {
      "text/plain": "PlaneWaveBasis discretization:\n    Ecut                 : 5.0 Ha\n    fft_size             : (32, 32, 32), 32768 total points\n    kgrid type           : Monkhorst-Pack\n    kgrid                : [1, 1, 1]\n    num. irred. kpoints  : 1\n\n    Discretized Model(lda_xc_teter93, 3D):\n        lattice (in Bohr)    : [0         , 10.2631   , 10.2631   ]\n                               [10.2631   , 0         , 10.2631   ]\n                               [10.2631   , 10.2631   , 0         ]\n        unit cell volume     : 2162.1 Bohr³\n    \n        atoms                : Si₁₆\n        atom potentials      : ElementPsp(Si, psp=\"hgh/lda/si-q4\")\n    \n        num. electrons       : 64\n        spin polarization    : none\n        temperature          : 0 Ha\n    \n        terms                : Kinetic()\n                               AtomicLocal()\n                               AtomicNonlocal()\n                               Ewald()\n                               PspCorrection()\n                               Hartree()\n                               Xc(:lda_xc_teter93)"
     },
     "metadata": {},
     "execution_count": 3
    }
   ],
   "cell_type": "code",
   "source": [
    "model = model_LDA(lattice, atoms)\n",
    "basis = PlaneWaveBasis(model; Ecut=5, kgrid=(1, 1, 1))"
   ],
   "metadata": {},
   "execution_count": 3
  },
  {
   "cell_type": "markdown",
   "source": [
    "Find the ground state using direct minimisation (always using SCF is boring ...)"
   ],
   "metadata": {}
  },
  {
   "outputs": [
    {
     "name": "stdout",
     "output_type": "stream",
     "text": [
      "Iter     Function value   Gradient norm \n",
      "     0     1.121423e+02     1.492178e+00\n",
      " * time: 0.4185600280761719\n",
      "     1     1.073075e+01     7.928360e-01\n",
      " * time: 1.0453720092773438\n",
      "     2    -1.159505e+01     1.066299e+00\n",
      " * time: 1.1082050800323486\n",
      "     3    -3.394802e+01     7.204887e-01\n",
      " * time: 1.2198121547698975\n",
      "     4    -4.722604e+01     5.906748e-01\n",
      " * time: 1.2899680137634277\n",
      "     5    -5.690557e+01     2.162229e-01\n",
      " * time: 1.3745582103729248\n",
      "     6    -5.971635e+01     2.286221e-01\n",
      " * time: 1.4376230239868164\n",
      "     7    -6.088355e+01     8.858131e-02\n",
      " * time: 1.5110390186309814\n",
      "     8    -6.141556e+01     3.878360e-02\n",
      " * time: 1.563528060913086\n",
      "     9    -6.170429e+01     2.856077e-02\n",
      " * time: 1.6157259941101074\n",
      "    10    -6.188016e+01     3.496651e-02\n",
      " * time: 1.6682372093200684\n",
      "    11    -6.199990e+01     2.126097e-02\n",
      " * time: 1.7209382057189941\n",
      "    12    -6.208624e+01     1.938326e-02\n",
      " * time: 1.7880971431732178\n",
      "    13    -6.215174e+01     1.345139e-02\n",
      " * time: 1.8403491973876953\n",
      "    14    -6.218352e+01     1.262713e-02\n",
      " * time: 1.8921761512756348\n",
      "    15    -6.221088e+01     8.349217e-03\n",
      " * time: 1.944261074066162\n",
      "    16    -6.222338e+01     8.769130e-03\n",
      " * time: 1.9967141151428223\n",
      "    17    -6.223288e+01     5.553957e-03\n",
      " * time: 2.0557920932769775\n",
      "    18    -6.223982e+01     4.933444e-03\n",
      " * time: 2.108227014541626\n",
      "    19    -6.224505e+01     4.234961e-03\n",
      " * time: 2.1604950428009033\n",
      "    20    -6.224961e+01     3.789751e-03\n",
      " * time: 2.213059186935425\n",
      "    21    -6.225382e+01     3.637203e-03\n",
      " * time: 2.266273021697998\n",
      "    22    -6.225715e+01     3.039184e-03\n",
      " * time: 2.3188960552215576\n",
      "    23    -6.225923e+01     2.522340e-03\n",
      " * time: 2.3778560161590576\n",
      "    24    -6.226036e+01     1.669327e-03\n",
      " * time: 2.430042028427124\n",
      "    25    -6.226095e+01     1.163086e-03\n",
      " * time: 2.4826271533966064\n",
      "    26    -6.226125e+01     1.026010e-03\n",
      " * time: 2.535386085510254\n",
      "    27    -6.226139e+01     6.835843e-04\n",
      " * time: 2.587977170944214\n",
      "    28    -6.226147e+01     5.783439e-04\n",
      " * time: 2.6471641063690186\n",
      "    29    -6.226153e+01     5.021754e-04\n",
      " * time: 2.6994941234588623\n",
      "    30    -6.226158e+01     4.373927e-04\n",
      " * time: 2.7519211769104004\n",
      "    31    -6.226161e+01     3.501086e-04\n",
      " * time: 2.804183006286621\n",
      "    32    -6.226163e+01     3.362704e-04\n",
      " * time: 2.8572211265563965\n",
      "    33    -6.226165e+01     2.750580e-04\n",
      " * time: 2.916469097137451\n",
      "    34    -6.226166e+01     1.655547e-04\n",
      " * time: 2.9694340229034424\n",
      "    35    -6.226166e+01     9.462857e-05\n",
      " * time: 3.02231502532959\n",
      "    36    -6.226166e+01     7.769769e-05\n",
      " * time: 3.0754032135009766\n",
      "    37    -6.226167e+01     6.379634e-05\n",
      " * time: 3.128744125366211\n",
      "    38    -6.226167e+01     3.618750e-05\n",
      " * time: 3.1887030601501465\n",
      "    39    -6.226167e+01     2.568419e-05\n",
      " * time: 3.241629123687744\n",
      "    40    -6.226167e+01     2.346195e-05\n",
      " * time: 3.2948381900787354\n",
      "    41    -6.226167e+01     1.970246e-05\n",
      " * time: 3.3482751846313477\n",
      "    42    -6.226167e+01     1.751275e-05\n",
      " * time: 3.401895046234131\n",
      "    43    -6.226167e+01     1.300533e-05\n",
      " * time: 3.4619600772857666\n",
      "    44    -6.226167e+01     8.843057e-06\n",
      " * time: 3.514937162399292\n",
      "    45    -6.226167e+01     8.514943e-06\n",
      " * time: 3.5677361488342285\n",
      "    46    -6.226167e+01     6.876837e-06\n",
      " * time: 3.6205270290374756\n",
      "    47    -6.226167e+01     4.631842e-06\n",
      " * time: 3.674215078353882\n"
     ]
    }
   ],
   "cell_type": "code",
   "source": [
    "scfres = direct_minimization(basis, tol=1e-5);"
   ],
   "metadata": {},
   "execution_count": 4
  },
  {
   "outputs": [
    {
     "output_type": "execute_result",
     "data": {
      "text/plain": "Energy breakdown (in Ha):\n    Kinetic             25.7671080\n    AtomicLocal         -18.8557942\n    AtomicNonlocal      14.8522863\n    Ewald               -67.1831486\n    PspCorrection       -2.3569765\n    Hartree             4.8485422 \n    Xc                  -19.3336836\n\n    total               -62.261666455861"
     },
     "metadata": {},
     "execution_count": 5
    }
   ],
   "cell_type": "code",
   "source": [
    "scfres.energies"
   ],
   "metadata": {},
   "execution_count": 5
  }
 ],
 "nbformat_minor": 3,
 "metadata": {
  "language_info": {
   "file_extension": ".jl",
   "mimetype": "application/julia",
   "name": "julia",
   "version": "1.7.2"
  },
  "kernelspec": {
   "name": "julia-1.7",
   "display_name": "Julia 1.7.2",
   "language": "julia"
  }
 },
 "nbformat": 4
}
