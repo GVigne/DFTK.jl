{
 "cells": [
  {
   "cell_type": "markdown",
   "source": [
    "# Creating supercells with pymatgen\n",
    "\n",
    "The [Pymatgen](https://pymatgen.org/) python library allows to setup\n",
    "solid-state calculations using a flexible set of classes as well as an API\n",
    "to an online data base of structures. Its `Structure` and `Lattice`\n",
    "objects are directly supported by the DFTK `load_atoms` and `load_lattice`\n",
    "functions, such that DFTK may be readily used to run calculation on systems\n",
    "defined in pymatgen. Using the `pymatgen_structure` function a conversion\n",
    "from DFTK to pymatgen structures is also possible. In the following we\n",
    "use this to create a silicon supercell and find its LDA ground state\n",
    "using direct minimisation. To run this example Julia's `PyCall` package\n",
    "needs to be able to find an installation of `pymatgen`."
   ],
   "metadata": {}
  },
  {
   "cell_type": "markdown",
   "source": [
    "First we setup the silicon lattice in DFTK."
   ],
   "metadata": {}
  },
  {
   "outputs": [],
   "cell_type": "code",
   "source": [
    "using DFTK\n",
    "\n",
    "a = 10.263141334305942  # Lattice constant in Bohr\n",
    "lattice = a / 2 .* [[0 1 1.]; [1 0 1.]; [1 1 0.]]\n",
    "Si = ElementPsp(:Si, psp=load_psp(\"hgh/lda/Si-q4\"))\n",
    "atoms = [Si => [ones(3)/8, -ones(3)/8]];"
   ],
   "metadata": {},
   "execution_count": 1
  },
  {
   "cell_type": "markdown",
   "source": [
    "Next we make a `[2, 2, 2]` supercell using pymatgen"
   ],
   "metadata": {}
  },
  {
   "outputs": [
    {
     "name": "stdout",
     "output_type": "stream",
     "text": [
      "┌ Warning: `vendor()` is deprecated, use `BLAS.get_config()` and inspect the output instead\n",
      "│   caller = npyinitialize() at numpy.jl:67\n",
      "└ @ PyCall /home/runner/.julia/packages/PyCall/L0fLP/src/numpy.jl:67\n"
     ]
    }
   ],
   "cell_type": "code",
   "source": [
    "pystruct = pymatgen_structure(lattice, atoms)\n",
    "pystruct.make_supercell([2, 2, 2])\n",
    "lattice = load_lattice(pystruct)\n",
    "atoms = [Si => [s.frac_coords for s in pystruct.sites]];"
   ],
   "metadata": {},
   "execution_count": 2
  },
  {
   "cell_type": "markdown",
   "source": [
    "Setup an LDA model and discretize using\n",
    "a single k-point and a small `Ecut` of 5 Hartree."
   ],
   "metadata": {}
  },
  {
   "outputs": [
    {
     "output_type": "execute_result",
     "data": {
      "text/plain": "PlaneWaveBasis discretization:\n    Ecut                 : 5.0 Ha\n    fft_size             : (32, 32, 32)\n    kgrid type           : Monkhorst-Pack\n    kgrid                : [1, 1, 1]\n    num. irred. kpoints  : 1\n\n    Discretized Model(lda_xc_teter93, 3D):\n        lattice (in Bohr)    : [0         , 10.2631   , 10.2631   ]\n                               [10.2631   , 0         , 10.2631   ]\n                               [10.2631   , 10.2631   , 0         ]\n        unit cell volume     : 2162.1 Bohr³\n    \n        atoms                : Si₁₆\n        atom potentials      : ElementPsp(Si, psp=hgh/lda/si-q4)\n    \n        num. electrons       : 64\n        spin polarization    : none\n        temperature          : 0 Ha\n    \n        terms                : Kinetic()\n                               AtomicLocal()\n                               AtomicNonlocal()\n                               Ewald()\n                               PspCorrection()\n                               Hartree()\n                               Xc(:lda_xc_teter93)"
     },
     "metadata": {},
     "execution_count": 3
    }
   ],
   "cell_type": "code",
   "source": [
    "model = model_LDA(lattice, atoms)\n",
    "basis = PlaneWaveBasis(model; Ecut=5, kgrid=(1, 1, 1))"
   ],
   "metadata": {},
   "execution_count": 3
  },
  {
   "cell_type": "markdown",
   "source": [
    "Find the ground state using direct minimisation (always using SCF is boring ...)"
   ],
   "metadata": {}
  },
  {
   "outputs": [
    {
     "name": "stdout",
     "output_type": "stream",
     "text": [
      "Iter     Function value   Gradient norm \n",
      "     0     1.119393e+02     1.387779e+00\n",
      " * time: 0.662071943283081\n",
      "     1     1.024662e+01     8.473830e-01\n",
      " * time: 1.688188076019287\n",
      "     2    -1.212260e+01     9.133589e-01\n",
      " * time: 2.210616111755371\n",
      "     3    -3.467211e+01     6.674958e-01\n",
      " * time: 2.9383349418640137\n",
      "     4    -4.831907e+01     5.177543e-01\n",
      " * time: 3.6729719638824463\n",
      "     5    -5.730133e+01     2.025913e-01\n",
      " * time: 4.416685104370117\n",
      "     6    -6.002337e+01     1.441489e-01\n",
      " * time: 4.899590969085693\n",
      "     7    -6.102940e+01     4.511635e-02\n",
      " * time: 5.382759094238281\n",
      "     8    -6.139173e+01     7.042536e-02\n",
      " * time: 5.8663880825042725\n",
      "     9    -6.163669e+01     3.785200e-02\n",
      " * time: 6.367999076843262\n",
      "    10    -6.180702e+01     2.703276e-02\n",
      " * time: 6.852473974227905\n",
      "    11    -6.195974e+01     2.058759e-02\n",
      " * time: 7.336190938949585\n",
      "    12    -6.202529e+01     1.806328e-02\n",
      " * time: 7.820631980895996\n",
      "    13    -6.209263e+01     1.340744e-02\n",
      " * time: 8.304433107376099\n",
      "    14    -6.212073e+01     1.149328e-02\n",
      " * time: 8.796431064605713\n",
      "    15    -6.214689e+01     9.873053e-03\n",
      " * time: 9.279936075210571\n",
      "    16    -6.216125e+01     8.571736e-03\n",
      " * time: 9.763739109039307\n",
      "    17    -6.217428e+01     7.454985e-03\n",
      " * time: 10.24876594543457\n",
      "    18    -6.218441e+01     6.215913e-03\n",
      " * time: 10.740952014923096\n",
      "    19    -6.219432e+01     6.695215e-03\n",
      " * time: 11.225016117095947\n",
      "    20    -6.220413e+01     9.028082e-03\n",
      " * time: 11.708388090133667\n",
      "    21    -6.221486e+01     7.570673e-03\n",
      " * time: 12.192189931869507\n",
      "    22    -6.222660e+01     7.703933e-03\n",
      " * time: 12.676151037216187\n",
      "    23    -6.223783e+01     7.225015e-03\n",
      " * time: 13.168997049331665\n",
      "    24    -6.224668e+01     5.702441e-03\n",
      " * time: 13.653491020202637\n",
      "    25    -6.225239e+01     5.000223e-03\n",
      " * time: 14.136980056762695\n",
      "    26    -6.225570e+01     3.569076e-03\n",
      " * time: 14.621092081069946\n",
      "    27    -6.225760e+01     2.653718e-03\n",
      " * time: 15.112955093383789\n",
      "    28    -6.225879e+01     2.193467e-03\n",
      " * time: 15.594871044158936\n",
      "    29    -6.225967e+01     1.579537e-03\n",
      " * time: 16.077917098999023\n",
      "    30    -6.226038e+01     1.639560e-03\n",
      " * time: 16.55928611755371\n",
      "    31    -6.226087e+01     1.363956e-03\n",
      " * time: 17.043203115463257\n",
      "    32    -6.226121e+01     9.760469e-04\n",
      " * time: 17.534018993377686\n",
      "    33    -6.226142e+01     8.841082e-04\n",
      " * time: 18.016135931015015\n",
      "    34    -6.226154e+01     5.296559e-04\n",
      " * time: 18.49806809425354\n",
      "    35    -6.226160e+01     3.870519e-04\n",
      " * time: 18.980391025543213\n",
      "    36    -6.226163e+01     2.220829e-04\n",
      " * time: 19.471745014190674\n",
      "    37    -6.226165e+01     2.251295e-04\n",
      " * time: 19.955111980438232\n",
      "    38    -6.226165e+01     1.471427e-04\n",
      " * time: 20.439342975616455\n",
      "    39    -6.226166e+01     1.233709e-04\n",
      " * time: 20.923391103744507\n",
      "    40    -6.226166e+01     1.128571e-04\n",
      " * time: 21.408025979995728\n",
      "    41    -6.226166e+01     7.581125e-05\n",
      " * time: 21.89951992034912\n",
      "    42    -6.226166e+01     5.077626e-05\n",
      " * time: 22.3819260597229\n",
      "    43    -6.226167e+01     4.461297e-05\n",
      " * time: 22.866924047470093\n",
      "    44    -6.226167e+01     3.957336e-05\n",
      " * time: 23.35482096672058\n",
      "    45    -6.226167e+01     4.169121e-05\n",
      " * time: 23.847129106521606\n",
      "    46    -6.226167e+01     2.082373e-05\n",
      " * time: 24.330199003219604\n",
      "    47    -6.226167e+01     1.589621e-05\n",
      " * time: 24.814645051956177\n",
      "    48    -6.226167e+01     1.182277e-05\n",
      " * time: 25.299575090408325\n",
      "    49    -6.226167e+01     9.169355e-06\n",
      " * time: 25.782829999923706\n",
      "    50    -6.226167e+01     5.600603e-06\n",
      " * time: 26.274297952651978\n",
      "    51    -6.226167e+01     4.449420e-06\n",
      " * time: 26.75719404220581\n",
      "    52    -6.226167e+01     4.582525e-06\n",
      " * time: 27.239893913269043\n",
      "    53    -6.226167e+01     2.978230e-06\n",
      " * time: 27.724101066589355\n"
     ]
    }
   ],
   "cell_type": "code",
   "source": [
    "scfres = direct_minimization(basis, tol=1e-5);"
   ],
   "metadata": {},
   "execution_count": 4
  },
  {
   "outputs": [
    {
     "output_type": "execute_result",
     "data": {
      "text/plain": "Energy breakdown (in Ha):\n    Kinetic             25.7671073\n    AtomicLocal         -18.8557668\n    AtomicNonlocal      14.8522629\n    Ewald               -67.1831486\n    PspCorrection       -2.3569765\n    Hartree             4.8485374 \n    Xc                  -19.3336822\n\n    total               -62.261666456831"
     },
     "metadata": {},
     "execution_count": 5
    }
   ],
   "cell_type": "code",
   "source": [
    "scfres.energies"
   ],
   "metadata": {},
   "execution_count": 5
  }
 ],
 "nbformat_minor": 3,
 "metadata": {
  "language_info": {
   "file_extension": ".jl",
   "mimetype": "application/julia",
   "name": "julia",
   "version": "1.7.1"
  },
  "kernelspec": {
   "name": "julia-1.7",
   "display_name": "Julia 1.7.1",
   "language": "julia"
  }
 },
 "nbformat": 4
}
