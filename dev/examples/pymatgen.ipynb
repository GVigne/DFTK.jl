{
 "cells": [
  {
   "cell_type": "markdown",
   "source": [
    "# Creating supercells with pymatgen\n",
    "\n",
    "The [Pymatgen](https://pymatgen.org/) python library allows to setup\n",
    "solid-state calculations using a flexible set of classes as well as an API\n",
    "to an online data base of structures. Its `Structure` and `Lattice`\n",
    "objects are directly supported by the DFTK `load_atoms` and `load_lattice`\n",
    "functions, such that DFTK may be readily used to run calculation on systems\n",
    "defined in pymatgen. Using the `pymatgen_structure` function a conversion\n",
    "from DFTK to pymatgen structures is also possible. In the following we\n",
    "use this to create a silicon supercell and find its LDA ground state\n",
    "using direct minimisation. To run this example Julia's `PyCall` package\n",
    "needs to be able to find an installation of `pymatgen`."
   ],
   "metadata": {}
  },
  {
   "cell_type": "markdown",
   "source": [
    "First we setup the silicon lattice in DFTK."
   ],
   "metadata": {}
  },
  {
   "outputs": [],
   "cell_type": "code",
   "source": [
    "using DFTK\n",
    "\n",
    "a = 10.263141334305942  # Lattice constant in Bohr\n",
    "lattice = a / 2 .* [[0 1 1.]; [1 0 1.]; [1 1 0.]]\n",
    "Si = ElementPsp(:Si, psp=load_psp(\"hgh/lda/Si-q4\"))\n",
    "atoms = [Si => [ones(3)/8, -ones(3)/8]];"
   ],
   "metadata": {},
   "execution_count": 1
  },
  {
   "cell_type": "markdown",
   "source": [
    "Next we make a `[2, 2, 2]` supercell using pymatgen"
   ],
   "metadata": {}
  },
  {
   "outputs": [
    {
     "name": "stdout",
     "output_type": "stream",
     "text": [
      "┌ Warning: `vendor()` is deprecated, use `BLAS.get_config()` and inspect the output instead\n",
      "│   caller = npyinitialize() at numpy.jl:67\n",
      "└ @ PyCall /home/runner/.julia/packages/PyCall/L0fLP/src/numpy.jl:67\n"
     ]
    }
   ],
   "cell_type": "code",
   "source": [
    "pystruct = pymatgen_structure(lattice, atoms)\n",
    "pystruct.make_supercell([2, 2, 2])\n",
    "lattice = load_lattice(pystruct)\n",
    "atoms = [Si => [s.frac_coords for s in pystruct.sites]];"
   ],
   "metadata": {},
   "execution_count": 2
  },
  {
   "cell_type": "markdown",
   "source": [
    "Setup an LDA model and discretize using\n",
    "a single k-point and a small `Ecut` of 5 Hartree."
   ],
   "metadata": {}
  },
  {
   "outputs": [
    {
     "output_type": "execute_result",
     "data": {
      "text/plain": "PlaneWaveBasis discretization:\n    Ecut                 : 5.0 Ha\n    fft_size             : (32, 32, 32), 32768 total points\n    kgrid type           : Monkhorst-Pack\n    kgrid                : [1, 1, 1]\n    num. irred. kpoints  : 1\n\n    Discretized Model(lda_xc_teter93, 3D):\n        lattice (in Bohr)    : [0         , 10.2631   , 10.2631   ]\n                               [10.2631   , 0         , 10.2631   ]\n                               [10.2631   , 10.2631   , 0         ]\n        unit cell volume     : 2162.1 Bohr³\n    \n        atoms                : Si₁₆\n        atom potentials      : ElementPsp(Si, psp=\"hgh/lda/si-q4\")\n    \n        num. electrons       : 64\n        spin polarization    : none\n        temperature          : 0 Ha\n    \n        terms                : Kinetic()\n                               AtomicLocal()\n                               AtomicNonlocal()\n                               Ewald()\n                               PspCorrection()\n                               Hartree()\n                               Xc(:lda_xc_teter93)"
     },
     "metadata": {},
     "execution_count": 3
    }
   ],
   "cell_type": "code",
   "source": [
    "model = model_LDA(lattice, atoms)\n",
    "basis = PlaneWaveBasis(model; Ecut=5, kgrid=(1, 1, 1))"
   ],
   "metadata": {},
   "execution_count": 3
  },
  {
   "cell_type": "markdown",
   "source": [
    "Find the ground state using direct minimisation (always using SCF is boring ...)"
   ],
   "metadata": {}
  },
  {
   "outputs": [
    {
     "name": "stdout",
     "output_type": "stream",
     "text": [
      "Iter     Function value   Gradient norm \n",
      "     0     1.127006e+02     1.401050e+00\n",
      " * time: 0.4835391044616699\n",
      "     1     1.052382e+01     8.782966e-01\n",
      " * time: 1.2294049263000488\n",
      "     2    -1.219342e+01     9.209033e-01\n",
      " * time: 1.3055579662322998\n",
      "     3    -3.419159e+01     6.887665e-01\n",
      " * time: 1.4442319869995117\n",
      "     4    -4.783090e+01     5.044450e-01\n",
      " * time: 1.5300559997558594\n",
      "     5    -5.703266e+01     1.986189e-01\n",
      " * time: 1.6152000427246094\n",
      "     6    -5.983265e+01     1.239731e-01\n",
      " * time: 1.6911990642547607\n",
      "     7    -6.090405e+01     4.694786e-02\n",
      " * time: 1.7698569297790527\n",
      "     8    -6.133768e+01     6.186128e-02\n",
      " * time: 1.8525550365447998\n",
      "     9    -6.162657e+01     3.956730e-02\n",
      " * time: 1.9171760082244873\n",
      "    10    -6.183780e+01     2.716893e-02\n",
      " * time: 1.9805231094360352\n",
      "    11    -6.198354e+01     1.664752e-02\n",
      " * time: 2.043645143508911\n",
      "    12    -6.204665e+01     1.525308e-02\n",
      " * time: 2.1072211265563965\n",
      "    13    -6.211260e+01     1.159852e-02\n",
      " * time: 2.185606002807617\n",
      "    14    -6.214713e+01     1.256992e-02\n",
      " * time: 2.247291088104248\n",
      "    15    -6.217983e+01     9.362765e-03\n",
      " * time: 2.308742046356201\n",
      "    16    -6.220017e+01     1.026332e-02\n",
      " * time: 2.370872974395752\n",
      "    17    -6.221566e+01     6.413304e-03\n",
      " * time: 2.435986042022705\n",
      "    18    -6.222576e+01     5.900943e-03\n",
      " * time: 2.5071470737457275\n",
      "    19    -6.223277e+01     4.618039e-03\n",
      " * time: 2.5699679851531982\n",
      "    20    -6.223875e+01     4.387156e-03\n",
      " * time: 2.6313271522521973\n",
      "    21    -6.224448e+01     4.941718e-03\n",
      " * time: 2.695647954940796\n",
      "    22    -6.224981e+01     4.724810e-03\n",
      " * time: 2.762545108795166\n",
      "    23    -6.225425e+01     4.195640e-03\n",
      " * time: 2.843269109725952\n",
      "    24    -6.225749e+01     2.709349e-03\n",
      " * time: 2.907444953918457\n",
      "    25    -6.225938e+01     2.183496e-03\n",
      " * time: 2.9708809852600098\n",
      "    26    -6.226034e+01     1.606691e-03\n",
      " * time: 3.036555051803589\n",
      "    27    -6.226087e+01     1.270996e-03\n",
      " * time: 3.10208797454834\n",
      "    28    -6.226115e+01     9.284839e-04\n",
      " * time: 3.175652027130127\n",
      "    29    -6.226132e+01     7.641884e-04\n",
      " * time: 3.240739107131958\n",
      "    30    -6.226143e+01     7.621627e-04\n",
      " * time: 3.305056095123291\n",
      "    31    -6.226151e+01     5.534036e-04\n",
      " * time: 3.3710789680480957\n",
      "    32    -6.226157e+01     4.160150e-04\n",
      " * time: 3.4381721019744873\n",
      "    33    -6.226161e+01     3.423653e-04\n",
      " * time: 3.511003017425537\n",
      "    34    -6.226164e+01     2.489663e-04\n",
      " * time: 3.5768110752105713\n",
      "    35    -6.226165e+01     1.723084e-04\n",
      " * time: 3.639630079269409\n",
      "    36    -6.226166e+01     1.556473e-04\n",
      " * time: 3.7030370235443115\n",
      "    37    -6.226166e+01     1.142264e-04\n",
      " * time: 3.7679951190948486\n",
      "    38    -6.226166e+01     8.382522e-05\n",
      " * time: 3.840785026550293\n",
      "    39    -6.226166e+01     6.359035e-05\n",
      " * time: 3.903313159942627\n",
      "    40    -6.226167e+01     4.867192e-05\n",
      " * time: 3.9658830165863037\n",
      "    41    -6.226167e+01     3.522613e-05\n",
      " * time: 4.030332088470459\n",
      "    42    -6.226167e+01     3.215671e-05\n",
      " * time: 4.098022937774658\n",
      "    43    -6.226167e+01     2.383998e-05\n",
      " * time: 4.166940927505493\n",
      "    44    -6.226167e+01     2.060845e-05\n",
      " * time: 4.241343021392822\n",
      "    45    -6.226167e+01     1.641553e-05\n",
      " * time: 4.305729150772095\n",
      "    46    -6.226167e+01     1.147823e-05\n",
      " * time: 4.368638038635254\n",
      "    47    -6.226167e+01     8.331967e-06\n",
      " * time: 4.432425022125244\n",
      "    48    -6.226167e+01     4.962735e-06\n",
      " * time: 4.497229099273682\n",
      "    49    -6.226167e+01     3.229652e-06\n",
      " * time: 4.567554950714111\n",
      "    50    -6.226167e+01     2.840074e-06\n",
      " * time: 4.631041049957275\n"
     ]
    }
   ],
   "cell_type": "code",
   "source": [
    "scfres = direct_minimization(basis, tol=1e-5);"
   ],
   "metadata": {},
   "execution_count": 4
  },
  {
   "outputs": [
    {
     "output_type": "execute_result",
     "data": {
      "text/plain": "Energy breakdown (in Ha):\n    Kinetic             25.7671065\n    AtomicLocal         -18.8557664\n    AtomicNonlocal      14.8522637\n    Ewald               -67.1831486\n    PspCorrection       -2.3569765\n    Hartree             4.8485367 \n    Xc                  -19.3336818\n\n    total               -62.261666460318"
     },
     "metadata": {},
     "execution_count": 5
    }
   ],
   "cell_type": "code",
   "source": [
    "scfres.energies"
   ],
   "metadata": {},
   "execution_count": 5
  }
 ],
 "nbformat_minor": 3,
 "metadata": {
  "language_info": {
   "file_extension": ".jl",
   "mimetype": "application/julia",
   "name": "julia",
   "version": "1.7.2"
  },
  "kernelspec": {
   "name": "julia-1.7",
   "display_name": "Julia 1.7.2",
   "language": "julia"
  }
 },
 "nbformat": 4
}
