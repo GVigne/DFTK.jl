{
 "cells": [
  {
   "cell_type": "markdown",
   "source": [
    "# Creating supercells with pymatgen\n",
    "\n",
    "The [Pymatgen](https://pymatgen.org/) python library allows to setup\n",
    "solid-state calculations using a flexible set of classes as well as an API\n",
    "to an online data base of structures. Its `Structure` and `Lattice`\n",
    "objects are directly supported by the DFTK `load_atoms` and `load_lattice`\n",
    "functions, such that DFTK may be readily used to run calculation on systems\n",
    "defined in pymatgen. Using the `pymatgen_structure` function a conversion\n",
    "from DFTK to pymatgen structures is also possible. In the following we\n",
    "use this to create a silicon supercell and find its LDA ground state\n",
    "using direct minimisation. To run this example Julia's `PyCall` package\n",
    "needs to be able to find an installation of `pymatgen`."
   ],
   "metadata": {}
  },
  {
   "cell_type": "markdown",
   "source": [
    "First we setup the silicon lattice in DFTK."
   ],
   "metadata": {}
  },
  {
   "outputs": [],
   "cell_type": "code",
   "source": [
    "using DFTK\n",
    "\n",
    "a = 10.263141334305942  # Lattice constant in Bohr\n",
    "lattice = a / 2 .* [[0 1 1.]; [1 0 1.]; [1 1 0.]]\n",
    "Si = ElementPsp(:Si, psp=load_psp(\"hgh/lda/Si-q4\"))\n",
    "atoms = [Si => [ones(3)/8, -ones(3)/8]];"
   ],
   "metadata": {},
   "execution_count": 1
  },
  {
   "cell_type": "markdown",
   "source": [
    "Next we make a `[2, 2, 2]` supercell using pymatgen"
   ],
   "metadata": {}
  },
  {
   "outputs": [
    {
     "name": "stdout",
     "output_type": "stream",
     "text": [
      "┌ Warning: `vendor()` is deprecated, use `BLAS.get_config()` and inspect the output instead\n",
      "│   caller = npyinitialize() at numpy.jl:67\n",
      "└ @ PyCall /home/runner/.julia/packages/PyCall/L0fLP/src/numpy.jl:67\n"
     ]
    }
   ],
   "cell_type": "code",
   "source": [
    "pystruct = pymatgen_structure(lattice, atoms)\n",
    "pystruct.make_supercell([2, 2, 2])\n",
    "lattice = load_lattice(pystruct)\n",
    "atoms = [Si => [s.frac_coords for s in pystruct.sites]];"
   ],
   "metadata": {},
   "execution_count": 2
  },
  {
   "cell_type": "markdown",
   "source": [
    "Setup an LDA model and discretize using\n",
    "a single k-point and a small `Ecut` of 5 Hartree."
   ],
   "metadata": {}
  },
  {
   "outputs": [
    {
     "output_type": "execute_result",
     "data": {
      "text/plain": "PlaneWaveBasis discretization:\n    Ecut                 : 5.0 Ha\n    fft_size             : (32, 32, 32)\n    kgrid type           : Monkhorst-Pack\n    kgrid                : [1, 1, 1]\n    num. irred. kpoints  : 1\n\n    Discretized Model(lda_xc_teter93, 3D):\n        lattice (in Bohr)    : [0         , 10.2631   , 10.2631   ]\n                               [10.2631   , 0         , 10.2631   ]\n                               [10.2631   , 10.2631   , 0         ]\n        unit cell volume     : 2162.1 Bohr³\n    \n        atoms                : Si₁₆\n        atom potentials      : ElementPsp(Si, psp=\"hgh/lda/si-q4\")\n    \n        num. electrons       : 64\n        spin polarization    : none\n        temperature          : 0 Ha\n    \n        terms                : Kinetic()\n                               AtomicLocal()\n                               AtomicNonlocal()\n                               Ewald()\n                               PspCorrection()\n                               Hartree()\n                               Xc(:lda_xc_teter93)"
     },
     "metadata": {},
     "execution_count": 3
    }
   ],
   "cell_type": "code",
   "source": [
    "model = model_LDA(lattice, atoms)\n",
    "basis = PlaneWaveBasis(model; Ecut=5, kgrid=(1, 1, 1))"
   ],
   "metadata": {},
   "execution_count": 3
  },
  {
   "cell_type": "markdown",
   "source": [
    "Find the ground state using direct minimisation (always using SCF is boring ...)"
   ],
   "metadata": {}
  },
  {
   "outputs": [
    {
     "name": "stdout",
     "output_type": "stream",
     "text": [
      "Iter     Function value   Gradient norm \n",
      "     0     1.121233e+02     1.484956e+00\n",
      " * time: 0.8002669811248779\n",
      "     1     1.031812e+01     7.958426e-01\n",
      " * time: 2.2065999507904053\n",
      "     2    -1.221804e+01     9.592555e-01\n",
      " * time: 2.9066319465637207\n",
      "     3    -3.460875e+01     7.019595e-01\n",
      " * time: 3.9215869903564453\n",
      "     4    -4.797684e+01     5.711330e-01\n",
      " * time: 4.9702019691467285\n",
      "     5    -5.701119e+01     2.191472e-01\n",
      " * time: 5.954797029495239\n",
      "     6    -5.972144e+01     1.971720e-01\n",
      " * time: 6.615785837173462\n",
      "     7    -6.087288e+01     6.968474e-02\n",
      " * time: 7.319634914398193\n",
      "     8    -6.139612e+01     3.712148e-02\n",
      " * time: 8.004385948181152\n",
      "     9    -6.171951e+01     3.040361e-02\n",
      " * time: 8.670706033706665\n",
      "    10    -6.190830e+01     2.398944e-02\n",
      " * time: 9.356279850006104\n",
      "    11    -6.202859e+01     2.074101e-02\n",
      " * time: 10.02497386932373\n",
      "    12    -6.209744e+01     1.677366e-02\n",
      " * time: 10.692651987075806\n",
      "    13    -6.214311e+01     1.233604e-02\n",
      " * time: 11.392343997955322\n",
      "    14    -6.217216e+01     9.240457e-03\n",
      " * time: 12.074609994888306\n",
      "    15    -6.218660e+01     7.320914e-03\n",
      " * time: 12.742564916610718\n",
      "    16    -6.219606e+01     5.222069e-03\n",
      " * time: 13.42327880859375\n",
      "    17    -6.220232e+01     4.709218e-03\n",
      " * time: 14.113497972488403\n",
      "    18    -6.220671e+01     5.005088e-03\n",
      " * time: 14.79158902168274\n",
      "    19    -6.221008e+01     4.705982e-03\n",
      " * time: 15.4808030128479\n",
      "    20    -6.221266e+01     5.098794e-03\n",
      " * time: 16.203858852386475\n",
      "    21    -6.221515e+01     4.834371e-03\n",
      " * time: 16.871761798858643\n",
      "    22    -6.221803e+01     4.840669e-03\n",
      " * time: 17.550580978393555\n",
      "    23    -6.222129e+01     5.739958e-03\n",
      " * time: 18.217664003372192\n",
      "    24    -6.222538e+01     5.285729e-03\n",
      " * time: 18.890455961227417\n",
      "    25    -6.223060e+01     5.460394e-03\n",
      " * time: 19.557601928710938\n",
      "    26    -6.223655e+01     6.452507e-03\n",
      " * time: 20.27300190925598\n",
      "    27    -6.224350e+01     5.912453e-03\n",
      " * time: 20.964653968811035\n",
      "    28    -6.224891e+01     5.329979e-03\n",
      " * time: 21.64830493927002\n",
      "    29    -6.225306e+01     4.579807e-03\n",
      " * time: 22.31026291847229\n",
      "    30    -6.225638e+01     3.251352e-03\n",
      " * time: 23.0169780254364\n",
      "    31    -6.225866e+01     2.660986e-03\n",
      " * time: 23.695783853530884\n",
      "    32    -6.225996e+01     2.078197e-03\n",
      " * time: 24.368404865264893\n",
      "    33    -6.226069e+01     1.605302e-03\n",
      " * time: 25.036118030548096\n",
      "    34    -6.226112e+01     1.306851e-03\n",
      " * time: 25.71097993850708\n",
      "    35    -6.226138e+01     8.140099e-04\n",
      " * time: 26.388223886489868\n",
      "    36    -6.226152e+01     4.858857e-04\n",
      " * time: 27.066900968551636\n",
      "    37    -6.226158e+01     4.023567e-04\n",
      " * time: 27.774232864379883\n",
      "    38    -6.226161e+01     3.115940e-04\n",
      " * time: 28.46734881401062\n",
      "    39    -6.226163e+01     2.687061e-04\n",
      " * time: 29.142125844955444\n",
      "    40    -6.226164e+01     1.816620e-04\n",
      " * time: 29.81597399711609\n",
      "    41    -6.226165e+01     1.465483e-04\n",
      " * time: 30.483510971069336\n",
      "    42    -6.226165e+01     1.519001e-04\n",
      " * time: 31.140028953552246\n",
      "    43    -6.226166e+01     1.161835e-04\n",
      " * time: 31.81501793861389\n",
      "    44    -6.226166e+01     8.892724e-05\n",
      " * time: 32.52498197555542\n",
      "    45    -6.226166e+01     6.346919e-05\n",
      " * time: 33.194190979003906\n",
      "    46    -6.226167e+01     4.657335e-05\n",
      " * time: 33.88811898231506\n",
      "    47    -6.226167e+01     3.117218e-05\n",
      " * time: 34.57644987106323\n",
      "    48    -6.226167e+01     2.273701e-05\n",
      " * time: 35.25362181663513\n",
      "    49    -6.226167e+01     2.324216e-05\n",
      " * time: 35.91840386390686\n",
      "    50    -6.226167e+01     1.609035e-05\n",
      " * time: 36.59697389602661\n",
      "    51    -6.226167e+01     1.302586e-05\n",
      " * time: 37.268364906311035\n",
      "    52    -6.226167e+01     1.082232e-05\n",
      " * time: 37.954073905944824\n",
      "    53    -6.226167e+01     8.522199e-06\n",
      " * time: 38.643637895584106\n",
      "    54    -6.226167e+01     6.805663e-06\n",
      " * time: 39.33011293411255\n",
      "    55    -6.226167e+01     5.078349e-06\n",
      " * time: 40.0192289352417\n",
      "    56    -6.226167e+01     5.189215e-06\n",
      " * time: 40.69273495674133\n",
      "    57    -6.226167e+01     3.031108e-06\n",
      " * time: 41.37444090843201\n",
      "    58    -6.226167e+01     2.160744e-06\n",
      " * time: 42.04490089416504\n"
     ]
    }
   ],
   "cell_type": "code",
   "source": [
    "scfres = direct_minimization(basis, tol=1e-5);"
   ],
   "metadata": {},
   "execution_count": 4
  },
  {
   "outputs": [
    {
     "output_type": "execute_result",
     "data": {
      "text/plain": "Energy breakdown (in Ha):\n    Kinetic             25.7671062\n    AtomicLocal         -18.8557697\n    AtomicNonlocal      14.8522671\n    Ewald               -67.1831486\n    PspCorrection       -2.3569765\n    Hartree             4.8485369 \n    Xc                  -19.3336819\n\n    total               -62.261666461558"
     },
     "metadata": {},
     "execution_count": 5
    }
   ],
   "cell_type": "code",
   "source": [
    "scfres.energies"
   ],
   "metadata": {},
   "execution_count": 5
  }
 ],
 "nbformat_minor": 3,
 "metadata": {
  "language_info": {
   "file_extension": ".jl",
   "mimetype": "application/julia",
   "name": "julia",
   "version": "1.7.1"
  },
  "kernelspec": {
   "name": "julia-1.7",
   "display_name": "Julia 1.7.1",
   "language": "julia"
  }
 },
 "nbformat": 4
}
