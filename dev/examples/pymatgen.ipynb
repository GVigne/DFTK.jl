{
 "cells": [
  {
   "cell_type": "markdown",
   "source": [
    "# Creating supercells with pymatgen\n",
    "\n",
    "The [Pymatgen](https://pymatgen.org/) python library allows to setup\n",
    "solid-state calculations using a flexible set of classes as well as an API\n",
    "to an online data base of structures. Its `Structure` and `Lattice`\n",
    "objects are directly supported by the DFTK `load_atoms` and `load_lattice`\n",
    "functions, such that DFTK may be readily used to run calculation on systems\n",
    "defined in pymatgen. Using the `pymatgen_structure` function a conversion\n",
    "from DFTK to pymatgen structures is also possible. In the following we\n",
    "use this to create a silicon supercell and find its LDA ground state\n",
    "using direct minimisation."
   ],
   "metadata": {}
  },
  {
   "cell_type": "markdown",
   "source": [
    "First we setup the silicon lattice in DFTK."
   ],
   "metadata": {}
  },
  {
   "outputs": [],
   "cell_type": "code",
   "source": [
    "using DFTK\n",
    "\n",
    "a = 10.263141334305942  # Lattice constant in Bohr\n",
    "lattice = a / 2 .* [[0 1 1.]; [1 0 1.]; [1 1 0.]]\n",
    "Si = ElementPsp(:Si, psp=load_psp(\"hgh/lda/Si-q4\"))\n",
    "atoms = [Si => [ones(3)/8, -ones(3)/8]];"
   ],
   "metadata": {},
   "execution_count": 1
  },
  {
   "cell_type": "markdown",
   "source": [
    "Next we make a `[2, 2, 2]` supercell using pymatgen"
   ],
   "metadata": {}
  },
  {
   "outputs": [],
   "cell_type": "code",
   "source": [
    "pystruct = pymatgen_structure(lattice, atoms)\n",
    "pystruct.make_supercell([2, 2, 2])\n",
    "lattice = load_lattice(pystruct)\n",
    "atoms = [Si => [s.frac_coords for s in pystruct.sites]];"
   ],
   "metadata": {},
   "execution_count": 2
  },
  {
   "cell_type": "markdown",
   "source": [
    "Setup an LDA model and discretize using\n",
    "a single k-point and a small `Ecut` of 5 Hartree."
   ],
   "metadata": {}
  },
  {
   "outputs": [
    {
     "output_type": "execute_result",
     "data": {
      "text/plain": "PlaneWaveBasis discretization:\n    Ecut                 : 5.0 Ha\n    fft_size             : (32, 32, 32)\n    kgrid type           : Monkhorst-Pack\n    kgrid                : [1, 1, 1]\n    num. irred. kpoints  : 1\n\n    Discretized Model(lda_xc_teter93, 3D):\n        lattice (in Bohr)    : [0         , 10.2631   , 10.2631   ]\n                               [10.2631   , 0         , 10.2631   ]\n                               [10.2631   , 10.2631   , 0         ]\n        unit cell volume     : 2162.1 Bohr³\n    \n        atoms                : Si₁₆\n        atom potentials      : ElementPsp(Si, psp=hgh/lda/si-q4)\n    \n        num. electrons       : 64\n        spin polarization    : none\n        temperature          : 0 Ha\n    \n        terms                : Kinetic(1)\n                               AtomicLocal()\n                               AtomicNonlocal()\n                               Ewald()\n                               PspCorrection()\n                               Hartree(1)\n                               Xc([:lda_xc_teter93], 1, nothing)"
     },
     "metadata": {},
     "execution_count": 3
    }
   ],
   "cell_type": "code",
   "source": [
    "model = model_LDA(lattice, atoms)\n",
    "basis = PlaneWaveBasis(model; Ecut=5, kgrid=(1, 1, 1))"
   ],
   "metadata": {},
   "execution_count": 3
  },
  {
   "cell_type": "markdown",
   "source": [
    "Find the ground state using direct minimisation (always using SCF is boring ...)"
   ],
   "metadata": {}
  },
  {
   "outputs": [
    {
     "name": "stdout",
     "output_type": "stream",
     "text": [
      "Iter     Function value   Gradient norm \n",
      "     0     1.125357e+02     1.611387e+00\n",
      " * time: 0.7429399490356445\n",
      "     1     1.094486e+01     9.075695e-01\n",
      " * time: 2.1148128509521484\n",
      "     2    -1.085422e+01     1.069791e+00\n",
      " * time: 2.777911901473999\n",
      "     3    -3.366967e+01     8.214980e-01\n",
      " * time: 3.7973439693450928\n",
      "     4    -4.709107e+01     5.911101e-01\n",
      " * time: 4.772605895996094\n",
      "     5    -5.660173e+01     2.024942e-01\n",
      " * time: 5.756419897079468\n",
      "     6    -5.958791e+01     1.532272e-01\n",
      " * time: 6.444835901260376\n",
      "     7    -6.080563e+01     5.564726e-02\n",
      " * time: 7.124085903167725\n",
      "     8    -6.131360e+01     4.138753e-02\n",
      " * time: 7.7837889194488525\n",
      "     9    -6.159644e+01     5.025457e-02\n",
      " * time: 8.439301013946533\n",
      "    10    -6.180308e+01     2.824506e-02\n",
      " * time: 9.105658054351807\n",
      "    11    -6.195093e+01     2.425895e-02\n",
      " * time: 9.77595591545105\n",
      "    12    -6.203983e+01     1.966861e-02\n",
      " * time: 10.425843000411987\n",
      "    13    -6.209309e+01     1.618346e-02\n",
      " * time: 11.07384204864502\n",
      "    14    -6.214505e+01     1.284011e-02\n",
      " * time: 11.734948873519897\n",
      "    15    -6.217548e+01     1.170119e-02\n",
      " * time: 12.389514923095703\n",
      "    16    -6.219976e+01     1.079607e-02\n",
      " * time: 13.040977001190186\n",
      "    17    -6.221478e+01     9.037169e-03\n",
      " * time: 13.727885961532593\n",
      "    18    -6.222568e+01     6.184415e-03\n",
      " * time: 14.37703800201416\n",
      "    19    -6.223316e+01     5.880524e-03\n",
      " * time: 15.07330584526062\n",
      "    20    -6.223958e+01     5.708190e-03\n",
      " * time: 15.749491930007935\n",
      "    21    -6.224582e+01     5.534310e-03\n",
      " * time: 16.404288053512573\n",
      "    22    -6.225135e+01     4.786275e-03\n",
      " * time: 17.062588930130005\n",
      "    23    -6.225557e+01     4.199380e-03\n",
      " * time: 17.71916389465332\n",
      "    24    -6.225836e+01     2.851111e-03\n",
      " * time: 18.382259845733643\n",
      "    25    -6.225999e+01     2.040277e-03\n",
      " * time: 19.04876685142517\n",
      "    26    -6.226080e+01     1.423692e-03\n",
      " * time: 19.74079394340515\n",
      "    27    -6.226116e+01     1.045254e-03\n",
      " * time: 20.397685050964355\n",
      "    28    -6.226135e+01     6.762044e-04\n",
      " * time: 21.05656099319458\n",
      "    29    -6.226146e+01     5.956418e-04\n",
      " * time: 21.7149498462677\n",
      "    30    -6.226152e+01     5.828901e-04\n",
      " * time: 22.381593942642212\n",
      "    31    -6.226157e+01     4.355471e-04\n",
      " * time: 23.032269954681396\n",
      "    32    -6.226160e+01     3.188073e-04\n",
      " * time: 23.670163869857788\n",
      "    33    -6.226162e+01     2.828596e-04\n",
      " * time: 24.321226835250854\n",
      "    34    -6.226164e+01     2.057098e-04\n",
      " * time: 24.966688871383667\n",
      "    35    -6.226165e+01     1.746808e-04\n",
      " * time: 25.628735065460205\n",
      "    36    -6.226166e+01     1.054104e-04\n",
      " * time: 26.27290987968445\n",
      "    37    -6.226166e+01     1.054769e-04\n",
      " * time: 26.924113988876343\n",
      "    38    -6.226166e+01     5.370876e-05\n",
      " * time: 27.564745903015137\n",
      "    39    -6.226167e+01     4.373653e-05\n",
      " * time: 28.20873999595642\n",
      "    40    -6.226167e+01     3.820954e-05\n",
      " * time: 28.84786295890808\n",
      "    41    -6.226167e+01     3.081184e-05\n",
      " * time: 29.4952609539032\n",
      "    42    -6.226167e+01     2.595394e-05\n",
      " * time: 30.13695192337036\n",
      "    43    -6.226167e+01     2.004319e-05\n",
      " * time: 30.77842903137207\n",
      "    44    -6.226167e+01     2.029388e-05\n",
      " * time: 31.4220609664917\n",
      "    45    -6.226167e+01     1.532967e-05\n",
      " * time: 32.07221603393555\n",
      "    46    -6.226167e+01     1.001945e-05\n",
      " * time: 32.71412205696106\n",
      "    47    -6.226167e+01     6.210556e-06\n",
      " * time: 33.39948105812073\n",
      "    48    -6.226167e+01     4.984587e-06\n",
      " * time: 34.043272972106934\n",
      "    49    -6.226167e+01     2.810797e-06\n",
      " * time: 34.68631100654602\n",
      "    50    -6.226167e+01     2.164806e-06\n",
      " * time: 35.33576583862305\n"
     ]
    }
   ],
   "cell_type": "code",
   "source": [
    "scfres = direct_minimization(basis, tol=1e-5);"
   ],
   "metadata": {},
   "execution_count": 4
  },
  {
   "outputs": [
    {
     "output_type": "execute_result",
     "data": {
      "text/plain": "Energy breakdown (in Ha):\n    Kinetic             25.7671063\n    AtomicLocal         -18.8557628\n    AtomicNonlocal      14.8522610\n    Ewald               -67.1831486\n    PspCorrection       -2.3569765\n    Hartree             4.8485357 \n    Xc                  -19.3336815\n\n    total               -62.261666461556"
     },
     "metadata": {},
     "execution_count": 5
    }
   ],
   "cell_type": "code",
   "source": [
    "scfres.energies"
   ],
   "metadata": {},
   "execution_count": 5
  }
 ],
 "nbformat_minor": 3,
 "metadata": {
  "language_info": {
   "file_extension": ".jl",
   "mimetype": "application/julia",
   "name": "julia",
   "version": "1.6.3"
  },
  "kernelspec": {
   "name": "julia-1.6",
   "display_name": "Julia 1.6.3",
   "language": "julia"
  }
 },
 "nbformat": 4
}
