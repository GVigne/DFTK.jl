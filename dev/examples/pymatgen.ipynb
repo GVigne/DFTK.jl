{
 "cells": [
  {
   "cell_type": "markdown",
   "source": [
    "# Creating supercells with pymatgen\n",
    "\n",
    "The [Pymatgen](https://pymatgen.org/) python library allows to setup\n",
    "solid-state calculations using a flexible set of classes as well as an API\n",
    "to an online data base of structures. Its `Structure` and `Lattice`\n",
    "objects are directly supported by the DFTK `load_atoms` and `load_lattice`\n",
    "functions, such that DFTK may be readily used to run calculation on systems\n",
    "defined in pymatgen. Using the `pymatgen_structure` function a conversion\n",
    "from DFTK to pymatgen structures is also possible. In the following we\n",
    "use this to create a silicon supercell and find its LDA ground state\n",
    "using direct minimisation."
   ],
   "metadata": {}
  },
  {
   "cell_type": "markdown",
   "source": [
    "First we setup the silicon lattice in DFTK."
   ],
   "metadata": {}
  },
  {
   "outputs": [],
   "cell_type": "code",
   "source": [
    "using DFTK\n",
    "\n",
    "a = 10.263141334305942  # Lattice constant in Bohr\n",
    "lattice = a / 2 .* [[0 1 1.]; [1 0 1.]; [1 1 0.]]\n",
    "Si = ElementPsp(:Si, psp=load_psp(\"hgh/lda/Si-q4\"))\n",
    "atoms = [Si => [ones(3)/8, -ones(3)/8]];"
   ],
   "metadata": {},
   "execution_count": 1
  },
  {
   "cell_type": "markdown",
   "source": [
    "Next we make a `[2, 2, 2]` supercell using pymatgen"
   ],
   "metadata": {}
  },
  {
   "outputs": [],
   "cell_type": "code",
   "source": [
    "pystruct = pymatgen_structure(lattice, atoms)\n",
    "pystruct.make_supercell([2, 2, 2])\n",
    "lattice = load_lattice(pystruct)\n",
    "atoms = [Si => [s.frac_coords for s in pystruct.sites]];"
   ],
   "metadata": {},
   "execution_count": 2
  },
  {
   "cell_type": "markdown",
   "source": [
    "Setup an LDA model and discretize using\n",
    "a single kpoint and a small `Ecut` of 5 Hartree."
   ],
   "metadata": {}
  },
  {
   "outputs": [
    {
     "output_type": "execute_result",
     "data": {
      "text/plain": "PlaneWaveBasis (Ecut=5.0, 1 kpoints)"
     },
     "metadata": {},
     "execution_count": 3
    }
   ],
   "cell_type": "code",
   "source": [
    "model = model_LDA(lattice, atoms)\n",
    "basis = PlaneWaveBasis(model; Ecut=5, kgrid=(1, 1, 1))"
   ],
   "metadata": {},
   "execution_count": 3
  },
  {
   "cell_type": "markdown",
   "source": [
    "Find the ground state using direct minimisation (always using SCF is boring ...)"
   ],
   "metadata": {}
  },
  {
   "outputs": [
    {
     "name": "stdout",
     "output_type": "stream",
     "text": [
      "Iter     Function value   Gradient norm \n",
      "     0     1.117115e+02     1.522678e+00\n",
      " * time: 0.7460339069366455\n",
      "     1     1.004530e+01     8.572593e-01\n",
      " * time: 1.9987897872924805\n",
      "     2    -1.171744e+01     9.688505e-01\n",
      " * time: 2.670334815979004\n",
      "     3    -3.439892e+01     6.916078e-01\n",
      " * time: 3.629138946533203\n",
      "     4    -4.773660e+01     4.689177e-01\n",
      " * time: 4.591064929962158\n",
      "     5    -5.719931e+01     1.871125e-01\n",
      " * time: 5.551507949829102\n",
      "     6    -6.000431e+01     9.365459e-02\n",
      " * time: 6.189083814620972\n",
      "     7    -6.102534e+01     4.870668e-02\n",
      " * time: 6.835834980010986\n",
      "     8    -6.141758e+01     5.989802e-02\n",
      " * time: 7.486119985580444\n",
      "     9    -6.169720e+01     3.405480e-02\n",
      " * time: 8.119480848312378\n",
      "    10    -6.189815e+01     2.668540e-02\n",
      " * time: 8.790104866027832\n",
      "    11    -6.204364e+01     1.671566e-02\n",
      " * time: 9.428384780883789\n",
      "    12    -6.210379e+01     1.498495e-02\n",
      " * time: 10.07347583770752\n",
      "    13    -6.216531e+01     1.264215e-02\n",
      " * time: 10.711185932159424\n",
      "    14    -6.219161e+01     1.095560e-02\n",
      " * time: 11.378989934921265\n",
      "    15    -6.221395e+01     8.057795e-03\n",
      " * time: 12.016759872436523\n",
      "    16    -6.222521e+01     7.061213e-03\n",
      " * time: 12.68113398551941\n",
      "    17    -6.223402e+01     6.778515e-03\n",
      " * time: 13.316620826721191\n",
      "    18    -6.224049e+01     6.276327e-03\n",
      " * time: 13.982065916061401\n",
      "    19    -6.224523e+01     5.859448e-03\n",
      " * time: 14.619479894638062\n",
      "    20    -6.224966e+01     5.006795e-03\n",
      " * time: 15.283790826797485\n",
      "    21    -6.225363e+01     4.509030e-03\n",
      " * time: 15.921103954315186\n",
      "    22    -6.225698e+01     2.831265e-03\n",
      " * time: 16.55862283706665\n",
      "    23    -6.225926e+01     2.115249e-03\n",
      " * time: 17.195518970489502\n",
      "    24    -6.226042e+01     1.510463e-03\n",
      " * time: 17.86962389945984\n",
      "    25    -6.226098e+01     1.123106e-03\n",
      " * time: 18.506096839904785\n",
      "    26    -6.226125e+01     8.367833e-04\n",
      " * time: 19.143861770629883\n",
      "    27    -6.226139e+01     7.064906e-04\n",
      " * time: 19.78098487854004\n",
      "    28    -6.226148e+01     7.050608e-04\n",
      " * time: 20.42139196395874\n",
      "    29    -6.226154e+01     5.104762e-04\n",
      " * time: 21.058568954467773\n",
      "    30    -6.226158e+01     4.539123e-04\n",
      " * time: 21.69565987586975\n",
      "    31    -6.226161e+01     3.160151e-04\n",
      " * time: 22.333749771118164\n",
      "    32    -6.226163e+01     2.430120e-04\n",
      " * time: 22.97357177734375\n",
      "    33    -6.226165e+01     2.235652e-04\n",
      " * time: 23.641007900238037\n",
      "    34    -6.226166e+01     1.603043e-04\n",
      " * time: 24.280139923095703\n",
      "    35    -6.226166e+01     1.507504e-04\n",
      " * time: 24.91804790496826\n",
      "    36    -6.226166e+01     6.629477e-05\n",
      " * time: 25.564814805984497\n",
      "    37    -6.226167e+01     5.045894e-05\n",
      " * time: 26.200435876846313\n",
      "    38    -6.226167e+01     4.227884e-05\n",
      " * time: 26.842866897583008\n",
      "    39    -6.226167e+01     3.370941e-05\n",
      " * time: 27.520206928253174\n",
      "    40    -6.226167e+01     3.002374e-05\n",
      " * time: 28.17410397529602\n",
      "    41    -6.226167e+01     2.961221e-05\n",
      " * time: 28.812139987945557\n",
      "    42    -6.226167e+01     2.413928e-05\n",
      " * time: 29.457443952560425\n",
      "    43    -6.226167e+01     2.121886e-05\n",
      " * time: 30.096839904785156\n",
      "    44    -6.226167e+01     1.437206e-05\n",
      " * time: 30.7417049407959\n",
      "    45    -6.226167e+01     1.019674e-05\n",
      " * time: 31.37484097480774\n",
      "    46    -6.226167e+01     7.069856e-06\n",
      " * time: 32.02050185203552\n",
      "    47    -6.226167e+01     4.349241e-06\n",
      " * time: 32.65876793861389\n",
      "    48    -6.226167e+01     3.705540e-06\n",
      " * time: 33.30303692817688\n",
      "    49    -6.226167e+01     2.178381e-06\n",
      " * time: 33.9404399394989\n"
     ]
    }
   ],
   "cell_type": "code",
   "source": [
    "scfres = direct_minimization(basis, tol=1e-5);"
   ],
   "metadata": {},
   "execution_count": 4
  },
  {
   "outputs": [
    {
     "output_type": "execute_result",
     "data": {
      "text/plain": "Energy breakdown:\n    Kinetic             25.7671063\n    AtomicLocal         -18.8557700\n    AtomicNonlocal      14.8522672\n    Ewald               -67.1831486\n    PspCorrection       -2.3569765\n    Hartree             4.8485370 \n    Xc                  -19.3336819\n\n    total               -62.261666461198\n"
     },
     "metadata": {},
     "execution_count": 5
    }
   ],
   "cell_type": "code",
   "source": [
    "scfres.energies"
   ],
   "metadata": {},
   "execution_count": 5
  }
 ],
 "nbformat_minor": 3,
 "metadata": {
  "language_info": {
   "file_extension": ".jl",
   "mimetype": "application/julia",
   "name": "julia",
   "version": "1.6.2"
  },
  "kernelspec": {
   "name": "julia-1.6",
   "display_name": "Julia 1.6.2",
   "language": "julia"
  }
 },
 "nbformat": 4
}
