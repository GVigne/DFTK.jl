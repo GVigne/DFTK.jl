{
 "cells": [
  {
   "cell_type": "markdown",
   "source": [
    "# Creating supercells with pymatgen\n",
    "\n",
    "The [Pymatgen](https://pymatgen.org/) python library allows to setup\n",
    "solid-state calculations using a flexible set of classes as well as an API\n",
    "to an online data base of structures. Its `Structure` and `Lattice`\n",
    "objects are directly supported by the DFTK `load_atoms` and `load_lattice`\n",
    "functions, such that DFTK may be readily used to run calculation on systems\n",
    "defined in pymatgen. Using the `pymatgen_structure` function a conversion\n",
    "from DFTK to pymatgen structures is also possible. In the following we\n",
    "use this to create a silicon supercell and find its LDA ground state\n",
    "using direct minimisation. To run this example Julia's `PyCall` package\n",
    "needs to be able to find an installation of `pymatgen`."
   ],
   "metadata": {}
  },
  {
   "cell_type": "markdown",
   "source": [
    "First we setup the silicon lattice in DFTK."
   ],
   "metadata": {}
  },
  {
   "outputs": [],
   "cell_type": "code",
   "source": [
    "using DFTK\n",
    "\n",
    "a = 10.263141334305942  # Lattice constant in Bohr\n",
    "lattice = a / 2 .* [[0 1 1.]; [1 0 1.]; [1 1 0.]]\n",
    "Si = ElementPsp(:Si, psp=load_psp(\"hgh/lda/Si-q4\"))\n",
    "atoms = [Si => [ones(3)/8, -ones(3)/8]];"
   ],
   "metadata": {},
   "execution_count": 1
  },
  {
   "cell_type": "markdown",
   "source": [
    "Next we make a `[2, 2, 2]` supercell using pymatgen"
   ],
   "metadata": {}
  },
  {
   "outputs": [
    {
     "name": "stdout",
     "output_type": "stream",
     "text": [
      "┌ Warning: `vendor()` is deprecated, use `BLAS.get_config()` and inspect the output instead\n",
      "│   caller = npyinitialize() at numpy.jl:67\n",
      "└ @ PyCall /home/runner/.julia/packages/PyCall/L0fLP/src/numpy.jl:67\n"
     ]
    }
   ],
   "cell_type": "code",
   "source": [
    "pystruct = pymatgen_structure(lattice, atoms)\n",
    "pystruct.make_supercell([2, 2, 2])\n",
    "lattice = load_lattice(pystruct)\n",
    "atoms = [Si => [s.frac_coords for s in pystruct.sites]];"
   ],
   "metadata": {},
   "execution_count": 2
  },
  {
   "cell_type": "markdown",
   "source": [
    "Setup an LDA model and discretize using\n",
    "a single k-point and a small `Ecut` of 5 Hartree."
   ],
   "metadata": {}
  },
  {
   "outputs": [
    {
     "output_type": "execute_result",
     "data": {
      "text/plain": "PlaneWaveBasis discretization:\n    Ecut                 : 5.0 Ha\n    fft_size             : (32, 32, 32), 32768 total points\n    kgrid type           : Monkhorst-Pack\n    kgrid                : [1, 1, 1]\n    num. irred. kpoints  : 1\n\n    Discretized Model(lda_xc_teter93, 3D):\n        lattice (in Bohr)    : [0         , 10.2631   , 10.2631   ]\n                               [10.2631   , 0         , 10.2631   ]\n                               [10.2631   , 10.2631   , 0         ]\n        unit cell volume     : 2162.1 Bohr³\n    \n        atoms                : Si₁₆\n        atom potentials      : ElementPsp(Si, psp=\"hgh/lda/si-q4\")\n    \n        num. electrons       : 64\n        spin polarization    : none\n        temperature          : 0 Ha\n    \n        terms                : Kinetic()\n                               AtomicLocal()\n                               AtomicNonlocal()\n                               Ewald()\n                               PspCorrection()\n                               Hartree()\n                               Xc(:lda_xc_teter93)"
     },
     "metadata": {},
     "execution_count": 3
    }
   ],
   "cell_type": "code",
   "source": [
    "model = model_LDA(lattice, atoms)\n",
    "basis = PlaneWaveBasis(model; Ecut=5, kgrid=(1, 1, 1))"
   ],
   "metadata": {},
   "execution_count": 3
  },
  {
   "cell_type": "markdown",
   "source": [
    "Find the ground state using direct minimisation (always using SCF is boring ...)"
   ],
   "metadata": {}
  },
  {
   "outputs": [
    {
     "name": "stdout",
     "output_type": "stream",
     "text": [
      "Iter     Function value   Gradient norm \n",
      "     0     1.125842e+02     1.553465e+00\n",
      " * time: 0.4762899875640869\n",
      "     1     1.189977e+01     9.194672e-01\n",
      " * time: 1.1469368934631348\n",
      "     2    -1.143717e+01     1.103158e+00\n",
      " * time: 1.2140679359436035\n",
      "     3    -3.349613e+01     7.837446e-01\n",
      " * time: 1.3096158504486084\n",
      "     4    -4.733384e+01     5.177468e-01\n",
      " * time: 1.4049098491668701\n",
      "     5    -5.660787e+01     1.850758e-01\n",
      " * time: 1.5060808658599854\n",
      "     6    -5.961684e+01     1.121069e-01\n",
      " * time: 1.5640180110931396\n",
      "     7    -6.080106e+01     4.922414e-02\n",
      " * time: 1.6215238571166992\n",
      "     8    -6.125447e+01     6.446105e-02\n",
      " * time: 1.680351972579956\n",
      "     9    -6.157036e+01     4.066109e-02\n",
      " * time: 1.7380950450897217\n",
      "    10    -6.180849e+01     2.785201e-02\n",
      " * time: 1.8163518905639648\n",
      "    11    -6.198834e+01     2.284644e-02\n",
      " * time: 1.8762099742889404\n",
      "    12    -6.206086e+01     1.901644e-02\n",
      " * time: 1.9356269836425781\n",
      "    13    -6.213305e+01     1.339460e-02\n",
      " * time: 1.9950158596038818\n",
      "    14    -6.216365e+01     1.122357e-02\n",
      " * time: 2.053262948989868\n",
      "    15    -6.219039e+01     8.918603e-03\n",
      " * time: 2.1173899173736572\n",
      "    16    -6.220334e+01     8.491364e-03\n",
      " * time: 2.175433874130249\n",
      "    17    -6.221275e+01     7.352229e-03\n",
      " * time: 2.2351198196411133\n",
      "    18    -6.221980e+01     8.292076e-03\n",
      " * time: 2.2953250408172607\n",
      "    19    -6.222547e+01     6.460516e-03\n",
      " * time: 2.3622069358825684\n",
      "    20    -6.223091e+01     6.115378e-03\n",
      " * time: 2.421488046646118\n",
      "    21    -6.223672e+01     5.151030e-03\n",
      " * time: 2.480867862701416\n",
      "    22    -6.224304e+01     4.399073e-03\n",
      " * time: 2.5397448539733887\n",
      "    23    -6.224916e+01     4.449834e-03\n",
      " * time: 2.5993030071258545\n",
      "    24    -6.225424e+01     3.345631e-03\n",
      " * time: 2.665194034576416\n",
      "    25    -6.225725e+01     2.960843e-03\n",
      " * time: 2.7238929271698\n",
      "    26    -6.225890e+01     2.033505e-03\n",
      " * time: 2.7818198204040527\n",
      "    27    -6.225981e+01     1.656665e-03\n",
      " * time: 2.841601848602295\n",
      "    28    -6.226036e+01     1.592722e-03\n",
      " * time: 2.89876389503479\n",
      "    29    -6.226076e+01     1.255060e-03\n",
      " * time: 2.966125965118408\n",
      "    30    -6.226107e+01     9.331419e-04\n",
      " * time: 3.0237619876861572\n",
      "    31    -6.226130e+01     7.496627e-04\n",
      " * time: 3.081406831741333\n",
      "    32    -6.226145e+01     6.658948e-04\n",
      " * time: 3.140450954437256\n",
      "    33    -6.226155e+01     5.888271e-04\n",
      " * time: 3.1973838806152344\n",
      "    34    -6.226161e+01     3.239605e-04\n",
      " * time: 3.261867046356201\n",
      "    35    -6.226164e+01     2.782769e-04\n",
      " * time: 3.3197360038757324\n",
      "    36    -6.226165e+01     2.462571e-04\n",
      " * time: 3.379884958267212\n",
      "    37    -6.226166e+01     1.289137e-04\n",
      " * time: 3.4362950325012207\n",
      "    38    -6.226166e+01     8.982987e-05\n",
      " * time: 3.4965968132019043\n",
      "    39    -6.226166e+01     7.109711e-05\n",
      " * time: 3.5631258487701416\n",
      "    40    -6.226166e+01     5.311621e-05\n",
      " * time: 3.6230690479278564\n",
      "    41    -6.226167e+01     4.130875e-05\n",
      " * time: 3.683661937713623\n",
      "    42    -6.226167e+01     3.327229e-05\n",
      " * time: 3.7423148155212402\n",
      "    43    -6.226167e+01     2.552220e-05\n",
      " * time: 3.8016810417175293\n",
      "    44    -6.226167e+01     1.991751e-05\n",
      " * time: 3.870621919631958\n",
      "    45    -6.226167e+01     1.486748e-05\n",
      " * time: 3.931324005126953\n",
      "    46    -6.226167e+01     1.248131e-05\n",
      " * time: 3.9890899658203125\n",
      "    47    -6.226167e+01     8.080517e-06\n",
      " * time: 4.048405885696411\n",
      "    48    -6.226167e+01     7.515056e-06\n",
      " * time: 4.1205198764801025\n",
      "    49    -6.226167e+01     4.792721e-06\n",
      " * time: 4.190379858016968\n",
      "    50    -6.226167e+01     3.617910e-06\n",
      " * time: 4.246508836746216\n"
     ]
    }
   ],
   "cell_type": "code",
   "source": [
    "scfres = direct_minimization(basis, tol=1e-5);"
   ],
   "metadata": {},
   "execution_count": 4
  },
  {
   "outputs": [
    {
     "output_type": "execute_result",
     "data": {
      "text/plain": "Energy breakdown (in Ha):\n    Kinetic             25.7671067\n    AtomicLocal         -18.8557574\n    AtomicNonlocal      14.8522555\n    Ewald               -67.1831486\n    PspCorrection       -2.3569765\n    Hartree             4.8485354 \n    Xc                  -19.3336815\n\n    total               -62.261666457516"
     },
     "metadata": {},
     "execution_count": 5
    }
   ],
   "cell_type": "code",
   "source": [
    "scfres.energies"
   ],
   "metadata": {},
   "execution_count": 5
  }
 ],
 "nbformat_minor": 3,
 "metadata": {
  "language_info": {
   "file_extension": ".jl",
   "mimetype": "application/julia",
   "name": "julia",
   "version": "1.7.2"
  },
  "kernelspec": {
   "name": "julia-1.7",
   "display_name": "Julia 1.7.2",
   "language": "julia"
  }
 },
 "nbformat": 4
}
