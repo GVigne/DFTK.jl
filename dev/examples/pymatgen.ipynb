{
 "cells": [
  {
   "cell_type": "markdown",
   "source": [
    "# Creating supercells with pymatgen\n",
    "\n",
    "The [Pymatgen](https://pymatgen.org/) python library allows to setup\n",
    "solid-state calculations using a flexible set of classes as well as an API\n",
    "to an online data base of structures. Its `Structure` and `Lattice`\n",
    "objects are directly supported by the DFTK `load_atoms` and `load_lattice`\n",
    "functions, such that DFTK may be readily used to run calculation on systems\n",
    "defined in pymatgen. Using the `pymatgen_structure` function a conversion\n",
    "from DFTK to pymatgen structures is also possible. In the following we\n",
    "use this to create a silicon supercell and find its LDA ground state\n",
    "using direct minimisation. To run this example Julia's `PyCall` package\n",
    "needs to be able to find an installation of `pymatgen`."
   ],
   "metadata": {}
  },
  {
   "cell_type": "markdown",
   "source": [
    "First we setup the silicon lattice in DFTK."
   ],
   "metadata": {}
  },
  {
   "outputs": [],
   "cell_type": "code",
   "source": [
    "using DFTK\n",
    "\n",
    "a = 10.263141334305942  # Lattice constant in Bohr\n",
    "lattice = a / 2 .* [[0 1 1.]; [1 0 1.]; [1 1 0.]]\n",
    "Si = ElementPsp(:Si, psp=load_psp(\"hgh/lda/Si-q4\"))\n",
    "atoms = [Si => [ones(3)/8, -ones(3)/8]];"
   ],
   "metadata": {},
   "execution_count": 1
  },
  {
   "cell_type": "markdown",
   "source": [
    "Next we make a `[2, 2, 2]` supercell using pymatgen"
   ],
   "metadata": {}
  },
  {
   "outputs": [],
   "cell_type": "code",
   "source": [
    "pystruct = pymatgen_structure(lattice, atoms)\n",
    "pystruct.make_supercell([2, 2, 2])\n",
    "lattice = load_lattice(pystruct)\n",
    "atoms = [Si => [s.frac_coords for s in pystruct.sites]];"
   ],
   "metadata": {},
   "execution_count": 2
  },
  {
   "cell_type": "markdown",
   "source": [
    "Setup an LDA model and discretize using\n",
    "a single k-point and a small `Ecut` of 5 Hartree."
   ],
   "metadata": {}
  },
  {
   "outputs": [
    {
     "output_type": "execute_result",
     "data": {
      "text/plain": "PlaneWaveBasis discretization:\n    Ecut                 : 5.0 Ha\n    fft_size             : (32, 32, 32)\n    kgrid type           : Monkhorst-Pack\n    kgrid                : [1, 1, 1]\n    num. irred. kpoints  : 1\n\n    Discretized Model(lda_xc_teter93, 3D):\n        lattice (in Bohr)    : [0         , 10.2631   , 10.2631   ]\n                               [10.2631   , 0         , 10.2631   ]\n                               [10.2631   , 10.2631   , 0         ]\n        unit cell volume     : 2162.1 Bohr³\n    \n        atoms                : Si₁₆\n        atom potentials      : ElementPsp(Si, psp=hgh/lda/si-q4)\n    \n        num. electrons       : 64\n        spin polarization    : none\n        temperature          : 0 Ha\n    \n        terms                : Kinetic(1)\n                               AtomicLocal()\n                               AtomicNonlocal()\n                               Ewald()\n                               PspCorrection()\n                               Hartree(1)\n                               Xc([:lda_xc_teter93], 1, nothing)"
     },
     "metadata": {},
     "execution_count": 3
    }
   ],
   "cell_type": "code",
   "source": [
    "model = model_LDA(lattice, atoms)\n",
    "basis = PlaneWaveBasis(model; Ecut=5, kgrid=(1, 1, 1))"
   ],
   "metadata": {},
   "execution_count": 3
  },
  {
   "cell_type": "markdown",
   "source": [
    "Find the ground state using direct minimisation (always using SCF is boring ...)"
   ],
   "metadata": {}
  },
  {
   "outputs": [
    {
     "name": "stdout",
     "output_type": "stream",
     "text": [
      "Iter     Function value   Gradient norm \n",
      "     0     1.122757e+02     1.534137e+00\n",
      " * time: 0.6906909942626953\n",
      "     1     1.079185e+01     8.223988e-01\n",
      " * time: 1.8099620342254639\n",
      "     2    -1.163922e+01     9.710986e-01\n",
      " * time: 2.349931001663208\n",
      "     3    -3.399428e+01     7.356696e-01\n",
      " * time: 3.1507718563079834\n",
      "     4    -4.736308e+01     5.161034e-01\n",
      " * time: 3.9686319828033447\n",
      "     5    -5.678540e+01     2.377147e-01\n",
      " * time: 4.754084825515747\n",
      "     6    -5.967306e+01     2.194686e-01\n",
      " * time: 5.2862138748168945\n",
      "     7    -6.087061e+01     9.950532e-02\n",
      " * time: 5.855149030685425\n",
      "     8    -6.139471e+01     3.787637e-02\n",
      " * time: 6.384174823760986\n",
      "     9    -6.168662e+01     3.016970e-02\n",
      " * time: 6.9164628982543945\n",
      "    10    -6.187350e+01     2.602325e-02\n",
      " * time: 7.449159860610962\n",
      "    11    -6.198778e+01     1.938791e-02\n",
      " * time: 7.988375902175903\n",
      "    12    -6.205539e+01     1.514305e-02\n",
      " * time: 8.530345916748047\n",
      "    13    -6.210512e+01     1.240240e-02\n",
      " * time: 9.06149697303772\n",
      "    14    -6.214544e+01     1.424529e-02\n",
      " * time: 9.593466997146606\n",
      "    15    -6.217081e+01     1.333802e-02\n",
      " * time: 10.125754833221436\n",
      "    16    -6.218697e+01     8.712724e-03\n",
      " * time: 10.667165994644165\n",
      "    17    -6.219790e+01     6.481077e-03\n",
      " * time: 11.198730945587158\n",
      "    18    -6.220627e+01     6.116771e-03\n",
      " * time: 11.730021953582764\n",
      "    19    -6.221176e+01     7.039220e-03\n",
      " * time: 12.262410879135132\n",
      "    20    -6.221626e+01     6.284804e-03\n",
      " * time: 12.798565864562988\n",
      "    21    -6.222037e+01     5.716655e-03\n",
      " * time: 13.34111499786377\n",
      "    22    -6.222473e+01     4.801192e-03\n",
      " * time: 13.895161867141724\n",
      "    23    -6.222971e+01     5.431068e-03\n",
      " * time: 14.424181938171387\n",
      "    24    -6.223551e+01     5.864172e-03\n",
      " * time: 14.956417798995972\n",
      "    25    -6.224187e+01     5.827496e-03\n",
      " * time: 15.49548888206482\n",
      "    26    -6.224800e+01     4.787487e-03\n",
      " * time: 16.026503801345825\n",
      "    27    -6.225294e+01     4.471376e-03\n",
      " * time: 16.558223009109497\n",
      "    28    -6.225600e+01     3.009857e-03\n",
      " * time: 17.090035915374756\n",
      "    29    -6.225787e+01     2.790535e-03\n",
      " * time: 17.629052877426147\n",
      "    30    -6.225914e+01     2.423757e-03\n",
      " * time: 18.160754919052124\n",
      "    31    -6.226004e+01     2.171240e-03\n",
      " * time: 18.710291862487793\n",
      "    32    -6.226068e+01     1.551295e-03\n",
      " * time: 19.242746829986572\n",
      "    33    -6.226109e+01     1.103405e-03\n",
      " * time: 19.782214879989624\n",
      "    34    -6.226137e+01     9.340196e-04\n",
      " * time: 20.314028024673462\n",
      "    35    -6.226152e+01     6.706503e-04\n",
      " * time: 20.845865964889526\n",
      "    36    -6.226159e+01     4.430104e-04\n",
      " * time: 21.37791681289673\n",
      "    37    -6.226163e+01     3.948867e-04\n",
      " * time: 21.92587399482727\n",
      "    38    -6.226164e+01     2.912039e-04\n",
      " * time: 22.47545099258423\n",
      "    39    -6.226165e+01     2.428360e-04\n",
      " * time: 23.034181833267212\n",
      "    40    -6.226166e+01     1.380325e-04\n",
      " * time: 23.58821988105774\n",
      "    41    -6.226166e+01     1.060020e-04\n",
      " * time: 24.120057821273804\n",
      "    42    -6.226166e+01     8.689428e-05\n",
      " * time: 24.659541845321655\n",
      "    43    -6.226166e+01     7.988275e-05\n",
      " * time: 25.19061303138733\n",
      "    44    -6.226166e+01     6.468887e-05\n",
      " * time: 25.722508907318115\n",
      "    45    -6.226167e+01     4.026213e-05\n",
      " * time: 26.25545382499695\n",
      "    46    -6.226167e+01     2.884292e-05\n",
      " * time: 26.794328927993774\n",
      "    47    -6.226167e+01     2.161135e-05\n",
      " * time: 27.343143939971924\n",
      "    48    -6.226167e+01     1.411626e-05\n",
      " * time: 27.892030954360962\n",
      "    49    -6.226167e+01     1.447854e-05\n",
      " * time: 28.45796298980713\n",
      "    50    -6.226167e+01     8.917799e-06\n",
      " * time: 28.99761986732483\n",
      "    51    -6.226167e+01     9.106444e-06\n",
      " * time: 29.538761854171753\n",
      "    52    -6.226167e+01     6.097692e-06\n",
      " * time: 30.091027975082397\n",
      "    53    -6.226167e+01     5.172058e-06\n",
      " * time: 30.623369932174683\n",
      "    54    -6.226167e+01     3.918783e-06\n",
      " * time: 31.154095888137817\n",
      "    55    -6.226167e+01     3.179735e-06\n",
      " * time: 31.693074941635132\n",
      "    56    -6.226167e+01     2.665442e-06\n",
      " * time: 32.22394680976868\n",
      "    57    -6.226167e+01     2.004685e-06\n",
      " * time: 32.75461196899414\n"
     ]
    }
   ],
   "cell_type": "code",
   "source": [
    "scfres = direct_minimization(basis, tol=1e-5);"
   ],
   "metadata": {},
   "execution_count": 4
  },
  {
   "outputs": [
    {
     "output_type": "execute_result",
     "data": {
      "text/plain": "Energy breakdown (in Ha):\n    Kinetic             25.7671068\n    AtomicLocal         -18.8557686\n    AtomicNonlocal      14.8522652\n    Ewald               -67.1831486\n    PspCorrection       -2.3569765\n    Hartree             4.8485374 \n    Xc                  -19.3336821\n\n    total               -62.261666461873"
     },
     "metadata": {},
     "execution_count": 5
    }
   ],
   "cell_type": "code",
   "source": [
    "scfres.energies"
   ],
   "metadata": {},
   "execution_count": 5
  }
 ],
 "nbformat_minor": 3,
 "metadata": {
  "language_info": {
   "file_extension": ".jl",
   "mimetype": "application/julia",
   "name": "julia",
   "version": "1.6.3"
  },
  "kernelspec": {
   "name": "julia-1.6",
   "display_name": "Julia 1.6.3",
   "language": "julia"
  }
 },
 "nbformat": 4
}
