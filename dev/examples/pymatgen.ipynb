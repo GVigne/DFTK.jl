{
 "cells": [
  {
   "cell_type": "markdown",
   "source": [
    "# Creating supercells with pymatgen\n",
    "\n",
    "The [Pymatgen](https://pymatgen.org/) python library allows to setup\n",
    "solid-state calculations using a flexible set of classes as well as an API\n",
    "to an online data base of structures. Its `Structure` and `Lattice`\n",
    "objects are directly supported by the DFTK `load_atoms` and `load_lattice`\n",
    "functions, such that DFTK may be readily used to run calculation on systems\n",
    "defined in pymatgen. Using the `pymatgen_structure` function a conversion\n",
    "from DFTK to pymatgen structures is also possible. In the following we\n",
    "use this to create a silicon supercell and find its LDA ground state\n",
    "using direct minimisation. To run this example Julia's `PyCall` package\n",
    "needs to be able to find an installation of `pymatgen`."
   ],
   "metadata": {}
  },
  {
   "cell_type": "markdown",
   "source": [
    "First we setup the silicon lattice in DFTK."
   ],
   "metadata": {}
  },
  {
   "outputs": [],
   "cell_type": "code",
   "source": [
    "using DFTK\n",
    "\n",
    "a = 10.263141334305942  # Lattice constant in Bohr\n",
    "lattice = a / 2 .* [[0 1 1.]; [1 0 1.]; [1 1 0.]]\n",
    "Si = ElementPsp(:Si, psp=load_psp(\"hgh/lda/Si-q4\"))\n",
    "atoms = [Si => [ones(3)/8, -ones(3)/8]];"
   ],
   "metadata": {},
   "execution_count": 1
  },
  {
   "cell_type": "markdown",
   "source": [
    "Next we make a `[2, 2, 2]` supercell using pymatgen"
   ],
   "metadata": {}
  },
  {
   "outputs": [
    {
     "name": "stdout",
     "output_type": "stream",
     "text": [
      "┌ Warning: `vendor()` is deprecated, use `BLAS.get_config()` and inspect the output instead\n",
      "│   caller = npyinitialize() at numpy.jl:67\n",
      "└ @ PyCall /home/runner/.julia/packages/PyCall/L0fLP/src/numpy.jl:67\n"
     ]
    }
   ],
   "cell_type": "code",
   "source": [
    "pystruct = pymatgen_structure(lattice, atoms)\n",
    "pystruct.make_supercell([2, 2, 2])\n",
    "lattice = load_lattice(pystruct)\n",
    "atoms = [Si => [s.frac_coords for s in pystruct.sites]];"
   ],
   "metadata": {},
   "execution_count": 2
  },
  {
   "cell_type": "markdown",
   "source": [
    "Setup an LDA model and discretize using\n",
    "a single k-point and a small `Ecut` of 5 Hartree."
   ],
   "metadata": {}
  },
  {
   "outputs": [
    {
     "output_type": "execute_result",
     "data": {
      "text/plain": "PlaneWaveBasis discretization:\n    Ecut                 : 5.0 Ha\n    fft_size             : (32, 32, 32), 32768 total points\n    kgrid type           : Monkhorst-Pack\n    kgrid                : [1, 1, 1]\n    num. irred. kpoints  : 1\n\n    Discretized Model(lda_xc_teter93, 3D):\n        lattice (in Bohr)    : [0         , 10.2631   , 10.2631   ]\n                               [10.2631   , 0         , 10.2631   ]\n                               [10.2631   , 10.2631   , 0         ]\n        unit cell volume     : 2162.1 Bohr³\n    \n        atoms                : Si₁₆\n        atom potentials      : ElementPsp(Si, psp=\"hgh/lda/si-q4\")\n    \n        num. electrons       : 64\n        spin polarization    : none\n        temperature          : 0 Ha\n    \n        terms                : Kinetic()\n                               AtomicLocal()\n                               AtomicNonlocal()\n                               Ewald()\n                               PspCorrection()\n                               Hartree()\n                               Xc(:lda_xc_teter93)"
     },
     "metadata": {},
     "execution_count": 3
    }
   ],
   "cell_type": "code",
   "source": [
    "model = model_LDA(lattice, atoms)\n",
    "basis = PlaneWaveBasis(model; Ecut=5, kgrid=(1, 1, 1))"
   ],
   "metadata": {},
   "execution_count": 3
  },
  {
   "cell_type": "markdown",
   "source": [
    "Find the ground state using direct minimisation (always using SCF is boring ...)"
   ],
   "metadata": {}
  },
  {
   "outputs": [
    {
     "name": "stdout",
     "output_type": "stream",
     "text": [
      "Iter     Function value   Gradient norm \n",
      "     0     1.115998e+02     1.626585e+00\n",
      " * time: 0.7473390102386475\n",
      "     1     1.092973e+01     8.317787e-01\n",
      " * time: 2.3838138580322266\n",
      "     2    -1.188764e+01     9.747492e-01\n",
      " * time: 2.9743828773498535\n",
      "     3    -3.401248e+01     7.295665e-01\n",
      " * time: 3.8490920066833496\n",
      "     4    -4.752021e+01     5.890651e-01\n",
      " * time: 4.746306896209717\n",
      "     5    -5.685637e+01     2.052221e-01\n",
      " * time: 5.574563026428223\n",
      "     6    -5.970965e+01     1.611998e-01\n",
      " * time: 6.1446428298950195\n",
      "     7    -6.087515e+01     6.190715e-02\n",
      " * time: 6.726143836975098\n",
      "     8    -6.135692e+01     4.452040e-02\n",
      " * time: 7.298379898071289\n",
      "     9    -6.160814e+01     5.025029e-02\n",
      " * time: 7.878394842147827\n",
      "    10    -6.180142e+01     2.896235e-02\n",
      " * time: 8.478790998458862\n",
      "    11    -6.195166e+01     2.283339e-02\n",
      " * time: 9.057917833328247\n",
      "    12    -6.204726e+01     1.576440e-02\n",
      " * time: 9.635327816009521\n",
      "    13    -6.209865e+01     1.237451e-02\n",
      " * time: 10.210279941558838\n",
      "    14    -6.214802e+01     1.269908e-02\n",
      " * time: 10.791955947875977\n",
      "    15    -6.217189e+01     1.237626e-02\n",
      " * time: 11.360895872116089\n",
      "    16    -6.219082e+01     1.180119e-02\n",
      " * time: 11.92637586593628\n",
      "    17    -6.220331e+01     1.126403e-02\n",
      " * time: 12.508266925811768\n",
      "    18    -6.221322e+01     1.066135e-02\n",
      " * time: 13.073160886764526\n",
      "    19    -6.222024e+01     8.120650e-03\n",
      " * time: 13.633827924728394\n",
      "    20    -6.222649e+01     7.712148e-03\n",
      " * time: 14.207319974899292\n",
      "    21    -6.223279e+01     7.613971e-03\n",
      " * time: 14.782296895980835\n",
      "    22    -6.223919e+01     5.432866e-03\n",
      " * time: 15.346071004867554\n",
      "    23    -6.224527e+01     5.770432e-03\n",
      " * time: 15.913824796676636\n",
      "    24    -6.225068e+01     4.790223e-03\n",
      " * time: 16.493757963180542\n",
      "    25    -6.225467e+01     3.949788e-03\n",
      " * time: 17.061561822891235\n",
      "    26    -6.225738e+01     3.206137e-03\n",
      " * time: 17.628742933273315\n",
      "    27    -6.225909e+01     2.504506e-03\n",
      " * time: 18.207088947296143\n",
      "    28    -6.226005e+01     2.036018e-03\n",
      " * time: 18.768667936325073\n",
      "    29    -6.226062e+01     1.457086e-03\n",
      " * time: 19.324311017990112\n",
      "    30    -6.226097e+01     1.112983e-03\n",
      " * time: 19.892427921295166\n",
      "    31    -6.226121e+01     1.128783e-03\n",
      " * time: 20.461843013763428\n",
      "    32    -6.226138e+01     7.963775e-04\n",
      " * time: 21.01884889602661\n",
      "    33    -6.226150e+01     5.828616e-04\n",
      " * time: 21.580883026123047\n",
      "    34    -6.226158e+01     4.267021e-04\n",
      " * time: 22.149240016937256\n",
      "    35    -6.226162e+01     2.805183e-04\n",
      " * time: 22.722466945648193\n",
      "    36    -6.226165e+01     1.909478e-04\n",
      " * time: 23.289888858795166\n",
      "    37    -6.226166e+01     1.588353e-04\n",
      " * time: 23.861008882522583\n",
      "    38    -6.226166e+01     1.445309e-04\n",
      " * time: 24.439114809036255\n",
      "    39    -6.226166e+01     9.660098e-05\n",
      " * time: 25.020594835281372\n",
      "    40    -6.226166e+01     6.595612e-05\n",
      " * time: 25.60545802116394\n",
      "    41    -6.226167e+01     4.941682e-05\n",
      " * time: 26.180675983428955\n",
      "    42    -6.226167e+01     3.452021e-05\n",
      " * time: 26.75749182701111\n",
      "    43    -6.226167e+01     2.776803e-05\n",
      " * time: 27.339828968048096\n",
      "    44    -6.226167e+01     2.355893e-05\n",
      " * time: 27.902429819107056\n",
      "    45    -6.226167e+01     2.210192e-05\n",
      " * time: 28.469664812088013\n",
      "    46    -6.226167e+01     1.689044e-05\n",
      " * time: 29.031224966049194\n",
      "    47    -6.226167e+01     1.370012e-05\n",
      " * time: 29.599910020828247\n",
      "    48    -6.226167e+01     9.816233e-06\n",
      " * time: 30.164685010910034\n",
      "    49    -6.226167e+01     7.329980e-06\n",
      " * time: 30.731794834136963\n",
      "    50    -6.226167e+01     5.042097e-06\n",
      " * time: 31.30325698852539\n",
      "    51    -6.226167e+01     4.477519e-06\n",
      " * time: 31.859987020492554\n",
      "    52    -6.226167e+01     3.565783e-06\n",
      " * time: 32.42820382118225\n"
     ]
    }
   ],
   "cell_type": "code",
   "source": [
    "scfres = direct_minimization(basis, tol=1e-5);"
   ],
   "metadata": {},
   "execution_count": 4
  },
  {
   "outputs": [
    {
     "output_type": "execute_result",
     "data": {
      "text/plain": "Energy breakdown (in Ha):\n    Kinetic             25.7671079\n    AtomicLocal         -18.8557707\n    AtomicNonlocal      14.8522656\n    Ewald               -67.1831486\n    PspCorrection       -2.3569765\n    Hartree             4.8485386 \n    Xc                  -19.3336826\n\n    total               -62.261666458462"
     },
     "metadata": {},
     "execution_count": 5
    }
   ],
   "cell_type": "code",
   "source": [
    "scfres.energies"
   ],
   "metadata": {},
   "execution_count": 5
  }
 ],
 "nbformat_minor": 3,
 "metadata": {
  "language_info": {
   "file_extension": ".jl",
   "mimetype": "application/julia",
   "name": "julia",
   "version": "1.7.2"
  },
  "kernelspec": {
   "name": "julia-1.7",
   "display_name": "Julia 1.7.2",
   "language": "julia"
  }
 },
 "nbformat": 4
}
