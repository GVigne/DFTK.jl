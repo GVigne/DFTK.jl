{
 "cells": [
  {
   "cell_type": "markdown",
   "source": [
    "# Creating supercells with pymatgen\n",
    "\n",
    "The [Pymatgen](https://pymatgen.org/) python library allows to setup\n",
    "solid-state calculations using a flexible set of classes as well as an API\n",
    "to an online data base of structures. Its `Structure` and `Lattice`\n",
    "objects are directly supported by the DFTK `load_atoms` and `load_lattice`\n",
    "functions, such that DFTK may be readily used to run calculation on systems\n",
    "defined in pymatgen. Using the `pymatgen_structure` function a conversion\n",
    "from DFTK to pymatgen structures is also possible. In the following we\n",
    "use this to create a silicon supercell and find its LDA ground state\n",
    "using direct minimisation. To run this example Julia's `PyCall` package\n",
    "needs to be able to find an installation of `pymatgen`."
   ],
   "metadata": {}
  },
  {
   "cell_type": "markdown",
   "source": [
    "First we setup the silicon lattice in DFTK."
   ],
   "metadata": {}
  },
  {
   "outputs": [],
   "cell_type": "code",
   "source": [
    "using DFTK\n",
    "\n",
    "a = 10.263141334305942  # Lattice constant in Bohr\n",
    "lattice = a / 2 .* [[0 1 1.]; [1 0 1.]; [1 1 0.]]\n",
    "Si = ElementPsp(:Si, psp=load_psp(\"hgh/lda/Si-q4\"))\n",
    "atoms = [Si => [ones(3)/8, -ones(3)/8]];"
   ],
   "metadata": {},
   "execution_count": 1
  },
  {
   "cell_type": "markdown",
   "source": [
    "Next we make a `[2, 2, 2]` supercell using pymatgen"
   ],
   "metadata": {}
  },
  {
   "outputs": [
    {
     "name": "stdout",
     "output_type": "stream",
     "text": [
      "┌ Warning: `vendor()` is deprecated, use `BLAS.get_config()` and inspect the output instead\n",
      "│   caller = npyinitialize() at numpy.jl:67\n",
      "└ @ PyCall /home/runner/.julia/packages/PyCall/L0fLP/src/numpy.jl:67\n"
     ]
    }
   ],
   "cell_type": "code",
   "source": [
    "pystruct = pymatgen_structure(lattice, atoms)\n",
    "pystruct.make_supercell([2, 2, 2])\n",
    "lattice = load_lattice(pystruct)\n",
    "atoms = [Si => [s.frac_coords for s in pystruct.sites]];"
   ],
   "metadata": {},
   "execution_count": 2
  },
  {
   "cell_type": "markdown",
   "source": [
    "Setup an LDA model and discretize using\n",
    "a single k-point and a small `Ecut` of 5 Hartree."
   ],
   "metadata": {}
  },
  {
   "outputs": [
    {
     "output_type": "execute_result",
     "data": {
      "text/plain": "PlaneWaveBasis discretization:\n    Ecut                 : 5.0 Ha\n    fft_size             : (32, 32, 32)\n    kgrid type           : Monkhorst-Pack\n    kgrid                : [1, 1, 1]\n    num. irred. kpoints  : 1\n\n    Discretized Model(lda_xc_teter93, 3D):\n        lattice (in Bohr)    : [0         , 10.2631   , 10.2631   ]\n                               [10.2631   , 0         , 10.2631   ]\n                               [10.2631   , 10.2631   , 0         ]\n        unit cell volume     : 2162.1 Bohr³\n    \n        atoms                : Si₁₆\n        atom potentials      : ElementPsp(Si, psp=hgh/lda/si-q4)\n    \n        num. electrons       : 64\n        spin polarization    : none\n        temperature          : 0 Ha\n    \n        terms                : Kinetic()\n                               AtomicLocal()\n                               AtomicNonlocal()\n                               Ewald()\n                               PspCorrection()\n                               Hartree()\n                               Xc(:lda_xc_teter93)"
     },
     "metadata": {},
     "execution_count": 3
    }
   ],
   "cell_type": "code",
   "source": [
    "model = model_LDA(lattice, atoms)\n",
    "basis = PlaneWaveBasis(model; Ecut=5, kgrid=(1, 1, 1))"
   ],
   "metadata": {},
   "execution_count": 3
  },
  {
   "cell_type": "markdown",
   "source": [
    "Find the ground state using direct minimisation (always using SCF is boring ...)"
   ],
   "metadata": {}
  },
  {
   "outputs": [
    {
     "name": "stdout",
     "output_type": "stream",
     "text": [
      "Iter     Function value   Gradient norm \n",
      "     0     1.116636e+02     1.474114e+00\n",
      " * time: 1.0173180103302002\n",
      "     1     1.032957e+01     7.526683e-01\n",
      " * time: 2.10024094581604\n",
      "     2    -1.131811e+01     9.858833e-01\n",
      " * time: 2.5948359966278076\n",
      "     3    -3.361851e+01     7.175647e-01\n",
      " * time: 3.3524959087371826\n",
      "     4    -4.666896e+01     5.255487e-01\n",
      " * time: 4.071182012557983\n",
      "     5    -5.652327e+01     2.243927e-01\n",
      " * time: 4.789454936981201\n",
      "     6    -5.939417e+01     2.938246e-01\n",
      " * time: 5.295464992523193\n",
      "     7    -6.062438e+01     2.256006e-01\n",
      " * time: 5.782552003860474\n",
      "     8    -6.120857e+01     1.438664e-01\n",
      " * time: 6.268694877624512\n",
      "     9    -6.156731e+01     3.621973e-02\n",
      " * time: 6.762512922286987\n",
      "    10    -6.180733e+01     9.353138e-02\n",
      " * time: 7.247684955596924\n",
      "    11    -6.197040e+01     2.835554e-02\n",
      " * time: 7.733253002166748\n",
      "    12    -6.207625e+01     1.694776e-02\n",
      " * time: 8.227828025817871\n",
      "    13    -6.212006e+01     1.817898e-02\n",
      " * time: 8.714221954345703\n",
      "    14    -6.215872e+01     1.037968e-02\n",
      " * time: 9.199545860290527\n",
      "    15    -6.217597e+01     9.005289e-03\n",
      " * time: 9.684032917022705\n",
      "    16    -6.218842e+01     7.507436e-03\n",
      " * time: 10.178659915924072\n",
      "    17    -6.219720e+01     6.322805e-03\n",
      " * time: 10.664438962936401\n",
      "    18    -6.220451e+01     6.128699e-03\n",
      " * time: 11.149354934692383\n",
      "    19    -6.221153e+01     6.030306e-03\n",
      " * time: 11.643378973007202\n",
      "    20    -6.221837e+01     6.725382e-03\n",
      " * time: 12.129287958145142\n",
      "    21    -6.222542e+01     7.253113e-03\n",
      " * time: 12.616338968276978\n",
      "    22    -6.223248e+01     6.184359e-03\n",
      " * time: 13.111815929412842\n",
      "    23    -6.223892e+01     5.923379e-03\n",
      " * time: 13.597960948944092\n",
      "    24    -6.224441e+01     6.206816e-03\n",
      " * time: 14.084067821502686\n",
      "    25    -6.224890e+01     5.197886e-03\n",
      " * time: 14.56861686706543\n",
      "    26    -6.225271e+01     3.654650e-03\n",
      " * time: 15.063462972640991\n",
      "    27    -6.225568e+01     2.668907e-03\n",
      " * time: 15.550145864486694\n",
      "    28    -6.225780e+01     2.696529e-03\n",
      " * time: 16.03565287590027\n",
      "    29    -6.225925e+01     2.152145e-03\n",
      " * time: 16.531080961227417\n",
      "    30    -6.226029e+01     1.904647e-03\n",
      " * time: 17.016807794570923\n",
      "    31    -6.226095e+01     1.102498e-03\n",
      " * time: 17.502322912216187\n",
      "    32    -6.226127e+01     8.823057e-04\n",
      " * time: 17.998172998428345\n",
      "    33    -6.226145e+01     6.148251e-04\n",
      " * time: 18.486418962478638\n",
      "    34    -6.226154e+01     4.977823e-04\n",
      " * time: 18.972181797027588\n",
      "    35    -6.226159e+01     5.469535e-04\n",
      " * time: 19.466112852096558\n",
      "    36    -6.226162e+01     3.553552e-04\n",
      " * time: 19.95158886909485\n",
      "    37    -6.226163e+01     2.794289e-04\n",
      " * time: 20.437670946121216\n",
      "    38    -6.226164e+01     2.349370e-04\n",
      " * time: 20.922711849212646\n",
      "    39    -6.226165e+01     1.824240e-04\n",
      " * time: 21.416513919830322\n",
      "    40    -6.226166e+01     1.097260e-04\n",
      " * time: 21.903034925460815\n",
      "    41    -6.226166e+01     1.182420e-04\n",
      " * time: 22.38895297050476\n",
      "    42    -6.226166e+01     8.031183e-05\n",
      " * time: 22.88244080543518\n",
      "    43    -6.226167e+01     5.528123e-05\n",
      " * time: 23.369550943374634\n",
      "    44    -6.226167e+01     2.965000e-05\n",
      " * time: 23.85669779777527\n",
      "    45    -6.226167e+01     2.460455e-05\n",
      " * time: 24.352373838424683\n",
      "    46    -6.226167e+01     1.716574e-05\n",
      " * time: 24.84005880355835\n",
      "    47    -6.226167e+01     1.387082e-05\n",
      " * time: 25.325337886810303\n",
      "    48    -6.226167e+01     1.028744e-05\n",
      " * time: 25.811436891555786\n",
      "    49    -6.226167e+01     6.191323e-06\n",
      " * time: 26.306277990341187\n",
      "    50    -6.226167e+01     5.156575e-06\n",
      " * time: 26.79358983039856\n",
      "    51    -6.226167e+01     4.402366e-06\n",
      " * time: 27.279181003570557\n",
      "    52    -6.226167e+01     3.849998e-06\n",
      " * time: 27.772265911102295\n",
      "    53    -6.226167e+01     3.342781e-06\n",
      " * time: 28.25935697555542\n",
      "    54    -6.226167e+01     2.851138e-06\n",
      " * time: 28.74506902694702\n",
      "    55    -6.226167e+01     2.413353e-06\n",
      " * time: 29.23908495903015\n"
     ]
    }
   ],
   "cell_type": "code",
   "source": [
    "scfres = direct_minimization(basis, tol=1e-5);"
   ],
   "metadata": {},
   "execution_count": 4
  },
  {
   "outputs": [
    {
     "output_type": "execute_result",
     "data": {
      "text/plain": "Energy breakdown (in Ha):\n    Kinetic             25.7671073\n    AtomicLocal         -18.8557743\n    AtomicNonlocal      14.8522696\n    Ewald               -67.1831486\n    PspCorrection       -2.3569765\n    Hartree             4.8485385 \n    Xc                  -19.3336825\n\n    total               -62.261666461641"
     },
     "metadata": {},
     "execution_count": 5
    }
   ],
   "cell_type": "code",
   "source": [
    "scfres.energies"
   ],
   "metadata": {},
   "execution_count": 5
  }
 ],
 "nbformat_minor": 3,
 "metadata": {
  "language_info": {
   "file_extension": ".jl",
   "mimetype": "application/julia",
   "name": "julia",
   "version": "1.7.1"
  },
  "kernelspec": {
   "name": "julia-1.7",
   "display_name": "Julia 1.7.1",
   "language": "julia"
  }
 },
 "nbformat": 4
}
