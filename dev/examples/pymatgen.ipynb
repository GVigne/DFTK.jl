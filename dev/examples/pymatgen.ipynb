{
 "cells": [
  {
   "cell_type": "markdown",
   "source": [
    "# Creating supercells with pymatgen\n",
    "\n",
    "The [Pymatgen](https://pymatgen.org/) python library allows to setup\n",
    "solid-state calculations using a flexible set of classes as well as an API\n",
    "to an online data base of structures. Its `Structure` and `Lattice`\n",
    "objects are directly supported by the DFTK `load_atoms` and `load_lattice`\n",
    "functions, such that DFTK may be readily used to run calculation on systems\n",
    "defined in pymatgen. Using the `pymatgen_structure` function a conversion\n",
    "from DFTK to pymatgen structures is also possible. In the following we\n",
    "use this to create a silicon supercell and find its LDA ground state\n",
    "using direct minimisation. To run this example Julia's `PyCall` package\n",
    "needs to be able to find an installation of `pymatgen`."
   ],
   "metadata": {}
  },
  {
   "cell_type": "markdown",
   "source": [
    "First we setup the silicon lattice in DFTK."
   ],
   "metadata": {}
  },
  {
   "outputs": [],
   "cell_type": "code",
   "source": [
    "using DFTK\n",
    "\n",
    "a = 10.263141334305942  # Lattice constant in Bohr\n",
    "lattice = a / 2 .* [[0 1 1.]; [1 0 1.]; [1 1 0.]]\n",
    "Si = ElementPsp(:Si, psp=load_psp(\"hgh/lda/Si-q4\"))\n",
    "atoms = [Si => [ones(3)/8, -ones(3)/8]];"
   ],
   "metadata": {},
   "execution_count": 1
  },
  {
   "cell_type": "markdown",
   "source": [
    "Next we make a `[2, 2, 2]` supercell using pymatgen"
   ],
   "metadata": {}
  },
  {
   "outputs": [
    {
     "name": "stdout",
     "output_type": "stream",
     "text": [
      "┌ Warning: `vendor()` is deprecated, use `BLAS.get_config()` and inspect the output instead\n",
      "│   caller = npyinitialize() at numpy.jl:67\n",
      "└ @ PyCall /home/runner/.julia/packages/PyCall/3fwVL/src/numpy.jl:67\n"
     ]
    }
   ],
   "cell_type": "code",
   "source": [
    "pystruct = pymatgen_structure(lattice, atoms)\n",
    "pystruct.make_supercell([2, 2, 2])\n",
    "lattice = load_lattice(pystruct)\n",
    "atoms = [Si => [s.frac_coords for s in pystruct.sites]];"
   ],
   "metadata": {},
   "execution_count": 2
  },
  {
   "cell_type": "markdown",
   "source": [
    "Setup an LDA model and discretize using\n",
    "a single k-point and a small `Ecut` of 5 Hartree."
   ],
   "metadata": {}
  },
  {
   "outputs": [
    {
     "output_type": "execute_result",
     "data": {
      "text/plain": "PlaneWaveBasis discretization:\n    Ecut                 : 5.0 Ha\n    fft_size             : (32, 32, 32)\n    kgrid type           : Monkhorst-Pack\n    kgrid                : [1, 1, 1]\n    num. irred. kpoints  : 1\n\n    Discretized Model(lda_xc_teter93, 3D):\n        lattice (in Bohr)    : [0         , 10.2631   , 10.2631   ]\n                               [10.2631   , 0         , 10.2631   ]\n                               [10.2631   , 10.2631   , 0         ]\n        unit cell volume     : 2162.1 Bohr³\n    \n        atoms                : Si₁₆\n        atom potentials      : ElementPsp(Si, psp=hgh/lda/si-q4)\n    \n        num. electrons       : 64\n        spin polarization    : none\n        temperature          : 0 Ha\n    \n        terms                : Kinetic(1)\n                               AtomicLocal()\n                               AtomicNonlocal()\n                               Ewald()\n                               PspCorrection()\n                               Hartree(1)\n                               Xc([:lda_xc_teter93], 1, nothing)"
     },
     "metadata": {},
     "execution_count": 3
    }
   ],
   "cell_type": "code",
   "source": [
    "model = model_LDA(lattice, atoms)\n",
    "basis = PlaneWaveBasis(model; Ecut=5, kgrid=(1, 1, 1))"
   ],
   "metadata": {},
   "execution_count": 3
  },
  {
   "cell_type": "markdown",
   "source": [
    "Find the ground state using direct minimisation (always using SCF is boring ...)"
   ],
   "metadata": {}
  },
  {
   "outputs": [
    {
     "name": "stdout",
     "output_type": "stream",
     "text": [
      "Iter     Function value   Gradient norm \n",
      "     0     1.116895e+02     1.495705e+00\n",
      " * time: 0.7054212093353271\n",
      "     1     1.058860e+01     8.725026e-01\n",
      " * time: 1.9369871616363525\n",
      "     2    -1.139911e+01     9.197278e-01\n",
      " * time: 2.5606820583343506\n",
      "     3    -3.401565e+01     6.990339e-01\n",
      " * time: 3.4496471881866455\n",
      "     4    -4.746596e+01     4.827775e-01\n",
      " * time: 4.344580173492432\n",
      "     5    -5.687650e+01     1.845185e-01\n",
      " * time: 5.341645002365112\n",
      "     6    -5.980006e+01     1.102952e-01\n",
      " * time: 5.949550151824951\n",
      "     7    -6.090493e+01     5.206899e-02\n",
      " * time: 6.533367156982422\n",
      "     8    -6.131438e+01     5.553041e-02\n",
      " * time: 7.142141103744507\n",
      "     9    -6.158379e+01     3.488747e-02\n",
      " * time: 7.753830194473267\n",
      "    10    -6.179184e+01     2.468468e-02\n",
      " * time: 8.796961069107056\n",
      "    11    -6.196370e+01     2.119107e-02\n",
      " * time: 9.36998200416565\n",
      "    12    -6.203545e+01     1.842649e-02\n",
      " * time: 9.999450206756592\n",
      "    13    -6.210832e+01     1.413466e-02\n",
      " * time: 10.671900987625122\n",
      "    14    -6.214184e+01     1.148747e-02\n",
      " * time: 11.539842128753662\n",
      "    15    -6.217248e+01     9.403920e-03\n",
      " * time: 12.148967981338501\n",
      "    16    -6.218723e+01     9.477822e-03\n",
      " * time: 12.770196199417114\n",
      "    17    -6.219781e+01     7.096679e-03\n",
      " * time: 13.358472108840942\n",
      "    18    -6.220466e+01     6.220921e-03\n",
      " * time: 13.965646982192993\n",
      "    19    -6.220982e+01     6.259139e-03\n",
      " * time: 14.553012132644653\n",
      "    20    -6.221410e+01     5.870162e-03\n",
      " * time: 15.17956805229187\n",
      "    21    -6.221843e+01     7.205884e-03\n",
      " * time: 15.77500319480896\n",
      "    22    -6.222313e+01     6.366107e-03\n",
      " * time: 16.35709810256958\n",
      "    23    -6.222857e+01     6.096982e-03\n",
      " * time: 16.957921981811523\n",
      "    24    -6.223480e+01     6.207111e-03\n",
      " * time: 17.54323410987854\n",
      "    25    -6.224083e+01     6.044123e-03\n",
      " * time: 18.16312599182129\n",
      "    26    -6.224653e+01     5.478799e-03\n",
      " * time: 18.741369009017944\n",
      "    27    -6.225119e+01     4.793464e-03\n",
      " * time: 19.336047172546387\n",
      "    28    -6.225453e+01     4.275965e-03\n",
      " * time: 19.940965175628662\n",
      "    29    -6.225691e+01     2.992903e-03\n",
      " * time: 20.52434802055359\n",
      "    30    -6.225875e+01     2.316916e-03\n",
      " * time: 21.114001989364624\n",
      "    31    -6.225997e+01     1.904430e-03\n",
      " * time: 21.73547601699829\n",
      "    32    -6.226067e+01     1.741965e-03\n",
      " * time: 22.33065700531006\n",
      "    33    -6.226113e+01     1.367303e-03\n",
      " * time: 22.918277978897095\n",
      "    34    -6.226138e+01     9.661657e-04\n",
      " * time: 23.52538800239563\n",
      "    35    -6.226151e+01     6.735579e-04\n",
      " * time: 24.1132390499115\n",
      "    36    -6.226158e+01     3.892281e-04\n",
      " * time: 24.707125186920166\n",
      "    37    -6.226161e+01     3.106535e-04\n",
      " * time: 25.283640146255493\n",
      "    38    -6.226163e+01     2.656566e-04\n",
      " * time: 25.87053108215332\n",
      "    39    -6.226164e+01     2.832765e-04\n",
      " * time: 26.51651906967163\n",
      "    40    -6.226165e+01     2.325885e-04\n",
      " * time: 27.094045162200928\n",
      "    41    -6.226166e+01     2.125037e-04\n",
      " * time: 27.68925905227661\n",
      "    42    -6.226166e+01     1.294068e-04\n",
      " * time: 28.34142518043518\n",
      "    43    -6.226166e+01     9.746989e-05\n",
      " * time: 28.99476408958435\n",
      "    44    -6.226166e+01     6.239688e-05\n",
      " * time: 29.57264518737793\n",
      "    45    -6.226167e+01     4.398271e-05\n",
      " * time: 30.157612085342407\n",
      "    46    -6.226167e+01     3.241409e-05\n",
      " * time: 30.75353717803955\n",
      "    47    -6.226167e+01     2.679051e-05\n",
      " * time: 31.351608991622925\n",
      "    48    -6.226167e+01     1.448715e-05\n",
      " * time: 31.94920802116394\n",
      "    49    -6.226167e+01     1.228892e-05\n",
      " * time: 32.56406617164612\n",
      "    50    -6.226167e+01     8.687491e-06\n",
      " * time: 33.198837995529175\n",
      "    51    -6.226167e+01     7.239437e-06\n",
      " * time: 33.808197021484375\n",
      "    52    -6.226167e+01     5.874025e-06\n",
      " * time: 34.42256212234497\n",
      "    53    -6.226167e+01     5.187291e-06\n",
      " * time: 35.01502203941345\n",
      "    54    -6.226167e+01     4.238734e-06\n",
      " * time: 35.604990005493164\n",
      "    55    -6.226167e+01     2.942378e-06\n",
      " * time: 36.20043611526489\n",
      "    56    -6.226167e+01     3.650663e-06\n",
      " * time: 36.81574201583862\n",
      "    57    -6.226167e+01     2.217599e-06\n",
      " * time: 37.41322612762451\n"
     ]
    }
   ],
   "cell_type": "code",
   "source": [
    "scfres = direct_minimization(basis, tol=1e-5);"
   ],
   "metadata": {},
   "execution_count": 4
  },
  {
   "outputs": [
    {
     "output_type": "execute_result",
     "data": {
      "text/plain": "Energy breakdown (in Ha):\n    Kinetic             25.7671070\n    AtomicLocal         -18.8557682\n    AtomicNonlocal      14.8522646\n    Ewald               -67.1831486\n    PspCorrection       -2.3569765\n    Hartree             4.8485376 \n    Xc                  -19.3336822\n\n    total               -62.261666461862"
     },
     "metadata": {},
     "execution_count": 5
    }
   ],
   "cell_type": "code",
   "source": [
    "scfres.energies"
   ],
   "metadata": {},
   "execution_count": 5
  }
 ],
 "nbformat_minor": 3,
 "metadata": {
  "language_info": {
   "file_extension": ".jl",
   "mimetype": "application/julia",
   "name": "julia",
   "version": "1.7.0"
  },
  "kernelspec": {
   "name": "julia-1.7",
   "display_name": "Julia 1.7.0",
   "language": "julia"
  }
 },
 "nbformat": 4
}
