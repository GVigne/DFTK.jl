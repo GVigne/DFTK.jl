{
 "cells": [
  {
   "cell_type": "markdown",
   "source": [
    "# Creating supercells with pymatgen\n",
    "\n",
    "The [Pymatgen](https://pymatgen.org/) python library allows to setup\n",
    "solid-state calculations using a flexible set of classes as well as an API\n",
    "to an online data base of structures. Its `Structure` and `Lattice`\n",
    "objects are directly supported by the DFTK `load_atoms` and `load_lattice`\n",
    "functions, such that DFTK may be readily used to run calculation on systems\n",
    "defined in pymatgen. Using the `pymatgen_structure` function a conversion\n",
    "from DFTK to pymatgen structures is also possible. In the following we\n",
    "use this to create a silicon supercell and find its LDA ground state\n",
    "using direct minimisation. To run this example Julia's `PyCall` package\n",
    "needs to be able to find an installation of `pymatgen`."
   ],
   "metadata": {}
  },
  {
   "cell_type": "markdown",
   "source": [
    "First we setup the silicon lattice in DFTK."
   ],
   "metadata": {}
  },
  {
   "outputs": [],
   "cell_type": "code",
   "source": [
    "using DFTK\n",
    "\n",
    "a = 10.263141334305942  # Lattice constant in Bohr\n",
    "lattice = a / 2 .* [[0 1 1.]; [1 0 1.]; [1 1 0.]]\n",
    "Si = ElementPsp(:Si, psp=load_psp(\"hgh/lda/Si-q4\"))\n",
    "atoms = [Si => [ones(3)/8, -ones(3)/8]];"
   ],
   "metadata": {},
   "execution_count": 1
  },
  {
   "cell_type": "markdown",
   "source": [
    "Next we make a `[2, 2, 2]` supercell using pymatgen"
   ],
   "metadata": {}
  },
  {
   "outputs": [
    {
     "name": "stdout",
     "output_type": "stream",
     "text": [
      "┌ Warning: `vendor()` is deprecated, use `BLAS.get_config()` and inspect the output instead\n",
      "│   caller = npyinitialize() at numpy.jl:67\n",
      "└ @ PyCall /home/runner/.julia/packages/PyCall/L0fLP/src/numpy.jl:67\n"
     ]
    }
   ],
   "cell_type": "code",
   "source": [
    "pystruct = pymatgen_structure(lattice, atoms)\n",
    "pystruct.make_supercell([2, 2, 2])\n",
    "lattice = load_lattice(pystruct)\n",
    "atoms = [Si => [s.frac_coords for s in pystruct.sites]];"
   ],
   "metadata": {},
   "execution_count": 2
  },
  {
   "cell_type": "markdown",
   "source": [
    "Setup an LDA model and discretize using\n",
    "a single k-point and a small `Ecut` of 5 Hartree."
   ],
   "metadata": {}
  },
  {
   "outputs": [
    {
     "output_type": "execute_result",
     "data": {
      "text/plain": "PlaneWaveBasis discretization:\n    Ecut                 : 5.0 Ha\n    fft_size             : (32, 32, 32)\n    kgrid type           : Monkhorst-Pack\n    kgrid                : [1, 1, 1]\n    num. irred. kpoints  : 1\n\n    Discretized Model(lda_xc_teter93, 3D):\n        lattice (in Bohr)    : [0         , 10.2631   , 10.2631   ]\n                               [10.2631   , 0         , 10.2631   ]\n                               [10.2631   , 10.2631   , 0         ]\n        unit cell volume     : 2162.1 Bohr³\n    \n        atoms                : Si₁₆\n        atom potentials      : ElementPsp(Si, psp=hgh/lda/si-q4)\n    \n        num. electrons       : 64\n        spin polarization    : none\n        temperature          : 0 Ha\n    \n        terms                : Kinetic()\n                               AtomicLocal()\n                               AtomicNonlocal()\n                               Ewald()\n                               PspCorrection()\n                               Hartree()\n                               Xc(:lda_xc_teter93)"
     },
     "metadata": {},
     "execution_count": 3
    }
   ],
   "cell_type": "code",
   "source": [
    "model = model_LDA(lattice, atoms)\n",
    "basis = PlaneWaveBasis(model; Ecut=5, kgrid=(1, 1, 1))"
   ],
   "metadata": {},
   "execution_count": 3
  },
  {
   "cell_type": "markdown",
   "source": [
    "Find the ground state using direct minimisation (always using SCF is boring ...)"
   ],
   "metadata": {}
  },
  {
   "outputs": [
    {
     "name": "stdout",
     "output_type": "stream",
     "text": [
      "Iter     Function value   Gradient norm \n",
      "     0     1.119734e+02     1.553354e+00\n",
      " * time: 0.808974027633667\n",
      "     1     1.148487e+01     9.427589e-01\n",
      " * time: 2.180215835571289\n",
      "     2    -1.112810e+01     1.081656e+00\n",
      " * time: 2.8296148777008057\n",
      "     3    -3.388743e+01     8.830804e-01\n",
      " * time: 3.7745649814605713\n",
      "     4    -4.753827e+01     6.966062e-01\n",
      " * time: 4.751945972442627\n",
      "     5    -5.674686e+01     2.333736e-01\n",
      " * time: 5.682877063751221\n",
      "     6    -5.966489e+01     1.687723e-01\n",
      " * time: 6.319571018218994\n",
      "     7    -6.081472e+01     5.345782e-02\n",
      " * time: 6.963544845581055\n",
      "     8    -6.125106e+01     8.068274e-02\n",
      " * time: 7.621271848678589\n",
      "     9    -6.155244e+01     5.540302e-02\n",
      " * time: 8.25409984588623\n",
      "    10    -6.177077e+01     2.598607e-02\n",
      " * time: 8.88764500617981\n",
      "    11    -6.194139e+01     1.925781e-02\n",
      " * time: 9.51869797706604\n",
      "    12    -6.200737e+01     1.919691e-02\n",
      " * time: 10.162158966064453\n",
      "    13    -6.207500e+01     1.507635e-02\n",
      " * time: 10.793640851974487\n",
      "    14    -6.210674e+01     1.429963e-02\n",
      " * time: 11.439246892929077\n",
      "    15    -6.214119e+01     1.237008e-02\n",
      " * time: 12.083250999450684\n",
      "    16    -6.216331e+01     1.186831e-02\n",
      " * time: 12.709496974945068\n",
      "    17    -6.218127e+01     1.019487e-02\n",
      " * time: 13.358075857162476\n",
      "    18    -6.219488e+01     8.021890e-03\n",
      " * time: 13.998419046401978\n",
      "    19    -6.220521e+01     8.680838e-03\n",
      " * time: 14.64445185661316\n",
      "    20    -6.221382e+01     7.920489e-03\n",
      " * time: 15.289175987243652\n",
      "    21    -6.222187e+01     6.413063e-03\n",
      " * time: 15.926952838897705\n",
      "    22    -6.223018e+01     5.481217e-03\n",
      " * time: 16.559613943099976\n",
      "    23    -6.223863e+01     5.452293e-03\n",
      " * time: 17.188061952590942\n",
      "    24    -6.224634e+01     5.133438e-03\n",
      " * time: 17.819885969161987\n",
      "    25    -6.225184e+01     4.424728e-03\n",
      " * time: 18.455811023712158\n",
      "    26    -6.225554e+01     3.615538e-03\n",
      " * time: 19.09707498550415\n",
      "    27    -6.225770e+01     2.953775e-03\n",
      " * time: 19.750260829925537\n",
      "    28    -6.225897e+01     2.702831e-03\n",
      " * time: 20.390971899032593\n",
      "    29    -6.225979e+01     2.072735e-03\n",
      " * time: 21.016835927963257\n",
      "    30    -6.226039e+01     1.841170e-03\n",
      " * time: 21.659932851791382\n",
      "    31    -6.226083e+01     1.657621e-03\n",
      " * time: 22.296429872512817\n",
      "    32    -6.226115e+01     1.221961e-03\n",
      " * time: 22.921443939208984\n",
      "    33    -6.226138e+01     9.374167e-04\n",
      " * time: 23.553866863250732\n",
      "    34    -6.226152e+01     5.758239e-04\n",
      " * time: 24.18834686279297\n",
      "    35    -6.226160e+01     3.971448e-04\n",
      " * time: 24.827594995498657\n",
      "    36    -6.226163e+01     3.179877e-04\n",
      " * time: 25.454994916915894\n",
      "    37    -6.226164e+01     2.068972e-04\n",
      " * time: 26.091285943984985\n",
      "    38    -6.226165e+01     1.806030e-04\n",
      " * time: 26.719591856002808\n",
      "    39    -6.226166e+01     1.538802e-04\n",
      " * time: 27.364912033081055\n",
      "    40    -6.226166e+01     1.251655e-04\n",
      " * time: 27.997725009918213\n",
      "    41    -6.226166e+01     9.531494e-05\n",
      " * time: 28.626776933670044\n",
      "    42    -6.226166e+01     8.362340e-05\n",
      " * time: 29.252562999725342\n",
      "    43    -6.226167e+01     5.827215e-05\n",
      " * time: 29.895735025405884\n",
      "    44    -6.226167e+01     3.812255e-05\n",
      " * time: 30.543776988983154\n",
      "    45    -6.226167e+01     3.007610e-05\n",
      " * time: 31.171279907226562\n",
      "    46    -6.226167e+01     2.314585e-05\n",
      " * time: 31.807065963745117\n",
      "    47    -6.226167e+01     1.539028e-05\n",
      " * time: 32.43601202964783\n",
      "    48    -6.226167e+01     1.080618e-05\n",
      " * time: 33.07617783546448\n",
      "    49    -6.226167e+01     8.635430e-06\n",
      " * time: 33.708977937698364\n",
      "    50    -6.226167e+01     5.930899e-06\n",
      " * time: 34.3436439037323\n",
      "    51    -6.226167e+01     5.347469e-06\n",
      " * time: 34.979125022888184\n",
      "    52    -6.226167e+01     4.148814e-06\n",
      " * time: 35.616183042526245\n"
     ]
    }
   ],
   "cell_type": "code",
   "source": [
    "scfres = direct_minimization(basis, tol=1e-5);"
   ],
   "metadata": {},
   "execution_count": 4
  },
  {
   "outputs": [
    {
     "output_type": "execute_result",
     "data": {
      "text/plain": "Energy breakdown (in Ha):\n    Kinetic             25.7671068\n    AtomicLocal         -18.8557718\n    AtomicNonlocal      14.8522680\n    Ewald               -67.1831486\n    PspCorrection       -2.3569765\n    Hartree             4.8485380 \n    Xc                  -19.3336823\n\n    total               -62.261666451454"
     },
     "metadata": {},
     "execution_count": 5
    }
   ],
   "cell_type": "code",
   "source": [
    "scfres.energies"
   ],
   "metadata": {},
   "execution_count": 5
  }
 ],
 "nbformat_minor": 3,
 "metadata": {
  "language_info": {
   "file_extension": ".jl",
   "mimetype": "application/julia",
   "name": "julia",
   "version": "1.7.1"
  },
  "kernelspec": {
   "name": "julia-1.7",
   "display_name": "Julia 1.7.1",
   "language": "julia"
  }
 },
 "nbformat": 4
}
