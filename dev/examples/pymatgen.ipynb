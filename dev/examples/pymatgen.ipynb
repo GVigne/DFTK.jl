{
 "cells": [
  {
   "cell_type": "markdown",
   "source": [
    "# Creating supercells with pymatgen\n",
    "\n",
    "The [Pymatgen](https://pymatgen.org/) python library allows to setup\n",
    "solid-state calculations using a flexible set of classes as well as an API\n",
    "to an online data base of structures. Its `Structure` and `Lattice`\n",
    "objects are directly supported by the DFTK `load_atoms` and `load_lattice`\n",
    "functions, such that DFTK may be readily used to run calculation on systems\n",
    "defined in pymatgen. Using the `pymatgen_structure` function a conversion\n",
    "from DFTK to pymatgen structures is also possible. In the following we\n",
    "use this to create a silicon supercell and find its LDA ground state\n",
    "using direct minimisation. To run this example Julia's `PyCall` package\n",
    "needs to be able to find an installation of `pymatgen`."
   ],
   "metadata": {}
  },
  {
   "cell_type": "markdown",
   "source": [
    "First we setup the silicon lattice in DFTK."
   ],
   "metadata": {}
  },
  {
   "outputs": [],
   "cell_type": "code",
   "source": [
    "using DFTK\n",
    "\n",
    "a = 10.263141334305942  # Lattice constant in Bohr\n",
    "lattice = a / 2 .* [[0 1 1.]; [1 0 1.]; [1 1 0.]]\n",
    "Si = ElementPsp(:Si, psp=load_psp(\"hgh/lda/Si-q4\"))\n",
    "atoms = [Si => [ones(3)/8, -ones(3)/8]];"
   ],
   "metadata": {},
   "execution_count": 1
  },
  {
   "cell_type": "markdown",
   "source": [
    "Next we make a `[2, 2, 2]` supercell using pymatgen"
   ],
   "metadata": {}
  },
  {
   "outputs": [
    {
     "name": "stdout",
     "output_type": "stream",
     "text": [
      "┌ Warning: `vendor()` is deprecated, use `BLAS.get_config()` and inspect the output instead\n",
      "│   caller = npyinitialize() at numpy.jl:67\n",
      "└ @ PyCall /home/runner/.julia/packages/PyCall/L0fLP/src/numpy.jl:67\n"
     ]
    }
   ],
   "cell_type": "code",
   "source": [
    "pystruct = pymatgen_structure(lattice, atoms)\n",
    "pystruct.make_supercell([2, 2, 2])\n",
    "lattice = load_lattice(pystruct)\n",
    "atoms = [Si => [s.frac_coords for s in pystruct.sites]];"
   ],
   "metadata": {},
   "execution_count": 2
  },
  {
   "cell_type": "markdown",
   "source": [
    "Setup an LDA model and discretize using\n",
    "a single k-point and a small `Ecut` of 5 Hartree."
   ],
   "metadata": {}
  },
  {
   "outputs": [
    {
     "output_type": "execute_result",
     "data": {
      "text/plain": "PlaneWaveBasis discretization:\n    Ecut                 : 5.0 Ha\n    fft_size             : (32, 32, 32)\n    kgrid type           : Monkhorst-Pack\n    kgrid                : [1, 1, 1]\n    num. irred. kpoints  : 1\n\n    Discretized Model(lda_xc_teter93, 3D):\n        lattice (in Bohr)    : [0         , 10.2631   , 10.2631   ]\n                               [10.2631   , 0         , 10.2631   ]\n                               [10.2631   , 10.2631   , 0         ]\n        unit cell volume     : 2162.1 Bohr³\n    \n        atoms                : Si₁₆\n        atom potentials      : ElementPsp(Si, psp=hgh/lda/si-q4)\n    \n        num. electrons       : 64\n        spin polarization    : none\n        temperature          : 0 Ha\n    \n        terms                : Kinetic()\n                               AtomicLocal()\n                               AtomicNonlocal()\n                               Ewald()\n                               PspCorrection()\n                               Hartree()\n                               Xc(:lda_xc_teter93)"
     },
     "metadata": {},
     "execution_count": 3
    }
   ],
   "cell_type": "code",
   "source": [
    "model = model_LDA(lattice, atoms)\n",
    "basis = PlaneWaveBasis(model; Ecut=5, kgrid=(1, 1, 1))"
   ],
   "metadata": {},
   "execution_count": 3
  },
  {
   "cell_type": "markdown",
   "source": [
    "Find the ground state using direct minimisation (always using SCF is boring ...)"
   ],
   "metadata": {}
  },
  {
   "outputs": [
    {
     "name": "stdout",
     "output_type": "stream",
     "text": [
      "Iter     Function value   Gradient norm \n",
      "     0     1.119678e+02     1.479039e+00\n",
      " * time: 0.7850267887115479\n",
      "     1     1.042655e+01     1.000569e+00\n",
      " * time: 2.1563498973846436\n",
      "     2    -1.146120e+01     1.106066e+00\n",
      " * time: 2.790148973464966\n",
      "     3    -3.437498e+01     7.156064e-01\n",
      " * time: 3.762964963912964\n",
      "     4    -4.789275e+01     5.197951e-01\n",
      " * time: 4.690969944000244\n",
      "     5    -5.702702e+01     1.786307e-01\n",
      " * time: 5.627831935882568\n",
      "     6    -5.988867e+01     7.041744e-02\n",
      " * time: 6.269618988037109\n",
      "     7    -6.090240e+01     6.050856e-02\n",
      " * time: 6.926602840423584\n",
      "     8    -6.132346e+01     5.113017e-02\n",
      " * time: 7.545793771743774\n",
      "     9    -6.164988e+01     2.970936e-02\n",
      " * time: 8.174194812774658\n",
      "    10    -6.186316e+01     2.255139e-02\n",
      " * time: 8.804975986480713\n",
      "    11    -6.200715e+01     1.774065e-02\n",
      " * time: 9.454042911529541\n",
      "    12    -6.207515e+01     1.823549e-02\n",
      " * time: 10.078542947769165\n",
      "    13    -6.212523e+01     1.533545e-02\n",
      " * time: 10.710783958435059\n",
      "    14    -6.215287e+01     1.293361e-02\n",
      " * time: 11.337918996810913\n",
      "    15    -6.217393e+01     9.446030e-03\n",
      " * time: 11.9862539768219\n",
      "    16    -6.218612e+01     6.043469e-03\n",
      " * time: 12.636807918548584\n",
      "    17    -6.219328e+01     5.049068e-03\n",
      " * time: 13.276663780212402\n",
      "    18    -6.219845e+01     4.178487e-03\n",
      " * time: 13.902621984481812\n",
      "    19    -6.220217e+01     3.621253e-03\n",
      " * time: 14.532335996627808\n",
      "    20    -6.220512e+01     3.014595e-03\n",
      " * time: 15.176349878311157\n",
      "    21    -6.220764e+01     2.823928e-03\n",
      " * time: 15.82690691947937\n",
      "    22    -6.220971e+01     3.464468e-03\n",
      " * time: 16.455501794815063\n",
      "    23    -6.221123e+01     3.631796e-03\n",
      " * time: 17.099952936172485\n",
      "    24    -6.221247e+01     3.264992e-03\n",
      " * time: 17.7522029876709\n",
      "    25    -6.221373e+01     3.199954e-03\n",
      " * time: 18.39317798614502\n",
      "    26    -6.221538e+01     3.694599e-03\n",
      " * time: 19.02021884918213\n",
      "    27    -6.221814e+01     4.557796e-03\n",
      " * time: 19.657131910324097\n",
      "    28    -6.222256e+01     6.499149e-03\n",
      " * time: 20.30154776573181\n",
      "    29    -6.222868e+01     6.349462e-03\n",
      " * time: 20.944127798080444\n",
      "    30    -6.223972e+01     5.927922e-03\n",
      " * time: 21.57585096359253\n",
      "    31    -6.224698e+01     5.144844e-03\n",
      " * time: 22.201390981674194\n",
      "    32    -6.225315e+01     3.909126e-03\n",
      " * time: 22.82347083091736\n",
      "    33    -6.225609e+01     3.160213e-03\n",
      " * time: 23.46123695373535\n",
      "    34    -6.225829e+01     2.651051e-03\n",
      " * time: 24.10708498954773\n",
      "    35    -6.225972e+01     1.871773e-03\n",
      " * time: 24.72931694984436\n",
      "    36    -6.226042e+01     1.809935e-03\n",
      " * time: 25.364842891693115\n",
      "    37    -6.226082e+01     1.255089e-03\n",
      " * time: 25.996206998825073\n",
      "    38    -6.226109e+01     1.140195e-03\n",
      " * time: 26.630804777145386\n",
      "    39    -6.226127e+01     9.490136e-04\n",
      " * time: 27.254578828811646\n",
      "    40    -6.226141e+01     7.552078e-04\n",
      " * time: 27.880368947982788\n",
      "    41    -6.226151e+01     4.735342e-04\n",
      " * time: 28.5140438079834\n",
      "    42    -6.226157e+01     3.787218e-04\n",
      " * time: 29.141060829162598\n",
      "    43    -6.226161e+01     3.527037e-04\n",
      " * time: 29.790642976760864\n",
      "    44    -6.226164e+01     2.830436e-04\n",
      " * time: 30.420182943344116\n",
      "    45    -6.226165e+01     2.398541e-04\n",
      " * time: 31.050354957580566\n",
      "    46    -6.226166e+01     1.517054e-04\n",
      " * time: 31.68167781829834\n",
      "    47    -6.226166e+01     1.091701e-04\n",
      " * time: 32.31966781616211\n",
      "    48    -6.226166e+01     8.759678e-05\n",
      " * time: 32.95362186431885\n",
      "    49    -6.226166e+01     7.953923e-05\n",
      " * time: 33.57780981063843\n",
      "    50    -6.226167e+01     5.069985e-05\n",
      " * time: 34.20752477645874\n",
      "    51    -6.226167e+01     3.899595e-05\n",
      " * time: 34.836803913116455\n",
      "    52    -6.226167e+01     2.865186e-05\n",
      " * time: 35.47808790206909\n",
      "    53    -6.226167e+01     2.255009e-05\n",
      " * time: 36.111607789993286\n",
      "    54    -6.226167e+01     1.953967e-05\n",
      " * time: 36.74538493156433\n",
      "    55    -6.226167e+01     1.273349e-05\n",
      " * time: 37.37708497047424\n",
      "    56    -6.226167e+01     9.485459e-06\n",
      " * time: 38.01402497291565\n",
      "    57    -6.226167e+01     8.490096e-06\n",
      " * time: 38.63704991340637\n",
      "    58    -6.226167e+01     6.323279e-06\n",
      " * time: 39.265970945358276\n",
      "    59    -6.226167e+01     6.229345e-06\n",
      " * time: 39.893608808517456\n",
      "    60    -6.226167e+01     4.326461e-06\n",
      " * time: 40.519792795181274\n",
      "    61    -6.226167e+01     3.788091e-06\n",
      " * time: 41.16138291358948\n"
     ]
    }
   ],
   "cell_type": "code",
   "source": [
    "scfres = direct_minimization(basis, tol=1e-5);"
   ],
   "metadata": {},
   "execution_count": 4
  },
  {
   "outputs": [
    {
     "output_type": "execute_result",
     "data": {
      "text/plain": "Energy breakdown (in Ha):\n    Kinetic             25.7671059\n    AtomicLocal         -18.8557630\n    AtomicNonlocal      14.8522615\n    Ewald               -67.1831486\n    PspCorrection       -2.3569765\n    Hartree             4.8485359 \n    Xc                  -19.3336816\n\n    total               -62.261666457572"
     },
     "metadata": {},
     "execution_count": 5
    }
   ],
   "cell_type": "code",
   "source": [
    "scfres.energies"
   ],
   "metadata": {},
   "execution_count": 5
  }
 ],
 "nbformat_minor": 3,
 "metadata": {
  "language_info": {
   "file_extension": ".jl",
   "mimetype": "application/julia",
   "name": "julia",
   "version": "1.7.1"
  },
  "kernelspec": {
   "name": "julia-1.7",
   "display_name": "Julia 1.7.1",
   "language": "julia"
  }
 },
 "nbformat": 4
}
