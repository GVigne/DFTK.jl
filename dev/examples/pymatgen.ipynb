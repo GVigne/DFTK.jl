{
 "cells": [
  {
   "cell_type": "markdown",
   "source": [
    "# Creating supercells with pymatgen\n",
    "\n",
    "The [Pymatgen](https://pymatgen.org/) python library allows to setup\n",
    "solid-state calculations using a flexible set of classes as well as an API\n",
    "to an online data base of structures. Its `Structure` and `Lattice`\n",
    "objects are directly supported by the DFTK `load_atoms` and `load_lattice`\n",
    "functions, such that DFTK may be readily used to run calculation on systems\n",
    "defined in pymatgen. Using the `pymatgen_structure` function a conversion\n",
    "from DFTK to pymatgen structures is also possible. In the following we\n",
    "use this to create a silicon supercell and find its LDA ground state\n",
    "using direct minimisation. To run this example Julia's `PyCall` package\n",
    "needs to be able to find an installation of `pymatgen`."
   ],
   "metadata": {}
  },
  {
   "cell_type": "markdown",
   "source": [
    "First we setup the silicon lattice in DFTK."
   ],
   "metadata": {}
  },
  {
   "outputs": [],
   "cell_type": "code",
   "source": [
    "using DFTK\n",
    "\n",
    "a = 10.263141334305942  # Lattice constant in Bohr\n",
    "lattice = a / 2 .* [[0 1 1.]; [1 0 1.]; [1 1 0.]]\n",
    "Si = ElementPsp(:Si, psp=load_psp(\"hgh/lda/Si-q4\"))\n",
    "atoms = [Si => [ones(3)/8, -ones(3)/8]];"
   ],
   "metadata": {},
   "execution_count": 1
  },
  {
   "cell_type": "markdown",
   "source": [
    "Next we make a `[2, 2, 2]` supercell using pymatgen"
   ],
   "metadata": {}
  },
  {
   "outputs": [],
   "cell_type": "code",
   "source": [
    "pystruct = pymatgen_structure(lattice, atoms)\n",
    "pystruct.make_supercell([2, 2, 2])\n",
    "lattice = load_lattice(pystruct)\n",
    "atoms = [Si => [s.frac_coords for s in pystruct.sites]];"
   ],
   "metadata": {},
   "execution_count": 2
  },
  {
   "cell_type": "markdown",
   "source": [
    "Setup an LDA model and discretize using\n",
    "a single k-point and a small `Ecut` of 5 Hartree."
   ],
   "metadata": {}
  },
  {
   "outputs": [
    {
     "output_type": "execute_result",
     "data": {
      "text/plain": "PlaneWaveBasis discretization:\n    Ecut                 : 5.0 Ha\n    fft_size             : (32, 32, 32), 32768 total points\n    kgrid type           : Monkhorst-Pack\n    kgrid                : [1, 1, 1]\n    num. irred. kpoints  : 1\n\n    Discretized Model(lda_xc_teter93, 3D):\n        lattice (in Bohr)    : [0         , 10.2631   , 10.2631   ]\n                               [10.2631   , 0         , 10.2631   ]\n                               [10.2631   , 10.2631   , 0         ]\n        unit cell volume     : 2162.1 Bohr³\n    \n        atoms                : Si₁₆\n        atom potentials      : ElementPsp(Si, psp=\"hgh/lda/si-q4\")\n    \n        num. electrons       : 64\n        spin polarization    : none\n        temperature          : 0 Ha\n    \n        terms                : Kinetic()\n                               AtomicLocal()\n                               AtomicNonlocal()\n                               Ewald()\n                               PspCorrection()\n                               Hartree()\n                               Xc(:lda_xc_teter93)"
     },
     "metadata": {},
     "execution_count": 3
    }
   ],
   "cell_type": "code",
   "source": [
    "model = model_LDA(lattice, atoms)\n",
    "basis = PlaneWaveBasis(model; Ecut=5, kgrid=(1, 1, 1))"
   ],
   "metadata": {},
   "execution_count": 3
  },
  {
   "cell_type": "markdown",
   "source": [
    "Find the ground state using direct minimisation (always using SCF is boring ...)"
   ],
   "metadata": {}
  },
  {
   "outputs": [
    {
     "name": "stdout",
     "output_type": "stream",
     "text": [
      "Iter     Function value   Gradient norm \n",
      "     0     1.115828e+02     1.510912e+00\n",
      " * time: 0.43412208557128906\n",
      "     1     1.082512e+01     8.539121e-01\n",
      " * time: 1.5703039169311523\n",
      "     2    -1.225656e+01     9.976659e-01\n",
      " * time: 1.6737060546875\n",
      "     3    -3.433019e+01     6.866808e-01\n",
      " * time: 1.7497351169586182\n",
      "     4    -4.812863e+01     5.199914e-01\n",
      " * time: 1.8307180404663086\n",
      "     5    -5.724812e+01     1.765181e-01\n",
      " * time: 1.9212701320648193\n",
      "     6    -5.996681e+01     8.073941e-02\n",
      " * time: 1.9977951049804688\n",
      "     7    -6.087872e+01     5.921618e-02\n",
      " * time: 2.050239086151123\n",
      "     8    -6.125483e+01     6.185413e-02\n",
      " * time: 2.101639986038208\n",
      "     9    -6.155638e+01     3.062553e-02\n",
      " * time: 2.1543490886688232\n",
      "    10    -6.176771e+01     2.654657e-02\n",
      " * time: 2.2063279151916504\n",
      "    11    -6.192530e+01     2.083807e-02\n",
      " * time: 2.2764620780944824\n",
      "    12    -6.201218e+01     2.022007e-02\n",
      " * time: 2.3333020210266113\n",
      "    13    -6.208941e+01     1.568147e-02\n",
      " * time: 2.38611102104187\n",
      "    14    -6.213399e+01     1.362811e-02\n",
      " * time: 2.440432071685791\n",
      "    15    -6.217103e+01     9.577351e-03\n",
      " * time: 2.4930920600891113\n",
      "    16    -6.219149e+01     7.066999e-03\n",
      " * time: 2.557827949523926\n",
      "    17    -6.220449e+01     6.609281e-03\n",
      " * time: 2.6106560230255127\n",
      "    18    -6.221202e+01     4.893315e-03\n",
      " * time: 2.6656429767608643\n",
      "    19    -6.221679e+01     4.598175e-03\n",
      " * time: 2.7199981212615967\n",
      "    20    -6.222042e+01     4.735658e-03\n",
      " * time: 2.77319598197937\n",
      "    21    -6.222409e+01     6.152120e-03\n",
      " * time: 2.834152936935425\n",
      "    22    -6.222835e+01     6.722292e-03\n",
      " * time: 2.8874309062957764\n",
      "    23    -6.223390e+01     6.379792e-03\n",
      " * time: 2.9464690685272217\n",
      "    24    -6.224064e+01     5.805076e-03\n",
      " * time: 3.006864070892334\n",
      "    25    -6.224703e+01     5.742976e-03\n",
      " * time: 3.0667340755462646\n",
      "    26    -6.225253e+01     4.365984e-03\n",
      " * time: 3.131232976913452\n",
      "    27    -6.225593e+01     3.487163e-03\n",
      " * time: 3.1862599849700928\n",
      "    28    -6.225804e+01     2.717960e-03\n",
      " * time: 3.243288040161133\n",
      "    29    -6.225923e+01     2.461876e-03\n",
      " * time: 3.3002119064331055\n",
      "    30    -6.226004e+01     1.878457e-03\n",
      " * time: 3.3561699390411377\n",
      "    31    -6.226060e+01     1.514420e-03\n",
      " * time: 3.419693946838379\n",
      "    32    -6.226098e+01     1.157252e-03\n",
      " * time: 3.4729599952697754\n",
      "    33    -6.226124e+01     8.542132e-04\n",
      " * time: 3.5261189937591553\n",
      "    34    -6.226144e+01     7.125004e-04\n",
      " * time: 3.5783629417419434\n",
      "    35    -6.226154e+01     6.398861e-04\n",
      " * time: 3.6317670345306396\n",
      "    36    -6.226160e+01     3.672929e-04\n",
      " * time: 3.6933960914611816\n",
      "    37    -6.226163e+01     2.940112e-04\n",
      " * time: 3.751497983932495\n",
      "    38    -6.226165e+01     1.785429e-04\n",
      " * time: 3.806035041809082\n",
      "    39    -6.226166e+01     1.451452e-04\n",
      " * time: 3.861082077026367\n",
      "    40    -6.226166e+01     1.227491e-04\n",
      " * time: 3.919166088104248\n",
      "    41    -6.226166e+01     8.343441e-05\n",
      " * time: 3.9823849201202393\n",
      "    42    -6.226166e+01     6.049351e-05\n",
      " * time: 4.039268970489502\n",
      "    43    -6.226166e+01     5.509658e-05\n",
      " * time: 4.092426061630249\n",
      "    44    -6.226167e+01     4.935478e-05\n",
      " * time: 4.147305011749268\n",
      "    45    -6.226167e+01     3.423251e-05\n",
      " * time: 4.202697992324829\n",
      "    46    -6.226167e+01     2.270958e-05\n",
      " * time: 4.2627339363098145\n",
      "    47    -6.226167e+01     1.646778e-05\n",
      " * time: 4.315114974975586\n",
      "    48    -6.226167e+01     1.877707e-05\n",
      " * time: 4.369081974029541\n",
      "    49    -6.226167e+01     1.174109e-05\n",
      " * time: 4.425290107727051\n",
      "    50    -6.226167e+01     1.118000e-05\n",
      " * time: 4.4845130443573\n",
      "    51    -6.226167e+01     6.482866e-06\n",
      " * time: 4.547573089599609\n",
      "    52    -6.226167e+01     4.539287e-06\n",
      " * time: 4.603760004043579\n",
      "    53    -6.226167e+01     3.274379e-06\n",
      " * time: 4.660846948623657\n"
     ]
    }
   ],
   "cell_type": "code",
   "source": [
    "scfres = direct_minimization(basis, tol=1e-5);"
   ],
   "metadata": {},
   "execution_count": 4
  },
  {
   "outputs": [
    {
     "output_type": "execute_result",
     "data": {
      "text/plain": "Energy breakdown (in Ha):\n    Kinetic             25.7671076\n    AtomicLocal         -18.8557723\n    AtomicNonlocal      14.8522673\n    Ewald               -67.1831486\n    PspCorrection       -2.3569765\n    Hartree             4.8485387 \n    Xc                  -19.3336826\n\n    total               -62.261666456746"
     },
     "metadata": {},
     "execution_count": 5
    }
   ],
   "cell_type": "code",
   "source": [
    "scfres.energies"
   ],
   "metadata": {},
   "execution_count": 5
  }
 ],
 "nbformat_minor": 3,
 "metadata": {
  "language_info": {
   "file_extension": ".jl",
   "mimetype": "application/julia",
   "name": "julia",
   "version": "1.7.2"
  },
  "kernelspec": {
   "name": "julia-1.7",
   "display_name": "Julia 1.7.2",
   "language": "julia"
  }
 },
 "nbformat": 4
}
