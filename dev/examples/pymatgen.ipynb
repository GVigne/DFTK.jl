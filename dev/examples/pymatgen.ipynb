{
 "cells": [
  {
   "cell_type": "markdown",
   "source": [
    "# Creating supercells with pymatgen\n",
    "\n",
    "The [Pymatgen](https://pymatgen.org/) python library allows to setup\n",
    "solid-state calculations using a flexible set of classes as well as an API\n",
    "to an online data base of structures. Its `Structure` and `Lattice`\n",
    "objects are directly supported by the DFTK `load_atoms` and `load_lattice`\n",
    "functions, such that DFTK may be readily used to run calculation on systems\n",
    "defined in pymatgen. Using the `pymatgen_structure` function a conversion\n",
    "from DFTK to pymatgen structures is also possible. In the following we\n",
    "use this to create a silicon supercell and find its LDA ground state\n",
    "using direct minimisation. To run this example Julia's `PyCall` package\n",
    "needs to be able to find an installation of `pymatgen`."
   ],
   "metadata": {}
  },
  {
   "cell_type": "markdown",
   "source": [
    "First we setup the silicon lattice in DFTK."
   ],
   "metadata": {}
  },
  {
   "outputs": [],
   "cell_type": "code",
   "source": [
    "using DFTK\n",
    "\n",
    "a = 10.263141334305942  # Lattice constant in Bohr\n",
    "lattice = a / 2 .* [[0 1 1.]; [1 0 1.]; [1 1 0.]]\n",
    "Si = ElementPsp(:Si, psp=load_psp(\"hgh/lda/Si-q4\"))\n",
    "atoms = [Si => [ones(3)/8, -ones(3)/8]];"
   ],
   "metadata": {},
   "execution_count": 1
  },
  {
   "cell_type": "markdown",
   "source": [
    "Next we make a `[2, 2, 2]` supercell using pymatgen"
   ],
   "metadata": {}
  },
  {
   "outputs": [
    {
     "name": "stdout",
     "output_type": "stream",
     "text": [
      "┌ Warning: `vendor()` is deprecated, use `BLAS.get_config()` and inspect the output instead\n",
      "│   caller = npyinitialize() at numpy.jl:67\n",
      "└ @ PyCall /home/runner/.julia/packages/PyCall/3fwVL/src/numpy.jl:67\n"
     ]
    }
   ],
   "cell_type": "code",
   "source": [
    "pystruct = pymatgen_structure(lattice, atoms)\n",
    "pystruct.make_supercell([2, 2, 2])\n",
    "lattice = load_lattice(pystruct)\n",
    "atoms = [Si => [s.frac_coords for s in pystruct.sites]];"
   ],
   "metadata": {},
   "execution_count": 2
  },
  {
   "cell_type": "markdown",
   "source": [
    "Setup an LDA model and discretize using\n",
    "a single k-point and a small `Ecut` of 5 Hartree."
   ],
   "metadata": {}
  },
  {
   "outputs": [
    {
     "output_type": "execute_result",
     "data": {
      "text/plain": "PlaneWaveBasis discretization:\n    Ecut                 : 5.0 Ha\n    fft_size             : (32, 32, 32)\n    kgrid type           : Monkhorst-Pack\n    kgrid                : [1, 1, 1]\n    num. irred. kpoints  : 1\n\n    Discretized Model(lda_xc_teter93, 3D):\n        lattice (in Bohr)    : [0         , 10.2631   , 10.2631   ]\n                               [10.2631   , 0         , 10.2631   ]\n                               [10.2631   , 10.2631   , 0         ]\n        unit cell volume     : 2162.1 Bohr³\n    \n        atoms                : Si₁₆\n        atom potentials      : ElementPsp(Si, psp=hgh/lda/si-q4)\n    \n        num. electrons       : 64\n        spin polarization    : none\n        temperature          : 0 Ha\n    \n        terms                : Kinetic(1)\n                               AtomicLocal()\n                               AtomicNonlocal()\n                               Ewald()\n                               PspCorrection()\n                               Hartree(1)\n                               Xc([:lda_xc_teter93], 1, nothing)"
     },
     "metadata": {},
     "execution_count": 3
    }
   ],
   "cell_type": "code",
   "source": [
    "model = model_LDA(lattice, atoms)\n",
    "basis = PlaneWaveBasis(model; Ecut=5, kgrid=(1, 1, 1))"
   ],
   "metadata": {},
   "execution_count": 3
  },
  {
   "cell_type": "markdown",
   "source": [
    "Find the ground state using direct minimisation (always using SCF is boring ...)"
   ],
   "metadata": {}
  },
  {
   "outputs": [
    {
     "name": "stdout",
     "output_type": "stream",
     "text": [
      "Iter     Function value   Gradient norm \n",
      "     0     1.121709e+02     1.499945e+00\n",
      " * time: 0.7726540565490723\n",
      "     1     1.096259e+01     8.165785e-01\n",
      " * time: 2.059311866760254\n",
      "     2    -1.176505e+01     9.404673e-01\n",
      " * time: 2.659960985183716\n",
      "     3    -3.398454e+01     7.812956e-01\n",
      " * time: 3.5493788719177246\n",
      "     4    -4.742439e+01     5.946219e-01\n",
      " * time: 4.454025983810425\n",
      "     5    -5.673524e+01     2.531876e-01\n",
      " * time: 5.325041055679321\n",
      "     6    -5.956936e+01     2.330382e-01\n",
      " * time: 5.913683891296387\n",
      "     7    -6.076760e+01     1.072037e-01\n",
      " * time: 6.507261037826538\n",
      "     8    -6.133075e+01     4.034690e-02\n",
      " * time: 7.115097999572754\n",
      "     9    -6.164173e+01     3.698958e-02\n",
      " * time: 7.71033787727356\n",
      "    10    -6.182025e+01     4.084489e-02\n",
      " * time: 8.306405067443848\n",
      "    11    -6.194211e+01     2.396300e-02\n",
      " * time: 8.895199060440063\n",
      "    12    -6.202309e+01     1.940550e-02\n",
      " * time: 9.497601985931396\n",
      "    13    -6.208795e+01     1.643955e-02\n",
      " * time: 10.087964057922363\n",
      "    14    -6.212682e+01     1.186262e-02\n",
      " * time: 10.681902885437012\n",
      "    15    -6.216194e+01     1.189448e-02\n",
      " * time: 11.271146059036255\n",
      "    16    -6.218188e+01     9.566930e-03\n",
      " * time: 11.870428085327148\n",
      "    17    -6.219859e+01     1.047863e-02\n",
      " * time: 12.458447933197021\n",
      "    18    -6.221063e+01     7.050958e-03\n",
      " * time: 13.047647953033447\n",
      "    19    -6.222078e+01     6.393082e-03\n",
      " * time: 13.637817859649658\n",
      "    20    -6.222903e+01     5.533745e-03\n",
      " * time: 14.23818302154541\n",
      "    21    -6.223707e+01     4.999878e-03\n",
      " * time: 14.827269077301025\n",
      "    22    -6.224473e+01     4.900922e-03\n",
      " * time: 15.419291019439697\n",
      "    23    -6.225073e+01     4.936462e-03\n",
      " * time: 16.016834020614624\n",
      "    24    -6.225487e+01     3.368495e-03\n",
      " * time: 16.606117963790894\n",
      "    25    -6.225741e+01     2.797293e-03\n",
      " * time: 17.205528020858765\n",
      "    26    -6.225892e+01     2.221739e-03\n",
      " * time: 17.796876907348633\n",
      "    27    -6.225982e+01     1.913224e-03\n",
      " * time: 18.386523962020874\n",
      "    28    -6.226039e+01     1.515358e-03\n",
      " * time: 18.996104955673218\n",
      "    29    -6.226079e+01     1.345491e-03\n",
      " * time: 19.59547996520996\n",
      "    30    -6.226110e+01     1.055366e-03\n",
      " * time: 20.18570590019226\n",
      "    31    -6.226133e+01     1.108740e-03\n",
      " * time: 20.777075052261353\n",
      "    32    -6.226148e+01     6.305088e-04\n",
      " * time: 21.366400957107544\n",
      "    33    -6.226157e+01     4.293089e-04\n",
      " * time: 21.968733072280884\n",
      "    34    -6.226162e+01     3.061906e-04\n",
      " * time: 22.55807590484619\n",
      "    35    -6.226164e+01     2.172091e-04\n",
      " * time: 23.14988088607788\n",
      "    36    -6.226166e+01     1.709178e-04\n",
      " * time: 23.74558997154236\n",
      "    37    -6.226166e+01     1.519142e-04\n",
      " * time: 24.335586071014404\n",
      "    38    -6.226166e+01     9.338398e-05\n",
      " * time: 24.9356050491333\n",
      "    39    -6.226166e+01     8.552103e-05\n",
      " * time: 25.524950981140137\n",
      "    40    -6.226166e+01     7.130694e-05\n",
      " * time: 26.114665985107422\n",
      "    41    -6.226167e+01     5.068413e-05\n",
      " * time: 26.707640886306763\n",
      "    42    -6.226167e+01     3.705681e-05\n",
      " * time: 27.305710077285767\n",
      "    43    -6.226167e+01     2.909127e-05\n",
      " * time: 27.904456853866577\n",
      "    44    -6.226167e+01     2.732792e-05\n",
      " * time: 28.49225401878357\n",
      "    45    -6.226167e+01     1.723639e-05\n",
      " * time: 29.08235001564026\n",
      "    46    -6.226167e+01     1.163717e-05\n",
      " * time: 29.683731079101562\n",
      "    47    -6.226167e+01     9.315201e-06\n",
      " * time: 30.272737979888916\n",
      "    48    -6.226167e+01     6.131850e-06\n",
      " * time: 30.885047912597656\n",
      "    49    -6.226167e+01     4.065624e-06\n",
      " * time: 31.545438051223755\n",
      "    50    -6.226167e+01     3.303270e-06\n",
      " * time: 32.22357201576233\n"
     ]
    }
   ],
   "cell_type": "code",
   "source": [
    "scfres = direct_minimization(basis, tol=1e-5);"
   ],
   "metadata": {},
   "execution_count": 4
  },
  {
   "outputs": [
    {
     "output_type": "execute_result",
     "data": {
      "text/plain": "Energy breakdown (in Ha):\n    Kinetic             25.7671062\n    AtomicLocal         -18.8557645\n    AtomicNonlocal      14.8522627\n    Ewald               -67.1831486\n    PspCorrection       -2.3569765\n    Hartree             4.8485358 \n    Xc                  -19.3336815\n\n    total               -62.261666457776"
     },
     "metadata": {},
     "execution_count": 5
    }
   ],
   "cell_type": "code",
   "source": [
    "scfres.energies"
   ],
   "metadata": {},
   "execution_count": 5
  }
 ],
 "nbformat_minor": 3,
 "metadata": {
  "language_info": {
   "file_extension": ".jl",
   "mimetype": "application/julia",
   "name": "julia",
   "version": "1.7.0"
  },
  "kernelspec": {
   "name": "julia-1.7",
   "display_name": "Julia 1.7.0",
   "language": "julia"
  }
 },
 "nbformat": 4
}
