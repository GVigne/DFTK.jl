{
 "cells": [
  {
   "cell_type": "markdown",
   "source": [
    "# Creating supercells with pymatgen\n",
    "\n",
    "The [Pymatgen](https://pymatgen.org/) python library allows to setup\n",
    "solid-state calculations using a flexible set of classes as well as an API\n",
    "to an online data base of structures. Its `Structure` and `Lattice`\n",
    "objects are directly supported by the DFTK `load_atoms` and `load_lattice`\n",
    "functions, such that DFTK may be readily used to run calculation on systems\n",
    "defined in pymatgen. Using the `pymatgen_structure` function a conversion\n",
    "from DFTK to pymatgen structures is also possible. In the following we\n",
    "use this to create a silicon supercell and find its LDA ground state\n",
    "using direct minimisation. To run this example Julia's `PyCall` package\n",
    "needs to be able to find an installation of `pymatgen`."
   ],
   "metadata": {}
  },
  {
   "cell_type": "markdown",
   "source": [
    "First we setup the silicon lattice in DFTK."
   ],
   "metadata": {}
  },
  {
   "outputs": [],
   "cell_type": "code",
   "source": [
    "using DFTK\n",
    "\n",
    "a = 10.263141334305942  # Lattice constant in Bohr\n",
    "lattice = a / 2 .* [[0 1 1.]; [1 0 1.]; [1 1 0.]]\n",
    "Si = ElementPsp(:Si, psp=load_psp(\"hgh/lda/Si-q4\"))\n",
    "atoms = [Si => [ones(3)/8, -ones(3)/8]];"
   ],
   "metadata": {},
   "execution_count": 1
  },
  {
   "cell_type": "markdown",
   "source": [
    "Next we make a `[2, 2, 2]` supercell using pymatgen"
   ],
   "metadata": {}
  },
  {
   "outputs": [
    {
     "name": "stdout",
     "output_type": "stream",
     "text": [
      "┌ Warning: `vendor()` is deprecated, use `BLAS.get_config()` and inspect the output instead\n",
      "│   caller = npyinitialize() at numpy.jl:67\n",
      "└ @ PyCall /home/runner/.julia/packages/PyCall/L0fLP/src/numpy.jl:67\n"
     ]
    }
   ],
   "cell_type": "code",
   "source": [
    "pystruct = pymatgen_structure(lattice, atoms)\n",
    "pystruct.make_supercell([2, 2, 2])\n",
    "lattice = load_lattice(pystruct)\n",
    "atoms = [Si => [s.frac_coords for s in pystruct.sites]];"
   ],
   "metadata": {},
   "execution_count": 2
  },
  {
   "cell_type": "markdown",
   "source": [
    "Setup an LDA model and discretize using\n",
    "a single k-point and a small `Ecut` of 5 Hartree."
   ],
   "metadata": {}
  },
  {
   "outputs": [
    {
     "output_type": "execute_result",
     "data": {
      "text/plain": "PlaneWaveBasis discretization:\n    Ecut                 : 5.0 Ha\n    fft_size             : (32, 32, 32), 32768 total points\n    kgrid type           : Monkhorst-Pack\n    kgrid                : [1, 1, 1]\n    num. irred. kpoints  : 1\n\n    Discretized Model(lda_xc_teter93, 3D):\n        lattice (in Bohr)    : [0         , 10.2631   , 10.2631   ]\n                               [10.2631   , 0         , 10.2631   ]\n                               [10.2631   , 10.2631   , 0         ]\n        unit cell volume     : 2162.1 Bohr³\n    \n        atoms                : Si₁₆\n        atom potentials      : ElementPsp(Si, psp=\"hgh/lda/si-q4\")\n    \n        num. electrons       : 64\n        spin polarization    : none\n        temperature          : 0 Ha\n    \n        terms                : Kinetic()\n                               AtomicLocal()\n                               AtomicNonlocal()\n                               Ewald()\n                               PspCorrection()\n                               Hartree()\n                               Xc(:lda_xc_teter93)"
     },
     "metadata": {},
     "execution_count": 3
    }
   ],
   "cell_type": "code",
   "source": [
    "model = model_LDA(lattice, atoms)\n",
    "basis = PlaneWaveBasis(model; Ecut=5, kgrid=(1, 1, 1))"
   ],
   "metadata": {},
   "execution_count": 3
  },
  {
   "cell_type": "markdown",
   "source": [
    "Find the ground state using direct minimisation (always using SCF is boring ...)"
   ],
   "metadata": {}
  },
  {
   "outputs": [
    {
     "name": "stdout",
     "output_type": "stream",
     "text": [
      "Iter     Function value   Gradient norm \n",
      "     0     1.126296e+02     1.363715e+00\n",
      " * time: 0.5358009338378906\n",
      "     1     1.026921e+01     7.935549e-01\n",
      " * time: 1.2791728973388672\n",
      "     2    -1.257089e+01     8.982430e-01\n",
      " * time: 1.3453669548034668\n",
      "     3    -3.442370e+01     6.689797e-01\n",
      " * time: 1.4488768577575684\n",
      "     4    -4.807416e+01     5.211659e-01\n",
      " * time: 1.5514910221099854\n",
      "     5    -5.714221e+01     1.760893e-01\n",
      " * time: 1.6543569564819336\n",
      "     6    -5.981483e+01     1.244888e-01\n",
      " * time: 1.847506046295166\n",
      "     7    -6.086612e+01     5.670426e-02\n",
      " * time: 1.924957036972046\n",
      "     8    -6.132617e+01     4.420828e-02\n",
      " * time: 2.0005269050598145\n",
      "     9    -6.161837e+01     3.831688e-02\n",
      " * time: 2.078310012817383\n",
      "    10    -6.183810e+01     2.357776e-02\n",
      " * time: 2.1548349857330322\n",
      "    11    -6.199323e+01     1.658755e-02\n",
      " * time: 2.681318998336792\n",
      "    12    -6.206679e+01     1.420210e-02\n",
      " * time: 2.7455170154571533\n",
      "    13    -6.212036e+01     1.349772e-02\n",
      " * time: 2.8082380294799805\n",
      "    14    -6.215381e+01     1.148621e-02\n",
      " * time: 2.873094081878662\n",
      "    15    -6.217372e+01     8.459661e-03\n",
      " * time: 2.9378669261932373\n",
      "    16    -6.218496e+01     7.765617e-03\n",
      " * time: 3.0024750232696533\n",
      "    17    -6.219256e+01     5.146763e-03\n",
      " * time: 3.34407901763916\n",
      "    18    -6.219847e+01     4.806654e-03\n",
      " * time: 3.4073660373687744\n",
      "    19    -6.220297e+01     5.083053e-03\n",
      " * time: 3.4717578887939453\n",
      "    20    -6.220753e+01     5.610410e-03\n",
      " * time: 3.533987045288086\n",
      "    21    -6.221255e+01     6.071167e-03\n",
      " * time: 3.609133005142212\n",
      "    22    -6.221830e+01     6.507308e-03\n",
      " * time: 3.6708240509033203\n",
      "    23    -6.222478e+01     7.041927e-03\n",
      " * time: 3.7333099842071533\n",
      "    24    -6.223156e+01     6.159772e-03\n",
      " * time: 3.795422077178955\n",
      "    25    -6.223825e+01     6.206142e-03\n",
      " * time: 3.8692469596862793\n",
      "    26    -6.224448e+01     6.528435e-03\n",
      " * time: 3.93145489692688\n",
      "    27    -6.224946e+01     5.868290e-03\n",
      " * time: 3.9946439266204834\n",
      "    28    -6.225316e+01     4.854228e-03\n",
      " * time: 4.064807891845703\n",
      "    29    -6.225595e+01     3.337378e-03\n",
      " * time: 4.128391981124878\n",
      "    30    -6.225814e+01     2.720988e-03\n",
      " * time: 4.19207501411438\n",
      "    31    -6.225967e+01     2.315300e-03\n",
      " * time: 4.255797863006592\n",
      "    32    -6.226052e+01     1.608754e-03\n",
      " * time: 4.325885057449341\n",
      "    33    -6.226105e+01     1.533592e-03\n",
      " * time: 4.388952016830444\n",
      "    34    -6.226135e+01     1.056123e-03\n",
      " * time: 4.451933860778809\n",
      "    35    -6.226151e+01     7.139770e-04\n",
      " * time: 4.5134758949279785\n",
      "    36    -6.226158e+01     4.769225e-04\n",
      " * time: 4.583083868026733\n",
      "    37    -6.226162e+01     2.709362e-04\n",
      " * time: 4.645612001419067\n",
      "    38    -6.226163e+01     2.290802e-04\n",
      " * time: 4.7079150676727295\n",
      "    39    -6.226165e+01     1.637058e-04\n",
      " * time: 4.769721031188965\n",
      "    40    -6.226165e+01     1.663894e-04\n",
      " * time: 4.837992906570435\n",
      "    41    -6.226166e+01     1.339620e-04\n",
      " * time: 4.89949107170105\n",
      "    42    -6.226166e+01     9.605979e-05\n",
      " * time: 4.961817979812622\n",
      "    43    -6.226166e+01     8.478334e-05\n",
      " * time: 5.025462865829468\n",
      "    44    -6.226166e+01     7.004502e-05\n",
      " * time: 5.093853950500488\n",
      "    45    -6.226167e+01     5.017813e-05\n",
      " * time: 5.156362056732178\n",
      "    46    -6.226167e+01     4.053064e-05\n",
      " * time: 5.218983888626099\n",
      "    47    -6.226167e+01     2.475068e-05\n",
      " * time: 5.286931037902832\n",
      "    48    -6.226167e+01     1.940507e-05\n",
      " * time: 5.349524974822998\n",
      "    49    -6.226167e+01     1.209892e-05\n",
      " * time: 5.411175012588501\n",
      "    50    -6.226167e+01     1.030937e-05\n",
      " * time: 5.474159002304077\n",
      "    51    -6.226167e+01     8.452771e-06\n",
      " * time: 5.542891025543213\n",
      "    52    -6.226167e+01     6.861742e-06\n",
      " * time: 5.604995012283325\n",
      "    53    -6.226167e+01     5.455467e-06\n",
      " * time: 5.667940855026245\n",
      "    54    -6.226167e+01     4.394228e-06\n",
      " * time: 5.729840993881226\n",
      "    55    -6.226167e+01     4.330998e-06\n",
      " * time: 5.79840087890625\n",
      "    56    -6.226167e+01     3.570492e-06\n",
      " * time: 5.862009048461914\n",
      "    57    -6.226167e+01     3.124125e-06\n",
      " * time: 5.92497992515564\n"
     ]
    }
   ],
   "cell_type": "code",
   "source": [
    "scfres = direct_minimization(basis, tol=1e-5);"
   ],
   "metadata": {},
   "execution_count": 4
  },
  {
   "outputs": [
    {
     "output_type": "execute_result",
     "data": {
      "text/plain": "Energy breakdown (in Ha):\n    Kinetic             25.7671064\n    AtomicLocal         -18.8557681\n    AtomicNonlocal      14.8522654\n    Ewald               -67.1831486\n    PspCorrection       -2.3569765\n    Hartree             4.8485370 \n    Xc                  -19.3336819\n\n    total               -62.261666461779"
     },
     "metadata": {},
     "execution_count": 5
    }
   ],
   "cell_type": "code",
   "source": [
    "scfres.energies"
   ],
   "metadata": {},
   "execution_count": 5
  }
 ],
 "nbformat_minor": 3,
 "metadata": {
  "language_info": {
   "file_extension": ".jl",
   "mimetype": "application/julia",
   "name": "julia",
   "version": "1.7.2"
  },
  "kernelspec": {
   "name": "julia-1.7",
   "display_name": "Julia 1.7.2",
   "language": "julia"
  }
 },
 "nbformat": 4
}
