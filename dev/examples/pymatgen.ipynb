{
 "cells": [
  {
   "cell_type": "markdown",
   "source": [
    "# Creating supercells with pymatgen\n",
    "\n",
    "The [Pymatgen](https://pymatgen.org/) python library allows to setup\n",
    "solid-state calculations using a flexible set of classes as well as an API\n",
    "to an online data base of structures. Its `Structure` and `Lattice`\n",
    "objects are directly supported by the DFTK `load_atoms` and `load_lattice`\n",
    "functions, such that DFTK may be readily used to run calculation on systems\n",
    "defined in pymatgen. Using the `pymatgen_structure` function a conversion\n",
    "from DFTK to pymatgen structures is also possible. In the following we\n",
    "use this to create a silicon supercell and find its LDA ground state\n",
    "using direct minimisation. To run this example Julia's `PyCall` package\n",
    "needs to be able to find an installation of `pymatgen`."
   ],
   "metadata": {}
  },
  {
   "cell_type": "markdown",
   "source": [
    "First we setup the silicon lattice in DFTK."
   ],
   "metadata": {}
  },
  {
   "outputs": [],
   "cell_type": "code",
   "source": [
    "using DFTK\n",
    "\n",
    "a = 10.263141334305942  # Lattice constant in Bohr\n",
    "lattice = a / 2 .* [[0 1 1.]; [1 0 1.]; [1 1 0.]]\n",
    "Si = ElementPsp(:Si, psp=load_psp(\"hgh/lda/Si-q4\"))\n",
    "atoms = [Si => [ones(3)/8, -ones(3)/8]];"
   ],
   "metadata": {},
   "execution_count": 1
  },
  {
   "cell_type": "markdown",
   "source": [
    "Next we make a `[2, 2, 2]` supercell using pymatgen"
   ],
   "metadata": {}
  },
  {
   "outputs": [
    {
     "name": "stdout",
     "output_type": "stream",
     "text": [
      "┌ Warning: `vendor()` is deprecated, use `BLAS.get_config()` and inspect the output instead\n",
      "│   caller = npyinitialize() at numpy.jl:67\n",
      "└ @ PyCall /home/runner/.julia/packages/PyCall/L0fLP/src/numpy.jl:67\n"
     ]
    }
   ],
   "cell_type": "code",
   "source": [
    "pystruct = pymatgen_structure(lattice, atoms)\n",
    "pystruct.make_supercell([2, 2, 2])\n",
    "lattice = load_lattice(pystruct)\n",
    "atoms = [Si => [s.frac_coords for s in pystruct.sites]];"
   ],
   "metadata": {},
   "execution_count": 2
  },
  {
   "cell_type": "markdown",
   "source": [
    "Setup an LDA model and discretize using\n",
    "a single k-point and a small `Ecut` of 5 Hartree."
   ],
   "metadata": {}
  },
  {
   "outputs": [
    {
     "output_type": "execute_result",
     "data": {
      "text/plain": "PlaneWaveBasis discretization:\n    Ecut                 : 5.0 Ha\n    fft_size             : (32, 32, 32), 32768 total points\n    kgrid type           : Monkhorst-Pack\n    kgrid                : [1, 1, 1]\n    num. irred. kpoints  : 1\n\n    Discretized Model(lda_xc_teter93, 3D):\n        lattice (in Bohr)    : [0         , 10.2631   , 10.2631   ]\n                               [10.2631   , 0         , 10.2631   ]\n                               [10.2631   , 10.2631   , 0         ]\n        unit cell volume     : 2162.1 Bohr³\n    \n        atoms                : Si₁₆\n        atom potentials      : ElementPsp(Si, psp=\"hgh/lda/si-q4\")\n    \n        num. electrons       : 64\n        spin polarization    : none\n        temperature          : 0 Ha\n    \n        terms                : Kinetic()\n                               AtomicLocal()\n                               AtomicNonlocal()\n                               Ewald()\n                               PspCorrection()\n                               Hartree()\n                               Xc(:lda_xc_teter93)"
     },
     "metadata": {},
     "execution_count": 3
    }
   ],
   "cell_type": "code",
   "source": [
    "model = model_LDA(lattice, atoms)\n",
    "basis = PlaneWaveBasis(model; Ecut=5, kgrid=(1, 1, 1))"
   ],
   "metadata": {},
   "execution_count": 3
  },
  {
   "cell_type": "markdown",
   "source": [
    "Find the ground state using direct minimisation (always using SCF is boring ...)"
   ],
   "metadata": {}
  },
  {
   "outputs": [
    {
     "name": "stdout",
     "output_type": "stream",
     "text": [
      "Iter     Function value   Gradient norm \n",
      "     0     1.117103e+02     1.524990e+00\n",
      " * time: 0.48702096939086914\n",
      "     1     9.508817e+00     9.107963e-01\n",
      " * time: 1.8572759628295898\n",
      "     2    -1.152404e+01     1.068910e+00\n",
      " * time: 1.9325969219207764\n",
      "     3    -3.442661e+01     8.060679e-01\n",
      " * time: 2.036226987838745\n",
      "     4    -4.755594e+01     5.667253e-01\n",
      " * time: 2.1654138565063477\n",
      "     5    -5.702074e+01     1.699592e-01\n",
      " * time: 2.2505879402160645\n",
      "     6    -5.987860e+01     1.304607e-01\n",
      " * time: 2.314117908477783\n",
      "     7    -6.096622e+01     5.642782e-02\n",
      " * time: 2.377722978591919\n",
      "     8    -6.139924e+01     4.677515e-02\n",
      " * time: 2.448861837387085\n",
      "     9    -6.163582e+01     4.035564e-02\n",
      " * time: 2.5305538177490234\n",
      "    10    -6.183212e+01     3.036949e-02\n",
      " * time: 2.594031810760498\n",
      "    11    -6.196840e+01     2.612459e-02\n",
      " * time: 2.6575047969818115\n",
      "    12    -6.204363e+01     1.705716e-02\n",
      " * time: 2.721946954727173\n",
      "    13    -6.210246e+01     1.329130e-02\n",
      " * time: 2.786146879196167\n",
      "    14    -6.214346e+01     1.190442e-02\n",
      " * time: 2.8658459186553955\n",
      "    15    -6.217223e+01     1.210648e-02\n",
      " * time: 2.9290239810943604\n",
      "    16    -6.218920e+01     9.305545e-03\n",
      " * time: 2.9923758506774902\n",
      "    17    -6.220070e+01     6.113604e-03\n",
      " * time: 3.0544610023498535\n",
      "    18    -6.220903e+01     6.627984e-03\n",
      " * time: 3.126459836959839\n",
      "    19    -6.221552e+01     6.480611e-03\n",
      " * time: 3.1976850032806396\n",
      "    20    -6.222149e+01     6.017716e-03\n",
      " * time: 3.260957956314087\n",
      "    21    -6.222840e+01     5.814450e-03\n",
      " * time: 3.3246757984161377\n",
      "    22    -6.223560e+01     6.478475e-03\n",
      " * time: 3.3888678550720215\n",
      "    23    -6.224228e+01     6.642142e-03\n",
      " * time: 3.4640707969665527\n",
      "    24    -6.224811e+01     5.341599e-03\n",
      " * time: 3.527411937713623\n",
      "    25    -6.225249e+01     4.191852e-03\n",
      " * time: 3.5923118591308594\n",
      "    26    -6.225542e+01     3.773697e-03\n",
      " * time: 3.6560800075531006\n",
      "    27    -6.225733e+01     2.730947e-03\n",
      " * time: 3.7189719676971436\n",
      "    28    -6.225868e+01     2.524394e-03\n",
      " * time: 3.790031909942627\n",
      "    29    -6.225969e+01     2.247525e-03\n",
      " * time: 3.8534979820251465\n",
      "    30    -6.226044e+01     1.789185e-03\n",
      " * time: 3.917524814605713\n",
      "    31    -6.226098e+01     1.233464e-03\n",
      " * time: 3.980916976928711\n",
      "    32    -6.226130e+01     8.936662e-04\n",
      " * time: 4.0445098876953125\n",
      "    33    -6.226149e+01     6.152200e-04\n",
      " * time: 4.11550498008728\n",
      "    34    -6.226159e+01     4.175643e-04\n",
      " * time: 4.178785800933838\n",
      "    35    -6.226163e+01     3.158927e-04\n",
      " * time: 4.241626977920532\n",
      "    36    -6.226165e+01     2.251470e-04\n",
      " * time: 4.305419921875\n",
      "    37    -6.226166e+01     1.913257e-04\n",
      " * time: 4.369103908538818\n",
      "    38    -6.226166e+01     1.005112e-04\n",
      " * time: 4.440486907958984\n",
      "    39    -6.226166e+01     7.846607e-05\n",
      " * time: 4.5040788650512695\n",
      "    40    -6.226166e+01     6.329075e-05\n",
      " * time: 4.567199945449829\n",
      "    41    -6.226167e+01     5.207360e-05\n",
      " * time: 4.630586862564087\n",
      "    42    -6.226167e+01     4.807345e-05\n",
      " * time: 4.6940248012542725\n",
      "    43    -6.226167e+01     3.654779e-05\n",
      " * time: 4.764984846115112\n",
      "    44    -6.226167e+01     2.838622e-05\n",
      " * time: 4.828145980834961\n",
      "    45    -6.226167e+01     2.215875e-05\n",
      " * time: 4.891999006271362\n",
      "    46    -6.226167e+01     1.660757e-05\n",
      " * time: 4.955129861831665\n",
      "    47    -6.226167e+01     1.288836e-05\n",
      " * time: 5.018647909164429\n",
      "    48    -6.226167e+01     9.950374e-06\n",
      " * time: 5.08953595161438\n",
      "    49    -6.226167e+01     7.738538e-06\n",
      " * time: 5.153369903564453\n",
      "    50    -6.226167e+01     5.347217e-06\n",
      " * time: 5.215479850769043\n",
      "    51    -6.226167e+01     3.963982e-06\n",
      " * time: 5.278419017791748\n"
     ]
    }
   ],
   "cell_type": "code",
   "source": [
    "scfres = direct_minimization(basis, tol=1e-5);"
   ],
   "metadata": {},
   "execution_count": 4
  },
  {
   "outputs": [
    {
     "output_type": "execute_result",
     "data": {
      "text/plain": "Energy breakdown (in Ha):\n    Kinetic             25.7671062\n    AtomicLocal         -18.8557745\n    AtomicNonlocal      14.8522715\n    Ewald               -67.1831486\n    PspCorrection       -2.3569765\n    Hartree             4.8485376 \n    Xc                  -19.3336820\n\n    total               -62.261666455540"
     },
     "metadata": {},
     "execution_count": 5
    }
   ],
   "cell_type": "code",
   "source": [
    "scfres.energies"
   ],
   "metadata": {},
   "execution_count": 5
  }
 ],
 "nbformat_minor": 3,
 "metadata": {
  "language_info": {
   "file_extension": ".jl",
   "mimetype": "application/julia",
   "name": "julia",
   "version": "1.7.2"
  },
  "kernelspec": {
   "name": "julia-1.7",
   "display_name": "Julia 1.7.2",
   "language": "julia"
  }
 },
 "nbformat": 4
}
