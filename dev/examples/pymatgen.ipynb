{
 "cells": [
  {
   "cell_type": "markdown",
   "source": [
    "# Creating supercells with pymatgen\n",
    "\n",
    "The [Pymatgen](https://pymatgen.org/) python library allows to setup\n",
    "solid-state calculations using a flexible set of classes as well as an API\n",
    "to an online data base of structures. Its `Structure` and `Lattice`\n",
    "objects are directly supported by the DFTK `load_atoms` and `load_lattice`\n",
    "functions, such that DFTK may be readily used to run calculation on systems\n",
    "defined in pymatgen. Using the `pymatgen_structure` function a conversion\n",
    "from DFTK to pymatgen structures is also possible. In the following we\n",
    "use this to create a silicon supercell and find its LDA ground state\n",
    "using direct minimisation. To run this example Julia's `PyCall` package\n",
    "needs to be able to find an installation of `pymatgen`."
   ],
   "metadata": {}
  },
  {
   "cell_type": "markdown",
   "source": [
    "First we setup the silicon lattice in DFTK."
   ],
   "metadata": {}
  },
  {
   "outputs": [],
   "cell_type": "code",
   "source": [
    "using DFTK\n",
    "\n",
    "a = 10.263141334305942  # Lattice constant in Bohr\n",
    "lattice = a / 2 .* [[0 1 1.]; [1 0 1.]; [1 1 0.]]\n",
    "Si = ElementPsp(:Si, psp=load_psp(\"hgh/lda/Si-q4\"))\n",
    "atoms = [Si => [ones(3)/8, -ones(3)/8]];"
   ],
   "metadata": {},
   "execution_count": 1
  },
  {
   "cell_type": "markdown",
   "source": [
    "Next we make a `[2, 2, 2]` supercell using pymatgen"
   ],
   "metadata": {}
  },
  {
   "outputs": [
    {
     "name": "stdout",
     "output_type": "stream",
     "text": [
      "┌ Warning: `vendor()` is deprecated, use `BLAS.get_config()` and inspect the output instead\n",
      "│   caller = npyinitialize() at numpy.jl:67\n",
      "└ @ PyCall /home/runner/.julia/packages/PyCall/L0fLP/src/numpy.jl:67\n"
     ]
    }
   ],
   "cell_type": "code",
   "source": [
    "pystruct = pymatgen_structure(lattice, atoms)\n",
    "pystruct.make_supercell([2, 2, 2])\n",
    "lattice = load_lattice(pystruct)\n",
    "atoms = [Si => [s.frac_coords for s in pystruct.sites]];"
   ],
   "metadata": {},
   "execution_count": 2
  },
  {
   "cell_type": "markdown",
   "source": [
    "Setup an LDA model and discretize using\n",
    "a single k-point and a small `Ecut` of 5 Hartree."
   ],
   "metadata": {}
  },
  {
   "outputs": [
    {
     "output_type": "execute_result",
     "data": {
      "text/plain": "PlaneWaveBasis discretization:\n    Ecut                 : 5.0 Ha\n    fft_size             : (32, 32, 32), 32768 total points\n    kgrid type           : Monkhorst-Pack\n    kgrid                : [1, 1, 1]\n    num. irred. kpoints  : 1\n\n    Discretized Model(lda_xc_teter93, 3D):\n        lattice (in Bohr)    : [0         , 10.2631   , 10.2631   ]\n                               [10.2631   , 0         , 10.2631   ]\n                               [10.2631   , 10.2631   , 0         ]\n        unit cell volume     : 2162.1 Bohr³\n    \n        atoms                : Si₁₆\n        atom potentials      : ElementPsp(Si, psp=\"hgh/lda/si-q4\")\n    \n        num. electrons       : 64\n        spin polarization    : none\n        temperature          : 0 Ha\n    \n        terms                : Kinetic()\n                               AtomicLocal()\n                               AtomicNonlocal()\n                               Ewald()\n                               PspCorrection()\n                               Hartree()\n                               Xc(:lda_xc_teter93)"
     },
     "metadata": {},
     "execution_count": 3
    }
   ],
   "cell_type": "code",
   "source": [
    "model = model_LDA(lattice, atoms)\n",
    "basis = PlaneWaveBasis(model; Ecut=5, kgrid=(1, 1, 1))"
   ],
   "metadata": {},
   "execution_count": 3
  },
  {
   "cell_type": "markdown",
   "source": [
    "Find the ground state using direct minimisation (always using SCF is boring ...)"
   ],
   "metadata": {}
  },
  {
   "outputs": [
    {
     "name": "stdout",
     "output_type": "stream",
     "text": [
      "Iter     Function value   Gradient norm \n",
      "     0     1.117616e+02     1.676715e+00\n",
      " * time: 0.4563889503479004\n",
      "     1     1.124772e+01     8.874551e-01\n",
      " * time: 1.0324938297271729\n",
      "     2    -1.097662e+01     8.995013e-01\n",
      " * time: 1.1024978160858154\n",
      "     3    -3.386093e+01     6.823536e-01\n",
      " * time: 1.221038818359375\n",
      "     4    -4.723202e+01     5.038886e-01\n",
      " * time: 1.3034520149230957\n",
      "     5    -5.685737e+01     1.930724e-01\n",
      " * time: 1.39107084274292\n",
      "     6    -5.975275e+01     1.221700e-01\n",
      " * time: 1.4613468647003174\n",
      "     7    -6.087395e+01     4.711003e-02\n",
      " * time: 1.5317199230194092\n",
      "     8    -6.131357e+01     4.786881e-02\n",
      " * time: 1.676400899887085\n",
      "     9    -6.157330e+01     3.761243e-02\n",
      " * time: 1.738804817199707\n",
      "    10    -6.179191e+01     2.862968e-02\n",
      " * time: 1.8017148971557617\n",
      "    11    -6.195419e+01     1.862270e-02\n",
      " * time: 1.8644869327545166\n",
      "    12    -6.202980e+01     1.495031e-02\n",
      " * time: 1.9270789623260498\n",
      "    13    -6.209433e+01     1.636484e-02\n",
      " * time: 2.328671932220459\n",
      "    14    -6.213382e+01     1.383552e-02\n",
      " * time: 2.391019821166992\n",
      "    15    -6.216626e+01     1.065409e-02\n",
      " * time: 2.4526448249816895\n",
      "    16    -6.218686e+01     1.114819e-02\n",
      " * time: 2.5149619579315186\n",
      "    17    -6.220158e+01     9.914073e-03\n",
      " * time: 2.577147960662842\n",
      "    18    -6.221240e+01     7.709540e-03\n",
      " * time: 2.639538049697876\n",
      "    19    -6.222097e+01     8.032853e-03\n",
      " * time: 2.903848886489868\n",
      "    20    -6.222846e+01     6.697851e-03\n",
      " * time: 2.96658992767334\n",
      "    21    -6.223615e+01     6.671700e-03\n",
      " * time: 3.0291528701782227\n",
      "    22    -6.224415e+01     5.072831e-03\n",
      " * time: 3.0916199684143066\n",
      "    23    -6.225126e+01     4.028793e-03\n",
      " * time: 3.1620829105377197\n",
      "    24    -6.225597e+01     3.418121e-03\n",
      " * time: 3.2238049507141113\n",
      "    25    -6.225856e+01     2.696096e-03\n",
      " * time: 3.2863259315490723\n",
      "    26    -6.225983e+01     2.158759e-03\n",
      " * time: 3.3571479320526123\n",
      "    27    -6.226048e+01     1.512246e-03\n",
      " * time: 3.419283866882324\n",
      "    28    -6.226086e+01     1.322119e-03\n",
      " * time: 3.4816548824310303\n",
      "    29    -6.226112e+01     1.028114e-03\n",
      " * time: 3.544019937515259\n",
      "    30    -6.226130e+01     8.204399e-04\n",
      " * time: 3.610611915588379\n",
      "    31    -6.226143e+01     6.099778e-04\n",
      " * time: 3.6726150512695312\n",
      "    32    -6.226152e+01     4.931378e-04\n",
      " * time: 3.7353758811950684\n",
      "    33    -6.226158e+01     4.099172e-04\n",
      " * time: 3.797865867614746\n",
      "    34    -6.226162e+01     3.241270e-04\n",
      " * time: 3.8643529415130615\n",
      "    35    -6.226165e+01     2.097761e-04\n",
      " * time: 3.9263389110565186\n",
      "    36    -6.226166e+01     1.609901e-04\n",
      " * time: 3.988658905029297\n",
      "    37    -6.226166e+01     1.203796e-04\n",
      " * time: 4.050915956497192\n",
      "    38    -6.226166e+01     8.242747e-05\n",
      " * time: 4.117265939712524\n",
      "    39    -6.226166e+01     6.955890e-05\n",
      " * time: 4.179126977920532\n",
      "    40    -6.226166e+01     5.990840e-05\n",
      " * time: 4.241518974304199\n",
      "    41    -6.226167e+01     4.255601e-05\n",
      " * time: 4.303715944290161\n",
      "    42    -6.226167e+01     3.575954e-05\n",
      " * time: 4.370292901992798\n",
      "    43    -6.226167e+01     2.913662e-05\n",
      " * time: 4.43256688117981\n",
      "    44    -6.226167e+01     2.763520e-05\n",
      " * time: 4.494958877563477\n",
      "    45    -6.226167e+01     1.711342e-05\n",
      " * time: 4.561596870422363\n",
      "    46    -6.226167e+01     1.314813e-05\n",
      " * time: 4.623433828353882\n",
      "    47    -6.226167e+01     8.395276e-06\n",
      " * time: 4.685986042022705\n",
      "    48    -6.226167e+01     6.358466e-06\n",
      " * time: 4.748564958572388\n",
      "    49    -6.226167e+01     4.041660e-06\n",
      " * time: 4.815343856811523\n",
      "    50    -6.226167e+01     3.397972e-06\n",
      " * time: 4.877594947814941\n"
     ]
    }
   ],
   "cell_type": "code",
   "source": [
    "scfres = direct_minimization(basis, tol=1e-5);"
   ],
   "metadata": {},
   "execution_count": 4
  },
  {
   "outputs": [
    {
     "output_type": "execute_result",
     "data": {
      "text/plain": "Energy breakdown (in Ha):\n    Kinetic             25.7671061\n    AtomicLocal         -18.8557636\n    AtomicNonlocal      14.8522616\n    Ewald               -67.1831486\n    PspCorrection       -2.3569765\n    Hartree             4.8485364 \n    Xc                  -19.3336818\n\n    total               -62.261666459411"
     },
     "metadata": {},
     "execution_count": 5
    }
   ],
   "cell_type": "code",
   "source": [
    "scfres.energies"
   ],
   "metadata": {},
   "execution_count": 5
  }
 ],
 "nbformat_minor": 3,
 "metadata": {
  "language_info": {
   "file_extension": ".jl",
   "mimetype": "application/julia",
   "name": "julia",
   "version": "1.7.2"
  },
  "kernelspec": {
   "name": "julia-1.7",
   "display_name": "Julia 1.7.2",
   "language": "julia"
  }
 },
 "nbformat": 4
}
