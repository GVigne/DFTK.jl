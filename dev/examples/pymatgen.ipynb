{
 "cells": [
  {
   "cell_type": "markdown",
   "source": [
    "# Creating supercells with pymatgen\n",
    "\n",
    "The [Pymatgen](https://pymatgen.org/) python library allows to setup\n",
    "solid-state calculations using a flexible set of classes as well as an API\n",
    "to an online data base of structures. Its `Structure` and `Lattice`\n",
    "objects are directly supported by the DFTK `load_atoms` and `load_lattice`\n",
    "functions, such that DFTK may be readily used to run calculation on systems\n",
    "defined in pymatgen. Using the `pymatgen_structure` function a conversion\n",
    "from DFTK to pymatgen structures is also possible. In the following we\n",
    "use this to create a silicon supercell and find its LDA ground state\n",
    "using direct minimisation. To run this example Julia's `PyCall` package\n",
    "needs to be able to find an installation of `pymatgen`."
   ],
   "metadata": {}
  },
  {
   "cell_type": "markdown",
   "source": [
    "First we setup the silicon lattice in DFTK."
   ],
   "metadata": {}
  },
  {
   "outputs": [],
   "cell_type": "code",
   "source": [
    "using DFTK\n",
    "\n",
    "a = 10.263141334305942  # Lattice constant in Bohr\n",
    "lattice = a / 2 .* [[0 1 1.]; [1 0 1.]; [1 1 0.]]\n",
    "Si = ElementPsp(:Si, psp=load_psp(\"hgh/lda/Si-q4\"))\n",
    "atoms = [Si => [ones(3)/8, -ones(3)/8]];"
   ],
   "metadata": {},
   "execution_count": 1
  },
  {
   "cell_type": "markdown",
   "source": [
    "Next we make a `[2, 2, 2]` supercell using pymatgen"
   ],
   "metadata": {}
  },
  {
   "outputs": [],
   "cell_type": "code",
   "source": [
    "pystruct = pymatgen_structure(lattice, atoms)\n",
    "pystruct.make_supercell([2, 2, 2])\n",
    "lattice = load_lattice(pystruct)\n",
    "atoms = [Si => [s.frac_coords for s in pystruct.sites]];"
   ],
   "metadata": {},
   "execution_count": 2
  },
  {
   "cell_type": "markdown",
   "source": [
    "Setup an LDA model and discretize using\n",
    "a single k-point and a small `Ecut` of 5 Hartree."
   ],
   "metadata": {}
  },
  {
   "outputs": [
    {
     "output_type": "execute_result",
     "data": {
      "text/plain": "PlaneWaveBasis discretization:\n    Ecut                 : 5.0 Ha\n    fft_size             : (32, 32, 32), 32768 total points\n    kgrid type           : Monkhorst-Pack\n    kgrid                : [1, 1, 1]\n    num. irred. kpoints  : 1\n\n    Discretized Model(lda_xc_teter93, 3D):\n        lattice (in Bohr)    : [0         , 10.2631   , 10.2631   ]\n                               [10.2631   , 0         , 10.2631   ]\n                               [10.2631   , 10.2631   , 0         ]\n        unit cell volume     : 2162.1 Bohr³\n    \n        atoms                : Si₁₆\n        atom potentials      : ElementPsp(Si, psp=\"hgh/lda/si-q4\")\n    \n        num. electrons       : 64\n        spin polarization    : none\n        temperature          : 0 Ha\n    \n        terms                : Kinetic()\n                               AtomicLocal()\n                               AtomicNonlocal()\n                               Ewald()\n                               PspCorrection()\n                               Hartree()\n                               Xc(:lda_xc_teter93)"
     },
     "metadata": {},
     "execution_count": 3
    }
   ],
   "cell_type": "code",
   "source": [
    "model = model_LDA(lattice, atoms)\n",
    "basis = PlaneWaveBasis(model; Ecut=5, kgrid=(1, 1, 1))"
   ],
   "metadata": {},
   "execution_count": 3
  },
  {
   "cell_type": "markdown",
   "source": [
    "Find the ground state using direct minimisation (always using SCF is boring ...)"
   ],
   "metadata": {}
  },
  {
   "outputs": [
    {
     "name": "stdout",
     "output_type": "stream",
     "text": [
      "Iter     Function value   Gradient norm \n",
      "     0     1.116616e+02     1.580269e+00\n",
      " * time: 0.4233400821685791\n",
      "     1     1.005937e+01     9.025184e-01\n",
      " * time: 1.5696320533752441\n",
      "     2    -1.248171e+01     1.051114e+00\n",
      " * time: 1.6400749683380127\n",
      "     3    -3.446720e+01     8.113705e-01\n",
      " * time: 1.7360429763793945\n",
      "     4    -4.791723e+01     5.527958e-01\n",
      " * time: 1.8456201553344727\n",
      "     5    -5.714824e+01     2.684216e-01\n",
      " * time: 1.9288229942321777\n",
      "     6    -5.979659e+01     2.012331e-01\n",
      " * time: 1.9916551113128662\n",
      "     7    -6.087494e+01     8.307528e-02\n",
      " * time: 2.0543270111083984\n",
      "     8    -6.134750e+01     3.464796e-02\n",
      " * time: 2.136775016784668\n",
      "     9    -6.162156e+01     2.920304e-02\n",
      " * time: 2.1996450424194336\n",
      "    10    -6.179877e+01     3.146358e-02\n",
      " * time: 2.262197971343994\n",
      "    11    -6.191388e+01     2.515421e-02\n",
      " * time: 2.3247599601745605\n",
      "    12    -6.200980e+01     2.144786e-02\n",
      " * time: 2.387629985809326\n",
      "    13    -6.208807e+01     1.964651e-02\n",
      " * time: 2.4623420238494873\n",
      "    14    -6.212973e+01     2.096624e-02\n",
      " * time: 2.524857997894287\n",
      "    15    -6.216417e+01     1.363905e-02\n",
      " * time: 2.5873210430145264\n",
      "    16    -6.218181e+01     9.134023e-03\n",
      " * time: 2.649898052215576\n",
      "    17    -6.219562e+01     7.123940e-03\n",
      " * time: 2.7128779888153076\n",
      "    18    -6.220519e+01     6.467889e-03\n",
      " * time: 2.7805490493774414\n",
      "    19    -6.221206e+01     7.241286e-03\n",
      " * time: 2.8428890705108643\n",
      "    20    -6.221779e+01     6.308834e-03\n",
      " * time: 2.905846118927002\n",
      "    21    -6.222353e+01     5.567214e-03\n",
      " * time: 2.9687581062316895\n",
      "    22    -6.222956e+01     5.558899e-03\n",
      " * time: 3.0314159393310547\n",
      "    23    -6.223581e+01     4.766402e-03\n",
      " * time: 3.0994009971618652\n",
      "    24    -6.224195e+01     4.919593e-03\n",
      " * time: 3.162358045578003\n",
      "    25    -6.224768e+01     4.696632e-03\n",
      " * time: 3.22521710395813\n",
      "    26    -6.225255e+01     3.894661e-03\n",
      " * time: 3.2880420684814453\n",
      "    27    -6.225596e+01     3.454397e-03\n",
      " * time: 3.350693941116333\n",
      "    28    -6.225799e+01     2.356908e-03\n",
      " * time: 3.4188480377197266\n",
      "    29    -6.225921e+01     1.969524e-03\n",
      " * time: 3.4814040660858154\n",
      "    30    -6.226004e+01     1.735464e-03\n",
      " * time: 3.543645143508911\n",
      "    31    -6.226059e+01     1.524845e-03\n",
      " * time: 3.6060731410980225\n",
      "    32    -6.226099e+01     1.333439e-03\n",
      " * time: 3.66860294342041\n",
      "    33    -6.226127e+01     1.080745e-03\n",
      " * time: 3.736873149871826\n",
      "    34    -6.226146e+01     7.523475e-04\n",
      " * time: 3.7999000549316406\n",
      "    35    -6.226156e+01     4.615169e-04\n",
      " * time: 3.8625290393829346\n",
      "    36    -6.226162e+01     3.605575e-04\n",
      " * time: 3.925183057785034\n",
      "    37    -6.226164e+01     2.517238e-04\n",
      " * time: 3.988054037094116\n",
      "    38    -6.226165e+01     2.162679e-04\n",
      " * time: 4.055510997772217\n",
      "    39    -6.226166e+01     1.436411e-04\n",
      " * time: 4.118226051330566\n",
      "    40    -6.226166e+01     1.633313e-04\n",
      " * time: 4.1810760498046875\n",
      "    41    -6.226166e+01     9.499162e-05\n",
      " * time: 4.243669033050537\n",
      "    42    -6.226166e+01     7.706933e-05\n",
      " * time: 4.306323051452637\n",
      "    43    -6.226166e+01     5.065524e-05\n",
      " * time: 4.3743791580200195\n",
      "    44    -6.226167e+01     4.471225e-05\n",
      " * time: 4.437220096588135\n",
      "    45    -6.226167e+01     3.973249e-05\n",
      " * time: 4.499998092651367\n",
      "    46    -6.226167e+01     3.381477e-05\n",
      " * time: 4.562669992446899\n",
      "    47    -6.226167e+01     2.120350e-05\n",
      " * time: 4.6428680419921875\n",
      "    48    -6.226167e+01     1.461330e-05\n",
      " * time: 4.711220979690552\n",
      "    49    -6.226167e+01     1.070761e-05\n",
      " * time: 4.773857116699219\n",
      "    50    -6.226167e+01     9.583108e-06\n",
      " * time: 4.836382150650024\n",
      "    51    -6.226167e+01     7.051779e-06\n",
      " * time: 4.899199962615967\n",
      "    52    -6.226167e+01     5.352774e-06\n",
      " * time: 4.961990118026733\n",
      "    53    -6.226167e+01     4.390868e-06\n",
      " * time: 5.030019044876099\n",
      "    54    -6.226167e+01     4.109810e-06\n",
      " * time: 5.093034982681274\n"
     ]
    }
   ],
   "cell_type": "code",
   "source": [
    "scfres = direct_minimization(basis, tol=1e-5);"
   ],
   "metadata": {},
   "execution_count": 4
  },
  {
   "outputs": [
    {
     "output_type": "execute_result",
     "data": {
      "text/plain": "Energy breakdown (in Ha):\n    Kinetic             25.7671084\n    AtomicLocal         -18.8557706\n    AtomicNonlocal      14.8522649\n    Ewald               -67.1831486\n    PspCorrection       -2.3569765\n    Hartree             4.8485387 \n    Xc                  -19.3336827\n\n    total               -62.261666457410"
     },
     "metadata": {},
     "execution_count": 5
    }
   ],
   "cell_type": "code",
   "source": [
    "scfres.energies"
   ],
   "metadata": {},
   "execution_count": 5
  }
 ],
 "nbformat_minor": 3,
 "metadata": {
  "language_info": {
   "file_extension": ".jl",
   "mimetype": "application/julia",
   "name": "julia",
   "version": "1.7.2"
  },
  "kernelspec": {
   "name": "julia-1.7",
   "display_name": "Julia 1.7.2",
   "language": "julia"
  }
 },
 "nbformat": 4
}
