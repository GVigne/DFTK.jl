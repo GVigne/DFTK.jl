{
 "cells": [
  {
   "cell_type": "markdown",
   "source": [
    "# Creating supercells with pymatgen\n",
    "\n",
    "The [Pymatgen](https://pymatgen.org/) python library allows to setup\n",
    "solid-state calculations using a flexible set of classes as well as an API\n",
    "to an online data base of structures. Its `Structure` and `Lattice`\n",
    "objects are directly supported by the DFTK `load_atoms` and `load_lattice`\n",
    "functions, such that DFTK may be readily used to run calculation on systems\n",
    "defined in pymatgen. Using the `pymatgen_structure` function a conversion\n",
    "from DFTK to pymatgen structures is also possible. In the following we\n",
    "use this to create a silicon supercell and find its LDA ground state\n",
    "using direct minimisation. To run this example Julia's `PyCall` package\n",
    "needs to be able to find an installation of `pymatgen`."
   ],
   "metadata": {}
  },
  {
   "cell_type": "markdown",
   "source": [
    "First we setup the silicon lattice in DFTK."
   ],
   "metadata": {}
  },
  {
   "outputs": [],
   "cell_type": "code",
   "source": [
    "using DFTK\n",
    "\n",
    "a = 10.263141334305942  # Lattice constant in Bohr\n",
    "lattice = a / 2 .* [[0 1 1.]; [1 0 1.]; [1 1 0.]]\n",
    "Si = ElementPsp(:Si, psp=load_psp(\"hgh/lda/Si-q4\"))\n",
    "atoms = [Si => [ones(3)/8, -ones(3)/8]];"
   ],
   "metadata": {},
   "execution_count": 1
  },
  {
   "cell_type": "markdown",
   "source": [
    "Next we make a `[2, 2, 2]` supercell using pymatgen"
   ],
   "metadata": {}
  },
  {
   "outputs": [],
   "cell_type": "code",
   "source": [
    "pystruct = pymatgen_structure(lattice, atoms)\n",
    "pystruct.make_supercell([2, 2, 2])\n",
    "lattice = load_lattice(pystruct)\n",
    "atoms = [Si => [s.frac_coords for s in pystruct.sites]];"
   ],
   "metadata": {},
   "execution_count": 2
  },
  {
   "cell_type": "markdown",
   "source": [
    "Setup an LDA model and discretize using\n",
    "a single k-point and a small `Ecut` of 5 Hartree."
   ],
   "metadata": {}
  },
  {
   "outputs": [
    {
     "output_type": "execute_result",
     "data": {
      "text/plain": "PlaneWaveBasis discretization:\n    Ecut                 : 5.0 Ha\n    fft_size             : (32, 32, 32), 32768 total points\n    kgrid type           : Monkhorst-Pack\n    kgrid                : [1, 1, 1]\n    num. irred. kpoints  : 1\n\n    Discretized Model(lda_xc_teter93, 3D):\n        lattice (in Bohr)    : [0         , 10.2631   , 10.2631   ]\n                               [10.2631   , 0         , 10.2631   ]\n                               [10.2631   , 10.2631   , 0         ]\n        unit cell volume     : 2162.1 Bohr³\n    \n        atoms                : Si₁₆\n        atom potentials      : ElementPsp(Si, psp=\"hgh/lda/si-q4\")\n    \n        num. electrons       : 64\n        spin polarization    : none\n        temperature          : 0 Ha\n    \n        terms                : Kinetic()\n                               AtomicLocal()\n                               AtomicNonlocal()\n                               Ewald()\n                               PspCorrection()\n                               Hartree()\n                               Xc(:lda_xc_teter93)"
     },
     "metadata": {},
     "execution_count": 3
    }
   ],
   "cell_type": "code",
   "source": [
    "model = model_LDA(lattice, atoms)\n",
    "basis = PlaneWaveBasis(model; Ecut=5, kgrid=(1, 1, 1))"
   ],
   "metadata": {},
   "execution_count": 3
  },
  {
   "cell_type": "markdown",
   "source": [
    "Find the ground state using direct minimisation (always using SCF is boring ...)"
   ],
   "metadata": {}
  },
  {
   "outputs": [
    {
     "name": "stdout",
     "output_type": "stream",
     "text": [
      "Iter     Function value   Gradient norm \n",
      "     0     1.118955e+02     1.564525e+00\n",
      " * time: 0.4727640151977539\n",
      "     1     1.037551e+01     9.150549e-01\n",
      " * time: 1.7220652103424072\n",
      "     2    -1.180973e+01     1.102751e+00\n",
      " * time: 1.780304193496704\n",
      "     3    -3.421685e+01     8.349950e-01\n",
      " * time: 1.8712270259857178\n",
      "     4    -4.758886e+01     6.528427e-01\n",
      " * time: 1.9628021717071533\n",
      "     5    -5.696028e+01     2.344875e-01\n",
      " * time: 2.072115182876587\n",
      "     6    -5.980215e+01     1.575881e-01\n",
      " * time: 2.1298270225524902\n",
      "     7    -6.092293e+01     5.520794e-02\n",
      " * time: 2.186317205429077\n",
      "     8    -6.139493e+01     5.879682e-02\n",
      " * time: 2.2425241470336914\n",
      "     9    -6.167494e+01     5.438865e-02\n",
      " * time: 2.301438093185425\n",
      "    10    -6.188446e+01     2.593755e-02\n",
      " * time: 2.3765342235565186\n",
      "    11    -6.202053e+01     1.755711e-02\n",
      " * time: 2.4325740337371826\n",
      "    12    -6.208302e+01     1.448618e-02\n",
      " * time: 2.488204002380371\n",
      "    13    -6.212702e+01     1.183608e-02\n",
      " * time: 2.5436081886291504\n",
      "    14    -6.215546e+01     1.075829e-02\n",
      " * time: 2.6008942127227783\n",
      "    15    -6.217479e+01     9.067914e-03\n",
      " * time: 2.664677143096924\n",
      "    16    -6.218688e+01     7.518233e-03\n",
      " * time: 2.7198591232299805\n",
      "    17    -6.219594e+01     5.910629e-03\n",
      " * time: 2.775506019592285\n",
      "    18    -6.220304e+01     6.378212e-03\n",
      " * time: 2.8302102088928223\n",
      "    19    -6.220920e+01     5.690890e-03\n",
      " * time: 2.885979175567627\n",
      "    20    -6.221456e+01     6.468253e-03\n",
      " * time: 2.950256109237671\n",
      "    21    -6.221977e+01     5.558314e-03\n",
      " * time: 3.0057430267333984\n",
      "    22    -6.222499e+01     6.499739e-03\n",
      " * time: 3.0616490840911865\n",
      "    23    -6.223061e+01     5.692250e-03\n",
      " * time: 3.117598056793213\n",
      "    24    -6.223639e+01     4.688847e-03\n",
      " * time: 3.1738240718841553\n",
      "    25    -6.224186e+01     4.929413e-03\n",
      " * time: 3.2389512062072754\n",
      "    26    -6.224684e+01     4.212704e-03\n",
      " * time: 3.294563055038452\n",
      "    27    -6.225116e+01     4.132519e-03\n",
      " * time: 3.349565029144287\n",
      "    28    -6.225452e+01     3.831570e-03\n",
      " * time: 3.4049270153045654\n",
      "    29    -6.225715e+01     3.396675e-03\n",
      " * time: 3.461160182952881\n",
      "    30    -6.225908e+01     2.169203e-03\n",
      " * time: 3.5254130363464355\n",
      "    31    -6.226028e+01     1.905371e-03\n",
      " * time: 3.5809922218322754\n",
      "    32    -6.226089e+01     1.384807e-03\n",
      " * time: 3.640681028366089\n",
      "    33    -6.226124e+01     7.836279e-04\n",
      " * time: 3.6956520080566406\n",
      "    34    -6.226143e+01     7.028954e-04\n",
      " * time: 3.7521071434020996\n",
      "    35    -6.226152e+01     7.200215e-04\n",
      " * time: 3.81665301322937\n",
      "    36    -6.226157e+01     4.290952e-04\n",
      " * time: 3.874666213989258\n",
      "    37    -6.226160e+01     3.030173e-04\n",
      " * time: 3.929678201675415\n",
      "    38    -6.226162e+01     2.649753e-04\n",
      " * time: 3.98443603515625\n",
      "    39    -6.226164e+01     1.993603e-04\n",
      " * time: 4.040687084197998\n",
      "    40    -6.226165e+01     1.749755e-04\n",
      " * time: 4.10473108291626\n",
      "    41    -6.226166e+01     1.526154e-04\n",
      " * time: 4.159769058227539\n",
      "    42    -6.226166e+01     1.167439e-04\n",
      " * time: 4.2152650356292725\n",
      "    43    -6.226166e+01     8.011144e-05\n",
      " * time: 4.2710700035095215\n",
      "    44    -6.226167e+01     4.424652e-05\n",
      " * time: 4.325791120529175\n",
      "    45    -6.226167e+01     3.127440e-05\n",
      " * time: 4.390807151794434\n",
      "    46    -6.226167e+01     2.010706e-05\n",
      " * time: 4.4468841552734375\n",
      "    47    -6.226167e+01     1.446808e-05\n",
      " * time: 4.50229811668396\n",
      "    48    -6.226167e+01     1.313182e-05\n",
      " * time: 4.557265043258667\n",
      "    49    -6.226167e+01     1.116492e-05\n",
      " * time: 4.614803075790405\n",
      "    50    -6.226167e+01     7.554195e-06\n",
      " * time: 4.680808067321777\n",
      "    51    -6.226167e+01     7.387760e-06\n",
      " * time: 4.73549222946167\n",
      "    52    -6.226167e+01     6.133173e-06\n",
      " * time: 4.790074110031128\n",
      "    53    -6.226167e+01     4.349242e-06\n",
      " * time: 4.850078105926514\n",
      "    54    -6.226167e+01     3.409699e-06\n",
      " * time: 4.917060136795044\n",
      "    55    -6.226167e+01     2.783167e-06\n",
      " * time: 4.985339164733887\n"
     ]
    }
   ],
   "cell_type": "code",
   "source": [
    "scfres = direct_minimization(basis, tol=1e-5);"
   ],
   "metadata": {},
   "execution_count": 4
  },
  {
   "outputs": [
    {
     "output_type": "execute_result",
     "data": {
      "text/plain": "Energy breakdown (in Ha):\n    Kinetic             25.7671073\n    AtomicLocal         -18.8557684\n    AtomicNonlocal      14.8522643\n    Ewald               -67.1831486\n    PspCorrection       -2.3569765\n    Hartree             4.8485378 \n    Xc                  -19.3336823\n\n    total               -62.261666460086"
     },
     "metadata": {},
     "execution_count": 5
    }
   ],
   "cell_type": "code",
   "source": [
    "scfres.energies"
   ],
   "metadata": {},
   "execution_count": 5
  }
 ],
 "nbformat_minor": 3,
 "metadata": {
  "language_info": {
   "file_extension": ".jl",
   "mimetype": "application/julia",
   "name": "julia",
   "version": "1.7.2"
  },
  "kernelspec": {
   "name": "julia-1.7",
   "display_name": "Julia 1.7.2",
   "language": "julia"
  }
 },
 "nbformat": 4
}
