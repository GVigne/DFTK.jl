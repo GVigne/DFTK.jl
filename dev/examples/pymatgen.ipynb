{
 "cells": [
  {
   "cell_type": "markdown",
   "source": [
    "# Creating supercells with pymatgen\n",
    "\n",
    "The [Pymatgen](https://pymatgen.org/) python library allows to setup\n",
    "solid-state calculations using a flexible set of classes as well as an API\n",
    "to an online data base of structures. Its `Structure` and `Lattice`\n",
    "objects are directly supported by the DFTK `load_atoms` and `load_lattice`\n",
    "functions, such that DFTK may be readily used to run calculation on systems\n",
    "defined in pymatgen. Using the `pymatgen_structure` function a conversion\n",
    "from DFTK to pymatgen structures is also possible. In the following we\n",
    "use this to create a silicon supercell and find its LDA ground state\n",
    "using direct minimisation. To run this example Julia's `PyCall` package\n",
    "needs to be able to find an installation of `pymatgen`."
   ],
   "metadata": {}
  },
  {
   "cell_type": "markdown",
   "source": [
    "First we setup the silicon lattice in DFTK."
   ],
   "metadata": {}
  },
  {
   "outputs": [],
   "cell_type": "code",
   "source": [
    "using DFTK\n",
    "\n",
    "a = 10.263141334305942  # Lattice constant in Bohr\n",
    "lattice = a / 2 .* [[0 1 1.]; [1 0 1.]; [1 1 0.]]\n",
    "Si = ElementPsp(:Si, psp=load_psp(\"hgh/lda/Si-q4\"))\n",
    "atoms = [Si => [ones(3)/8, -ones(3)/8]];"
   ],
   "metadata": {},
   "execution_count": 1
  },
  {
   "cell_type": "markdown",
   "source": [
    "Next we make a `[2, 2, 2]` supercell using pymatgen"
   ],
   "metadata": {}
  },
  {
   "outputs": [],
   "cell_type": "code",
   "source": [
    "pystruct = pymatgen_structure(lattice, atoms)\n",
    "pystruct.make_supercell([2, 2, 2])\n",
    "lattice = load_lattice(pystruct)\n",
    "atoms = [Si => [s.frac_coords for s in pystruct.sites]];"
   ],
   "metadata": {},
   "execution_count": 2
  },
  {
   "cell_type": "markdown",
   "source": [
    "Setup an LDA model and discretize using\n",
    "a single k-point and a small `Ecut` of 5 Hartree."
   ],
   "metadata": {}
  },
  {
   "outputs": [
    {
     "output_type": "execute_result",
     "data": {
      "text/plain": "PlaneWaveBasis discretization:\n    Ecut                 : 5.0 Ha\n    fft_size             : (32, 32, 32)\n    kgrid type           : Monkhorst-Pack\n    kgrid                : [1, 1, 1]\n    num. irred. kpoints  : 1\n\n    Discretized Model(lda_xc_teter93, 3D):\n        lattice (in Bohr)    : [0         , 10.2631   , 10.2631   ]\n                               [10.2631   , 0         , 10.2631   ]\n                               [10.2631   , 10.2631   , 0         ]\n        unit cell volume     : 2162.1 Bohr³\n    \n        atoms                : Si₁₆\n        atom potentials      : ElementPsp(Si, psp=hgh/lda/si-q4)\n    \n        num. electrons       : 64\n        spin polarization    : none\n        temperature          : 0 Ha\n    \n        terms                : Kinetic(1)\n                               AtomicLocal()\n                               AtomicNonlocal()\n                               Ewald()\n                               PspCorrection()\n                               Hartree(1)\n                               Xc([:lda_xc_teter93], 1, nothing)"
     },
     "metadata": {},
     "execution_count": 3
    }
   ],
   "cell_type": "code",
   "source": [
    "model = model_LDA(lattice, atoms)\n",
    "basis = PlaneWaveBasis(model; Ecut=5, kgrid=(1, 1, 1))"
   ],
   "metadata": {},
   "execution_count": 3
  },
  {
   "cell_type": "markdown",
   "source": [
    "Find the ground state using direct minimisation (always using SCF is boring ...)"
   ],
   "metadata": {}
  },
  {
   "outputs": [
    {
     "name": "stdout",
     "output_type": "stream",
     "text": [
      "Iter     Function value   Gradient norm \n",
      "     0     1.128549e+02     1.547696e+00\n",
      " * time: 0.6552150249481201\n",
      "     1     1.046703e+01     8.079784e-01\n",
      " * time: 1.8050251007080078\n",
      "     2    -1.226056e+01     9.431401e-01\n",
      " * time: 2.374380111694336\n",
      "     3    -3.436714e+01     7.800122e-01\n",
      " * time: 3.140610933303833\n",
      "     4    -4.779856e+01     5.783946e-01\n",
      " * time: 3.917232036590576\n",
      "     5    -5.703136e+01     1.668315e-01\n",
      " * time: 4.698923110961914\n",
      "     6    -5.982137e+01     1.103775e-01\n",
      " * time: 5.216047048568726\n",
      "     7    -6.083635e+01     5.659195e-02\n",
      " * time: 5.722250938415527\n",
      "     8    -6.122631e+01     7.377035e-02\n",
      " * time: 6.227930068969727\n",
      "     9    -6.153438e+01     3.269252e-02\n",
      " * time: 6.787600994110107\n",
      "    10    -6.174967e+01     2.466485e-02\n",
      " * time: 7.313355922698975\n",
      "    11    -6.191940e+01     1.854978e-02\n",
      " * time: 7.835582971572876\n",
      "    12    -6.199006e+01     1.573548e-02\n",
      " * time: 8.36442494392395\n",
      "    13    -6.206501e+01     1.515734e-02\n",
      " * time: 8.878807067871094\n",
      "    14    -6.209975e+01     1.359902e-02\n",
      " * time: 9.3876371383667\n",
      "    15    -6.213604e+01     1.033997e-02\n",
      " * time: 9.904210090637207\n",
      "    16    -6.215981e+01     1.058459e-02\n",
      " * time: 10.411396980285645\n",
      "    17    -6.218172e+01     1.060274e-02\n",
      " * time: 10.932522058486938\n",
      "    18    -6.219922e+01     9.392467e-03\n",
      " * time: 11.454294919967651\n",
      "    19    -6.221162e+01     6.316656e-03\n",
      " * time: 11.96313190460205\n",
      "    20    -6.222023e+01     6.427820e-03\n",
      " * time: 12.472196102142334\n",
      "    21    -6.222651e+01     6.232763e-03\n",
      " * time: 12.999907970428467\n",
      "    22    -6.223135e+01     6.704184e-03\n",
      " * time: 13.528795957565308\n",
      "    23    -6.223550e+01     4.457091e-03\n",
      " * time: 14.049176931381226\n",
      "    24    -6.223979e+01     5.160175e-03\n",
      " * time: 14.569875001907349\n",
      "    25    -6.224509e+01     6.499383e-03\n",
      " * time: 15.081660032272339\n",
      "    26    -6.225021e+01     5.433749e-03\n",
      " * time: 15.605273962020874\n",
      "    27    -6.225489e+01     4.032167e-03\n",
      " * time: 16.12168002128601\n",
      "    28    -6.225806e+01     2.527606e-03\n",
      " * time: 16.639686107635498\n",
      "    29    -6.225970e+01     2.380812e-03\n",
      " * time: 17.162384033203125\n",
      "    30    -6.226049e+01     2.146359e-03\n",
      " * time: 17.69684100151062\n",
      "    31    -6.226091e+01     1.408672e-03\n",
      " * time: 18.2116539478302\n",
      "    32    -6.226117e+01     1.145886e-03\n",
      " * time: 18.730093955993652\n",
      "    33    -6.226134e+01     8.406490e-04\n",
      " * time: 19.22291398048401\n",
      "    34    -6.226146e+01     6.538830e-04\n",
      " * time: 19.730406045913696\n",
      "    35    -6.226155e+01     5.055571e-04\n",
      " * time: 20.242702960968018\n",
      "    36    -6.226160e+01     4.204388e-04\n",
      " * time: 20.772401094436646\n",
      "    37    -6.226163e+01     3.698222e-04\n",
      " * time: 21.278904914855957\n",
      "    38    -6.226164e+01     2.922514e-04\n",
      " * time: 21.793839931488037\n",
      "    39    -6.226165e+01     2.029956e-04\n",
      " * time: 22.310940980911255\n",
      "    40    -6.226166e+01     1.330006e-04\n",
      " * time: 22.829993963241577\n",
      "    41    -6.226166e+01     9.702370e-05\n",
      " * time: 23.32472801208496\n",
      "    42    -6.226166e+01     7.790216e-05\n",
      " * time: 23.839427947998047\n",
      "    43    -6.226167e+01     5.605385e-05\n",
      " * time: 24.352108001708984\n",
      "    44    -6.226167e+01     5.189391e-05\n",
      " * time: 24.887128114700317\n",
      "    45    -6.226167e+01     3.584086e-05\n",
      " * time: 25.419723987579346\n",
      "    46    -6.226167e+01     2.863947e-05\n",
      " * time: 25.955054998397827\n",
      "    47    -6.226167e+01     2.502999e-05\n",
      " * time: 26.49845600128174\n",
      "    48    -6.226167e+01     1.937809e-05\n",
      " * time: 27.03240394592285\n",
      "    49    -6.226167e+01     1.460548e-05\n",
      " * time: 27.560451984405518\n",
      "    50    -6.226167e+01     1.071758e-05\n",
      " * time: 28.09180212020874\n",
      "    51    -6.226167e+01     1.001933e-05\n",
      " * time: 28.634301900863647\n",
      "    52    -6.226167e+01     6.154838e-06\n",
      " * time: 29.175089120864868\n",
      "    53    -6.226167e+01     4.523019e-06\n",
      " * time: 29.717019081115723\n",
      "    54    -6.226167e+01     2.978197e-06\n",
      " * time: 30.26283597946167\n"
     ]
    }
   ],
   "cell_type": "code",
   "source": [
    "scfres = direct_minimization(basis, tol=1e-5);"
   ],
   "metadata": {},
   "execution_count": 4
  },
  {
   "outputs": [
    {
     "output_type": "execute_result",
     "data": {
      "text/plain": "Energy breakdown (in Ha):\n    Kinetic             25.7671078\n    AtomicLocal         -18.8557726\n    AtomicNonlocal      14.8522675\n    Ewald               -67.1831486\n    PspCorrection       -2.3569765\n    Hartree             4.8485385 \n    Xc                  -19.3336825\n\n    total               -62.261666458483"
     },
     "metadata": {},
     "execution_count": 5
    }
   ],
   "cell_type": "code",
   "source": [
    "scfres.energies"
   ],
   "metadata": {},
   "execution_count": 5
  }
 ],
 "nbformat_minor": 3,
 "metadata": {
  "language_info": {
   "file_extension": ".jl",
   "mimetype": "application/julia",
   "name": "julia",
   "version": "1.6.3"
  },
  "kernelspec": {
   "name": "julia-1.6",
   "display_name": "Julia 1.6.3",
   "language": "julia"
  }
 },
 "nbformat": 4
}
