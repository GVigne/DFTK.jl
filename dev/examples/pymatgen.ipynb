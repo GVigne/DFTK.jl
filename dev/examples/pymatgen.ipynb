{
 "cells": [
  {
   "cell_type": "markdown",
   "source": [
    "# Creating supercells with pymatgen\n",
    "\n",
    "The [Pymatgen](https://pymatgen.org/) python library allows to setup\n",
    "solid-state calculations using a flexible set of classes as well as an API\n",
    "to an online data base of structures. Its `Structure` and `Lattice`\n",
    "objects are directly supported by the DFTK `load_atoms` and `load_lattice`\n",
    "functions, such that DFTK may be readily used to run calculation on systems\n",
    "defined in pymatgen. Using the `pymatgen_structure` function a conversion\n",
    "from DFTK to pymatgen structures is also possible. In the following we\n",
    "use this to create a silicon supercell and find its LDA ground state\n",
    "using direct minimisation. To run this example Julia's `PyCall` package\n",
    "needs to be able to find an installation of `pymatgen`."
   ],
   "metadata": {}
  },
  {
   "cell_type": "markdown",
   "source": [
    "First we setup the silicon lattice in DFTK."
   ],
   "metadata": {}
  },
  {
   "outputs": [],
   "cell_type": "code",
   "source": [
    "using DFTK\n",
    "\n",
    "a = 10.263141334305942  # Lattice constant in Bohr\n",
    "lattice = a / 2 .* [[0 1 1.]; [1 0 1.]; [1 1 0.]]\n",
    "Si = ElementPsp(:Si, psp=load_psp(\"hgh/lda/Si-q4\"))\n",
    "atoms = [Si => [ones(3)/8, -ones(3)/8]];"
   ],
   "metadata": {},
   "execution_count": 1
  },
  {
   "cell_type": "markdown",
   "source": [
    "Next we make a `[2, 2, 2]` supercell using pymatgen"
   ],
   "metadata": {}
  },
  {
   "outputs": [
    {
     "name": "stdout",
     "output_type": "stream",
     "text": [
      "┌ Warning: `vendor()` is deprecated, use `BLAS.get_config()` and inspect the output instead\n",
      "│   caller = npyinitialize() at numpy.jl:67\n",
      "└ @ PyCall /home/runner/.julia/packages/PyCall/L0fLP/src/numpy.jl:67\n"
     ]
    }
   ],
   "cell_type": "code",
   "source": [
    "pystruct = pymatgen_structure(lattice, atoms)\n",
    "pystruct.make_supercell([2, 2, 2])\n",
    "lattice = load_lattice(pystruct)\n",
    "atoms = [Si => [s.frac_coords for s in pystruct.sites]];"
   ],
   "metadata": {},
   "execution_count": 2
  },
  {
   "cell_type": "markdown",
   "source": [
    "Setup an LDA model and discretize using\n",
    "a single k-point and a small `Ecut` of 5 Hartree."
   ],
   "metadata": {}
  },
  {
   "outputs": [
    {
     "output_type": "execute_result",
     "data": {
      "text/plain": "PlaneWaveBasis discretization:\n    Ecut                 : 5.0 Ha\n    fft_size             : (32, 32, 32), 32768 total points\n    kgrid type           : Monkhorst-Pack\n    kgrid                : [1, 1, 1]\n    num. irred. kpoints  : 1\n\n    Discretized Model(lda_xc_teter93, 3D):\n        lattice (in Bohr)    : [0         , 10.2631   , 10.2631   ]\n                               [10.2631   , 0         , 10.2631   ]\n                               [10.2631   , 10.2631   , 0         ]\n        unit cell volume     : 2162.1 Bohr³\n    \n        atoms                : Si₁₆\n        atom potentials      : ElementPsp(Si, psp=\"hgh/lda/si-q4\")\n    \n        num. electrons       : 64\n        spin polarization    : none\n        temperature          : 0 Ha\n    \n        terms                : Kinetic()\n                               AtomicLocal()\n                               AtomicNonlocal()\n                               Ewald()\n                               PspCorrection()\n                               Hartree()\n                               Xc(:lda_xc_teter93)"
     },
     "metadata": {},
     "execution_count": 3
    }
   ],
   "cell_type": "code",
   "source": [
    "model = model_LDA(lattice, atoms)\n",
    "basis = PlaneWaveBasis(model; Ecut=5, kgrid=(1, 1, 1))"
   ],
   "metadata": {},
   "execution_count": 3
  },
  {
   "cell_type": "markdown",
   "source": [
    "Find the ground state using direct minimisation (always using SCF is boring ...)"
   ],
   "metadata": {}
  },
  {
   "outputs": [
    {
     "name": "stdout",
     "output_type": "stream",
     "text": [
      "Iter     Function value   Gradient norm \n",
      "     0     1.122489e+02     1.796730e+00\n",
      " * time: 0.3996889591217041\n",
      "     1     1.054549e+01     1.005811e+00\n",
      " * time: 1.0921859741210938\n",
      "     2    -1.091818e+01     1.220121e+00\n",
      " * time: 1.1774349212646484\n",
      "     3    -3.390030e+01     9.029656e-01\n",
      " * time: 1.3191211223602295\n",
      "     4    -4.726869e+01     6.927457e-01\n",
      " * time: 1.4120769500732422\n",
      "     5    -5.667603e+01     2.774442e-01\n",
      " * time: 1.5158281326293945\n",
      "     6    -5.970028e+01     2.160915e-01\n",
      " * time: 1.6037399768829346\n",
      "     7    -6.090226e+01     7.111077e-02\n",
      " * time: 1.7000811100006104\n",
      "     8    -6.137247e+01     4.373541e-02\n",
      " * time: 1.7715129852294922\n",
      "     9    -6.162064e+01     5.611429e-02\n",
      " * time: 1.8468010425567627\n",
      "    10    -6.182676e+01     3.082099e-02\n",
      " * time: 1.9204070568084717\n",
      "    11    -6.198762e+01     2.292018e-02\n",
      " * time: 1.9950950145721436\n",
      "    12    -6.208280e+01     1.757903e-02\n",
      " * time: 2.0813000202178955\n",
      "    13    -6.214021e+01     1.321318e-02\n",
      " * time: 2.1488120555877686\n",
      "    14    -6.218385e+01     1.186947e-02\n",
      " * time: 2.223402976989746\n",
      "    15    -6.220478e+01     1.060232e-02\n",
      " * time: 2.300194025039673\n",
      "    16    -6.221812e+01     7.870649e-03\n",
      " * time: 2.371356964111328\n",
      "    17    -6.222681e+01     5.845573e-03\n",
      " * time: 2.4430229663848877\n",
      "    18    -6.223459e+01     5.382192e-03\n",
      " * time: 2.5224990844726562\n",
      "    19    -6.224053e+01     4.252744e-03\n",
      " * time: 2.59414005279541\n",
      "    20    -6.224606e+01     4.163388e-03\n",
      " * time: 2.6642749309539795\n",
      "    21    -6.225097e+01     3.841728e-03\n",
      " * time: 2.7337379455566406\n",
      "    22    -6.225511e+01     3.593941e-03\n",
      " * time: 2.804892063140869\n",
      "    23    -6.225802e+01     2.828406e-03\n",
      " * time: 2.889400005340576\n",
      "    24    -6.225980e+01     2.308118e-03\n",
      " * time: 2.964509963989258\n",
      "    25    -6.226071e+01     1.459073e-03\n",
      " * time: 3.0369670391082764\n",
      "    26    -6.226114e+01     9.630177e-04\n",
      " * time: 3.1071760654449463\n",
      "    27    -6.226134e+01     9.433591e-04\n",
      " * time: 3.176945924758911\n",
      "    28    -6.226144e+01     5.848549e-04\n",
      " * time: 3.2552170753479004\n",
      "    29    -6.226151e+01     5.074639e-04\n",
      " * time: 3.3239200115203857\n",
      "    30    -6.226156e+01     4.043271e-04\n",
      " * time: 3.396449089050293\n",
      "    31    -6.226159e+01     3.643660e-04\n",
      " * time: 3.468548059463501\n",
      "    32    -6.226162e+01     3.228121e-04\n",
      " * time: 3.543987989425659\n",
      "    33    -6.226164e+01     2.397591e-04\n",
      " * time: 3.628570079803467\n",
      "    34    -6.226165e+01     1.912735e-04\n",
      " * time: 3.7092299461364746\n",
      "    35    -6.226166e+01     1.225365e-04\n",
      " * time: 3.780010938644409\n",
      "    36    -6.226166e+01     9.494855e-05\n",
      " * time: 3.8551840782165527\n",
      "    37    -6.226166e+01     8.688664e-05\n",
      " * time: 3.929750919342041\n",
      "    38    -6.226167e+01     4.995194e-05\n",
      " * time: 4.005811929702759\n",
      "    39    -6.226167e+01     3.955342e-05\n",
      " * time: 4.087153911590576\n",
      "    40    -6.226167e+01     3.253733e-05\n",
      " * time: 4.160710096359253\n",
      "    41    -6.226167e+01     2.596947e-05\n",
      " * time: 4.234976053237915\n",
      "    42    -6.226167e+01     1.998767e-05\n",
      " * time: 4.304585933685303\n",
      "    43    -6.226167e+01     1.375327e-05\n",
      " * time: 4.374695062637329\n",
      "    44    -6.226167e+01     1.167465e-05\n",
      " * time: 4.450500011444092\n",
      "    45    -6.226167e+01     1.083050e-05\n",
      " * time: 4.521347999572754\n",
      "    46    -6.226167e+01     6.115423e-06\n",
      " * time: 4.590163946151733\n",
      "    47    -6.226167e+01     3.934182e-06\n",
      " * time: 4.661818027496338\n",
      "    48    -6.226167e+01     2.702175e-06\n",
      " * time: 4.739452123641968\n",
      "    49    -6.226167e+01     1.993821e-06\n",
      " * time: 4.824659109115601\n"
     ]
    }
   ],
   "cell_type": "code",
   "source": [
    "scfres = direct_minimization(basis, tol=1e-5);"
   ],
   "metadata": {},
   "execution_count": 4
  },
  {
   "outputs": [
    {
     "output_type": "execute_result",
     "data": {
      "text/plain": "Energy breakdown (in Ha):\n    Kinetic             25.7671062\n    AtomicLocal         -18.8557662\n    AtomicNonlocal      14.8522640\n    Ewald               -67.1831486\n    PspCorrection       -2.3569765\n    Hartree             4.8485363 \n    Xc                  -19.3336817\n\n    total               -62.261666461444"
     },
     "metadata": {},
     "execution_count": 5
    }
   ],
   "cell_type": "code",
   "source": [
    "scfres.energies"
   ],
   "metadata": {},
   "execution_count": 5
  }
 ],
 "nbformat_minor": 3,
 "metadata": {
  "language_info": {
   "file_extension": ".jl",
   "mimetype": "application/julia",
   "name": "julia",
   "version": "1.7.2"
  },
  "kernelspec": {
   "name": "julia-1.7",
   "display_name": "Julia 1.7.2",
   "language": "julia"
  }
 },
 "nbformat": 4
}
