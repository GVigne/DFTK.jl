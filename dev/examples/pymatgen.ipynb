{
 "cells": [
  {
   "cell_type": "markdown",
   "source": [
    "# Creating supercells with pymatgen\n",
    "\n",
    "The [Pymatgen](https://pymatgen.org/) python library allows to setup\n",
    "solid-state calculations using a flexible set of classes as well as an API\n",
    "to an online data base of structures. Its `Structure` and `Lattice`\n",
    "objects are directly supported by the DFTK `load_atoms` and `load_lattice`\n",
    "functions, such that DFTK may be readily used to run calculation on systems\n",
    "defined in pymatgen. Using the `pymatgen_structure` function a conversion\n",
    "from DFTK to pymatgen structures is also possible. In the following we\n",
    "use this to create a silicon supercell and find its LDA ground state\n",
    "using direct minimisation. To run this example Julia's `PyCall` package\n",
    "needs to be able to find an installation of `pymatgen`."
   ],
   "metadata": {}
  },
  {
   "cell_type": "markdown",
   "source": [
    "First we setup the silicon lattice in DFTK."
   ],
   "metadata": {}
  },
  {
   "outputs": [],
   "cell_type": "code",
   "source": [
    "using DFTK\n",
    "\n",
    "a = 10.263141334305942  # Lattice constant in Bohr\n",
    "lattice = a / 2 .* [[0 1 1.]; [1 0 1.]; [1 1 0.]]\n",
    "Si = ElementPsp(:Si, psp=load_psp(\"hgh/lda/Si-q4\"))\n",
    "atoms = [Si => [ones(3)/8, -ones(3)/8]];"
   ],
   "metadata": {},
   "execution_count": 1
  },
  {
   "cell_type": "markdown",
   "source": [
    "Next we make a `[2, 2, 2]` supercell using pymatgen"
   ],
   "metadata": {}
  },
  {
   "outputs": [
    {
     "name": "stdout",
     "output_type": "stream",
     "text": [
      "┌ Warning: `vendor()` is deprecated, use `BLAS.get_config()` and inspect the output instead\n",
      "│   caller = npyinitialize() at numpy.jl:67\n",
      "└ @ PyCall /home/runner/.julia/packages/PyCall/3fwVL/src/numpy.jl:67\n"
     ]
    }
   ],
   "cell_type": "code",
   "source": [
    "pystruct = pymatgen_structure(lattice, atoms)\n",
    "pystruct.make_supercell([2, 2, 2])\n",
    "lattice = load_lattice(pystruct)\n",
    "atoms = [Si => [s.frac_coords for s in pystruct.sites]];"
   ],
   "metadata": {},
   "execution_count": 2
  },
  {
   "cell_type": "markdown",
   "source": [
    "Setup an LDA model and discretize using\n",
    "a single k-point and a small `Ecut` of 5 Hartree."
   ],
   "metadata": {}
  },
  {
   "outputs": [
    {
     "output_type": "execute_result",
     "data": {
      "text/plain": "PlaneWaveBasis discretization:\n    Ecut                 : 5.0 Ha\n    fft_size             : (32, 32, 32)\n    kgrid type           : Monkhorst-Pack\n    kgrid                : [1, 1, 1]\n    num. irred. kpoints  : 1\n\n    Discretized Model(lda_xc_teter93, 3D):\n        lattice (in Bohr)    : [0         , 10.2631   , 10.2631   ]\n                               [10.2631   , 0         , 10.2631   ]\n                               [10.2631   , 10.2631   , 0         ]\n        unit cell volume     : 2162.1 Bohr³\n    \n        atoms                : Si₁₆\n        atom potentials      : ElementPsp(Si, psp=hgh/lda/si-q4)\n    \n        num. electrons       : 64\n        spin polarization    : none\n        temperature          : 0 Ha\n    \n        terms                : Kinetic(1)\n                               AtomicLocal()\n                               AtomicNonlocal()\n                               Ewald()\n                               PspCorrection()\n                               Hartree(1)\n                               Xc([:lda_xc_teter93], 1, nothing)"
     },
     "metadata": {},
     "execution_count": 3
    }
   ],
   "cell_type": "code",
   "source": [
    "model = model_LDA(lattice, atoms)\n",
    "basis = PlaneWaveBasis(model; Ecut=5, kgrid=(1, 1, 1))"
   ],
   "metadata": {},
   "execution_count": 3
  },
  {
   "cell_type": "markdown",
   "source": [
    "Find the ground state using direct minimisation (always using SCF is boring ...)"
   ],
   "metadata": {}
  },
  {
   "outputs": [
    {
     "name": "stdout",
     "output_type": "stream",
     "text": [
      "Iter     Function value   Gradient norm \n",
      "     0     1.121977e+02     1.400676e+00\n",
      " * time: 0.6149749755859375\n",
      "     1     1.070991e+01     7.692837e-01\n",
      " * time: 1.6808021068572998\n",
      "     2    -1.148385e+01     9.195028e-01\n",
      " * time: 2.1826331615448\n",
      "     3    -3.394439e+01     7.455609e-01\n",
      " * time: 2.9229609966278076\n",
      "     4    -4.735230e+01     5.763491e-01\n",
      " * time: 3.6634740829467773\n",
      "     5    -5.679472e+01     1.993491e-01\n",
      " * time: 4.412461996078491\n",
      "     6    -5.969035e+01     1.571699e-01\n",
      " * time: 4.907142162322998\n",
      "     7    -6.087557e+01     6.807928e-02\n",
      " * time: 5.402333974838257\n",
      "     8    -6.138390e+01     3.828060e-02\n",
      " * time: 5.897899150848389\n",
      "     9    -6.166870e+01     3.060372e-02\n",
      " * time: 6.394008159637451\n",
      "    10    -6.183261e+01     2.759102e-02\n",
      " * time: 6.975162982940674\n",
      "    11    -6.198671e+01     2.359237e-02\n",
      " * time: 7.471026182174683\n",
      "    12    -6.207699e+01     1.346409e-02\n",
      " * time: 7.9664061069488525\n",
      "    13    -6.211782e+01     1.378365e-02\n",
      " * time: 8.461764097213745\n",
      "    14    -6.215510e+01     1.138590e-02\n",
      " * time: 8.957933187484741\n",
      "    15    -6.217118e+01     8.951620e-03\n",
      " * time: 9.454020977020264\n",
      "    16    -6.218374e+01     7.085756e-03\n",
      " * time: 10.297329187393188\n",
      "    17    -6.219157e+01     5.957700e-03\n",
      " * time: 10.792963027954102\n",
      "    18    -6.219771e+01     5.769092e-03\n",
      " * time: 11.288626194000244\n",
      "    19    -6.220240e+01     4.766459e-03\n",
      " * time: 11.78459620475769\n",
      "    20    -6.220668e+01     4.438296e-03\n",
      " * time: 12.28062105178833\n",
      "    21    -6.221096e+01     5.585935e-03\n",
      " * time: 12.974233150482178\n",
      "    22    -6.221534e+01     6.925861e-03\n",
      " * time: 13.470349073410034\n",
      "    23    -6.221975e+01     7.292464e-03\n",
      " * time: 13.965995073318481\n",
      "    24    -6.222450e+01     6.638174e-03\n",
      " * time: 14.469310998916626\n",
      "    25    -6.223010e+01     5.607632e-03\n",
      " * time: 14.964903116226196\n",
      "    26    -6.223638e+01     5.972893e-03\n",
      " * time: 15.460750102996826\n",
      "    27    -6.224303e+01     5.495521e-03\n",
      " * time: 15.95572018623352\n",
      "    28    -6.224939e+01     4.476236e-03\n",
      " * time: 16.458945989608765\n",
      "    29    -6.225408e+01     4.823278e-03\n",
      " * time: 16.95425820350647\n",
      "    30    -6.225730e+01     3.407989e-03\n",
      " * time: 17.44895601272583\n",
      "    31    -6.225925e+01     2.397715e-03\n",
      " * time: 17.949295043945312\n",
      "    32    -6.226038e+01     1.701676e-03\n",
      " * time: 18.444839000701904\n",
      "    33    -6.226092e+01     1.166467e-03\n",
      " * time: 18.940316200256348\n",
      "    34    -6.226123e+01     9.420572e-04\n",
      " * time: 19.441222190856934\n",
      "    35    -6.226140e+01     7.588705e-04\n",
      " * time: 19.936878204345703\n",
      "    36    -6.226150e+01     5.818407e-04\n",
      " * time: 20.43263006210327\n",
      "    37    -6.226155e+01     4.653798e-04\n",
      " * time: 20.932667016983032\n",
      "    38    -6.226159e+01     4.016246e-04\n",
      " * time: 21.428202152252197\n",
      "    39    -6.226161e+01     3.220246e-04\n",
      " * time: 21.923286199569702\n",
      "    40    -6.226163e+01     2.970742e-04\n",
      " * time: 22.42319416999817\n",
      "    41    -6.226165e+01     2.487682e-04\n",
      " * time: 22.917732000350952\n",
      "    42    -6.226166e+01     1.549952e-04\n",
      " * time: 23.412191152572632\n",
      "    43    -6.226166e+01     9.615990e-05\n",
      " * time: 23.91257619857788\n",
      "    44    -6.226166e+01     7.854347e-05\n",
      " * time: 24.407984972000122\n",
      "    45    -6.226167e+01     4.955922e-05\n",
      " * time: 24.903764009475708\n",
      "    46    -6.226167e+01     4.262339e-05\n",
      " * time: 25.403753995895386\n",
      "    47    -6.226167e+01     2.705608e-05\n",
      " * time: 25.898898124694824\n",
      "    48    -6.226167e+01     1.990732e-05\n",
      " * time: 26.394055128097534\n",
      "    49    -6.226167e+01     1.763859e-05\n",
      " * time: 26.889409065246582\n",
      "    50    -6.226167e+01     1.378624e-05\n",
      " * time: 27.390300035476685\n",
      "    51    -6.226167e+01     1.509795e-05\n",
      " * time: 27.885843992233276\n",
      "    52    -6.226167e+01     1.027979e-05\n",
      " * time: 28.38105797767639\n",
      "    53    -6.226167e+01     1.058234e-05\n",
      " * time: 28.881461143493652\n",
      "    54    -6.226167e+01     6.660840e-06\n",
      " * time: 29.376476049423218\n",
      "    55    -6.226167e+01     4.266927e-06\n",
      " * time: 29.87192702293396\n",
      "    56    -6.226167e+01     3.133492e-06\n",
      " * time: 30.372231006622314\n"
     ]
    }
   ],
   "cell_type": "code",
   "source": [
    "scfres = direct_minimization(basis, tol=1e-5);"
   ],
   "metadata": {},
   "execution_count": 4
  },
  {
   "outputs": [
    {
     "output_type": "execute_result",
     "data": {
      "text/plain": "Energy breakdown (in Ha):\n    Kinetic             25.7671078\n    AtomicLocal         -18.8557681\n    AtomicNonlocal      14.8522633\n    Ewald               -67.1831486\n    PspCorrection       -2.3569765\n    Hartree             4.8485380 \n    Xc                  -19.3336824\n\n    total               -62.261666459579"
     },
     "metadata": {},
     "execution_count": 5
    }
   ],
   "cell_type": "code",
   "source": [
    "scfres.energies"
   ],
   "metadata": {},
   "execution_count": 5
  }
 ],
 "nbformat_minor": 3,
 "metadata": {
  "language_info": {
   "file_extension": ".jl",
   "mimetype": "application/julia",
   "name": "julia",
   "version": "1.7.0"
  },
  "kernelspec": {
   "name": "julia-1.7",
   "display_name": "Julia 1.7.0",
   "language": "julia"
  }
 },
 "nbformat": 4
}
