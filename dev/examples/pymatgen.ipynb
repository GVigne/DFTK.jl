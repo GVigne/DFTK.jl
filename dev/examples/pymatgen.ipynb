{
 "cells": [
  {
   "cell_type": "markdown",
   "source": [
    "# Creating supercells with pymatgen\n",
    "\n",
    "The [Pymatgen](https://pymatgen.org/) python library allows to setup\n",
    "solid-state calculations using a flexible set of classes as well as an API\n",
    "to an online data base of structures. Its `Structure` and `Lattice`\n",
    "objects are directly supported by the DFTK `load_atoms` and `load_lattice`\n",
    "functions, such that DFTK may be readily used to run calculation on systems\n",
    "defined in pymatgen. Using the `pymatgen_structure` function a conversion\n",
    "from DFTK to pymatgen structures is also possible. In the following we\n",
    "use this to create a silicon supercell and find its LDA ground state\n",
    "using direct minimisation."
   ],
   "metadata": {}
  },
  {
   "cell_type": "markdown",
   "source": [
    "First we setup the silicon lattice in DFTK."
   ],
   "metadata": {}
  },
  {
   "outputs": [],
   "cell_type": "code",
   "source": [
    "using DFTK\n",
    "\n",
    "a = 10.263141334305942  # Lattice constant in Bohr\n",
    "lattice = a / 2 .* [[0 1 1.]; [1 0 1.]; [1 1 0.]]\n",
    "Si = ElementPsp(:Si, psp=load_psp(\"hgh/lda/Si-q4\"))\n",
    "atoms = [Si => [ones(3)/8, -ones(3)/8]];"
   ],
   "metadata": {},
   "execution_count": 1
  },
  {
   "cell_type": "markdown",
   "source": [
    "Next we make a `[2, 2, 2]` supercell using pymatgen"
   ],
   "metadata": {}
  },
  {
   "outputs": [],
   "cell_type": "code",
   "source": [
    "pystruct = pymatgen_structure(lattice, atoms)\n",
    "pystruct.make_supercell([2, 2, 2])\n",
    "lattice = load_lattice(pystruct)\n",
    "atoms = [Si => [s.frac_coords for s in pystruct.sites]];"
   ],
   "metadata": {},
   "execution_count": 2
  },
  {
   "cell_type": "markdown",
   "source": [
    "Setup an LDA model and discretize using\n",
    "a single k-point and a small `Ecut` of 5 Hartree."
   ],
   "metadata": {}
  },
  {
   "outputs": [
    {
     "output_type": "execute_result",
     "data": {
      "text/plain": "PlaneWaveBasis discretization:\n    Ecut                 : 5.0 Ha\n    fft_size             : (32, 32, 32)\n    kgrid type           : Monkhorst-Pack\n    kgrid                : [1, 1, 1]\n    num. irred. kpoints  : 1\n\n    Discretized Model(lda_xc_teter93, 3D):\n        lattice (in Bohr)    : [0         , 10.2631   , 10.2631   ]\n                               [10.2631   , 0         , 10.2631   ]\n                               [10.2631   , 10.2631   , 0         ]\n        unit cell volume     : 2162.1 Bohr³\n    \n        atoms                : Si₁₆\n        atom potentials      : ElementPsp(Si, psp=hgh/lda/si-q4)\n    \n        num. electrons       : 64\n        spin polarization    : none\n        temperature          : 0 Ha\n    \n        terms                : Kinetic(1)\n                               AtomicLocal()\n                               AtomicNonlocal()\n                               Ewald()\n                               PspCorrection()\n                               Hartree(1)\n                               Xc([:lda_xc_teter93], 1, nothing)"
     },
     "metadata": {},
     "execution_count": 3
    }
   ],
   "cell_type": "code",
   "source": [
    "model = model_LDA(lattice, atoms)\n",
    "basis = PlaneWaveBasis(model; Ecut=5, kgrid=(1, 1, 1))"
   ],
   "metadata": {},
   "execution_count": 3
  },
  {
   "cell_type": "markdown",
   "source": [
    "Find the ground state using direct minimisation (always using SCF is boring ...)"
   ],
   "metadata": {}
  },
  {
   "outputs": [
    {
     "name": "stdout",
     "output_type": "stream",
     "text": [
      "Iter     Function value   Gradient norm \n",
      "     0     1.121273e+02     1.448108e+00\n",
      " * time: 0.684650182723999\n",
      "     1     1.081690e+01     7.917203e-01\n",
      " * time: 1.9819681644439697\n",
      "     2    -1.174167e+01     9.952398e-01\n",
      " * time: 2.623244047164917\n",
      "     3    -3.411153e+01     7.034351e-01\n",
      " * time: 3.598903179168701\n",
      "     4    -4.769210e+01     5.228962e-01\n",
      " * time: 4.53157901763916\n",
      "     5    -5.701983e+01     2.020207e-01\n",
      " * time: 5.48606014251709\n",
      "     6    -5.983951e+01     1.203731e-01\n",
      " * time: 6.153020143508911\n",
      "     7    -6.088605e+01     4.802719e-02\n",
      " * time: 6.775328159332275\n",
      "     8    -6.128136e+01     6.474652e-02\n",
      " * time: 7.413881063461304\n",
      "     9    -6.157489e+01     4.293037e-02\n",
      " * time: 8.050973176956177\n",
      "    10    -6.179167e+01     3.347803e-02\n",
      " * time: 8.703809022903442\n",
      "    11    -6.196198e+01     2.045225e-02\n",
      " * time: 9.33138918876648\n",
      "    12    -6.202657e+01     1.901611e-02\n",
      " * time: 9.960750102996826\n",
      "    13    -6.209191e+01     1.198616e-02\n",
      " * time: 10.590025186538696\n",
      "    14    -6.211869e+01     1.205620e-02\n",
      " * time: 11.241038084030151\n",
      "    15    -6.214424e+01     9.562604e-03\n",
      " * time: 11.851477146148682\n",
      "    16    -6.215700e+01     9.276819e-03\n",
      " * time: 12.48158311843872\n",
      "    17    -6.216749e+01     7.501181e-03\n",
      " * time: 13.11888599395752\n",
      "    18    -6.217597e+01     6.712662e-03\n",
      " * time: 13.762052059173584\n",
      "    19    -6.218358e+01     5.350826e-03\n",
      " * time: 14.394765138626099\n",
      "    20    -6.219062e+01     5.365205e-03\n",
      " * time: 15.026750087738037\n",
      "    21    -6.219763e+01     6.647062e-03\n",
      " * time: 15.67619013786316\n",
      "    22    -6.220484e+01     6.777501e-03\n",
      " * time: 16.321497201919556\n",
      "    23    -6.221202e+01     6.462917e-03\n",
      " * time: 16.945847034454346\n",
      "    24    -6.221845e+01     7.796893e-03\n",
      " * time: 17.575359106063843\n",
      "    25    -6.222395e+01     7.508673e-03\n",
      " * time: 18.221198081970215\n",
      "    26    -6.222950e+01     6.095976e-03\n",
      " * time: 18.867191076278687\n",
      "    27    -6.223505e+01     5.843808e-03\n",
      " * time: 19.48876118659973\n",
      "    28    -6.224054e+01     4.748217e-03\n",
      " * time: 20.1056911945343\n",
      "    29    -6.224616e+01     4.271690e-03\n",
      " * time: 20.75697612762451\n",
      "    30    -6.225128e+01     4.384594e-03\n",
      " * time: 21.404962062835693\n",
      "    31    -6.225506e+01     3.708167e-03\n",
      " * time: 22.039815187454224\n",
      "    32    -6.225771e+01     2.620474e-03\n",
      " * time: 22.661733150482178\n",
      "    33    -6.225940e+01     3.045965e-03\n",
      " * time: 23.29334306716919\n",
      "    34    -6.226042e+01     1.515498e-03\n",
      " * time: 23.92483115196228\n",
      "    35    -6.226102e+01     1.229860e-03\n",
      " * time: 24.55491805076599\n",
      "    36    -6.226131e+01     6.880057e-04\n",
      " * time: 25.171151161193848\n",
      "    37    -6.226144e+01     5.571289e-04\n",
      " * time: 25.804378986358643\n",
      "    38    -6.226152e+01     5.297667e-04\n",
      " * time: 26.428280115127563\n",
      "    39    -6.226157e+01     4.613020e-04\n",
      " * time: 27.071902990341187\n",
      "    40    -6.226160e+01     3.911524e-04\n",
      " * time: 27.71491813659668\n",
      "    41    -6.226162e+01     3.086343e-04\n",
      " * time: 28.343738079071045\n",
      "    42    -6.226164e+01     1.996520e-04\n",
      " * time: 28.943331003189087\n",
      "    43    -6.226165e+01     1.888928e-04\n",
      " * time: 29.55904197692871\n",
      "    44    -6.226166e+01     1.512165e-04\n",
      " * time: 30.166445016860962\n",
      "    45    -6.226166e+01     1.060061e-04\n",
      " * time: 30.779548168182373\n",
      "    46    -6.226166e+01     8.974797e-05\n",
      " * time: 31.404505014419556\n",
      "    47    -6.226167e+01     4.713836e-05\n",
      " * time: 32.02318215370178\n",
      "    48    -6.226167e+01     2.819838e-05\n",
      " * time: 32.648975133895874\n",
      "    49    -6.226167e+01     2.997632e-05\n",
      " * time: 33.284290075302124\n",
      "    50    -6.226167e+01     2.399482e-05\n",
      " * time: 33.92497801780701\n",
      "    51    -6.226167e+01     1.683177e-05\n",
      " * time: 34.5638530254364\n",
      "    52    -6.226167e+01     1.500436e-05\n",
      " * time: 35.19350504875183\n",
      "    53    -6.226167e+01     1.226769e-05\n",
      " * time: 35.848706007003784\n",
      "    54    -6.226167e+01     8.156951e-06\n",
      " * time: 36.47793102264404\n",
      "    55    -6.226167e+01     6.525232e-06\n",
      " * time: 37.125585079193115\n",
      "    56    -6.226167e+01     5.290967e-06\n",
      " * time: 37.72809600830078\n",
      "    57    -6.226167e+01     4.364010e-06\n",
      " * time: 38.34833908081055\n",
      "    58    -6.226167e+01     2.805817e-06\n",
      " * time: 38.98868918418884\n"
     ]
    }
   ],
   "cell_type": "code",
   "source": [
    "scfres = direct_minimization(basis, tol=1e-5);"
   ],
   "metadata": {},
   "execution_count": 4
  },
  {
   "outputs": [
    {
     "output_type": "execute_result",
     "data": {
      "text/plain": "Energy breakdown (in Ha):\n    Kinetic             25.7671077\n    AtomicLocal         -18.8557718\n    AtomicNonlocal      14.8522664\n    Ewald               -67.1831486\n    PspCorrection       -2.3569765\n    Hartree             4.8485391 \n    Xc                  -19.3336828\n\n    total               -62.261666460865"
     },
     "metadata": {},
     "execution_count": 5
    }
   ],
   "cell_type": "code",
   "source": [
    "scfres.energies"
   ],
   "metadata": {},
   "execution_count": 5
  }
 ],
 "nbformat_minor": 3,
 "metadata": {
  "language_info": {
   "file_extension": ".jl",
   "mimetype": "application/julia",
   "name": "julia",
   "version": "1.6.3"
  },
  "kernelspec": {
   "name": "julia-1.6",
   "display_name": "Julia 1.6.3",
   "language": "julia"
  }
 },
 "nbformat": 4
}
