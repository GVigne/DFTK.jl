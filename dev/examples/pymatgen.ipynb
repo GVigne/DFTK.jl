{
 "cells": [
  {
   "cell_type": "markdown",
   "source": [
    "# Creating supercells with pymatgen\n",
    "\n",
    "The [Pymatgen](https://pymatgen.org/) python library allows to setup\n",
    "solid-state calculations using a flexible set of classes as well as an API\n",
    "to an online data base of structures. Its `Structure` and `Lattice`\n",
    "objects are directly supported by the DFTK `load_atoms` and `load_lattice`\n",
    "functions, such that DFTK may be readily used to run calculation on systems\n",
    "defined in pymatgen. Using the `pymatgen_structure` function a conversion\n",
    "from DFTK to pymatgen structures is also possible. In the following we\n",
    "use this to create a silicon supercell and find its LDA ground state\n",
    "using direct minimisation. To run this example Julia's `PyCall` package\n",
    "needs to be able to find an installation of `pymatgen`."
   ],
   "metadata": {}
  },
  {
   "cell_type": "markdown",
   "source": [
    "First we setup the silicon lattice in DFTK."
   ],
   "metadata": {}
  },
  {
   "outputs": [],
   "cell_type": "code",
   "source": [
    "using DFTK\n",
    "\n",
    "a = 10.263141334305942  # Lattice constant in Bohr\n",
    "lattice = a / 2 .* [[0 1 1.]; [1 0 1.]; [1 1 0.]]\n",
    "Si = ElementPsp(:Si, psp=load_psp(\"hgh/lda/Si-q4\"))\n",
    "atoms = [Si => [ones(3)/8, -ones(3)/8]];"
   ],
   "metadata": {},
   "execution_count": 1
  },
  {
   "cell_type": "markdown",
   "source": [
    "Next we make a `[2, 2, 2]` supercell using pymatgen"
   ],
   "metadata": {}
  },
  {
   "outputs": [
    {
     "name": "stdout",
     "output_type": "stream",
     "text": [
      "┌ Warning: `vendor()` is deprecated, use `BLAS.get_config()` and inspect the output instead\n",
      "│   caller = npyinitialize() at numpy.jl:67\n",
      "└ @ PyCall /home/runner/.julia/packages/PyCall/L0fLP/src/numpy.jl:67\n"
     ]
    }
   ],
   "cell_type": "code",
   "source": [
    "pystruct = pymatgen_structure(lattice, atoms)\n",
    "pystruct.make_supercell([2, 2, 2])\n",
    "lattice = load_lattice(pystruct)\n",
    "atoms = [Si => [s.frac_coords for s in pystruct.sites]];"
   ],
   "metadata": {},
   "execution_count": 2
  },
  {
   "cell_type": "markdown",
   "source": [
    "Setup an LDA model and discretize using\n",
    "a single k-point and a small `Ecut` of 5 Hartree."
   ],
   "metadata": {}
  },
  {
   "outputs": [
    {
     "output_type": "execute_result",
     "data": {
      "text/plain": "PlaneWaveBasis discretization:\n    Ecut                 : 5.0 Ha\n    fft_size             : (32, 32, 32)\n    kgrid type           : Monkhorst-Pack\n    kgrid                : [1, 1, 1]\n    num. irred. kpoints  : 1\n\n    Discretized Model(lda_xc_teter93, 3D):\n        lattice (in Bohr)    : [0         , 10.2631   , 10.2631   ]\n                               [10.2631   , 0         , 10.2631   ]\n                               [10.2631   , 10.2631   , 0         ]\n        unit cell volume     : 2162.1 Bohr³\n    \n        atoms                : Si₁₆\n        atom potentials      : ElementPsp(Si, psp=hgh/lda/si-q4)\n    \n        num. electrons       : 64\n        spin polarization    : none\n        temperature          : 0 Ha\n    \n        terms                : Kinetic()\n                               AtomicLocal()\n                               AtomicNonlocal()\n                               Ewald()\n                               PspCorrection()\n                               Hartree()\n                               Xc(:lda_xc_teter93)"
     },
     "metadata": {},
     "execution_count": 3
    }
   ],
   "cell_type": "code",
   "source": [
    "model = model_LDA(lattice, atoms)\n",
    "basis = PlaneWaveBasis(model; Ecut=5, kgrid=(1, 1, 1))"
   ],
   "metadata": {},
   "execution_count": 3
  },
  {
   "cell_type": "markdown",
   "source": [
    "Find the ground state using direct minimisation (always using SCF is boring ...)"
   ],
   "metadata": {}
  },
  {
   "outputs": [
    {
     "name": "stdout",
     "output_type": "stream",
     "text": [
      "Iter     Function value   Gradient norm \n",
      "     0     1.116114e+02     1.475838e+00\n",
      " * time: 0.7818489074707031\n",
      "     1     1.061991e+01     8.551550e-01\n",
      " * time: 2.0250279903411865\n",
      "     2    -1.222648e+01     9.711463e-01\n",
      " * time: 2.656803846359253\n",
      "     3    -3.426443e+01     7.090390e-01\n",
      " * time: 3.5254788398742676\n",
      "     4    -4.796473e+01     5.255754e-01\n",
      " * time: 4.40988302230835\n",
      "     5    -5.707416e+01     1.880500e-01\n",
      " * time: 5.308797836303711\n",
      "     6    -5.988715e+01     1.123665e-01\n",
      " * time: 5.891636848449707\n",
      "     7    -6.091234e+01     4.251702e-02\n",
      " * time: 6.475327014923096\n",
      "     8    -6.129384e+01     7.292531e-02\n",
      " * time: 7.059955835342407\n",
      "     9    -6.159560e+01     3.067346e-02\n",
      " * time: 7.664609909057617\n",
      "    10    -6.179642e+01     2.587511e-02\n",
      " * time: 8.252810001373291\n",
      "    11    -6.195088e+01     1.819679e-02\n",
      " * time: 8.837464809417725\n",
      "    12    -6.201352e+01     1.556165e-02\n",
      " * time: 9.422030925750732\n",
      "    13    -6.208435e+01     1.549268e-02\n",
      " * time: 10.007568836212158\n",
      "    14    -6.212018e+01     1.226426e-02\n",
      " * time: 10.601579904556274\n",
      "    15    -6.215779e+01     1.159165e-02\n",
      " * time: 11.186417818069458\n",
      "    16    -6.218093e+01     1.016897e-02\n",
      " * time: 11.771708965301514\n",
      "    17    -6.219893e+01     8.080108e-03\n",
      " * time: 12.355446815490723\n",
      "    18    -6.221118e+01     6.318512e-03\n",
      " * time: 12.948421001434326\n",
      "    19    -6.221953e+01     5.931432e-03\n",
      " * time: 13.531955003738403\n",
      "    20    -6.222574e+01     5.083601e-03\n",
      " * time: 14.116223812103271\n",
      "    21    -6.223121e+01     5.710470e-03\n",
      " * time: 14.701082944869995\n",
      "    22    -6.223688e+01     4.751133e-03\n",
      " * time: 15.297041893005371\n",
      "    23    -6.224258e+01     4.890879e-03\n",
      " * time: 15.881067991256714\n",
      "    24    -6.224781e+01     4.721006e-03\n",
      " * time: 16.468050003051758\n",
      "    25    -6.225243e+01     3.646321e-03\n",
      " * time: 17.06567692756653\n",
      "    26    -6.225596e+01     2.719767e-03\n",
      " * time: 17.657967805862427\n",
      "    27    -6.225821e+01     2.056251e-03\n",
      " * time: 18.25036883354187\n",
      "    28    -6.225946e+01     2.026333e-03\n",
      " * time: 18.83404803276062\n",
      "    29    -6.226019e+01     1.997667e-03\n",
      " * time: 19.4179048538208\n",
      "    30    -6.226068e+01     1.491409e-03\n",
      " * time: 20.00202703475952\n",
      "    31    -6.226103e+01     1.125645e-03\n",
      " * time: 20.596374988555908\n",
      "    32    -6.226128e+01     1.083887e-03\n",
      " * time: 21.179911851882935\n",
      "    33    -6.226144e+01     9.446010e-04\n",
      " * time: 21.764179944992065\n",
      "    34    -6.226155e+01     7.024284e-04\n",
      " * time: 22.347738027572632\n",
      "    35    -6.226161e+01     5.561332e-04\n",
      " * time: 22.939630031585693\n",
      "    36    -6.226164e+01     2.925173e-04\n",
      " * time: 23.523042917251587\n",
      "    37    -6.226165e+01     2.175768e-04\n",
      " * time: 24.107165813446045\n",
      "    38    -6.226166e+01     1.354799e-04\n",
      " * time: 24.694090843200684\n",
      "    39    -6.226166e+01     1.024907e-04\n",
      " * time: 25.278982877731323\n",
      "    40    -6.226166e+01     7.942921e-05\n",
      " * time: 25.870466947555542\n",
      "    41    -6.226166e+01     6.213540e-05\n",
      " * time: 26.453675031661987\n",
      "    42    -6.226167e+01     5.314615e-05\n",
      " * time: 27.03849196434021\n",
      "    43    -6.226167e+01     5.765854e-05\n",
      " * time: 27.622987031936646\n",
      "    44    -6.226167e+01     3.512146e-05\n",
      " * time: 28.21628189086914\n",
      "    45    -6.226167e+01     2.877850e-05\n",
      " * time: 28.79790496826172\n",
      "    46    -6.226167e+01     2.028427e-05\n",
      " * time: 29.380826950073242\n",
      "    47    -6.226167e+01     1.648271e-05\n",
      " * time: 29.966575860977173\n",
      "    48    -6.226167e+01     1.074011e-05\n",
      " * time: 30.558740854263306\n",
      "    49    -6.226167e+01     7.857781e-06\n",
      " * time: 31.142323970794678\n",
      "    50    -6.226167e+01     6.262757e-06\n",
      " * time: 31.726910829544067\n",
      "    51    -6.226167e+01     5.502574e-06\n",
      " * time: 32.312604904174805\n",
      "    52    -6.226167e+01     4.481462e-06\n",
      " * time: 32.90364384651184\n"
     ]
    }
   ],
   "cell_type": "code",
   "source": [
    "scfres = direct_minimization(basis, tol=1e-5);"
   ],
   "metadata": {},
   "execution_count": 4
  },
  {
   "outputs": [
    {
     "output_type": "execute_result",
     "data": {
      "text/plain": "Energy breakdown (in Ha):\n    Kinetic             25.7671060\n    AtomicLocal         -18.8557697\n    AtomicNonlocal      14.8522675\n    Ewald               -67.1831486\n    PspCorrection       -2.3569765\n    Hartree             4.8485368 \n    Xc                  -19.3336818\n\n    total               -62.261666455791"
     },
     "metadata": {},
     "execution_count": 5
    }
   ],
   "cell_type": "code",
   "source": [
    "scfres.energies"
   ],
   "metadata": {},
   "execution_count": 5
  }
 ],
 "nbformat_minor": 3,
 "metadata": {
  "language_info": {
   "file_extension": ".jl",
   "mimetype": "application/julia",
   "name": "julia",
   "version": "1.7.1"
  },
  "kernelspec": {
   "name": "julia-1.7",
   "display_name": "Julia 1.7.1",
   "language": "julia"
  }
 },
 "nbformat": 4
}
