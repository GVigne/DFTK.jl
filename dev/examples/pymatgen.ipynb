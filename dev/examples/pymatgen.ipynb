{
 "cells": [
  {
   "cell_type": "markdown",
   "source": [
    "# Creating supercells with pymatgen\n",
    "\n",
    "The [Pymatgen](https://pymatgen.org/) python library allows to setup\n",
    "solid-state calculations using a flexible set of classes as well as an API\n",
    "to an online data base of structures. Its `Structure` and `Lattice`\n",
    "objects are directly supported by the DFTK `load_atoms` and `load_lattice`\n",
    "functions, such that DFTK may be readily used to run calculation on systems\n",
    "defined in pymatgen. Using the `pymatgen_structure` function a conversion\n",
    "from DFTK to pymatgen structures is also possible. In the following we\n",
    "use this to create a silicon supercell and find its LDA ground state\n",
    "using direct minimisation. To run this example Julia's `PyCall` package\n",
    "needs to be able to find an installation of `pymatgen`."
   ],
   "metadata": {}
  },
  {
   "cell_type": "markdown",
   "source": [
    "First we setup the silicon lattice in DFTK."
   ],
   "metadata": {}
  },
  {
   "outputs": [],
   "cell_type": "code",
   "source": [
    "using DFTK\n",
    "\n",
    "a = 10.263141334305942  # Lattice constant in Bohr\n",
    "lattice = a / 2 .* [[0 1 1.]; [1 0 1.]; [1 1 0.]]\n",
    "Si = ElementPsp(:Si, psp=load_psp(\"hgh/lda/Si-q4\"))\n",
    "atoms = [Si => [ones(3)/8, -ones(3)/8]];"
   ],
   "metadata": {},
   "execution_count": 1
  },
  {
   "cell_type": "markdown",
   "source": [
    "Next we make a `[2, 2, 2]` supercell using pymatgen"
   ],
   "metadata": {}
  },
  {
   "outputs": [
    {
     "name": "stdout",
     "output_type": "stream",
     "text": [
      "┌ Warning: `vendor()` is deprecated, use `BLAS.get_config()` and inspect the output instead\n",
      "│   caller = npyinitialize() at numpy.jl:67\n",
      "└ @ PyCall /home/runner/.julia/packages/PyCall/L0fLP/src/numpy.jl:67\n"
     ]
    }
   ],
   "cell_type": "code",
   "source": [
    "pystruct = pymatgen_structure(lattice, atoms)\n",
    "pystruct.make_supercell([2, 2, 2])\n",
    "lattice = load_lattice(pystruct)\n",
    "atoms = [Si => [s.frac_coords for s in pystruct.sites]];"
   ],
   "metadata": {},
   "execution_count": 2
  },
  {
   "cell_type": "markdown",
   "source": [
    "Setup an LDA model and discretize using\n",
    "a single k-point and a small `Ecut` of 5 Hartree."
   ],
   "metadata": {}
  },
  {
   "outputs": [
    {
     "output_type": "execute_result",
     "data": {
      "text/plain": "PlaneWaveBasis discretization:\n    Ecut                 : 5.0 Ha\n    fft_size             : (32, 32, 32), 32768 total points\n    kgrid type           : Monkhorst-Pack\n    kgrid                : [1, 1, 1]\n    num. irred. kpoints  : 1\n\n    Discretized Model(lda_xc_teter93, 3D):\n        lattice (in Bohr)    : [0         , 10.2631   , 10.2631   ]\n                               [10.2631   , 0         , 10.2631   ]\n                               [10.2631   , 10.2631   , 0         ]\n        unit cell volume     : 2162.1 Bohr³\n    \n        atoms                : Si₁₆\n        atom potentials      : ElementPsp(Si, psp=\"hgh/lda/si-q4\")\n    \n        num. electrons       : 64\n        spin polarization    : none\n        temperature          : 0 Ha\n    \n        terms                : Kinetic()\n                               AtomicLocal()\n                               AtomicNonlocal()\n                               Ewald()\n                               PspCorrection()\n                               Hartree()\n                               Xc(:lda_xc_teter93)"
     },
     "metadata": {},
     "execution_count": 3
    }
   ],
   "cell_type": "code",
   "source": [
    "model = model_LDA(lattice, atoms)\n",
    "basis = PlaneWaveBasis(model; Ecut=5, kgrid=(1, 1, 1))"
   ],
   "metadata": {},
   "execution_count": 3
  },
  {
   "cell_type": "markdown",
   "source": [
    "Find the ground state using direct minimisation (always using SCF is boring ...)"
   ],
   "metadata": {}
  },
  {
   "outputs": [
    {
     "name": "stdout",
     "output_type": "stream",
     "text": [
      "Iter     Function value   Gradient norm \n",
      "     0     1.125074e+02     1.420811e+00\n",
      " * time: 0.5044059753417969\n",
      "     1     1.050562e+01     7.624286e-01\n",
      " * time: 1.1787800788879395\n",
      "     2    -1.261328e+01     9.294406e-01\n",
      " * time: 1.2914700508117676\n",
      "     3    -3.428434e+01     6.716754e-01\n",
      " * time: 1.3742001056671143\n",
      "     4    -4.791102e+01     5.073717e-01\n",
      " * time: 1.4725050926208496\n",
      "     5    -5.699056e+01     1.832077e-01\n",
      " * time: 1.5712120532989502\n",
      "     6    -5.980367e+01     1.298000e-01\n",
      " * time: 1.6580941677093506\n",
      "     7    -6.090675e+01     5.582211e-02\n",
      " * time: 1.7181930541992188\n",
      "     8    -6.133598e+01     4.128990e-02\n",
      " * time: 1.7783010005950928\n",
      "     9    -6.157352e+01     4.463372e-02\n",
      " * time: 1.8397040367126465\n",
      "    10    -6.177122e+01     3.536237e-02\n",
      " * time: 1.9001071453094482\n",
      "    11    -6.193035e+01     2.441184e-02\n",
      " * time: 1.975492000579834\n",
      "    12    -6.201608e+01     1.941735e-02\n",
      " * time: 2.036701202392578\n",
      "    13    -6.208886e+01     1.568227e-02\n",
      " * time: 2.0981481075286865\n",
      "    14    -6.213888e+01     1.528633e-02\n",
      " * time: 2.15968918800354\n",
      "    15    -6.217584e+01     1.086211e-02\n",
      " * time: 2.2213239669799805\n",
      "    16    -6.219722e+01     9.792714e-03\n",
      " * time: 2.282499074935913\n",
      "    17    -6.221175e+01     8.103316e-03\n",
      " * time: 2.3520631790161133\n",
      "    18    -6.222179e+01     5.892845e-03\n",
      " * time: 2.4142420291900635\n",
      "    19    -6.222848e+01     5.685554e-03\n",
      " * time: 2.475260019302368\n",
      "    20    -6.223412e+01     5.845275e-03\n",
      " * time: 2.536663055419922\n",
      "    21    -6.223965e+01     6.111076e-03\n",
      " * time: 2.5976951122283936\n",
      "    22    -6.224539e+01     6.527272e-03\n",
      " * time: 2.66560697555542\n",
      "    23    -6.225081e+01     5.234060e-03\n",
      " * time: 2.726900100708008\n",
      "    24    -6.225525e+01     4.798883e-03\n",
      " * time: 2.786993980407715\n",
      "    25    -6.225796e+01     3.910563e-03\n",
      " * time: 2.84763503074646\n",
      "    26    -6.225944e+01     2.793717e-03\n",
      " * time: 2.9060800075531006\n",
      "    27    -6.226032e+01     1.817418e-03\n",
      " * time: 2.974097967147827\n",
      "    28    -6.226079e+01     1.168782e-03\n",
      " * time: 3.0335211753845215\n",
      "    29    -6.226107e+01     1.014890e-03\n",
      " * time: 3.092663049697876\n",
      "    30    -6.226125e+01     9.564824e-04\n",
      " * time: 3.152696132659912\n",
      "    31    -6.226138e+01     8.211704e-04\n",
      " * time: 3.2138559818267822\n",
      "    32    -6.226148e+01     6.925631e-04\n",
      " * time: 3.284356117248535\n",
      "    33    -6.226156e+01     5.439493e-04\n",
      " * time: 3.3458571434020996\n",
      "    34    -6.226161e+01     4.020607e-04\n",
      " * time: 3.4079082012176514\n",
      "    35    -6.226164e+01     2.325895e-04\n",
      " * time: 3.4683611392974854\n",
      "    36    -6.226165e+01     1.960712e-04\n",
      " * time: 3.535928964614868\n",
      "    37    -6.226166e+01     1.159625e-04\n",
      " * time: 3.6094460487365723\n",
      "    38    -6.226166e+01     8.191121e-05\n",
      " * time: 3.679058074951172\n",
      "    39    -6.226166e+01     6.225335e-05\n",
      " * time: 3.740352153778076\n",
      "    40    -6.226167e+01     5.095215e-05\n",
      " * time: 3.8023080825805664\n",
      "    41    -6.226167e+01     4.558237e-05\n",
      " * time: 3.86395001411438\n",
      "    42    -6.226167e+01     3.072138e-05\n",
      " * time: 3.925079107284546\n",
      "    43    -6.226167e+01     2.766075e-05\n",
      " * time: 3.9937360286712646\n",
      "    44    -6.226167e+01     1.900054e-05\n",
      " * time: 4.054354190826416\n",
      "    45    -6.226167e+01     1.534747e-05\n",
      " * time: 4.113407135009766\n",
      "    46    -6.226167e+01     1.289103e-05\n",
      " * time: 4.173151016235352\n",
      "    47    -6.226167e+01     1.009738e-05\n",
      " * time: 4.233946084976196\n",
      "    48    -6.226167e+01     8.277245e-06\n",
      " * time: 4.301526069641113\n",
      "    49    -6.226167e+01     5.950584e-06\n",
      " * time: 4.362565040588379\n",
      "    50    -6.226167e+01     3.928407e-06\n",
      " * time: 4.424795150756836\n",
      "    51    -6.226167e+01     3.773573e-06\n",
      " * time: 4.48641300201416\n"
     ]
    }
   ],
   "cell_type": "code",
   "source": [
    "scfres = direct_minimization(basis, tol=1e-5);"
   ],
   "metadata": {},
   "execution_count": 4
  },
  {
   "outputs": [
    {
     "output_type": "execute_result",
     "data": {
      "text/plain": "Energy breakdown (in Ha):\n    Kinetic             25.7671070\n    AtomicLocal         -18.8557712\n    AtomicNonlocal      14.8522674\n    Ewald               -67.1831486\n    PspCorrection       -2.3569765\n    Hartree             4.8485379 \n    Xc                  -19.3336823\n\n    total               -62.261666459266"
     },
     "metadata": {},
     "execution_count": 5
    }
   ],
   "cell_type": "code",
   "source": [
    "scfres.energies"
   ],
   "metadata": {},
   "execution_count": 5
  }
 ],
 "nbformat_minor": 3,
 "metadata": {
  "language_info": {
   "file_extension": ".jl",
   "mimetype": "application/julia",
   "name": "julia",
   "version": "1.7.2"
  },
  "kernelspec": {
   "name": "julia-1.7",
   "display_name": "Julia 1.7.2",
   "language": "julia"
  }
 },
 "nbformat": 4
}
