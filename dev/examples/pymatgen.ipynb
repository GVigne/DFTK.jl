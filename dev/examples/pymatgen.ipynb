{
 "cells": [
  {
   "cell_type": "markdown",
   "source": [
    "# Creating supercells with pymatgen\n",
    "\n",
    "The [Pymatgen](https://pymatgen.org/) python library allows to setup\n",
    "solid-state calculations using a flexible set of classes as well as an API\n",
    "to an online data base of structures. Its `Structure` and `Lattice`\n",
    "objects are directly supported by the DFTK `load_atoms` and `load_lattice`\n",
    "functions, such that DFTK may be readily used to run calculation on systems\n",
    "defined in pymatgen. Using the `pymatgen_structure` function a conversion\n",
    "from DFTK to pymatgen structures is also possible. In the following we\n",
    "use this to create a silicon supercell and find its LDA ground state\n",
    "using direct minimisation. To run this example Julia's `PyCall` package\n",
    "needs to be able to find an installation of `pymatgen`."
   ],
   "metadata": {}
  },
  {
   "cell_type": "markdown",
   "source": [
    "First we setup the silicon lattice in DFTK."
   ],
   "metadata": {}
  },
  {
   "outputs": [],
   "cell_type": "code",
   "source": [
    "using DFTK\n",
    "\n",
    "a = 10.263141334305942  # Lattice constant in Bohr\n",
    "lattice = a / 2 .* [[0 1 1.]; [1 0 1.]; [1 1 0.]]\n",
    "Si = ElementPsp(:Si, psp=load_psp(\"hgh/lda/Si-q4\"))\n",
    "atoms = [Si => [ones(3)/8, -ones(3)/8]];"
   ],
   "metadata": {},
   "execution_count": 1
  },
  {
   "cell_type": "markdown",
   "source": [
    "Next we make a `[2, 2, 2]` supercell using pymatgen"
   ],
   "metadata": {}
  },
  {
   "outputs": [
    {
     "name": "stdout",
     "output_type": "stream",
     "text": [
      "┌ Warning: `vendor()` is deprecated, use `BLAS.get_config()` and inspect the output instead\n",
      "│   caller = npyinitialize() at numpy.jl:67\n",
      "└ @ PyCall /home/runner/.julia/packages/PyCall/L0fLP/src/numpy.jl:67\n"
     ]
    }
   ],
   "cell_type": "code",
   "source": [
    "pystruct = pymatgen_structure(lattice, atoms)\n",
    "pystruct.make_supercell([2, 2, 2])\n",
    "lattice = load_lattice(pystruct)\n",
    "atoms = [Si => [s.frac_coords for s in pystruct.sites]];"
   ],
   "metadata": {},
   "execution_count": 2
  },
  {
   "cell_type": "markdown",
   "source": [
    "Setup an LDA model and discretize using\n",
    "a single k-point and a small `Ecut` of 5 Hartree."
   ],
   "metadata": {}
  },
  {
   "outputs": [
    {
     "output_type": "execute_result",
     "data": {
      "text/plain": "PlaneWaveBasis discretization:\n    Ecut                 : 5.0 Ha\n    fft_size             : (32, 32, 32), 32768 total points\n    kgrid type           : Monkhorst-Pack\n    kgrid                : [1, 1, 1]\n    num. irred. kpoints  : 1\n\n    Discretized Model(lda_xc_teter93, 3D):\n        lattice (in Bohr)    : [0         , 10.2631   , 10.2631   ]\n                               [10.2631   , 0         , 10.2631   ]\n                               [10.2631   , 10.2631   , 0         ]\n        unit cell volume     : 2162.1 Bohr³\n    \n        atoms                : Si₁₆\n        atom potentials      : ElementPsp(Si, psp=\"hgh/lda/si-q4\")\n    \n        num. electrons       : 64\n        spin polarization    : none\n        temperature          : 0 Ha\n    \n        terms                : Kinetic()\n                               AtomicLocal()\n                               AtomicNonlocal()\n                               Ewald()\n                               PspCorrection()\n                               Hartree()\n                               Xc(:lda_xc_teter93)"
     },
     "metadata": {},
     "execution_count": 3
    }
   ],
   "cell_type": "code",
   "source": [
    "model = model_LDA(lattice, atoms)\n",
    "basis = PlaneWaveBasis(model; Ecut=5, kgrid=(1, 1, 1))"
   ],
   "metadata": {},
   "execution_count": 3
  },
  {
   "cell_type": "markdown",
   "source": [
    "Find the ground state using direct minimisation (always using SCF is boring ...)"
   ],
   "metadata": {}
  },
  {
   "outputs": [
    {
     "name": "stdout",
     "output_type": "stream",
     "text": [
      "Iter     Function value   Gradient norm \n",
      "     0     1.114738e+02     1.467158e+00\n",
      " * time: 0.5215170383453369\n",
      "     1     1.119371e+01     7.843527e-01\n",
      " * time: 1.1997201442718506\n",
      "     2    -1.049953e+01     9.943877e-01\n",
      " * time: 1.3137290477752686\n",
      "     3    -3.353798e+01     7.497639e-01\n",
      " * time: 1.394252061843872\n",
      "     4    -4.707096e+01     5.824759e-01\n",
      " * time: 1.4879200458526611\n",
      "     5    -5.663288e+01     2.042883e-01\n",
      " * time: 1.5908870697021484\n",
      "     6    -5.959705e+01     1.746945e-01\n",
      " * time: 1.6823790073394775\n",
      "     7    -6.081914e+01     6.424788e-02\n",
      " * time: 1.74436616897583\n",
      "     8    -6.135447e+01     4.353276e-02\n",
      " * time: 1.806344985961914\n",
      "     9    -6.165574e+01     4.538364e-02\n",
      " * time: 1.8694441318511963\n",
      "    10    -6.187043e+01     2.773035e-02\n",
      " * time: 1.9320690631866455\n",
      "    11    -6.203305e+01     1.843856e-02\n",
      " * time: 1.9950981140136719\n",
      "    12    -6.211472e+01     1.447094e-02\n",
      " * time: 2.073742151260376\n",
      "    13    -6.214947e+01     1.274872e-02\n",
      " * time: 2.135946035385132\n",
      "    14    -6.218044e+01     1.044227e-02\n",
      " * time: 2.197136163711548\n",
      "    15    -6.219388e+01     1.042622e-02\n",
      " * time: 2.259456157684326\n",
      "    16    -6.220407e+01     7.540403e-03\n",
      " * time: 2.3213770389556885\n",
      "    17    -6.221119e+01     5.470310e-03\n",
      " * time: 2.3900301456451416\n",
      "    18    -6.221652e+01     5.761921e-03\n",
      " * time: 2.4521660804748535\n",
      "    19    -6.222128e+01     5.857612e-03\n",
      " * time: 2.5156850814819336\n",
      "    20    -6.222564e+01     5.599907e-03\n",
      " * time: 2.5773041248321533\n",
      "    21    -6.223043e+01     5.817086e-03\n",
      " * time: 2.6391830444335938\n",
      "    22    -6.223590e+01     5.043977e-03\n",
      " * time: 2.708981990814209\n",
      "    23    -6.224223e+01     4.676756e-03\n",
      " * time: 2.7716071605682373\n",
      "    24    -6.224854e+01     4.125355e-03\n",
      " * time: 2.835933208465576\n",
      "    25    -6.225353e+01     3.762840e-03\n",
      " * time: 2.899151086807251\n",
      "    26    -6.225662e+01     2.760119e-03\n",
      " * time: 2.9616050720214844\n",
      "    27    -6.225854e+01     2.122643e-03\n",
      " * time: 3.03117299079895\n",
      "    28    -6.225962e+01     1.939613e-03\n",
      " * time: 3.092785120010376\n",
      "    29    -6.226031e+01     1.536422e-03\n",
      " * time: 3.1551899909973145\n",
      "    30    -6.226078e+01     1.148787e-03\n",
      " * time: 3.216893196105957\n",
      "    31    -6.226111e+01     9.022599e-04\n",
      " * time: 3.2794740200042725\n",
      "    32    -6.226134e+01     7.084187e-04\n",
      " * time: 3.3412060737609863\n",
      "    33    -6.226148e+01     5.648306e-04\n",
      " * time: 3.4103519916534424\n",
      "    34    -6.226157e+01     4.869936e-04\n",
      " * time: 3.4726150035858154\n",
      "    35    -6.226162e+01     3.695434e-04\n",
      " * time: 3.5354220867156982\n",
      "    36    -6.226164e+01     2.654839e-04\n",
      " * time: 3.598020076751709\n",
      "    37    -6.226165e+01     1.508993e-04\n",
      " * time: 3.6601850986480713\n",
      "    38    -6.226166e+01     1.314199e-04\n",
      " * time: 3.730142116546631\n",
      "    39    -6.226166e+01     9.147422e-05\n",
      " * time: 3.7926080226898193\n",
      "    40    -6.226166e+01     8.360115e-05\n",
      " * time: 3.853976011276245\n",
      "    41    -6.226166e+01     6.733427e-05\n",
      " * time: 3.9157021045684814\n",
      "    42    -6.226167e+01     4.733903e-05\n",
      " * time: 3.9781441688537598\n",
      "    43    -6.226167e+01     3.688981e-05\n",
      " * time: 4.047404050827026\n",
      "    44    -6.226167e+01     3.269574e-05\n",
      " * time: 4.109732151031494\n",
      "    45    -6.226167e+01     2.325466e-05\n",
      " * time: 4.172427177429199\n",
      "    46    -6.226167e+01     1.843901e-05\n",
      " * time: 4.234705209732056\n",
      "    47    -6.226167e+01     1.279809e-05\n",
      " * time: 4.2967140674591064\n",
      "    48    -6.226167e+01     1.138423e-05\n",
      " * time: 4.365399122238159\n",
      "    49    -6.226167e+01     6.633033e-06\n",
      " * time: 4.427415132522583\n",
      "    50    -6.226167e+01     5.195369e-06\n",
      " * time: 4.489543199539185\n",
      "    51    -6.226167e+01     4.070418e-06\n",
      " * time: 4.551663160324097\n",
      "    52    -6.226167e+01     3.985335e-06\n",
      " * time: 4.615141153335571\n",
      "    53    -6.226167e+01     2.756639e-06\n",
      " * time: 4.6764140129089355\n"
     ]
    }
   ],
   "cell_type": "code",
   "source": [
    "scfres = direct_minimization(basis, tol=1e-5);"
   ],
   "metadata": {},
   "execution_count": 4
  },
  {
   "outputs": [
    {
     "output_type": "execute_result",
     "data": {
      "text/plain": "Energy breakdown (in Ha):\n    Kinetic             25.7671083\n    AtomicLocal         -18.8557696\n    AtomicNonlocal      14.8522641\n    Ewald               -67.1831486\n    PspCorrection       -2.3569765\n    Hartree             4.8485386 \n    Xc                  -19.3336826\n\n    total               -62.261666458451"
     },
     "metadata": {},
     "execution_count": 5
    }
   ],
   "cell_type": "code",
   "source": [
    "scfres.energies"
   ],
   "metadata": {},
   "execution_count": 5
  }
 ],
 "nbformat_minor": 3,
 "metadata": {
  "language_info": {
   "file_extension": ".jl",
   "mimetype": "application/julia",
   "name": "julia",
   "version": "1.7.2"
  },
  "kernelspec": {
   "name": "julia-1.7",
   "display_name": "Julia 1.7.2",
   "language": "julia"
  }
 },
 "nbformat": 4
}
