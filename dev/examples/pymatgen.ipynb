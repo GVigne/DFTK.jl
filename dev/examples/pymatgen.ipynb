{
 "cells": [
  {
   "cell_type": "markdown",
   "source": [
    "# Creating supercells with pymatgen\n",
    "\n",
    "The [Pymatgen](https://pymatgen.org/) python library allows to setup\n",
    "solid-state calculations using a flexible set of classes as well as an API\n",
    "to an online data base of structures. Its `Structure` and `Lattice`\n",
    "objects are directly supported by the DFTK `load_atoms` and `load_lattice`\n",
    "functions, such that DFTK may be readily used to run calculation on systems\n",
    "defined in pymatgen. Using the `pymatgen_structure` function a conversion\n",
    "from DFTK to pymatgen structures is also possible. In the following we\n",
    "use this to create a silicon supercell and find its LDA ground state\n",
    "using direct minimisation. To run this example Julia's `PyCall` package\n",
    "needs to be able to find an installation of `pymatgen`."
   ],
   "metadata": {}
  },
  {
   "cell_type": "markdown",
   "source": [
    "First we setup the silicon lattice in DFTK."
   ],
   "metadata": {}
  },
  {
   "outputs": [],
   "cell_type": "code",
   "source": [
    "using DFTK\n",
    "\n",
    "a = 10.263141334305942  # Lattice constant in Bohr\n",
    "lattice = a / 2 .* [[0 1 1.]; [1 0 1.]; [1 1 0.]]\n",
    "Si = ElementPsp(:Si, psp=load_psp(\"hgh/lda/Si-q4\"))\n",
    "atoms = [Si => [ones(3)/8, -ones(3)/8]];"
   ],
   "metadata": {},
   "execution_count": 1
  },
  {
   "cell_type": "markdown",
   "source": [
    "Next we make a `[2, 2, 2]` supercell using pymatgen"
   ],
   "metadata": {}
  },
  {
   "outputs": [
    {
     "name": "stdout",
     "output_type": "stream",
     "text": [
      "┌ Warning: `vendor()` is deprecated, use `BLAS.get_config()` and inspect the output instead\n",
      "│   caller = npyinitialize() at numpy.jl:67\n",
      "└ @ PyCall /home/runner/.julia/packages/PyCall/3fwVL/src/numpy.jl:67\n"
     ]
    }
   ],
   "cell_type": "code",
   "source": [
    "pystruct = pymatgen_structure(lattice, atoms)\n",
    "pystruct.make_supercell([2, 2, 2])\n",
    "lattice = load_lattice(pystruct)\n",
    "atoms = [Si => [s.frac_coords for s in pystruct.sites]];"
   ],
   "metadata": {},
   "execution_count": 2
  },
  {
   "cell_type": "markdown",
   "source": [
    "Setup an LDA model and discretize using\n",
    "a single k-point and a small `Ecut` of 5 Hartree."
   ],
   "metadata": {}
  },
  {
   "outputs": [
    {
     "output_type": "execute_result",
     "data": {
      "text/plain": "PlaneWaveBasis discretization:\n    Ecut                 : 5.0 Ha\n    fft_size             : (32, 32, 32)\n    kgrid type           : Monkhorst-Pack\n    kgrid                : [1, 1, 1]\n    num. irred. kpoints  : 1\n\n    Discretized Model(lda_xc_teter93, 3D):\n        lattice (in Bohr)    : [0         , 10.2631   , 10.2631   ]\n                               [10.2631   , 0         , 10.2631   ]\n                               [10.2631   , 10.2631   , 0         ]\n        unit cell volume     : 2162.1 Bohr³\n    \n        atoms                : Si₁₆\n        atom potentials      : ElementPsp(Si, psp=hgh/lda/si-q4)\n    \n        num. electrons       : 64\n        spin polarization    : none\n        temperature          : 0 Ha\n    \n        terms                : Kinetic()\n                               AtomicLocal()\n                               AtomicNonlocal()\n                               Ewald()\n                               PspCorrection()\n                               Hartree()\n                               Xc(:lda_xc_teter93)"
     },
     "metadata": {},
     "execution_count": 3
    }
   ],
   "cell_type": "code",
   "source": [
    "model = model_LDA(lattice, atoms)\n",
    "basis = PlaneWaveBasis(model; Ecut=5, kgrid=(1, 1, 1))"
   ],
   "metadata": {},
   "execution_count": 3
  },
  {
   "cell_type": "markdown",
   "source": [
    "Find the ground state using direct minimisation (always using SCF is boring ...)"
   ],
   "metadata": {}
  },
  {
   "outputs": [
    {
     "name": "stdout",
     "output_type": "stream",
     "text": [
      "Iter     Function value   Gradient norm \n",
      "     0     1.127201e+02     1.579428e+00\n",
      " * time: 0.6417460441589355\n",
      "     1     1.123996e+01     8.663664e-01\n",
      " * time: 1.7622771263122559\n",
      "     2    -1.147696e+01     1.010772e+00\n",
      " * time: 2.256387948989868\n",
      "     3    -3.375341e+01     7.793925e-01\n",
      " * time: 2.9904589653015137\n",
      "     4    -4.723700e+01     5.700594e-01\n",
      " * time: 3.731119155883789\n",
      "     5    -5.699086e+01     2.238274e-01\n",
      " * time: 4.449737071990967\n",
      "     6    -5.984438e+01     1.611374e-01\n",
      " * time: 4.93700909614563\n",
      "     7    -6.093599e+01     5.506578e-02\n",
      " * time: 5.437256097793579\n",
      "     8    -6.136127e+01     5.866265e-02\n",
      " * time: 5.921553134918213\n",
      "     9    -6.161785e+01     4.257662e-02\n",
      " * time: 6.408218145370483\n",
      "    10    -6.183220e+01     2.331378e-02\n",
      " * time: 6.9015960693359375\n",
      "    11    -6.199496e+01     2.318528e-02\n",
      " * time: 7.3882341384887695\n",
      "    12    -6.207337e+01     2.106353e-02\n",
      " * time: 7.873556137084961\n",
      "    13    -6.213579e+01     1.372543e-02\n",
      " * time: 8.370383024215698\n",
      "    14    -6.217194e+01     1.239548e-02\n",
      " * time: 8.85520315170288\n",
      "    15    -6.219791e+01     9.227840e-03\n",
      " * time: 9.340028047561646\n",
      "    16    -6.221287e+01     7.234404e-03\n",
      " * time: 9.826459169387817\n",
      "    17    -6.222347e+01     6.004347e-03\n",
      " * time: 10.320012092590332\n",
      "    18    -6.223155e+01     4.627853e-03\n",
      " * time: 10.804762125015259\n",
      "    19    -6.223800e+01     4.426448e-03\n",
      " * time: 11.2917001247406\n",
      "    20    -6.224343e+01     4.552388e-03\n",
      " * time: 11.787487030029297\n",
      "    21    -6.224825e+01     4.037843e-03\n",
      " * time: 12.274827003479004\n",
      "    22    -6.225257e+01     4.316706e-03\n",
      " * time: 12.761659145355225\n",
      "    23    -6.225619e+01     3.120253e-03\n",
      " * time: 13.248893022537231\n",
      "    24    -6.225866e+01     2.645376e-03\n",
      " * time: 13.743076086044312\n",
      "    25    -6.226003e+01     1.827615e-03\n",
      " * time: 14.229549169540405\n",
      "    26    -6.226074e+01     1.214852e-03\n",
      " * time: 14.715602159500122\n",
      "    27    -6.226111e+01     8.543904e-04\n",
      " * time: 15.209859132766724\n",
      "    28    -6.226130e+01     7.726159e-04\n",
      " * time: 15.695783138275146\n",
      "    29    -6.226141e+01     6.641617e-04\n",
      " * time: 16.1825270652771\n",
      "    30    -6.226149e+01     5.451611e-04\n",
      " * time: 16.6683931350708\n",
      "    31    -6.226155e+01     4.482708e-04\n",
      " * time: 17.163331031799316\n",
      "    32    -6.226159e+01     3.370491e-04\n",
      " * time: 17.64876103401184\n",
      "    33    -6.226162e+01     3.262333e-04\n",
      " * time: 18.13490605354309\n",
      "    34    -6.226164e+01     2.761275e-04\n",
      " * time: 18.62921905517578\n",
      "    35    -6.226165e+01     1.791668e-04\n",
      " * time: 19.115165948867798\n",
      "    36    -6.226166e+01     1.546161e-04\n",
      " * time: 19.60092306137085\n",
      "    37    -6.226166e+01     8.707413e-05\n",
      " * time: 20.087239980697632\n",
      "    38    -6.226166e+01     6.598406e-05\n",
      " * time: 20.580569982528687\n",
      "    39    -6.226167e+01     3.684076e-05\n",
      " * time: 21.066004991531372\n",
      "    40    -6.226167e+01     3.527253e-05\n",
      " * time: 21.55233907699585\n",
      "    41    -6.226167e+01     2.229611e-05\n",
      " * time: 22.046120166778564\n",
      "    42    -6.226167e+01     1.722996e-05\n",
      " * time: 22.531793117523193\n",
      "    43    -6.226167e+01     1.569179e-05\n",
      " * time: 23.017523050308228\n",
      "    44    -6.226167e+01     1.115577e-05\n",
      " * time: 23.50356101989746\n",
      "    45    -6.226167e+01     8.835594e-06\n",
      " * time: 23.996862173080444\n",
      "    46    -6.226167e+01     6.899325e-06\n",
      " * time: 24.482367992401123\n",
      "    47    -6.226167e+01     5.511544e-06\n",
      " * time: 24.96952199935913\n",
      "    48    -6.226167e+01     4.038868e-06\n",
      " * time: 25.46417498588562\n",
      "    49    -6.226167e+01     4.376974e-06\n",
      " * time: 25.950538158416748\n",
      "    50    -6.226167e+01     2.915215e-06\n",
      " * time: 26.436352968215942\n"
     ]
    }
   ],
   "cell_type": "code",
   "source": [
    "scfres = direct_minimization(basis, tol=1e-5);"
   ],
   "metadata": {},
   "execution_count": 4
  },
  {
   "outputs": [
    {
     "output_type": "execute_result",
     "data": {
      "text/plain": "Energy breakdown (in Ha):\n    Kinetic             25.7671072\n    AtomicLocal         -18.8557668\n    AtomicNonlocal      14.8522629\n    Ewald               -67.1831486\n    PspCorrection       -2.3569765\n    Hartree             4.8485375 \n    Xc                  -19.3336822\n\n    total               -62.261666459868"
     },
     "metadata": {},
     "execution_count": 5
    }
   ],
   "cell_type": "code",
   "source": [
    "scfres.energies"
   ],
   "metadata": {},
   "execution_count": 5
  }
 ],
 "nbformat_minor": 3,
 "metadata": {
  "language_info": {
   "file_extension": ".jl",
   "mimetype": "application/julia",
   "name": "julia",
   "version": "1.7.0"
  },
  "kernelspec": {
   "name": "julia-1.7",
   "display_name": "Julia 1.7.0",
   "language": "julia"
  }
 },
 "nbformat": 4
}
