{
 "cells": [
  {
   "cell_type": "markdown",
   "source": [
    "# Creating supercells with pymatgen\n",
    "\n",
    "The [Pymatgen](https://pymatgen.org/) python library allows to setup\n",
    "solid-state calculations using a flexible set of classes as well as an API\n",
    "to an online data base of structures. Its `Structure` and `Lattice`\n",
    "objects are directly supported by the DFTK `load_atoms` and `load_lattice`\n",
    "functions, such that DFTK may be readily used to run calculation on systems\n",
    "defined in pymatgen. Using the `pymatgen_structure` function a conversion\n",
    "from DFTK to pymatgen structures is also possible. In the following we\n",
    "use this to create a silicon supercell and find its LDA ground state\n",
    "using direct minimisation. To run this example Julia's `PyCall` package\n",
    "needs to be able to find an installation of `pymatgen`."
   ],
   "metadata": {}
  },
  {
   "cell_type": "markdown",
   "source": [
    "First we setup the silicon lattice in DFTK."
   ],
   "metadata": {}
  },
  {
   "outputs": [],
   "cell_type": "code",
   "source": [
    "using DFTK\n",
    "\n",
    "a = 10.263141334305942  # Lattice constant in Bohr\n",
    "lattice = a / 2 .* [[0 1 1.]; [1 0 1.]; [1 1 0.]]\n",
    "Si = ElementPsp(:Si, psp=load_psp(\"hgh/lda/Si-q4\"))\n",
    "atoms = [Si => [ones(3)/8, -ones(3)/8]];"
   ],
   "metadata": {},
   "execution_count": 1
  },
  {
   "cell_type": "markdown",
   "source": [
    "Next we make a `[2, 2, 2]` supercell using pymatgen"
   ],
   "metadata": {}
  },
  {
   "outputs": [
    {
     "name": "stdout",
     "output_type": "stream",
     "text": [
      "┌ Warning: `vendor()` is deprecated, use `BLAS.get_config()` and inspect the output instead\n",
      "│   caller = npyinitialize() at numpy.jl:67\n",
      "└ @ PyCall /home/runner/.julia/packages/PyCall/L0fLP/src/numpy.jl:67\n"
     ]
    }
   ],
   "cell_type": "code",
   "source": [
    "pystruct = pymatgen_structure(lattice, atoms)\n",
    "pystruct.make_supercell([2, 2, 2])\n",
    "lattice = load_lattice(pystruct)\n",
    "atoms = [Si => [s.frac_coords for s in pystruct.sites]];"
   ],
   "metadata": {},
   "execution_count": 2
  },
  {
   "cell_type": "markdown",
   "source": [
    "Setup an LDA model and discretize using\n",
    "a single k-point and a small `Ecut` of 5 Hartree."
   ],
   "metadata": {}
  },
  {
   "outputs": [
    {
     "output_type": "execute_result",
     "data": {
      "text/plain": "PlaneWaveBasis discretization:\n    Ecut                 : 5.0 Ha\n    fft_size             : (32, 32, 32), 32768 total points\n    kgrid type           : Monkhorst-Pack\n    kgrid                : [1, 1, 1]\n    num. irred. kpoints  : 1\n\n    Discretized Model(lda_xc_teter93, 3D):\n        lattice (in Bohr)    : [0         , 10.2631   , 10.2631   ]\n                               [10.2631   , 0         , 10.2631   ]\n                               [10.2631   , 10.2631   , 0         ]\n        unit cell volume     : 2162.1 Bohr³\n    \n        atoms                : Si₁₆\n        atom potentials      : ElementPsp(Si, psp=\"hgh/lda/si-q4\")\n    \n        num. electrons       : 64\n        spin polarization    : none\n        temperature          : 0 Ha\n    \n        terms                : Kinetic()\n                               AtomicLocal()\n                               AtomicNonlocal()\n                               Ewald()\n                               PspCorrection()\n                               Hartree()\n                               Xc(:lda_xc_teter93)"
     },
     "metadata": {},
     "execution_count": 3
    }
   ],
   "cell_type": "code",
   "source": [
    "model = model_LDA(lattice, atoms)\n",
    "basis = PlaneWaveBasis(model; Ecut=5, kgrid=(1, 1, 1))"
   ],
   "metadata": {},
   "execution_count": 3
  },
  {
   "cell_type": "markdown",
   "source": [
    "Find the ground state using direct minimisation (always using SCF is boring ...)"
   ],
   "metadata": {}
  },
  {
   "outputs": [
    {
     "name": "stdout",
     "output_type": "stream",
     "text": [
      "Iter     Function value   Gradient norm \n",
      "     0     1.120978e+02     1.641132e+00\n",
      " * time: 0.5661969184875488\n",
      "     1     1.050225e+01     7.836203e-01\n",
      " * time: 2.087517023086548\n",
      "     2    -1.187802e+01     9.309718e-01\n",
      " * time: 2.1696579456329346\n",
      "     3    -3.387334e+01     7.322996e-01\n",
      " * time: 2.2912681102752686\n",
      "     4    -4.733953e+01     5.048623e-01\n",
      " * time: 2.4166290760040283\n",
      "     5    -5.696400e+01     1.820107e-01\n",
      " * time: 2.5493640899658203\n",
      "     6    -5.984118e+01     1.324950e-01\n",
      " * time: 2.6221859455108643\n",
      "     7    -6.092983e+01     4.918099e-02\n",
      " * time: 2.703282117843628\n",
      "     8    -6.136796e+01     4.313856e-02\n",
      " * time: 2.778856039047241\n",
      "     9    -6.160267e+01     3.612022e-02\n",
      " * time: 2.857567071914673\n",
      "    10    -6.179706e+01     2.475813e-02\n",
      " * time: 2.955264091491699\n",
      "    11    -6.192162e+01     1.915750e-02\n",
      " * time: 3.033139944076538\n",
      "    12    -6.199227e+01     1.727477e-02\n",
      " * time: 3.109990119934082\n",
      "    13    -6.204810e+01     1.634619e-02\n",
      " * time: 3.1848690509796143\n",
      "    14    -6.209224e+01     1.383761e-02\n",
      " * time: 3.2618699073791504\n",
      "    15    -6.212807e+01     1.451038e-02\n",
      " * time: 3.3463950157165527\n",
      "    16    -6.215554e+01     1.367681e-02\n",
      " * time: 3.42073392868042\n",
      "    17    -6.217906e+01     1.141896e-02\n",
      " * time: 3.4946250915527344\n",
      "    18    -6.219829e+01     9.356181e-03\n",
      " * time: 3.567095994949341\n",
      "    19    -6.221206e+01     8.188255e-03\n",
      " * time: 3.651931047439575\n",
      "    20    -6.222176e+01     6.488511e-03\n",
      " * time: 3.739177942276001\n",
      "    21    -6.222911e+01     5.669652e-03\n",
      " * time: 3.814368963241577\n",
      "    22    -6.223525e+01     4.557149e-03\n",
      " * time: 3.894273042678833\n",
      "    23    -6.224055e+01     4.818662e-03\n",
      " * time: 3.9701480865478516\n",
      "    24    -6.224564e+01     4.863083e-03\n",
      " * time: 4.047879934310913\n",
      "    25    -6.225065e+01     4.546592e-03\n",
      " * time: 4.133398056030273\n",
      "    26    -6.225464e+01     4.011189e-03\n",
      " * time: 4.211770057678223\n",
      "    27    -6.225745e+01     2.439791e-03\n",
      " * time: 4.290298938751221\n",
      "    28    -6.225913e+01     1.879870e-03\n",
      " * time: 4.366265058517456\n",
      "    29    -6.226008e+01     2.010074e-03\n",
      " * time: 4.45186710357666\n",
      "    30    -6.226062e+01     1.908648e-03\n",
      " * time: 4.527331113815308\n",
      "    31    -6.226096e+01     1.361027e-03\n",
      " * time: 4.6051249504089355\n",
      "    32    -6.226120e+01     9.474152e-04\n",
      " * time: 4.681973934173584\n",
      "    33    -6.226138e+01     7.564892e-04\n",
      " * time: 4.759495973587036\n",
      "    34    -6.226150e+01     6.105397e-04\n",
      " * time: 4.846498012542725\n",
      "    35    -6.226158e+01     4.697820e-04\n",
      " * time: 4.932199001312256\n",
      "    36    -6.226162e+01     3.754547e-04\n",
      " * time: 5.009382963180542\n",
      "    37    -6.226164e+01     2.919190e-04\n",
      " * time: 5.09130597114563\n",
      "    38    -6.226165e+01     2.423401e-04\n",
      " * time: 5.166779041290283\n",
      "    39    -6.226166e+01     1.278266e-04\n",
      " * time: 5.24734091758728\n",
      "    40    -6.226166e+01     9.880115e-05\n",
      " * time: 5.32113790512085\n",
      "    41    -6.226166e+01     6.783390e-05\n",
      " * time: 5.396430015563965\n",
      "    42    -6.226166e+01     5.486137e-05\n",
      " * time: 5.471369028091431\n",
      "    43    -6.226167e+01     4.511493e-05\n",
      " * time: 5.550126075744629\n",
      "    44    -6.226167e+01     4.104728e-05\n",
      " * time: 5.635674953460693\n",
      "    45    -6.226167e+01     2.925091e-05\n",
      " * time: 5.7094409465789795\n",
      "    46    -6.226167e+01     2.799161e-05\n",
      " * time: 5.785330057144165\n",
      "    47    -6.226167e+01     2.351819e-05\n",
      " * time: 5.862965106964111\n",
      "    48    -6.226167e+01     2.164677e-05\n",
      " * time: 5.939203977584839\n",
      "    49    -6.226167e+01     1.665193e-05\n",
      " * time: 6.023092985153198\n",
      "    50    -6.226167e+01     1.257850e-05\n",
      " * time: 6.099837064743042\n",
      "    51    -6.226167e+01     8.025431e-06\n",
      " * time: 6.173350095748901\n",
      "    52    -6.226167e+01     5.946821e-06\n",
      " * time: 6.251672029495239\n",
      "    53    -6.226167e+01     4.150135e-06\n",
      " * time: 6.328327894210815\n",
      "    54    -6.226167e+01     2.917922e-06\n",
      " * time: 6.4101340770721436\n"
     ]
    }
   ],
   "cell_type": "code",
   "source": [
    "scfres = direct_minimization(basis, tol=1e-5);"
   ],
   "metadata": {},
   "execution_count": 4
  },
  {
   "outputs": [
    {
     "output_type": "execute_result",
     "data": {
      "text/plain": "Energy breakdown (in Ha):\n    Kinetic             25.7671074\n    AtomicLocal         -18.8557701\n    AtomicNonlocal      14.8522658\n    Ewald               -67.1831486\n    PspCorrection       -2.3569765\n    Hartree             4.8485379 \n    Xc                  -19.3336823\n\n    total               -62.261666458611"
     },
     "metadata": {},
     "execution_count": 5
    }
   ],
   "cell_type": "code",
   "source": [
    "scfres.energies"
   ],
   "metadata": {},
   "execution_count": 5
  }
 ],
 "nbformat_minor": 3,
 "metadata": {
  "language_info": {
   "file_extension": ".jl",
   "mimetype": "application/julia",
   "name": "julia",
   "version": "1.7.2"
  },
  "kernelspec": {
   "name": "julia-1.7",
   "display_name": "Julia 1.7.2",
   "language": "julia"
  }
 },
 "nbformat": 4
}
