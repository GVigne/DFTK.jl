{
 "cells": [
  {
   "cell_type": "markdown",
   "source": [
    "# Creating supercells with pymatgen\n",
    "\n",
    "The [Pymatgen](https://pymatgen.org/) python library allows to setup\n",
    "solid-state calculations using a flexible set of classes as well as an API\n",
    "to an online data base of structures. Its `Structure` and `Lattice`\n",
    "objects are directly supported by the DFTK `load_atoms` and `load_lattice`\n",
    "functions, such that DFTK may be readily used to run calculation on systems\n",
    "defined in pymatgen. Using the `pymatgen_structure` function a conversion\n",
    "from DFTK to pymatgen structures is also possible. In the following we\n",
    "use this to create a silicon supercell and find its LDA ground state\n",
    "using direct minimisation. To run this example Julia's `PyCall` package\n",
    "needs to be able to find an installation of `pymatgen`."
   ],
   "metadata": {}
  },
  {
   "cell_type": "markdown",
   "source": [
    "First we setup the silicon lattice in DFTK."
   ],
   "metadata": {}
  },
  {
   "outputs": [],
   "cell_type": "code",
   "source": [
    "using DFTK\n",
    "\n",
    "a = 10.263141334305942  # Lattice constant in Bohr\n",
    "lattice = a / 2 .* [[0 1 1.]; [1 0 1.]; [1 1 0.]]\n",
    "Si = ElementPsp(:Si, psp=load_psp(\"hgh/lda/Si-q4\"))\n",
    "atoms = [Si => [ones(3)/8, -ones(3)/8]];"
   ],
   "metadata": {},
   "execution_count": 1
  },
  {
   "cell_type": "markdown",
   "source": [
    "Next we make a `[2, 2, 2]` supercell using pymatgen"
   ],
   "metadata": {}
  },
  {
   "outputs": [
    {
     "name": "stdout",
     "output_type": "stream",
     "text": [
      "┌ Warning: `vendor()` is deprecated, use `BLAS.get_config()` and inspect the output instead\n",
      "│   caller = npyinitialize() at numpy.jl:67\n",
      "└ @ PyCall /home/runner/.julia/packages/PyCall/L0fLP/src/numpy.jl:67\n"
     ]
    }
   ],
   "cell_type": "code",
   "source": [
    "pystruct = pymatgen_structure(lattice, atoms)\n",
    "pystruct.make_supercell([2, 2, 2])\n",
    "lattice = load_lattice(pystruct)\n",
    "atoms = [Si => [s.frac_coords for s in pystruct.sites]];"
   ],
   "metadata": {},
   "execution_count": 2
  },
  {
   "cell_type": "markdown",
   "source": [
    "Setup an LDA model and discretize using\n",
    "a single k-point and a small `Ecut` of 5 Hartree."
   ],
   "metadata": {}
  },
  {
   "outputs": [
    {
     "output_type": "execute_result",
     "data": {
      "text/plain": "PlaneWaveBasis discretization:\n    Ecut                 : 5.0 Ha\n    fft_size             : (32, 32, 32), 32768 total points\n    kgrid type           : Monkhorst-Pack\n    kgrid                : [1, 1, 1]\n    num. irred. kpoints  : 1\n\n    Discretized Model(lda_xc_teter93, 3D):\n        lattice (in Bohr)    : [0         , 10.2631   , 10.2631   ]\n                               [10.2631   , 0         , 10.2631   ]\n                               [10.2631   , 10.2631   , 0         ]\n        unit cell volume     : 2162.1 Bohr³\n    \n        atoms                : Si₁₆\n        atom potentials      : ElementPsp(Si, psp=\"hgh/lda/si-q4\")\n    \n        num. electrons       : 64\n        spin polarization    : none\n        temperature          : 0 Ha\n    \n        terms                : Kinetic()\n                               AtomicLocal()\n                               AtomicNonlocal()\n                               Ewald()\n                               PspCorrection()\n                               Hartree()\n                               Xc(:lda_xc_teter93)"
     },
     "metadata": {},
     "execution_count": 3
    }
   ],
   "cell_type": "code",
   "source": [
    "model = model_LDA(lattice, atoms)\n",
    "basis = PlaneWaveBasis(model; Ecut=5, kgrid=(1, 1, 1))"
   ],
   "metadata": {},
   "execution_count": 3
  },
  {
   "cell_type": "markdown",
   "source": [
    "Find the ground state using direct minimisation (always using SCF is boring ...)"
   ],
   "metadata": {}
  },
  {
   "outputs": [
    {
     "name": "stdout",
     "output_type": "stream",
     "text": [
      "Iter     Function value   Gradient norm \n",
      "     0     1.115775e+02     1.522756e+00\n",
      " * time: 0.47603321075439453\n",
      "     1     1.046470e+01     8.188245e-01\n",
      " * time: 1.201470136642456\n",
      "     2    -1.190917e+01     9.720182e-01\n",
      " * time: 1.2743380069732666\n",
      "     3    -3.376998e+01     7.120621e-01\n",
      " * time: 1.3752670288085938\n",
      "     4    -4.719957e+01     5.157074e-01\n",
      " * time: 1.4969241619110107\n",
      "     5    -5.678709e+01     2.009511e-01\n",
      " * time: 1.579397201538086\n",
      "     6    -5.981594e+01     1.136089e-01\n",
      " * time: 1.6404590606689453\n",
      "     7    -6.095859e+01     5.490526e-02\n",
      " * time: 1.7024869918823242\n",
      "     8    -6.140344e+01     4.273155e-02\n",
      " * time: 1.7734100818634033\n",
      "     9    -6.164353e+01     2.894338e-02\n",
      " * time: 1.8560431003570557\n",
      "    10    -6.187686e+01     2.272760e-02\n",
      " * time: 1.9179601669311523\n",
      "    11    -6.202897e+01     1.927214e-02\n",
      " * time: 1.9789440631866455\n",
      "    12    -6.209060e+01     1.478719e-02\n",
      " * time: 2.0397419929504395\n",
      "    13    -6.214173e+01     1.066943e-02\n",
      " * time: 2.10097599029541\n",
      "    14    -6.216695e+01     1.035242e-02\n",
      " * time: 2.177995204925537\n",
      "    15    -6.218641e+01     7.579966e-03\n",
      " * time: 2.2388720512390137\n",
      "    16    -6.219659e+01     7.569880e-03\n",
      " * time: 2.299138069152832\n",
      "    17    -6.220411e+01     5.372419e-03\n",
      " * time: 2.360323190689087\n",
      "    18    -6.221063e+01     5.568669e-03\n",
      " * time: 2.4203522205352783\n",
      "    19    -6.221650e+01     5.925133e-03\n",
      " * time: 2.4882161617279053\n",
      "    20    -6.222208e+01     5.909345e-03\n",
      " * time: 2.5492680072784424\n",
      "    21    -6.222797e+01     5.725476e-03\n",
      " * time: 2.6121392250061035\n",
      "    22    -6.223431e+01     6.098181e-03\n",
      " * time: 2.6740992069244385\n",
      "    23    -6.224091e+01     6.486723e-03\n",
      " * time: 2.735302209854126\n",
      "    24    -6.224672e+01     6.677816e-03\n",
      " * time: 2.796077013015747\n",
      "    25    -6.225109e+01     5.732017e-03\n",
      " * time: 2.8648200035095215\n",
      "    26    -6.225442e+01     3.988256e-03\n",
      " * time: 2.9250831604003906\n",
      "    27    -6.225682e+01     3.315893e-03\n",
      " * time: 2.9859280586242676\n",
      "    28    -6.225858e+01     2.719564e-03\n",
      " * time: 3.046786069869995\n",
      "    29    -6.225986e+01     2.078403e-03\n",
      " * time: 3.108382225036621\n",
      "    30    -6.226069e+01     1.657356e-03\n",
      " * time: 3.1756582260131836\n",
      "    31    -6.226113e+01     1.186441e-03\n",
      " * time: 3.2375950813293457\n",
      "    32    -6.226138e+01     9.311424e-04\n",
      " * time: 3.299706220626831\n",
      "    33    -6.226151e+01     6.188807e-04\n",
      " * time: 3.3617451190948486\n",
      "    34    -6.226159e+01     3.801889e-04\n",
      " * time: 3.4240000247955322\n",
      "    35    -6.226163e+01     2.586430e-04\n",
      " * time: 3.4934301376342773\n",
      "    36    -6.226164e+01     2.259993e-04\n",
      " * time: 3.555510997772217\n",
      "    37    -6.226165e+01     2.048594e-04\n",
      " * time: 3.6169421672821045\n",
      "    38    -6.226166e+01     1.661109e-04\n",
      " * time: 3.6777870655059814\n",
      "    39    -6.226166e+01     1.269744e-04\n",
      " * time: 3.740079164505005\n",
      "    40    -6.226166e+01     8.731311e-05\n",
      " * time: 3.8100240230560303\n",
      "    41    -6.226166e+01     8.151280e-05\n",
      " * time: 3.871385097503662\n",
      "    42    -6.226166e+01     5.640543e-05\n",
      " * time: 3.932682991027832\n",
      "    43    -6.226167e+01     3.699661e-05\n",
      " * time: 3.9935951232910156\n",
      "    44    -6.226167e+01     3.341815e-05\n",
      " * time: 4.054271221160889\n",
      "    45    -6.226167e+01     2.370459e-05\n",
      " * time: 4.1230950355529785\n",
      "    46    -6.226167e+01     1.876681e-05\n",
      " * time: 4.18459415435791\n",
      "    47    -6.226167e+01     1.048468e-05\n",
      " * time: 4.246019124984741\n",
      "    48    -6.226167e+01     8.115552e-06\n",
      " * time: 4.306371212005615\n",
      "    49    -6.226167e+01     7.559935e-06\n",
      " * time: 4.3672380447387695\n",
      "    50    -6.226167e+01     5.939372e-06\n",
      " * time: 4.42847204208374\n",
      "    51    -6.226167e+01     4.760262e-06\n",
      " * time: 4.5011351108551025\n",
      "    52    -6.226167e+01     3.899740e-06\n",
      " * time: 4.561586141586304\n",
      "    53    -6.226167e+01     3.078706e-06\n",
      " * time: 4.622496128082275\n",
      "    54    -6.226167e+01     2.976481e-06\n",
      " * time: 4.683519124984741\n",
      "    55    -6.226167e+01     2.193823e-06\n",
      " * time: 4.745361089706421\n"
     ]
    }
   ],
   "cell_type": "code",
   "source": [
    "scfres = direct_minimization(basis, tol=1e-5);"
   ],
   "metadata": {},
   "execution_count": 4
  },
  {
   "outputs": [
    {
     "output_type": "execute_result",
     "data": {
      "text/plain": "Energy breakdown (in Ha):\n    Kinetic             25.7671063\n    AtomicLocal         -18.8557690\n    AtomicNonlocal      14.8522662\n    Ewald               -67.1831486\n    PspCorrection       -2.3569765\n    Hartree             4.8485372 \n    Xc                  -19.3336820\n\n    total               -62.261666461590"
     },
     "metadata": {},
     "execution_count": 5
    }
   ],
   "cell_type": "code",
   "source": [
    "scfres.energies"
   ],
   "metadata": {},
   "execution_count": 5
  }
 ],
 "nbformat_minor": 3,
 "metadata": {
  "language_info": {
   "file_extension": ".jl",
   "mimetype": "application/julia",
   "name": "julia",
   "version": "1.7.2"
  },
  "kernelspec": {
   "name": "julia-1.7",
   "display_name": "Julia 1.7.2",
   "language": "julia"
  }
 },
 "nbformat": 4
}
