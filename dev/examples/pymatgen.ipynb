{
 "cells": [
  {
   "cell_type": "markdown",
   "source": [
    "# Creating supercells with pymatgen\n",
    "\n",
    "The [Pymatgen](https://pymatgen.org/) python library allows to setup\n",
    "solid-state calculations using a flexible set of classes as well as an API\n",
    "to an online data base of structures. Its `Structure` and `Lattice`\n",
    "objects are directly supported by the DFTK `load_atoms` and `load_lattice`\n",
    "functions, such that DFTK may be readily used to run calculation on systems\n",
    "defined in pymatgen. Using the `pymatgen_structure` function a conversion\n",
    "from DFTK to pymatgen structures is also possible. In the following we\n",
    "use this to create a silicon supercell and find its LDA ground state\n",
    "using direct minimisation. To run this example Julia's `PyCall` package\n",
    "needs to be able to find an installation of `pymatgen`."
   ],
   "metadata": {}
  },
  {
   "cell_type": "markdown",
   "source": [
    "First we setup the silicon lattice in DFTK."
   ],
   "metadata": {}
  },
  {
   "outputs": [],
   "cell_type": "code",
   "source": [
    "using DFTK\n",
    "\n",
    "a = 10.263141334305942  # Lattice constant in Bohr\n",
    "lattice = a / 2 .* [[0 1 1.]; [1 0 1.]; [1 1 0.]]\n",
    "Si = ElementPsp(:Si, psp=load_psp(\"hgh/lda/Si-q4\"))\n",
    "atoms = [Si => [ones(3)/8, -ones(3)/8]];"
   ],
   "metadata": {},
   "execution_count": 1
  },
  {
   "cell_type": "markdown",
   "source": [
    "Next we make a `[2, 2, 2]` supercell using pymatgen"
   ],
   "metadata": {}
  },
  {
   "outputs": [],
   "cell_type": "code",
   "source": [
    "pystruct = pymatgen_structure(lattice, atoms)\n",
    "pystruct.make_supercell([2, 2, 2])\n",
    "lattice = load_lattice(pystruct)\n",
    "atoms = [Si => [s.frac_coords for s in pystruct.sites]];"
   ],
   "metadata": {},
   "execution_count": 2
  },
  {
   "cell_type": "markdown",
   "source": [
    "Setup an LDA model and discretize using\n",
    "a single k-point and a small `Ecut` of 5 Hartree."
   ],
   "metadata": {}
  },
  {
   "outputs": [
    {
     "output_type": "execute_result",
     "data": {
      "text/plain": "PlaneWaveBasis discretization:\n    Ecut                 : 5.0 Ha\n    fft_size             : (32, 32, 32), 32768 total points\n    kgrid type           : Monkhorst-Pack\n    kgrid                : [1, 1, 1]\n    num. irred. kpoints  : 1\n\n    Discretized Model(lda_xc_teter93, 3D):\n        lattice (in Bohr)    : [0         , 10.2631   , 10.2631   ]\n                               [10.2631   , 0         , 10.2631   ]\n                               [10.2631   , 10.2631   , 0         ]\n        unit cell volume     : 2162.1 Bohr³\n    \n        atoms                : Si₁₆\n        atom potentials      : ElementPsp(Si, psp=\"hgh/lda/si-q4\")\n    \n        num. electrons       : 64\n        spin polarization    : none\n        temperature          : 0 Ha\n    \n        terms                : Kinetic()\n                               AtomicLocal()\n                               AtomicNonlocal()\n                               Ewald()\n                               PspCorrection()\n                               Hartree()\n                               Xc(:lda_xc_teter93)"
     },
     "metadata": {},
     "execution_count": 3
    }
   ],
   "cell_type": "code",
   "source": [
    "model = model_LDA(lattice, atoms)\n",
    "basis = PlaneWaveBasis(model; Ecut=5, kgrid=(1, 1, 1))"
   ],
   "metadata": {},
   "execution_count": 3
  },
  {
   "cell_type": "markdown",
   "source": [
    "Find the ground state using direct minimisation (always using SCF is boring ...)"
   ],
   "metadata": {}
  },
  {
   "outputs": [
    {
     "name": "stdout",
     "output_type": "stream",
     "text": [
      "Iter     Function value   Gradient norm \n",
      "     0     1.127212e+02     1.519735e+00\n",
      " * time: 0.46071887016296387\n",
      "     1     1.108686e+01     8.420007e-01\n",
      " * time: 1.5670578479766846\n",
      "     2    -1.194859e+01     9.386606e-01\n",
      " * time: 1.6305267810821533\n",
      "     3    -3.392449e+01     7.473458e-01\n",
      " * time: 1.7355108261108398\n",
      "     4    -4.742102e+01     5.797032e-01\n",
      " * time: 1.8126518726348877\n",
      "     5    -5.686962e+01     2.125174e-01\n",
      " * time: 1.900519847869873\n",
      "     6    -5.974828e+01     1.280750e-01\n",
      " * time: 1.9777719974517822\n",
      "     7    -6.080483e+01     4.868230e-02\n",
      " * time: 2.0300519466400146\n",
      "     8    -6.122237e+01     8.362497e-02\n",
      " * time: 2.0826549530029297\n",
      "     9    -6.154618e+01     3.499473e-02\n",
      " * time: 2.1355350017547607\n",
      "    10    -6.178542e+01     2.938076e-02\n",
      " * time: 2.1891567707061768\n",
      "    11    -6.196622e+01     2.207382e-02\n",
      " * time: 2.255751848220825\n",
      "    12    -6.203889e+01     1.703372e-02\n",
      " * time: 2.308612823486328\n",
      "    13    -6.211527e+01     1.413883e-02\n",
      " * time: 2.361400842666626\n",
      "    14    -6.214738e+01     1.449867e-02\n",
      " * time: 2.414109945297241\n",
      "    15    -6.217681e+01     9.079018e-03\n",
      " * time: 2.467336893081665\n",
      "    16    -6.219125e+01     7.784737e-03\n",
      " * time: 2.527333974838257\n",
      "    17    -6.220116e+01     6.202612e-03\n",
      " * time: 2.5802037715911865\n",
      "    18    -6.220857e+01     5.127913e-03\n",
      " * time: 2.632960796356201\n",
      "    19    -6.221463e+01     5.327426e-03\n",
      " * time: 2.685659885406494\n",
      "    20    -6.222026e+01     5.793240e-03\n",
      " * time: 2.7390859127044678\n",
      "    21    -6.222628e+01     5.736761e-03\n",
      " * time: 2.798731803894043\n",
      "    22    -6.223294e+01     5.175569e-03\n",
      " * time: 2.851710796356201\n",
      "    23    -6.224008e+01     5.316924e-03\n",
      " * time: 2.9043779373168945\n",
      "    24    -6.224641e+01     4.766369e-03\n",
      " * time: 2.9577348232269287\n",
      "    25    -6.225141e+01     3.551019e-03\n",
      " * time: 3.011140823364258\n",
      "    26    -6.225489e+01     3.176066e-03\n",
      " * time: 3.0702857971191406\n",
      "    27    -6.225725e+01     2.771686e-03\n",
      " * time: 3.122870922088623\n",
      "    28    -6.225877e+01     1.883809e-03\n",
      " * time: 3.1758439540863037\n",
      "    29    -6.225974e+01     1.916110e-03\n",
      " * time: 3.2283878326416016\n",
      "    30    -6.226041e+01     1.412512e-03\n",
      " * time: 3.281059980392456\n",
      "    31    -6.226090e+01     1.158387e-03\n",
      " * time: 3.3406548500061035\n",
      "    32    -6.226124e+01     8.362045e-04\n",
      " * time: 3.393347978591919\n",
      "    33    -6.226144e+01     6.770149e-04\n",
      " * time: 3.4463999271392822\n",
      "    34    -6.226155e+01     5.023753e-04\n",
      " * time: 3.4992198944091797\n",
      "    35    -6.226161e+01     5.244423e-04\n",
      " * time: 3.5516178607940674\n",
      "    36    -6.226164e+01     2.565701e-04\n",
      " * time: 3.610705852508545\n",
      "    37    -6.226165e+01     1.983024e-04\n",
      " * time: 3.6633288860321045\n",
      "    38    -6.226165e+01     1.556042e-04\n",
      " * time: 3.71570086479187\n",
      "    39    -6.226166e+01     1.127340e-04\n",
      " * time: 3.768448829650879\n",
      "    40    -6.226166e+01     9.504120e-05\n",
      " * time: 3.821065902709961\n",
      "    41    -6.226166e+01     9.156892e-05\n",
      " * time: 3.8803179264068604\n",
      "    42    -6.226166e+01     6.476171e-05\n",
      " * time: 3.9329869747161865\n",
      "    43    -6.226167e+01     5.130067e-05\n",
      " * time: 3.985607862472534\n",
      "    44    -6.226167e+01     3.758845e-05\n",
      " * time: 4.038829803466797\n",
      "    45    -6.226167e+01     2.529818e-05\n",
      " * time: 4.092163801193237\n",
      "    46    -6.226167e+01     1.818874e-05\n",
      " * time: 4.151119947433472\n",
      "    47    -6.226167e+01     1.184058e-05\n",
      " * time: 4.204152822494507\n",
      "    48    -6.226167e+01     8.776075e-06\n",
      " * time: 4.256882905960083\n",
      "    49    -6.226167e+01     6.364567e-06\n",
      " * time: 4.309220790863037\n",
      "    50    -6.226167e+01     5.933916e-06\n",
      " * time: 4.362841844558716\n",
      "    51    -6.226167e+01     4.237049e-06\n",
      " * time: 4.4220428466796875\n"
     ]
    }
   ],
   "cell_type": "code",
   "source": [
    "scfres = direct_minimization(basis, tol=1e-5);"
   ],
   "metadata": {},
   "execution_count": 4
  },
  {
   "outputs": [
    {
     "output_type": "execute_result",
     "data": {
      "text/plain": "Energy breakdown (in Ha):\n    Kinetic             25.7671069\n    AtomicLocal         -18.8557727\n    AtomicNonlocal      14.8522685\n    Ewald               -67.1831486\n    PspCorrection       -2.3569765\n    Hartree             4.8485383 \n    Xc                  -19.3336824\n\n    total               -62.261666451544"
     },
     "metadata": {},
     "execution_count": 5
    }
   ],
   "cell_type": "code",
   "source": [
    "scfres.energies"
   ],
   "metadata": {},
   "execution_count": 5
  }
 ],
 "nbformat_minor": 3,
 "metadata": {
  "language_info": {
   "file_extension": ".jl",
   "mimetype": "application/julia",
   "name": "julia",
   "version": "1.7.2"
  },
  "kernelspec": {
   "name": "julia-1.7",
   "display_name": "Julia 1.7.2",
   "language": "julia"
  }
 },
 "nbformat": 4
}
