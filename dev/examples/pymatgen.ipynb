{
 "cells": [
  {
   "cell_type": "markdown",
   "source": [
    "# Creating supercells with pymatgen\n",
    "\n",
    "The [Pymatgen](https://pymatgen.org/) python library allows to setup\n",
    "solid-state calculations using a flexible set of classes as well as an API\n",
    "to an online data base of structures. Its `Structure` and `Lattice`\n",
    "objects are directly supported by the DFTK `load_atoms` and `load_lattice`\n",
    "functions, such that DFTK may be readily used to run calculation on systems\n",
    "defined in pymatgen. Using the `pymatgen_structure` function a conversion\n",
    "from DFTK to pymatgen structures is also possible. In the following we\n",
    "use this to create a silicon supercell and find its LDA ground state\n",
    "using direct minimisation. To run this example Julia's `PyCall` package\n",
    "needs to be able to find an installation of `pymatgen`."
   ],
   "metadata": {}
  },
  {
   "cell_type": "markdown",
   "source": [
    "First we setup the silicon lattice in DFTK."
   ],
   "metadata": {}
  },
  {
   "outputs": [],
   "cell_type": "code",
   "source": [
    "using DFTK\n",
    "\n",
    "a = 10.263141334305942  # Lattice constant in Bohr\n",
    "lattice = a / 2 .* [[0 1 1.]; [1 0 1.]; [1 1 0.]]\n",
    "Si = ElementPsp(:Si, psp=load_psp(\"hgh/lda/Si-q4\"))\n",
    "atoms = [Si => [ones(3)/8, -ones(3)/8]];"
   ],
   "metadata": {},
   "execution_count": 1
  },
  {
   "cell_type": "markdown",
   "source": [
    "Next we make a `[2, 2, 2]` supercell using pymatgen"
   ],
   "metadata": {}
  },
  {
   "outputs": [],
   "cell_type": "code",
   "source": [
    "pystruct = pymatgen_structure(lattice, atoms)\n",
    "pystruct.make_supercell([2, 2, 2])\n",
    "lattice = load_lattice(pystruct)\n",
    "atoms = [Si => [s.frac_coords for s in pystruct.sites]];"
   ],
   "metadata": {},
   "execution_count": 2
  },
  {
   "cell_type": "markdown",
   "source": [
    "Setup an LDA model and discretize using\n",
    "a single k-point and a small `Ecut` of 5 Hartree."
   ],
   "metadata": {}
  },
  {
   "outputs": [
    {
     "output_type": "execute_result",
     "data": {
      "text/plain": "PlaneWaveBasis discretization:\n    Ecut                 : 5.0 Ha\n    fft_size             : (32, 32, 32), 32768 total points\n    kgrid type           : Monkhorst-Pack\n    kgrid                : [1, 1, 1]\n    num. irred. kpoints  : 1\n\n    Discretized Model(lda_xc_teter93, 3D):\n        lattice (in Bohr)    : [0         , 10.2631   , 10.2631   ]\n                               [10.2631   , 0         , 10.2631   ]\n                               [10.2631   , 10.2631   , 0         ]\n        unit cell volume     : 2162.1 Bohr³\n    \n        atoms                : Si₁₆\n        atom potentials      : ElementPsp(Si, psp=\"hgh/lda/si-q4\")\n    \n        num. electrons       : 64\n        spin polarization    : none\n        temperature          : 0 Ha\n    \n        terms                : Kinetic()\n                               AtomicLocal()\n                               AtomicNonlocal()\n                               Ewald()\n                               PspCorrection()\n                               Hartree()\n                               Xc(:lda_xc_teter93)"
     },
     "metadata": {},
     "execution_count": 3
    }
   ],
   "cell_type": "code",
   "source": [
    "model = model_LDA(lattice, atoms)\n",
    "basis = PlaneWaveBasis(model; Ecut=5, kgrid=(1, 1, 1))"
   ],
   "metadata": {},
   "execution_count": 3
  },
  {
   "cell_type": "markdown",
   "source": [
    "Find the ground state using direct minimisation (always using SCF is boring ...)"
   ],
   "metadata": {}
  },
  {
   "outputs": [
    {
     "name": "stdout",
     "output_type": "stream",
     "text": [
      "Iter     Function value   Gradient norm \n",
      "     0     1.119234e+02     1.616386e+00\n",
      " * time: 0.44289708137512207\n",
      "     1     1.093770e+01     9.289855e-01\n",
      " * time: 1.7538011074066162\n",
      "     2    -1.241228e+01     1.090264e+00\n",
      " * time: 1.8263499736785889\n",
      "     3    -3.430622e+01     8.170399e-01\n",
      " * time: 1.9263520240783691\n",
      "     4    -4.799991e+01     5.983260e-01\n",
      " * time: 2.04229998588562\n",
      "     5    -5.714454e+01     2.044588e-01\n",
      " * time: 2.1239500045776367\n",
      "     6    -5.989974e+01     1.283021e-01\n",
      " * time: 2.186551094055176\n",
      "     7    -6.094326e+01     4.779409e-02\n",
      " * time: 2.2600791454315186\n",
      "     8    -6.136947e+01     8.850386e-02\n",
      " * time: 2.3450100421905518\n",
      "     9    -6.169369e+01     3.700598e-02\n",
      " * time: 2.406970977783203\n",
      "    10    -6.190479e+01     2.334678e-02\n",
      " * time: 2.4688351154327393\n",
      "    11    -6.204872e+01     1.805162e-02\n",
      " * time: 2.53218412399292\n",
      "    12    -6.210677e+01     1.590976e-02\n",
      " * time: 2.595000982284546\n",
      "    13    -6.216627e+01     1.368760e-02\n",
      " * time: 2.672206163406372\n",
      "    14    -6.219492e+01     1.045234e-02\n",
      " * time: 2.733039140701294\n",
      "    15    -6.221939e+01     8.519371e-03\n",
      " * time: 2.7949740886688232\n",
      "    16    -6.223202e+01     6.544220e-03\n",
      " * time: 2.8564391136169434\n",
      "    17    -6.224046e+01     4.991582e-03\n",
      " * time: 2.9187560081481934\n",
      "    18    -6.224621e+01     4.415519e-03\n",
      " * time: 2.989521026611328\n",
      "    19    -6.225016e+01     4.481137e-03\n",
      " * time: 3.051941156387329\n",
      "    20    -6.225338e+01     3.777541e-03\n",
      " * time: 3.1141700744628906\n",
      "    21    -6.225624e+01     3.418011e-03\n",
      " * time: 3.176870107650757\n",
      "    22    -6.225864e+01     2.751914e-03\n",
      " * time: 3.2392351627349854\n",
      "    23    -6.226019e+01     1.724060e-03\n",
      " * time: 3.3098649978637695\n",
      "    24    -6.226099e+01     1.153275e-03\n",
      " * time: 3.371999979019165\n",
      "    25    -6.226136e+01     7.418837e-04\n",
      " * time: 3.4329941272735596\n",
      "    26    -6.226152e+01     4.853406e-04\n",
      " * time: 3.493381977081299\n",
      "    27    -6.226158e+01     3.661491e-04\n",
      " * time: 3.555371046066284\n",
      "    28    -6.226162e+01     2.837486e-04\n",
      " * time: 3.6249749660491943\n",
      "    29    -6.226163e+01     3.118022e-04\n",
      " * time: 3.6865711212158203\n",
      "    30    -6.226164e+01     1.888370e-04\n",
      " * time: 3.747282028198242\n",
      "    31    -6.226165e+01     1.574211e-04\n",
      " * time: 3.8087821006774902\n",
      "    32    -6.226166e+01     1.281656e-04\n",
      " * time: 3.871622085571289\n",
      "    33    -6.226166e+01     1.115030e-04\n",
      " * time: 3.940430164337158\n",
      "    34    -6.226166e+01     1.114228e-04\n",
      " * time: 4.003623008728027\n",
      "    35    -6.226166e+01     6.768130e-05\n",
      " * time: 4.065690994262695\n",
      "    36    -6.226167e+01     5.258964e-05\n",
      " * time: 4.128319978713989\n",
      "    37    -6.226167e+01     3.121820e-05\n",
      " * time: 4.190561056137085\n",
      "    38    -6.226167e+01     2.035911e-05\n",
      " * time: 4.260324954986572\n",
      "    39    -6.226167e+01     1.592252e-05\n",
      " * time: 4.322250127792358\n",
      "    40    -6.226167e+01     1.351330e-05\n",
      " * time: 4.382059097290039\n",
      "    41    -6.226167e+01     1.009008e-05\n",
      " * time: 4.441907167434692\n",
      "    42    -6.226167e+01     7.890586e-06\n",
      " * time: 4.510401964187622\n",
      "    43    -6.226167e+01     6.653097e-06\n",
      " * time: 4.582877159118652\n",
      "    44    -6.226167e+01     5.470554e-06\n",
      " * time: 4.642812013626099\n",
      "    45    -6.226167e+01     4.205898e-06\n",
      " * time: 4.703070163726807\n",
      "    46    -6.226167e+01     3.256827e-06\n",
      " * time: 4.772830009460449\n",
      "    47    -6.226167e+01     2.948866e-06\n",
      " * time: 4.850903034210205\n",
      "    48    -6.226167e+01     2.196710e-06\n",
      " * time: 4.9262800216674805\n"
     ]
    }
   ],
   "cell_type": "code",
   "source": [
    "scfres = direct_minimization(basis, tol=1e-5);"
   ],
   "metadata": {},
   "execution_count": 4
  },
  {
   "outputs": [
    {
     "output_type": "execute_result",
     "data": {
      "text/plain": "Energy breakdown (in Ha):\n    Kinetic             25.7671068\n    AtomicLocal         -18.8557665\n    AtomicNonlocal      14.8522634\n    Ewald               -67.1831486\n    PspCorrection       -2.3569765\n    Hartree             4.8485370 \n    Xc                  -19.3336820\n\n    total               -62.261666462019"
     },
     "metadata": {},
     "execution_count": 5
    }
   ],
   "cell_type": "code",
   "source": [
    "scfres.energies"
   ],
   "metadata": {},
   "execution_count": 5
  }
 ],
 "nbformat_minor": 3,
 "metadata": {
  "language_info": {
   "file_extension": ".jl",
   "mimetype": "application/julia",
   "name": "julia",
   "version": "1.7.2"
  },
  "kernelspec": {
   "name": "julia-1.7",
   "display_name": "Julia 1.7.2",
   "language": "julia"
  }
 },
 "nbformat": 4
}
