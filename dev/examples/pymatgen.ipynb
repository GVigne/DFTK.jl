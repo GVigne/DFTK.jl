{
 "cells": [
  {
   "cell_type": "markdown",
   "source": [
    "# Creating supercells with pymatgen\n",
    "\n",
    "The [Pymatgen](https://pymatgen.org/) python library allows to setup\n",
    "solid-state calculations using a flexible set of classes as well as an API\n",
    "to an online data base of structures. Its `Structure` and `Lattice`\n",
    "objects are directly supported by the DFTK `load_atoms` and `load_lattice`\n",
    "functions, such that DFTK may be readily used to run calculation on systems\n",
    "defined in pymatgen. Using the `pymatgen_structure` function a conversion\n",
    "from DFTK to pymatgen structures is also possible. In the following we\n",
    "use this to create a silicon supercell and find its LDA ground state\n",
    "using direct minimisation. To run this example Julia's `PyCall` package\n",
    "needs to be able to find an installation of `pymatgen`."
   ],
   "metadata": {}
  },
  {
   "cell_type": "markdown",
   "source": [
    "First we setup the silicon lattice in DFTK."
   ],
   "metadata": {}
  },
  {
   "outputs": [],
   "cell_type": "code",
   "source": [
    "using DFTK\n",
    "\n",
    "a = 10.263141334305942  # Lattice constant in Bohr\n",
    "lattice = a / 2 .* [[0 1 1.]; [1 0 1.]; [1 1 0.]]\n",
    "Si = ElementPsp(:Si, psp=load_psp(\"hgh/lda/Si-q4\"))\n",
    "atoms = [Si => [ones(3)/8, -ones(3)/8]];"
   ],
   "metadata": {},
   "execution_count": 1
  },
  {
   "cell_type": "markdown",
   "source": [
    "Next we make a `[2, 2, 2]` supercell using pymatgen"
   ],
   "metadata": {}
  },
  {
   "outputs": [
    {
     "name": "stdout",
     "output_type": "stream",
     "text": [
      "┌ Warning: `vendor()` is deprecated, use `BLAS.get_config()` and inspect the output instead\n",
      "│   caller = npyinitialize() at numpy.jl:67\n",
      "└ @ PyCall /home/runner/.julia/packages/PyCall/3fwVL/src/numpy.jl:67\n"
     ]
    }
   ],
   "cell_type": "code",
   "source": [
    "pystruct = pymatgen_structure(lattice, atoms)\n",
    "pystruct.make_supercell([2, 2, 2])\n",
    "lattice = load_lattice(pystruct)\n",
    "atoms = [Si => [s.frac_coords for s in pystruct.sites]];"
   ],
   "metadata": {},
   "execution_count": 2
  },
  {
   "cell_type": "markdown",
   "source": [
    "Setup an LDA model and discretize using\n",
    "a single k-point and a small `Ecut` of 5 Hartree."
   ],
   "metadata": {}
  },
  {
   "outputs": [
    {
     "output_type": "execute_result",
     "data": {
      "text/plain": "PlaneWaveBasis discretization:\n    Ecut                 : 5.0 Ha\n    fft_size             : (32, 32, 32)\n    kgrid type           : Monkhorst-Pack\n    kgrid                : [1, 1, 1]\n    num. irred. kpoints  : 1\n\n    Discretized Model(lda_xc_teter93, 3D):\n        lattice (in Bohr)    : [0         , 10.2631   , 10.2631   ]\n                               [10.2631   , 0         , 10.2631   ]\n                               [10.2631   , 10.2631   , 0         ]\n        unit cell volume     : 2162.1 Bohr³\n    \n        atoms                : Si₁₆\n        atom potentials      : ElementPsp(Si, psp=hgh/lda/si-q4)\n    \n        num. electrons       : 64\n        spin polarization    : none\n        temperature          : 0 Ha\n    \n        terms                : Kinetic(1)\n                               AtomicLocal()\n                               AtomicNonlocal()\n                               Ewald()\n                               PspCorrection()\n                               Hartree(1)\n                               Xc([:lda_xc_teter93], 1, nothing)"
     },
     "metadata": {},
     "execution_count": 3
    }
   ],
   "cell_type": "code",
   "source": [
    "model = model_LDA(lattice, atoms)\n",
    "basis = PlaneWaveBasis(model; Ecut=5, kgrid=(1, 1, 1))"
   ],
   "metadata": {},
   "execution_count": 3
  },
  {
   "cell_type": "markdown",
   "source": [
    "Find the ground state using direct minimisation (always using SCF is boring ...)"
   ],
   "metadata": {}
  },
  {
   "outputs": [
    {
     "name": "stdout",
     "output_type": "stream",
     "text": [
      "Iter     Function value   Gradient norm \n",
      "     0     1.120008e+02     1.517772e+00\n",
      " * time: 0.6591520309448242\n",
      "     1     1.122989e+01     8.425008e-01\n",
      " * time: 1.731323003768921\n",
      "     2    -1.148855e+01     9.736868e-01\n",
      " * time: 2.224203109741211\n",
      "     3    -3.421497e+01     8.008162e-01\n",
      " * time: 2.9579901695251465\n",
      "     4    -4.794966e+01     5.308069e-01\n",
      " * time: 3.702601194381714\n",
      "     5    -5.693354e+01     1.836627e-01\n",
      " * time: 4.418258190155029\n",
      "     6    -5.976900e+01     9.083519e-02\n",
      " * time: 4.903770208358765\n",
      "     7    -6.076600e+01     7.146675e-02\n",
      " * time: 5.3871870040893555\n",
      "     8    -6.123562e+01     6.610673e-02\n",
      " * time: 5.89021110534668\n",
      "     9    -6.156744e+01     3.598846e-02\n",
      " * time: 6.372791051864624\n",
      "    10    -6.179919e+01     2.442849e-02\n",
      " * time: 6.855967998504639\n",
      "    11    -6.194350e+01     2.335409e-02\n",
      " * time: 7.33915901184082\n",
      "    12    -6.203032e+01     2.160735e-02\n",
      " * time: 7.833080053329468\n",
      "    13    -6.209222e+01     1.692527e-02\n",
      " * time: 8.315371990203857\n",
      "    14    -6.213528e+01     1.507621e-02\n",
      " * time: 8.797932147979736\n",
      "    15    -6.216650e+01     1.149575e-02\n",
      " * time: 9.28085708618164\n",
      "    16    -6.218585e+01     8.621326e-03\n",
      " * time: 9.773486137390137\n",
      "    17    -6.219988e+01     7.386804e-03\n",
      " * time: 10.257315158843994\n",
      "    18    -6.221171e+01     6.347033e-03\n",
      " * time: 10.741083145141602\n",
      "    19    -6.222208e+01     7.383514e-03\n",
      " * time: 11.225841999053955\n",
      "    20    -6.223091e+01     7.169212e-03\n",
      " * time: 11.717197179794312\n",
      "    21    -6.223898e+01     6.706587e-03\n",
      " * time: 12.212095022201538\n",
      "    22    -6.224607e+01     5.953197e-03\n",
      " * time: 12.695388078689575\n",
      "    23    -6.225181e+01     4.359652e-03\n",
      " * time: 13.181021213531494\n",
      "    24    -6.225572e+01     3.186978e-03\n",
      " * time: 13.664570093154907\n",
      "    25    -6.225788e+01     2.757073e-03\n",
      " * time: 14.159960985183716\n",
      "    26    -6.225923e+01     1.971735e-03\n",
      " * time: 14.642996072769165\n",
      "    27    -6.226000e+01     1.969244e-03\n",
      " * time: 15.126078128814697\n",
      "    28    -6.226051e+01     1.350280e-03\n",
      " * time: 15.609613180160522\n",
      "    29    -6.226089e+01     1.224902e-03\n",
      " * time: 16.101723194122314\n",
      "    30    -6.226118e+01     1.071654e-03\n",
      " * time: 16.584387063980103\n",
      "    31    -6.226137e+01     7.991500e-04\n",
      " * time: 17.068932056427002\n",
      "    32    -6.226150e+01     5.713950e-04\n",
      " * time: 17.553282976150513\n",
      "    33    -6.226158e+01     5.740064e-04\n",
      " * time: 18.043719053268433\n",
      "    34    -6.226162e+01     4.262439e-04\n",
      " * time: 18.53749704360962\n",
      "    35    -6.226165e+01     2.961061e-04\n",
      " * time: 19.020421028137207\n",
      "    36    -6.226166e+01     1.768099e-04\n",
      " * time: 19.503355979919434\n",
      "    37    -6.226166e+01     1.016860e-04\n",
      " * time: 19.986069202423096\n",
      "    38    -6.226166e+01     8.330143e-05\n",
      " * time: 20.476781129837036\n",
      "    39    -6.226166e+01     7.634443e-05\n",
      " * time: 20.959290027618408\n",
      "    40    -6.226166e+01     6.054032e-05\n",
      " * time: 21.441972017288208\n",
      "    41    -6.226167e+01     4.616459e-05\n",
      " * time: 21.92490005493164\n",
      "    42    -6.226167e+01     3.222053e-05\n",
      " * time: 22.417142152786255\n",
      "    43    -6.226167e+01     2.732424e-05\n",
      " * time: 22.899497985839844\n",
      "    44    -6.226167e+01     2.444677e-05\n",
      " * time: 23.382416009902954\n",
      "    45    -6.226167e+01     1.537522e-05\n",
      " * time: 23.865832090377808\n",
      "    46    -6.226167e+01     1.235007e-05\n",
      " * time: 24.34915804862976\n",
      "    47    -6.226167e+01     9.053330e-06\n",
      " * time: 24.84186315536499\n",
      "    48    -6.226167e+01     5.914846e-06\n",
      " * time: 25.324921131134033\n",
      "    49    -6.226167e+01     4.348863e-06\n",
      " * time: 25.80986714363098\n"
     ]
    }
   ],
   "cell_type": "code",
   "source": [
    "scfres = direct_minimization(basis, tol=1e-5);"
   ],
   "metadata": {},
   "execution_count": 4
  },
  {
   "outputs": [
    {
     "output_type": "execute_result",
     "data": {
      "text/plain": "Energy breakdown (in Ha):\n    Kinetic             25.7671065\n    AtomicLocal         -18.8557650\n    AtomicNonlocal      14.8522626\n    Ewald               -67.1831486\n    PspCorrection       -2.3569765\n    Hartree             4.8485362 \n    Xc                  -19.3336816\n\n    total               -62.261666456038"
     },
     "metadata": {},
     "execution_count": 5
    }
   ],
   "cell_type": "code",
   "source": [
    "scfres.energies"
   ],
   "metadata": {},
   "execution_count": 5
  }
 ],
 "nbformat_minor": 3,
 "metadata": {
  "language_info": {
   "file_extension": ".jl",
   "mimetype": "application/julia",
   "name": "julia",
   "version": "1.7.0"
  },
  "kernelspec": {
   "name": "julia-1.7",
   "display_name": "Julia 1.7.0",
   "language": "julia"
  }
 },
 "nbformat": 4
}
