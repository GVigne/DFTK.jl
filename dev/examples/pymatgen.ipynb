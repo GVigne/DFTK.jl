{
 "cells": [
  {
   "cell_type": "markdown",
   "source": [
    "# Creating supercells with pymatgen\n",
    "\n",
    "The [Pymatgen](https://pymatgen.org/) python library allows to setup\n",
    "solid-state calculations using a flexible set of classes as well as an API\n",
    "to an online data base of structures. Its `Structure` and `Lattice`\n",
    "objects are directly supported by the DFTK `load_atoms` and `load_lattice`\n",
    "functions, such that DFTK may be readily used to run calculation on systems\n",
    "defined in pymatgen. Using the `pymatgen_structure` function a conversion\n",
    "from DFTK to pymatgen structures is also possible. In the following we\n",
    "use this to create a silicon supercell and find its LDA ground state\n",
    "using direct minimisation. To run this example Julia's `PyCall` package\n",
    "needs to be able to find an installation of `pymatgen`."
   ],
   "metadata": {}
  },
  {
   "cell_type": "markdown",
   "source": [
    "First we setup the silicon lattice in DFTK."
   ],
   "metadata": {}
  },
  {
   "outputs": [],
   "cell_type": "code",
   "source": [
    "using DFTK\n",
    "\n",
    "a = 10.263141334305942  # Lattice constant in Bohr\n",
    "lattice = a / 2 .* [[0 1 1.]; [1 0 1.]; [1 1 0.]]\n",
    "Si = ElementPsp(:Si, psp=load_psp(\"hgh/lda/Si-q4\"))\n",
    "atoms = [Si => [ones(3)/8, -ones(3)/8]];"
   ],
   "metadata": {},
   "execution_count": 1
  },
  {
   "cell_type": "markdown",
   "source": [
    "Next we make a `[2, 2, 2]` supercell using pymatgen"
   ],
   "metadata": {}
  },
  {
   "outputs": [
    {
     "name": "stdout",
     "output_type": "stream",
     "text": [
      "┌ Warning: `vendor()` is deprecated, use `BLAS.get_config()` and inspect the output instead\n",
      "│   caller = npyinitialize() at numpy.jl:67\n",
      "└ @ PyCall /home/runner/.julia/packages/PyCall/L0fLP/src/numpy.jl:67\n"
     ]
    }
   ],
   "cell_type": "code",
   "source": [
    "pystruct = pymatgen_structure(lattice, atoms)\n",
    "pystruct.make_supercell([2, 2, 2])\n",
    "lattice = load_lattice(pystruct)\n",
    "atoms = [Si => [s.frac_coords for s in pystruct.sites]];"
   ],
   "metadata": {},
   "execution_count": 2
  },
  {
   "cell_type": "markdown",
   "source": [
    "Setup an LDA model and discretize using\n",
    "a single k-point and a small `Ecut` of 5 Hartree."
   ],
   "metadata": {}
  },
  {
   "outputs": [
    {
     "output_type": "execute_result",
     "data": {
      "text/plain": "PlaneWaveBasis discretization:\n    Ecut                 : 5.0 Ha\n    fft_size             : (32, 32, 32), 32768 total points\n    kgrid type           : Monkhorst-Pack\n    kgrid                : [1, 1, 1]\n    num. irred. kpoints  : 1\n\n    Discretized Model(lda_xc_teter93, 3D):\n        lattice (in Bohr)    : [0         , 10.2631   , 10.2631   ]\n                               [10.2631   , 0         , 10.2631   ]\n                               [10.2631   , 10.2631   , 0         ]\n        unit cell volume     : 2162.1 Bohr³\n    \n        atoms                : Si₁₆\n        atom potentials      : ElementPsp(Si, psp=\"hgh/lda/si-q4\")\n    \n        num. electrons       : 64\n        spin polarization    : none\n        temperature          : 0 Ha\n    \n        terms                : Kinetic()\n                               AtomicLocal()\n                               AtomicNonlocal()\n                               Ewald()\n                               PspCorrection()\n                               Hartree()\n                               Xc(:lda_xc_teter93)"
     },
     "metadata": {},
     "execution_count": 3
    }
   ],
   "cell_type": "code",
   "source": [
    "model = model_LDA(lattice, atoms)\n",
    "basis = PlaneWaveBasis(model; Ecut=5, kgrid=(1, 1, 1))"
   ],
   "metadata": {},
   "execution_count": 3
  },
  {
   "cell_type": "markdown",
   "source": [
    "Find the ground state using direct minimisation (always using SCF is boring ...)"
   ],
   "metadata": {}
  },
  {
   "outputs": [
    {
     "name": "stdout",
     "output_type": "stream",
     "text": [
      "Iter     Function value   Gradient norm \n",
      "     0     1.119969e+02     1.562065e+00\n",
      " * time: 0.547011137008667\n",
      "     1     1.123649e+01     9.759906e-01\n",
      " * time: 1.3527700901031494\n",
      "     2    -1.216078e+01     9.933747e-01\n",
      " * time: 1.4359190464019775\n",
      "     3    -3.409201e+01     7.201326e-01\n",
      " * time: 1.5619230270385742\n",
      "     4    -4.780062e+01     5.489582e-01\n",
      " * time: 1.704921007156372\n",
      "     5    -5.702223e+01     2.297897e-01\n",
      " * time: 1.8096129894256592\n",
      "     6    -5.986452e+01     1.312746e-01\n",
      " * time: 1.8967230319976807\n",
      "     7    -6.096868e+01     5.663038e-02\n",
      " * time: 1.9772770404815674\n",
      "     8    -6.140162e+01     6.075280e-02\n",
      " * time: 2.0779950618743896\n",
      "     9    -6.165150e+01     5.525736e-02\n",
      " * time: 2.160137176513672\n",
      "    10    -6.184838e+01     2.926663e-02\n",
      " * time: 2.2485721111297607\n",
      "    11    -6.199483e+01     2.190294e-02\n",
      " * time: 2.3298850059509277\n",
      "    12    -6.206659e+01     1.413353e-02\n",
      " * time: 2.4227330684661865\n",
      "    13    -6.212193e+01     1.245368e-02\n",
      " * time: 2.501554012298584\n",
      "    14    -6.215553e+01     1.104960e-02\n",
      " * time: 2.58296799659729\n",
      "    15    -6.218034e+01     1.086287e-02\n",
      " * time: 2.664776086807251\n",
      "    16    -6.219581e+01     1.073032e-02\n",
      " * time: 2.7588400840759277\n",
      "    17    -6.220653e+01     9.528554e-03\n",
      " * time: 2.841104030609131\n",
      "    18    -6.221428e+01     7.260463e-03\n",
      " * time: 2.9291810989379883\n",
      "    19    -6.222110e+01     8.104445e-03\n",
      " * time: 3.0122170448303223\n",
      "    20    -6.222787e+01     7.831773e-03\n",
      " * time: 3.103494167327881\n",
      "    21    -6.223504e+01     7.938481e-03\n",
      " * time: 3.1843671798706055\n",
      "    22    -6.224209e+01     5.925438e-03\n",
      " * time: 3.2653110027313232\n",
      "    23    -6.224840e+01     4.627770e-03\n",
      " * time: 3.3443779945373535\n",
      "    24    -6.225309e+01     4.455649e-03\n",
      " * time: 3.433336019515991\n",
      "    25    -6.225622e+01     3.184109e-03\n",
      " * time: 3.5150601863861084\n",
      "    26    -6.225814e+01     2.544646e-03\n",
      " * time: 3.5979549884796143\n",
      "    27    -6.225931e+01     2.312967e-03\n",
      " * time: 3.6784350872039795\n",
      "    28    -6.226009e+01     1.794280e-03\n",
      " * time: 3.768705129623413\n",
      "    29    -6.226066e+01     1.469951e-03\n",
      " * time: 3.85988712310791\n",
      "    30    -6.226108e+01     1.030079e-03\n",
      " * time: 3.9417710304260254\n",
      "    31    -6.226132e+01     7.742056e-04\n",
      " * time: 4.021634101867676\n",
      "    32    -6.226147e+01     6.248623e-04\n",
      " * time: 4.110684156417847\n",
      "    33    -6.226156e+01     5.061281e-04\n",
      " * time: 4.192201137542725\n",
      "    34    -6.226161e+01     3.697666e-04\n",
      " * time: 4.271625995635986\n",
      "    35    -6.226164e+01     2.884810e-04\n",
      " * time: 4.370167016983032\n",
      "    36    -6.226165e+01     2.157705e-04\n",
      " * time: 4.448753118515015\n",
      "    37    -6.226166e+01     1.622369e-04\n",
      " * time: 4.529355049133301\n",
      "    38    -6.226166e+01     1.277194e-04\n",
      " * time: 4.612482070922852\n",
      "    39    -6.226166e+01     1.017766e-04\n",
      " * time: 4.706149101257324\n",
      "    40    -6.226166e+01     1.032026e-04\n",
      " * time: 4.795116186141968\n",
      "    41    -6.226166e+01     7.244352e-05\n",
      " * time: 4.876646041870117\n",
      "    42    -6.226167e+01     5.315932e-05\n",
      " * time: 4.956338167190552\n",
      "    43    -6.226167e+01     5.047232e-05\n",
      " * time: 5.047187089920044\n",
      "    44    -6.226167e+01     4.108213e-05\n",
      " * time: 5.130909204483032\n",
      "    45    -6.226167e+01     2.504702e-05\n",
      " * time: 5.214231014251709\n",
      "    46    -6.226167e+01     1.815871e-05\n",
      " * time: 5.299896001815796\n",
      "    47    -6.226167e+01     1.072873e-05\n",
      " * time: 5.390872001647949\n",
      "    48    -6.226167e+01     7.403834e-06\n",
      " * time: 5.468990087509155\n",
      "    49    -6.226167e+01     5.195403e-06\n",
      " * time: 5.551562070846558\n",
      "    50    -6.226167e+01     3.983167e-06\n",
      " * time: 5.631852149963379\n",
      "    51    -6.226167e+01     2.874890e-06\n",
      " * time: 5.720189094543457\n"
     ]
    }
   ],
   "cell_type": "code",
   "source": [
    "scfres = direct_minimization(basis, tol=1e-5);"
   ],
   "metadata": {},
   "execution_count": 4
  },
  {
   "outputs": [
    {
     "output_type": "execute_result",
     "data": {
      "text/plain": "Energy breakdown (in Ha):\n    Kinetic             25.7671073\n    AtomicLocal         -18.8557688\n    AtomicNonlocal      14.8522646\n    Ewald               -67.1831486\n    PspCorrection       -2.3569765\n    Hartree             4.8485379 \n    Xc                  -19.3336823\n\n    total               -62.261666459967"
     },
     "metadata": {},
     "execution_count": 5
    }
   ],
   "cell_type": "code",
   "source": [
    "scfres.energies"
   ],
   "metadata": {},
   "execution_count": 5
  }
 ],
 "nbformat_minor": 3,
 "metadata": {
  "language_info": {
   "file_extension": ".jl",
   "mimetype": "application/julia",
   "name": "julia",
   "version": "1.7.2"
  },
  "kernelspec": {
   "name": "julia-1.7",
   "display_name": "Julia 1.7.2",
   "language": "julia"
  }
 },
 "nbformat": 4
}
