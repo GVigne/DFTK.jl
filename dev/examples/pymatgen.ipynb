{
 "cells": [
  {
   "cell_type": "markdown",
   "source": [
    "# Creating supercells with pymatgen\n",
    "\n",
    "The [Pymatgen](https://pymatgen.org/) python library allows to setup\n",
    "solid-state calculations using a flexible set of classes as well as an API\n",
    "to an online data base of structures. Its `Structure` and `Lattice`\n",
    "objects are directly supported by the DFTK `load_atoms` and `load_lattice`\n",
    "functions, such that DFTK may be readily used to run calculation on systems\n",
    "defined in pymatgen. Using the `pymatgen_structure` function a conversion\n",
    "from DFTK to pymatgen structures is also possible. In the following we\n",
    "use this to create a silicon supercell and find its LDA ground state\n",
    "using direct minimisation. To run this example Julia's `PyCall` package\n",
    "needs to be able to find an installation of `pymatgen`."
   ],
   "metadata": {}
  },
  {
   "cell_type": "markdown",
   "source": [
    "First we setup the silicon lattice in DFTK."
   ],
   "metadata": {}
  },
  {
   "outputs": [],
   "cell_type": "code",
   "source": [
    "using DFTK\n",
    "\n",
    "a = 10.263141334305942  # Lattice constant in Bohr\n",
    "lattice = a / 2 .* [[0 1 1.]; [1 0 1.]; [1 1 0.]]\n",
    "Si = ElementPsp(:Si, psp=load_psp(\"hgh/lda/Si-q4\"))\n",
    "atoms = [Si => [ones(3)/8, -ones(3)/8]];"
   ],
   "metadata": {},
   "execution_count": 1
  },
  {
   "cell_type": "markdown",
   "source": [
    "Next we make a `[2, 2, 2]` supercell using pymatgen"
   ],
   "metadata": {}
  },
  {
   "outputs": [
    {
     "name": "stdout",
     "output_type": "stream",
     "text": [
      "┌ Warning: `vendor()` is deprecated, use `BLAS.get_config()` and inspect the output instead\n",
      "│   caller = npyinitialize() at numpy.jl:67\n",
      "└ @ PyCall /home/runner/.julia/packages/PyCall/L0fLP/src/numpy.jl:67\n"
     ]
    }
   ],
   "cell_type": "code",
   "source": [
    "pystruct = pymatgen_structure(lattice, atoms)\n",
    "pystruct.make_supercell([2, 2, 2])\n",
    "lattice = load_lattice(pystruct)\n",
    "atoms = [Si => [s.frac_coords for s in pystruct.sites]];"
   ],
   "metadata": {},
   "execution_count": 2
  },
  {
   "cell_type": "markdown",
   "source": [
    "Setup an LDA model and discretize using\n",
    "a single k-point and a small `Ecut` of 5 Hartree."
   ],
   "metadata": {}
  },
  {
   "outputs": [
    {
     "output_type": "execute_result",
     "data": {
      "text/plain": "PlaneWaveBasis discretization:\n    Ecut                 : 5.0 Ha\n    fft_size             : (32, 32, 32), 32768 total points\n    kgrid type           : Monkhorst-Pack\n    kgrid                : [1, 1, 1]\n    num. irred. kpoints  : 1\n\n    Discretized Model(lda_xc_teter93, 3D):\n        lattice (in Bohr)    : [0         , 10.2631   , 10.2631   ]\n                               [10.2631   , 0         , 10.2631   ]\n                               [10.2631   , 10.2631   , 0         ]\n        unit cell volume     : 2162.1 Bohr³\n    \n        atoms                : Si₁₆\n        atom potentials      : ElementPsp(Si, psp=\"hgh/lda/si-q4\")\n    \n        num. electrons       : 64\n        spin polarization    : none\n        temperature          : 0 Ha\n    \n        terms                : Kinetic()\n                               AtomicLocal()\n                               AtomicNonlocal()\n                               Ewald()\n                               PspCorrection()\n                               Hartree()\n                               Xc(:lda_xc_teter93)"
     },
     "metadata": {},
     "execution_count": 3
    }
   ],
   "cell_type": "code",
   "source": [
    "model = model_LDA(lattice, atoms)\n",
    "basis = PlaneWaveBasis(model; Ecut=5, kgrid=(1, 1, 1))"
   ],
   "metadata": {},
   "execution_count": 3
  },
  {
   "cell_type": "markdown",
   "source": [
    "Find the ground state using direct minimisation (always using SCF is boring ...)"
   ],
   "metadata": {}
  },
  {
   "outputs": [
    {
     "name": "stdout",
     "output_type": "stream",
     "text": [
      "Iter     Function value   Gradient norm \n",
      "     0     1.115095e+02     1.687663e+00\n",
      " * time: 0.6361551284790039\n",
      "     1     1.103933e+01     9.430105e-01\n",
      " * time: 1.5641651153564453\n",
      "     2    -1.115763e+01     9.598823e-01\n",
      " * time: 1.6546151638031006\n",
      "     3    -3.379430e+01     7.822546e-01\n",
      " * time: 1.7856462001800537\n",
      "     4    -4.741303e+01     6.078616e-01\n",
      " * time: 1.9219801425933838\n",
      "     5    -5.672582e+01     2.115185e-01\n",
      " * time: 2.0290331840515137\n",
      "     6    -5.976286e+01     1.280326e-01\n",
      " * time: 2.110234022140503\n",
      "     7    -6.090683e+01     5.413073e-02\n",
      " * time: 2.209315061569214\n",
      "     8    -6.131510e+01     8.291316e-02\n",
      " * time: 2.2947351932525635\n",
      "     9    -6.163287e+01     3.273364e-02\n",
      " * time: 2.3764171600341797\n",
      "    10    -6.183792e+01     2.220246e-02\n",
      " * time: 2.456792116165161\n",
      "    11    -6.199845e+01     1.702297e-02\n",
      " * time: 2.5556840896606445\n",
      "    12    -6.206155e+01     1.680790e-02\n",
      " * time: 2.63677716255188\n",
      "    13    -6.212810e+01     1.272768e-02\n",
      " * time: 2.7207000255584717\n",
      "    14    -6.215853e+01     1.377130e-02\n",
      " * time: 2.8275680541992188\n",
      "    15    -6.218694e+01     1.035099e-02\n",
      " * time: 2.9142251014709473\n",
      "    16    -6.220267e+01     9.527734e-03\n",
      " * time: 3.0013680458068848\n",
      "    17    -6.221502e+01     6.557331e-03\n",
      " * time: 3.0892891883850098\n",
      "    18    -6.222427e+01     5.368095e-03\n",
      " * time: 3.1878740787506104\n",
      "    19    -6.223159e+01     5.807916e-03\n",
      " * time: 3.2694830894470215\n",
      "    20    -6.223798e+01     6.323763e-03\n",
      " * time: 3.355926990509033\n",
      "    21    -6.224415e+01     6.974367e-03\n",
      " * time: 3.438368082046509\n",
      "    22    -6.225014e+01     6.086661e-03\n",
      " * time: 3.537187099456787\n",
      "    23    -6.225515e+01     4.284776e-03\n",
      " * time: 3.6217141151428223\n",
      "    24    -6.225812e+01     2.713728e-03\n",
      " * time: 3.702342987060547\n",
      "    25    -6.225968e+01     1.854912e-03\n",
      " * time: 3.7936601638793945\n",
      "    26    -6.226048e+01     1.400105e-03\n",
      " * time: 3.8762450218200684\n",
      "    27    -6.226090e+01     1.304626e-03\n",
      " * time: 3.9578280448913574\n",
      "    28    -6.226115e+01     1.071029e-03\n",
      " * time: 4.039164066314697\n",
      "    29    -6.226131e+01     8.239686e-04\n",
      " * time: 4.131900072097778\n",
      "    30    -6.226143e+01     6.859131e-04\n",
      " * time: 4.212308168411255\n",
      "    31    -6.226151e+01     5.278186e-04\n",
      " * time: 4.293814182281494\n",
      "    32    -6.226157e+01     4.171204e-04\n",
      " * time: 4.373436212539673\n",
      "    33    -6.226161e+01     3.864513e-04\n",
      " * time: 4.467971086502075\n",
      "    34    -6.226164e+01     2.713186e-04\n",
      " * time: 4.549777030944824\n",
      "    35    -6.226165e+01     2.050989e-04\n",
      " * time: 4.6319591999053955\n",
      "    36    -6.226166e+01     1.241377e-04\n",
      " * time: 4.726260185241699\n",
      "    37    -6.226166e+01     9.028634e-05\n",
      " * time: 4.8071370124816895\n",
      "    38    -6.226166e+01     6.690114e-05\n",
      " * time: 4.889888048171997\n",
      "    39    -6.226167e+01     4.709284e-05\n",
      " * time: 4.97143816947937\n",
      "    40    -6.226167e+01     3.700209e-05\n",
      " * time: 5.063899993896484\n",
      "    41    -6.226167e+01     3.240343e-05\n",
      " * time: 5.149392127990723\n",
      "    42    -6.226167e+01     1.933090e-05\n",
      " * time: 5.232240200042725\n",
      "    43    -6.226167e+01     1.687165e-05\n",
      " * time: 5.326759099960327\n",
      "    44    -6.226167e+01     1.524245e-05\n",
      " * time: 5.408217191696167\n",
      "    45    -6.226167e+01     1.192757e-05\n",
      " * time: 5.495424032211304\n",
      "    46    -6.226167e+01     1.114819e-05\n",
      " * time: 5.579460144042969\n",
      "    47    -6.226167e+01     7.303212e-06\n",
      " * time: 5.669089078903198\n",
      "    48    -6.226167e+01     5.486052e-06\n",
      " * time: 5.75032901763916\n",
      "    49    -6.226167e+01     3.942549e-06\n",
      " * time: 5.835002183914185\n",
      "    50    -6.226167e+01     3.423025e-06\n",
      " * time: 5.914292097091675\n"
     ]
    }
   ],
   "cell_type": "code",
   "source": [
    "scfres = direct_minimization(basis, tol=1e-5);"
   ],
   "metadata": {},
   "execution_count": 4
  },
  {
   "outputs": [
    {
     "output_type": "execute_result",
     "data": {
      "text/plain": "Energy breakdown (in Ha):\n    Kinetic             25.7671068\n    AtomicLocal         -18.8557712\n    AtomicNonlocal      14.8522675\n    Ewald               -67.1831486\n    PspCorrection       -2.3569765\n    Hartree             4.8485378 \n    Xc                  -19.3336822\n\n    total               -62.261666459900"
     },
     "metadata": {},
     "execution_count": 5
    }
   ],
   "cell_type": "code",
   "source": [
    "scfres.energies"
   ],
   "metadata": {},
   "execution_count": 5
  }
 ],
 "nbformat_minor": 3,
 "metadata": {
  "language_info": {
   "file_extension": ".jl",
   "mimetype": "application/julia",
   "name": "julia",
   "version": "1.7.2"
  },
  "kernelspec": {
   "name": "julia-1.7",
   "display_name": "Julia 1.7.2",
   "language": "julia"
  }
 },
 "nbformat": 4
}
