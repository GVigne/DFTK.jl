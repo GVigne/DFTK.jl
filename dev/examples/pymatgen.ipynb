{
 "cells": [
  {
   "cell_type": "markdown",
   "source": [
    "# Creating supercells with pymatgen\n",
    "\n",
    "The [Pymatgen](https://pymatgen.org/) python library allows to setup\n",
    "solid-state calculations using a flexible set of classes as well as an API\n",
    "to an online data base of structures. Its `Structure` and `Lattice`\n",
    "objects are directly supported by the DFTK `load_atoms` and `load_lattice`\n",
    "functions, such that DFTK may be readily used to run calculation on systems\n",
    "defined in pymatgen. Using the `pymatgen_structure` function a conversion\n",
    "from DFTK to pymatgen structures is also possible. In the following we\n",
    "use this to create a silicon supercell and find its LDA ground state\n",
    "using direct minimisation. To run this example Julia's `PyCall` package\n",
    "needs to be able to find an installation of `pymatgen`."
   ],
   "metadata": {}
  },
  {
   "cell_type": "markdown",
   "source": [
    "First we setup the silicon lattice in DFTK."
   ],
   "metadata": {}
  },
  {
   "outputs": [],
   "cell_type": "code",
   "source": [
    "using DFTK\n",
    "\n",
    "a = 10.263141334305942  # Lattice constant in Bohr\n",
    "lattice = a / 2 .* [[0 1 1.]; [1 0 1.]; [1 1 0.]]\n",
    "Si = ElementPsp(:Si, psp=load_psp(\"hgh/lda/Si-q4\"))\n",
    "atoms = [Si => [ones(3)/8, -ones(3)/8]];"
   ],
   "metadata": {},
   "execution_count": 1
  },
  {
   "cell_type": "markdown",
   "source": [
    "Next we make a `[2, 2, 2]` supercell using pymatgen"
   ],
   "metadata": {}
  },
  {
   "outputs": [
    {
     "name": "stdout",
     "output_type": "stream",
     "text": [
      "┌ Warning: `vendor()` is deprecated, use `BLAS.get_config()` and inspect the output instead\n",
      "│   caller = npyinitialize() at numpy.jl:67\n",
      "└ @ PyCall /home/runner/.julia/packages/PyCall/L0fLP/src/numpy.jl:67\n"
     ]
    }
   ],
   "cell_type": "code",
   "source": [
    "pystruct = pymatgen_structure(lattice, atoms)\n",
    "pystruct.make_supercell([2, 2, 2])\n",
    "lattice = load_lattice(pystruct)\n",
    "atoms = [Si => [s.frac_coords for s in pystruct.sites]];"
   ],
   "metadata": {},
   "execution_count": 2
  },
  {
   "cell_type": "markdown",
   "source": [
    "Setup an LDA model and discretize using\n",
    "a single k-point and a small `Ecut` of 5 Hartree."
   ],
   "metadata": {}
  },
  {
   "outputs": [
    {
     "output_type": "execute_result",
     "data": {
      "text/plain": "PlaneWaveBasis discretization:\n    Ecut                 : 5.0 Ha\n    fft_size             : (32, 32, 32), 32768 total points\n    kgrid type           : Monkhorst-Pack\n    kgrid                : [1, 1, 1]\n    num. irred. kpoints  : 1\n\n    Discretized Model(lda_xc_teter93, 3D):\n        lattice (in Bohr)    : [0         , 10.2631   , 10.2631   ]\n                               [10.2631   , 0         , 10.2631   ]\n                               [10.2631   , 10.2631   , 0         ]\n        unit cell volume     : 2162.1 Bohr³\n    \n        atoms                : Si₁₆\n        atom potentials      : ElementPsp(Si, psp=\"hgh/lda/si-q4\")\n    \n        num. electrons       : 64\n        spin polarization    : none\n        temperature          : 0 Ha\n    \n        terms                : Kinetic()\n                               AtomicLocal()\n                               AtomicNonlocal()\n                               Ewald()\n                               PspCorrection()\n                               Hartree()\n                               Xc(:lda_xc_teter93)"
     },
     "metadata": {},
     "execution_count": 3
    }
   ],
   "cell_type": "code",
   "source": [
    "model = model_LDA(lattice, atoms)\n",
    "basis = PlaneWaveBasis(model; Ecut=5, kgrid=(1, 1, 1))"
   ],
   "metadata": {},
   "execution_count": 3
  },
  {
   "cell_type": "markdown",
   "source": [
    "Find the ground state using direct minimisation (always using SCF is boring ...)"
   ],
   "metadata": {}
  },
  {
   "outputs": [
    {
     "name": "stdout",
     "output_type": "stream",
     "text": [
      "Iter     Function value   Gradient norm \n",
      "     0     1.120084e+02     1.390961e+00\n",
      " * time: 0.41573190689086914\n",
      "     1     1.186827e+01     7.419784e-01\n",
      " * time: 1.084571123123169\n",
      "     2    -1.135208e+01     8.409282e-01\n",
      " * time: 1.147965908050537\n",
      "     3    -3.391223e+01     6.333214e-01\n",
      " * time: 1.2347540855407715\n",
      "     4    -4.739502e+01     4.618503e-01\n",
      " * time: 1.3541390895843506\n",
      "     5    -5.668285e+01     1.868615e-01\n",
      " * time: 1.4258639812469482\n",
      "     6    -5.960154e+01     1.468754e-01\n",
      " * time: 1.478977918624878\n",
      "     7    -6.080969e+01     6.471577e-02\n",
      " * time: 1.5321569442749023\n",
      "     8    -6.132535e+01     4.875280e-02\n",
      " * time: 1.5860040187835693\n",
      "     9    -6.162144e+01     5.965625e-02\n",
      " * time: 1.6478080749511719\n",
      "    10    -6.185182e+01     3.044946e-02\n",
      " * time: 1.724614143371582\n",
      "    11    -6.201144e+01     1.965854e-02\n",
      " * time: 1.7782630920410156\n",
      "    12    -6.208668e+01     1.624904e-02\n",
      " * time: 1.8315250873565674\n",
      "    13    -6.213048e+01     1.381503e-02\n",
      " * time: 1.8846769332885742\n",
      "    14    -6.216440e+01     1.104897e-02\n",
      " * time: 1.9373500347137451\n",
      "    15    -6.218396e+01     9.651740e-03\n",
      " * time: 1.9906189441680908\n",
      "    16    -6.219787e+01     8.071367e-03\n",
      " * time: 2.0583081245422363\n",
      "    17    -6.220837e+01     9.016504e-03\n",
      " * time: 2.1109869480133057\n",
      "    18    -6.221819e+01     6.413792e-03\n",
      " * time: 2.163754940032959\n",
      "    19    -6.222719e+01     5.883011e-03\n",
      " * time: 2.2172720432281494\n",
      "    20    -6.223569e+01     5.306721e-03\n",
      " * time: 2.2704169750213623\n",
      "    21    -6.224392e+01     4.749579e-03\n",
      " * time: 2.3229799270629883\n",
      "    22    -6.225076e+01     4.459950e-03\n",
      " * time: 2.382533073425293\n",
      "    23    -6.225544e+01     4.387645e-03\n",
      " * time: 2.434981107711792\n",
      "    24    -6.225819e+01     2.589402e-03\n",
      " * time: 2.487705945968628\n",
      "    25    -6.225963e+01     2.052069e-03\n",
      " * time: 2.5405759811401367\n",
      "    26    -6.226039e+01     1.524101e-03\n",
      " * time: 2.593545913696289\n",
      "    27    -6.226078e+01     1.289105e-03\n",
      " * time: 2.6465649604797363\n",
      "    28    -6.226105e+01     1.110712e-03\n",
      " * time: 2.7075579166412354\n",
      "    29    -6.226125e+01     8.644042e-04\n",
      " * time: 2.7601590156555176\n",
      "    30    -6.226140e+01     7.520454e-04\n",
      " * time: 2.8134000301361084\n",
      "    31    -6.226150e+01     5.361826e-04\n",
      " * time: 2.8662109375\n",
      "    32    -6.226157e+01     5.202373e-04\n",
      " * time: 2.919624090194702\n",
      "    33    -6.226161e+01     3.341457e-04\n",
      " * time: 2.9732189178466797\n",
      "    34    -6.226164e+01     1.949682e-04\n",
      " * time: 3.0329220294952393\n",
      "    35    -6.226166e+01     1.542615e-04\n",
      " * time: 3.0857770442962646\n",
      "    36    -6.226166e+01     1.015598e-04\n",
      " * time: 3.1381170749664307\n",
      "    37    -6.226166e+01     7.835339e-05\n",
      " * time: 3.190757989883423\n",
      "    38    -6.226166e+01     8.455990e-05\n",
      " * time: 3.2435340881347656\n",
      "    39    -6.226167e+01     4.954452e-05\n",
      " * time: 3.302950143814087\n",
      "    40    -6.226167e+01     3.881187e-05\n",
      " * time: 3.356023073196411\n",
      "    41    -6.226167e+01     2.835517e-05\n",
      " * time: 3.4115190505981445\n",
      "    42    -6.226167e+01     2.635900e-05\n",
      " * time: 3.463740110397339\n",
      "    43    -6.226167e+01     1.903969e-05\n",
      " * time: 3.516284942626953\n",
      "    44    -6.226167e+01     1.540813e-05\n",
      " * time: 3.569221019744873\n",
      "    45    -6.226167e+01     1.297934e-05\n",
      " * time: 3.6289730072021484\n",
      "    46    -6.226167e+01     1.139279e-05\n",
      " * time: 3.6816189289093018\n",
      "    47    -6.226167e+01     6.888373e-06\n",
      " * time: 3.734576940536499\n",
      "    48    -6.226167e+01     4.200624e-06\n",
      " * time: 3.787022113800049\n",
      "    49    -6.226167e+01     2.803850e-06\n",
      " * time: 3.840330123901367\n"
     ]
    }
   ],
   "cell_type": "code",
   "source": [
    "scfres = direct_minimization(basis, tol=1e-5);"
   ],
   "metadata": {},
   "execution_count": 4
  },
  {
   "outputs": [
    {
     "output_type": "execute_result",
     "data": {
      "text/plain": "Energy breakdown (in Ha):\n    Kinetic             25.7671056\n    AtomicLocal         -18.8557626\n    AtomicNonlocal      14.8522618\n    Ewald               -67.1831486\n    PspCorrection       -2.3569765\n    Hartree             4.8485352 \n    Xc                  -19.3336812\n\n    total               -62.261666458177"
     },
     "metadata": {},
     "execution_count": 5
    }
   ],
   "cell_type": "code",
   "source": [
    "scfres.energies"
   ],
   "metadata": {},
   "execution_count": 5
  }
 ],
 "nbformat_minor": 3,
 "metadata": {
  "language_info": {
   "file_extension": ".jl",
   "mimetype": "application/julia",
   "name": "julia",
   "version": "1.7.2"
  },
  "kernelspec": {
   "name": "julia-1.7",
   "display_name": "Julia 1.7.2",
   "language": "julia"
  }
 },
 "nbformat": 4
}
