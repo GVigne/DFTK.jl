{
 "cells": [
  {
   "cell_type": "markdown",
   "source": [
    "# Creating supercells with pymatgen\n",
    "\n",
    "The [Pymatgen](https://pymatgen.org/) python library allows to setup\n",
    "solid-state calculations using a flexible set of classes as well as an API\n",
    "to an online data base of structures. Its `Structure` and `Lattice`\n",
    "objects are directly supported by the DFTK `load_atoms` and `load_lattice`\n",
    "functions, such that DFTK may be readily used to run calculation on systems\n",
    "defined in pymatgen. Using the `pymatgen_structure` function a conversion\n",
    "from DFTK to pymatgen structures is also possible. In the following we\n",
    "use this to create a silicon supercell and find its LDA ground state\n",
    "using direct minimisation. To run this example Julia's `PyCall` package\n",
    "needs to be able to find an installation of `pymatgen`."
   ],
   "metadata": {}
  },
  {
   "cell_type": "markdown",
   "source": [
    "First we setup the silicon lattice in DFTK."
   ],
   "metadata": {}
  },
  {
   "outputs": [],
   "cell_type": "code",
   "source": [
    "using DFTK\n",
    "\n",
    "a = 10.263141334305942  # Lattice constant in Bohr\n",
    "lattice = a / 2 .* [[0 1 1.]; [1 0 1.]; [1 1 0.]]\n",
    "Si = ElementPsp(:Si, psp=load_psp(\"hgh/lda/Si-q4\"))\n",
    "atoms = [Si => [ones(3)/8, -ones(3)/8]];"
   ],
   "metadata": {},
   "execution_count": 1
  },
  {
   "cell_type": "markdown",
   "source": [
    "Next we make a `[2, 2, 2]` supercell using pymatgen"
   ],
   "metadata": {}
  },
  {
   "outputs": [
    {
     "name": "stdout",
     "output_type": "stream",
     "text": [
      "┌ Warning: `vendor()` is deprecated, use `BLAS.get_config()` and inspect the output instead\n",
      "│   caller = npyinitialize() at numpy.jl:67\n",
      "└ @ PyCall /home/runner/.julia/packages/PyCall/L0fLP/src/numpy.jl:67\n"
     ]
    }
   ],
   "cell_type": "code",
   "source": [
    "pystruct = pymatgen_structure(lattice, atoms)\n",
    "pystruct.make_supercell([2, 2, 2])\n",
    "lattice = load_lattice(pystruct)\n",
    "atoms = [Si => [s.frac_coords for s in pystruct.sites]];"
   ],
   "metadata": {},
   "execution_count": 2
  },
  {
   "cell_type": "markdown",
   "source": [
    "Setup an LDA model and discretize using\n",
    "a single k-point and a small `Ecut` of 5 Hartree."
   ],
   "metadata": {}
  },
  {
   "outputs": [
    {
     "output_type": "execute_result",
     "data": {
      "text/plain": "PlaneWaveBasis discretization:\n    Ecut                 : 5.0 Ha\n    fft_size             : (32, 32, 32), 32768 total points\n    kgrid type           : Monkhorst-Pack\n    kgrid                : [1, 1, 1]\n    num. irred. kpoints  : 1\n\n    Discretized Model(lda_xc_teter93, 3D):\n        lattice (in Bohr)    : [0         , 10.2631   , 10.2631   ]\n                               [10.2631   , 0         , 10.2631   ]\n                               [10.2631   , 10.2631   , 0         ]\n        unit cell volume     : 2162.1 Bohr³\n    \n        atoms                : Si₁₆\n        atom potentials      : ElementPsp(Si, psp=\"hgh/lda/si-q4\")\n    \n        num. electrons       : 64\n        spin polarization    : none\n        temperature          : 0 Ha\n    \n        terms                : Kinetic()\n                               AtomicLocal()\n                               AtomicNonlocal()\n                               Ewald()\n                               PspCorrection()\n                               Hartree()\n                               Xc(:lda_xc_teter93)"
     },
     "metadata": {},
     "execution_count": 3
    }
   ],
   "cell_type": "code",
   "source": [
    "model = model_LDA(lattice, atoms)\n",
    "basis = PlaneWaveBasis(model; Ecut=5, kgrid=(1, 1, 1))"
   ],
   "metadata": {},
   "execution_count": 3
  },
  {
   "cell_type": "markdown",
   "source": [
    "Find the ground state using direct minimisation (always using SCF is boring ...)"
   ],
   "metadata": {}
  },
  {
   "outputs": [
    {
     "name": "stdout",
     "output_type": "stream",
     "text": [
      "Iter     Function value   Gradient norm \n",
      "     0     1.118176e+02     1.547876e+00\n",
      " * time: 0.5031578540802002\n",
      "     1     1.033366e+01     8.657757e-01\n",
      " * time: 1.3459548950195312\n",
      "     2    -1.255654e+01     9.957434e-01\n",
      " * time: 1.439823865890503\n",
      "     3    -3.435975e+01     8.208074e-01\n",
      " * time: 1.5704998970031738\n",
      "     4    -4.799460e+01     5.921460e-01\n",
      " * time: 1.6942708492279053\n",
      "     5    -5.731836e+01     1.816067e-01\n",
      " * time: 1.835277795791626\n",
      "     6    -6.012105e+01     7.707272e-02\n",
      " * time: 1.9190959930419922\n",
      "     7    -6.101761e+01     4.467758e-02\n",
      " * time: 2.000734806060791\n",
      "     8    -6.134452e+01     5.686276e-02\n",
      " * time: 2.0818698406219482\n",
      "     9    -6.163873e+01     2.943039e-02\n",
      " * time: 2.166672945022583\n",
      "    10    -6.184190e+01     2.761128e-02\n",
      " * time: 2.3737568855285645\n",
      "    11    -6.200332e+01     2.531897e-02\n",
      " * time: 2.4512338638305664\n",
      "    12    -6.207750e+01     1.844845e-02\n",
      " * time: 2.5293898582458496\n",
      "    13    -6.214498e+01     1.408596e-02\n",
      " * time: 2.609304904937744\n",
      "    14    -6.218017e+01     1.164028e-02\n",
      " * time: 2.6927859783172607\n",
      "    15    -6.220783e+01     7.165240e-03\n",
      " * time: 2.7726128101348877\n",
      "    16    -6.222146e+01     6.934280e-03\n",
      " * time: 3.326601982116699\n",
      "    17    -6.223042e+01     5.128799e-03\n",
      " * time: 3.4072179794311523\n",
      "    18    -6.223776e+01     5.557024e-03\n",
      " * time: 3.4872288703918457\n",
      "    19    -6.224365e+01     6.254986e-03\n",
      " * time: 3.5682289600372314\n",
      "    20    -6.224855e+01     5.283073e-03\n",
      " * time: 3.65326189994812\n",
      "    21    -6.225283e+01     6.087965e-03\n",
      " * time: 4.023844003677368\n",
      "    22    -6.225648e+01     3.741512e-03\n",
      " * time: 4.102181911468506\n",
      "    23    -6.225900e+01     2.527358e-03\n",
      " * time: 4.1845269203186035\n",
      "    24    -6.226026e+01     2.004253e-03\n",
      " * time: 4.265960931777954\n",
      "    25    -6.226091e+01     1.571172e-03\n",
      " * time: 4.368240833282471\n",
      "    26    -6.226123e+01     1.104846e-03\n",
      " * time: 4.463711977005005\n",
      "    27    -6.226139e+01     7.418027e-04\n",
      " * time: 4.549570798873901\n",
      "    28    -6.226148e+01     6.389880e-04\n",
      " * time: 4.634013891220093\n",
      "    29    -6.226154e+01     4.822918e-04\n",
      " * time: 4.728739976882935\n",
      "    30    -6.226158e+01     4.340759e-04\n",
      " * time: 4.808934926986694\n",
      "    31    -6.226161e+01     3.924900e-04\n",
      " * time: 4.888434886932373\n",
      "    32    -6.226163e+01     2.575811e-04\n",
      " * time: 4.970104932785034\n",
      "    33    -6.226165e+01     2.279502e-04\n",
      " * time: 5.061224937438965\n",
      "    34    -6.226166e+01     1.653451e-04\n",
      " * time: 5.143643856048584\n",
      "    35    -6.226166e+01     9.635420e-05\n",
      " * time: 5.228524923324585\n",
      "    36    -6.226166e+01     7.036633e-05\n",
      " * time: 5.3212549686431885\n",
      "    37    -6.226167e+01     5.358165e-05\n",
      " * time: 5.40413498878479\n",
      "    38    -6.226167e+01     3.385331e-05\n",
      " * time: 5.481950998306274\n",
      "    39    -6.226167e+01     3.295193e-05\n",
      " * time: 5.561416864395142\n",
      "    40    -6.226167e+01     2.690217e-05\n",
      " * time: 5.6531078815460205\n",
      "    41    -6.226167e+01     2.008297e-05\n",
      " * time: 5.736324787139893\n",
      "    42    -6.226167e+01     1.720619e-05\n",
      " * time: 5.814363956451416\n",
      "    43    -6.226167e+01     1.356533e-05\n",
      " * time: 5.892421007156372\n",
      "    44    -6.226167e+01     1.200831e-05\n",
      " * time: 5.9815638065338135\n",
      "    45    -6.226167e+01     7.707507e-06\n",
      " * time: 6.062147855758667\n",
      "    46    -6.226167e+01     7.630725e-06\n",
      " * time: 6.143028974533081\n",
      "    47    -6.226167e+01     5.305647e-06\n",
      " * time: 6.2194600105285645\n",
      "    48    -6.226167e+01     4.489085e-06\n",
      " * time: 6.304078817367554\n",
      "    49    -6.226167e+01     2.360556e-06\n",
      " * time: 6.383953809738159\n"
     ]
    }
   ],
   "cell_type": "code",
   "source": [
    "scfres = direct_minimization(basis, tol=1e-5);"
   ],
   "metadata": {},
   "execution_count": 4
  },
  {
   "outputs": [
    {
     "output_type": "execute_result",
     "data": {
      "text/plain": "Energy breakdown (in Ha):\n    Kinetic             25.7671069\n    AtomicLocal         -18.8557696\n    AtomicNonlocal      14.8522660\n    Ewald               -67.1831486\n    PspCorrection       -2.3569765\n    Hartree             4.8485376 \n    Xc                  -19.3336822\n\n    total               -62.261666461318"
     },
     "metadata": {},
     "execution_count": 5
    }
   ],
   "cell_type": "code",
   "source": [
    "scfres.energies"
   ],
   "metadata": {},
   "execution_count": 5
  }
 ],
 "nbformat_minor": 3,
 "metadata": {
  "language_info": {
   "file_extension": ".jl",
   "mimetype": "application/julia",
   "name": "julia",
   "version": "1.7.2"
  },
  "kernelspec": {
   "name": "julia-1.7",
   "display_name": "Julia 1.7.2",
   "language": "julia"
  }
 },
 "nbformat": 4
}
