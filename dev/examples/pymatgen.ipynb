{
 "cells": [
  {
   "cell_type": "markdown",
   "source": [
    "# Creating supercells with pymatgen\n",
    "\n",
    "The [Pymatgen](https://pymatgen.org/) python library allows to setup\n",
    "solid-state calculations using a flexible set of classes as well as an API\n",
    "to an online data base of structures. Its `Structure` and `Lattice`\n",
    "objects are directly supported by the DFTK `load_atoms` and `load_lattice`\n",
    "functions, such that DFTK may be readily used to run calculation on systems\n",
    "defined in pymatgen. Using the `pymatgen_structure` function a conversion\n",
    "from DFTK to pymatgen structures is also possible. In the following we\n",
    "use this to create a silicon supercell and find its LDA ground state\n",
    "using direct minimisation. To run this example Julia's `PyCall` package\n",
    "needs to be able to find an installation of `pymatgen`."
   ],
   "metadata": {}
  },
  {
   "cell_type": "markdown",
   "source": [
    "First we setup the silicon lattice in DFTK."
   ],
   "metadata": {}
  },
  {
   "outputs": [],
   "cell_type": "code",
   "source": [
    "using DFTK\n",
    "\n",
    "a = 10.263141334305942  # Lattice constant in Bohr\n",
    "lattice = a / 2 .* [[0 1 1.]; [1 0 1.]; [1 1 0.]]\n",
    "Si = ElementPsp(:Si, psp=load_psp(\"hgh/lda/Si-q4\"))\n",
    "atoms = [Si => [ones(3)/8, -ones(3)/8]];"
   ],
   "metadata": {},
   "execution_count": 1
  },
  {
   "cell_type": "markdown",
   "source": [
    "Next we make a `[2, 2, 2]` supercell using pymatgen"
   ],
   "metadata": {}
  },
  {
   "outputs": [
    {
     "name": "stdout",
     "output_type": "stream",
     "text": [
      "┌ Warning: `vendor()` is deprecated, use `BLAS.get_config()` and inspect the output instead\n",
      "│   caller = npyinitialize() at numpy.jl:67\n",
      "└ @ PyCall /home/runner/.julia/packages/PyCall/L0fLP/src/numpy.jl:67\n"
     ]
    }
   ],
   "cell_type": "code",
   "source": [
    "pystruct = pymatgen_structure(lattice, atoms)\n",
    "pystruct.make_supercell([2, 2, 2])\n",
    "lattice = load_lattice(pystruct)\n",
    "atoms = [Si => [s.frac_coords for s in pystruct.sites]];"
   ],
   "metadata": {},
   "execution_count": 2
  },
  {
   "cell_type": "markdown",
   "source": [
    "Setup an LDA model and discretize using\n",
    "a single k-point and a small `Ecut` of 5 Hartree."
   ],
   "metadata": {}
  },
  {
   "outputs": [
    {
     "output_type": "execute_result",
     "data": {
      "text/plain": "PlaneWaveBasis discretization:\n    Ecut                 : 5.0 Ha\n    fft_size             : (32, 32, 32)\n    kgrid type           : Monkhorst-Pack\n    kgrid                : [1, 1, 1]\n    num. irred. kpoints  : 1\n\n    Discretized Model(lda_xc_teter93, 3D):\n        lattice (in Bohr)    : [0         , 10.2631   , 10.2631   ]\n                               [10.2631   , 0         , 10.2631   ]\n                               [10.2631   , 10.2631   , 0         ]\n        unit cell volume     : 2162.1 Bohr³\n    \n        atoms                : Si₁₆\n        atom potentials      : ElementPsp(Si, psp=hgh/lda/si-q4)\n    \n        num. electrons       : 64\n        spin polarization    : none\n        temperature          : 0 Ha\n    \n        terms                : Kinetic()\n                               AtomicLocal()\n                               AtomicNonlocal()\n                               Ewald()\n                               PspCorrection()\n                               Hartree()\n                               Xc(:lda_xc_teter93)"
     },
     "metadata": {},
     "execution_count": 3
    }
   ],
   "cell_type": "code",
   "source": [
    "model = model_LDA(lattice, atoms)\n",
    "basis = PlaneWaveBasis(model; Ecut=5, kgrid=(1, 1, 1))"
   ],
   "metadata": {},
   "execution_count": 3
  },
  {
   "cell_type": "markdown",
   "source": [
    "Find the ground state using direct minimisation (always using SCF is boring ...)"
   ],
   "metadata": {}
  },
  {
   "outputs": [
    {
     "name": "stdout",
     "output_type": "stream",
     "text": [
      "Iter     Function value   Gradient norm \n",
      "     0     1.124118e+02     1.512749e+00\n",
      " * time: 0.7492871284484863\n",
      "     1     1.018928e+01     9.380359e-01\n",
      " * time: 2.0284860134124756\n",
      "     2    -1.190689e+01     1.036276e+00\n",
      " * time: 2.636230945587158\n",
      "     3    -3.427936e+01     7.103141e-01\n",
      " * time: 3.5406720638275146\n",
      "     4    -4.754369e+01     5.735439e-01\n",
      " * time: 4.446378946304321\n",
      "     5    -5.681562e+01     2.236991e-01\n",
      " * time: 5.405240058898926\n",
      "     6    -5.960100e+01     1.675692e-01\n",
      " * time: 6.020704984664917\n",
      "     7    -6.073749e+01     7.621388e-02\n",
      " * time: 6.623304128646851\n",
      "     8    -6.123020e+01     4.758269e-02\n",
      " * time: 7.2215659618377686\n",
      "     9    -6.151687e+01     5.073645e-02\n",
      " * time: 7.858420133590698\n",
      "    10    -6.171760e+01     2.911768e-02\n",
      " * time: 8.460159063339233\n",
      "    11    -6.189047e+01     2.296046e-02\n",
      " * time: 9.022659063339233\n",
      "    12    -6.200197e+01     1.709002e-02\n",
      " * time: 9.566000938415527\n",
      "    13    -6.205425e+01     1.529138e-02\n",
      " * time: 10.13927412033081\n",
      "    14    -6.211212e+01     1.485948e-02\n",
      " * time: 10.732784986495972\n",
      "    15    -6.213751e+01     1.273243e-02\n",
      " * time: 11.361541986465454\n",
      "    16    -6.216054e+01     8.319759e-03\n",
      " * time: 11.982156991958618\n",
      "    17    -6.217581e+01     8.046081e-03\n",
      " * time: 12.602107048034668\n",
      "    18    -6.218875e+01     6.945072e-03\n",
      " * time: 13.267662048339844\n",
      "    19    -6.219868e+01     6.853946e-03\n",
      " * time: 13.963531970977783\n",
      "    20    -6.220774e+01     6.545448e-03\n",
      " * time: 14.623167991638184\n",
      "    21    -6.221649e+01     6.343636e-03\n",
      " * time: 15.260802030563354\n",
      "    22    -6.222559e+01     6.277127e-03\n",
      " * time: 15.884274959564209\n",
      "    23    -6.223479e+01     6.947890e-03\n",
      " * time: 16.51701307296753\n",
      "    24    -6.224332e+01     5.990093e-03\n",
      " * time: 17.133708953857422\n",
      "    25    -6.224969e+01     5.080067e-03\n",
      " * time: 17.755990982055664\n",
      "    26    -6.225393e+01     4.459547e-03\n",
      " * time: 18.346843957901\n",
      "    27    -6.225656e+01     3.157322e-03\n",
      " * time: 18.94162392616272\n",
      "    28    -6.225816e+01     2.156747e-03\n",
      " * time: 19.546316146850586\n",
      "    29    -6.225921e+01     1.771201e-03\n",
      " * time: 20.113651037216187\n",
      "    30    -6.225997e+01     1.448194e-03\n",
      " * time: 20.721593141555786\n",
      "    31    -6.226053e+01     1.120364e-03\n",
      " * time: 21.346105098724365\n",
      "    32    -6.226092e+01     1.167097e-03\n",
      " * time: 21.949458122253418\n",
      "    33    -6.226123e+01     9.997595e-04\n",
      " * time: 22.54212999343872\n",
      "    34    -6.226144e+01     7.402635e-04\n",
      " * time: 23.139714002609253\n",
      "    35    -6.226156e+01     5.594585e-04\n",
      " * time: 23.773872137069702\n",
      "    36    -6.226161e+01     4.302672e-04\n",
      " * time: 24.40176296234131\n",
      "    37    -6.226164e+01     2.354241e-04\n",
      " * time: 25.007730960845947\n",
      "    38    -6.226165e+01     1.421563e-04\n",
      " * time: 25.621031045913696\n",
      "    39    -6.226166e+01     1.165621e-04\n",
      " * time: 26.211019039154053\n",
      "    40    -6.226166e+01     7.911946e-05\n",
      " * time: 26.80664300918579\n",
      "    41    -6.226166e+01     8.193708e-05\n",
      " * time: 27.415683031082153\n",
      "    42    -6.226166e+01     4.541061e-05\n",
      " * time: 28.03438711166382\n",
      "    43    -6.226167e+01     3.956555e-05\n",
      " * time: 28.684473037719727\n",
      "    44    -6.226167e+01     3.000871e-05\n",
      " * time: 29.299878120422363\n",
      "    45    -6.226167e+01     2.576407e-05\n",
      " * time: 29.89996314048767\n",
      "    46    -6.226167e+01     2.318201e-05\n",
      " * time: 30.505932092666626\n",
      "    47    -6.226167e+01     1.945196e-05\n",
      " * time: 31.118709087371826\n",
      "    48    -6.226167e+01     1.276903e-05\n",
      " * time: 31.715801000595093\n",
      "    49    -6.226167e+01     1.001179e-05\n",
      " * time: 32.305989027023315\n",
      "    50    -6.226167e+01     8.129075e-06\n",
      " * time: 32.91650199890137\n",
      "    51    -6.226167e+01     8.253262e-06\n",
      " * time: 33.466651916503906\n",
      "    52    -6.226167e+01     6.542501e-06\n",
      " * time: 34.01086902618408\n",
      "    53    -6.226167e+01     4.746704e-06\n",
      " * time: 34.5498309135437\n",
      "    54    -6.226167e+01     3.236469e-06\n",
      " * time: 35.11479210853577\n",
      "    55    -6.226167e+01     2.150161e-06\n",
      " * time: 35.674071073532104\n",
      "    56    -6.226167e+01     2.088925e-06\n",
      " * time: 36.208925008773804\n"
     ]
    }
   ],
   "cell_type": "code",
   "source": [
    "scfres = direct_minimization(basis, tol=1e-5);"
   ],
   "metadata": {},
   "execution_count": 4
  },
  {
   "outputs": [
    {
     "output_type": "execute_result",
     "data": {
      "text/plain": "Energy breakdown (in Ha):\n    Kinetic             25.7671067\n    AtomicLocal         -18.8557667\n    AtomicNonlocal      14.8522637\n    Ewald               -67.1831486\n    PspCorrection       -2.3569765\n    Hartree             4.8485368 \n    Xc                  -19.3336819\n\n    total               -62.261666461740"
     },
     "metadata": {},
     "execution_count": 5
    }
   ],
   "cell_type": "code",
   "source": [
    "scfres.energies"
   ],
   "metadata": {},
   "execution_count": 5
  }
 ],
 "nbformat_minor": 3,
 "metadata": {
  "language_info": {
   "file_extension": ".jl",
   "mimetype": "application/julia",
   "name": "julia",
   "version": "1.7.1"
  },
  "kernelspec": {
   "name": "julia-1.7",
   "display_name": "Julia 1.7.1",
   "language": "julia"
  }
 },
 "nbformat": 4
}
