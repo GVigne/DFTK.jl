{
 "cells": [
  {
   "cell_type": "markdown",
   "source": [
    "# Creating supercells with pymatgen\n",
    "\n",
    "The [Pymatgen](https://pymatgen.org/) python library allows to setup\n",
    "solid-state calculations using a flexible set of classes as well as an API\n",
    "to an online data base of structures. Its `Structure` and `Lattice`\n",
    "objects are directly supported by the DFTK `load_atoms` and `load_lattice`\n",
    "functions, such that DFTK may be readily used to run calculation on systems\n",
    "defined in pymatgen. Using the `pymatgen_structure` function a conversion\n",
    "from DFTK to pymatgen structures is also possible. In the following we\n",
    "use this to create a silicon supercell and find its LDA ground state\n",
    "using direct minimisation. To run this example Julia's `PyCall` package\n",
    "needs to be able to find an installation of `pymatgen`."
   ],
   "metadata": {}
  },
  {
   "cell_type": "markdown",
   "source": [
    "First we setup the silicon lattice in DFTK."
   ],
   "metadata": {}
  },
  {
   "outputs": [],
   "cell_type": "code",
   "source": [
    "using DFTK\n",
    "\n",
    "a = 10.263141334305942  # Lattice constant in Bohr\n",
    "lattice = a / 2 .* [[0 1 1.]; [1 0 1.]; [1 1 0.]]\n",
    "Si = ElementPsp(:Si, psp=load_psp(\"hgh/lda/Si-q4\"))\n",
    "atoms = [Si => [ones(3)/8, -ones(3)/8]];"
   ],
   "metadata": {},
   "execution_count": 1
  },
  {
   "cell_type": "markdown",
   "source": [
    "Next we make a `[2, 2, 2]` supercell using pymatgen"
   ],
   "metadata": {}
  },
  {
   "outputs": [],
   "cell_type": "code",
   "source": [
    "pystruct = pymatgen_structure(lattice, atoms)\n",
    "pystruct.make_supercell([2, 2, 2])\n",
    "lattice = load_lattice(pystruct)\n",
    "atoms = [Si => [s.frac_coords for s in pystruct.sites]];"
   ],
   "metadata": {},
   "execution_count": 2
  },
  {
   "cell_type": "markdown",
   "source": [
    "Setup an LDA model and discretize using\n",
    "a single k-point and a small `Ecut` of 5 Hartree."
   ],
   "metadata": {}
  },
  {
   "outputs": [
    {
     "output_type": "execute_result",
     "data": {
      "text/plain": "PlaneWaveBasis discretization:\n    Ecut                 : 5.0 Ha\n    fft_size             : (32, 32, 32), 32768 total points\n    kgrid type           : Monkhorst-Pack\n    kgrid                : [1, 1, 1]\n    num. irred. kpoints  : 1\n\n    Discretized Model(lda_xc_teter93, 3D):\n        lattice (in Bohr)    : [0         , 10.2631   , 10.2631   ]\n                               [10.2631   , 0         , 10.2631   ]\n                               [10.2631   , 10.2631   , 0         ]\n        unit cell volume     : 2162.1 Bohr³\n    \n        atoms                : Si₁₆\n        atom potentials      : ElementPsp(Si, psp=\"hgh/lda/si-q4\")\n    \n        num. electrons       : 64\n        spin polarization    : none\n        temperature          : 0 Ha\n    \n        terms                : Kinetic()\n                               AtomicLocal()\n                               AtomicNonlocal()\n                               Ewald()\n                               PspCorrection()\n                               Hartree()\n                               Xc(:lda_xc_teter93)"
     },
     "metadata": {},
     "execution_count": 3
    }
   ],
   "cell_type": "code",
   "source": [
    "model = model_LDA(lattice, atoms)\n",
    "basis = PlaneWaveBasis(model; Ecut=5, kgrid=(1, 1, 1))"
   ],
   "metadata": {},
   "execution_count": 3
  },
  {
   "cell_type": "markdown",
   "source": [
    "Find the ground state using direct minimisation (always using SCF is boring ...)"
   ],
   "metadata": {}
  },
  {
   "outputs": [
    {
     "name": "stdout",
     "output_type": "stream",
     "text": [
      "Iter     Function value   Gradient norm \n",
      "     0     1.126341e+02     1.515004e+00\n",
      " * time: 0.5650050640106201\n",
      "     1     1.069059e+01     9.165925e-01\n",
      " * time: 1.862800121307373\n",
      "     2    -1.160164e+01     1.044819e+00\n",
      " * time: 1.9748001098632812\n",
      "     3    -3.406116e+01     8.572100e-01\n",
      " * time: 2.0704360008239746\n",
      "     4    -4.754233e+01     6.863284e-01\n",
      " * time: 2.1729049682617188\n",
      "     5    -5.691714e+01     2.589551e-01\n",
      " * time: 2.295480966567993\n",
      "     6    -5.973902e+01     1.969510e-01\n",
      " * time: 2.360038995742798\n",
      "     7    -6.087405e+01     6.644057e-02\n",
      " * time: 2.4248759746551514\n",
      "     8    -6.135081e+01     3.544961e-02\n",
      " * time: 2.488456964492798\n",
      "     9    -6.160676e+01     3.839319e-02\n",
      " * time: 2.5533270835876465\n",
      "    10    -6.177246e+01     3.195089e-02\n",
      " * time: 2.634108066558838\n",
      "    11    -6.191638e+01     2.060801e-02\n",
      " * time: 2.697000026702881\n",
      "    12    -6.202226e+01     1.900799e-02\n",
      " * time: 2.7597241401672363\n",
      "    13    -6.207410e+01     1.534422e-02\n",
      " * time: 2.8225371837615967\n",
      "    14    -6.213573e+01     1.306917e-02\n",
      " * time: 2.8862571716308594\n",
      "    15    -6.216345e+01     1.218878e-02\n",
      " * time: 2.9561030864715576\n",
      "    16    -6.218607e+01     9.295413e-03\n",
      " * time: 3.019170045852661\n",
      "    17    -6.219895e+01     7.057487e-03\n",
      " * time: 3.0817270278930664\n",
      "    18    -6.220846e+01     6.609655e-03\n",
      " * time: 3.1446480751037598\n",
      "    19    -6.221448e+01     6.542012e-03\n",
      " * time: 3.2069649696350098\n",
      "    20    -6.221965e+01     5.960420e-03\n",
      " * time: 3.2767961025238037\n",
      "    21    -6.222429e+01     5.950150e-03\n",
      " * time: 3.3391220569610596\n",
      "    22    -6.222895e+01     5.831269e-03\n",
      " * time: 3.4017820358276367\n",
      "    23    -6.223404e+01     6.583367e-03\n",
      " * time: 3.463953971862793\n",
      "    24    -6.224001e+01     6.768253e-03\n",
      " * time: 3.5279932022094727\n",
      "    25    -6.224618e+01     5.963705e-03\n",
      " * time: 3.5987961292266846\n",
      "    26    -6.225175e+01     4.220833e-03\n",
      " * time: 3.6611361503601074\n",
      "    27    -6.225591e+01     3.182942e-03\n",
      " * time: 3.723642110824585\n",
      "    28    -6.225830e+01     2.684773e-03\n",
      " * time: 3.785788059234619\n",
      "    29    -6.225955e+01     2.181682e-03\n",
      " * time: 3.848701000213623\n",
      "    30    -6.226026e+01     1.519960e-03\n",
      " * time: 3.919316053390503\n",
      "    31    -6.226071e+01     1.947535e-03\n",
      " * time: 3.9816300868988037\n",
      "    32    -6.226103e+01     1.101892e-03\n",
      " * time: 4.045169115066528\n",
      "    33    -6.226126e+01     1.044895e-03\n",
      " * time: 4.108002185821533\n",
      "    34    -6.226145e+01     7.956785e-04\n",
      " * time: 4.171403169631958\n",
      "    35    -6.226155e+01     5.632114e-04\n",
      " * time: 4.242072105407715\n",
      "    36    -6.226161e+01     3.742336e-04\n",
      " * time: 4.304933071136475\n",
      "    37    -6.226164e+01     2.580018e-04\n",
      " * time: 4.367805004119873\n",
      "    38    -6.226165e+01     2.118917e-04\n",
      " * time: 4.429596185684204\n",
      "    39    -6.226166e+01     1.283841e-04\n",
      " * time: 4.493344068527222\n",
      "    40    -6.226166e+01     1.078083e-04\n",
      " * time: 4.564443111419678\n",
      "    41    -6.226166e+01     8.034461e-05\n",
      " * time: 4.627279996871948\n",
      "    42    -6.226166e+01     6.742467e-05\n",
      " * time: 4.690179109573364\n",
      "    43    -6.226166e+01     5.395119e-05\n",
      " * time: 4.752340078353882\n",
      "    44    -6.226167e+01     4.290340e-05\n",
      " * time: 4.814921140670776\n",
      "    45    -6.226167e+01     3.159991e-05\n",
      " * time: 4.884602069854736\n",
      "    46    -6.226167e+01     2.440492e-05\n",
      " * time: 4.947822093963623\n",
      "    47    -6.226167e+01     2.013706e-05\n",
      " * time: 5.0109031200408936\n",
      "    48    -6.226167e+01     1.848125e-05\n",
      " * time: 5.0739641189575195\n",
      "    49    -6.226167e+01     1.913999e-05\n",
      " * time: 5.1369640827178955\n",
      "    50    -6.226167e+01     9.343251e-06\n",
      " * time: 5.2064900398254395\n",
      "    51    -6.226167e+01     8.227718e-06\n",
      " * time: 5.268594980239868\n",
      "    52    -6.226167e+01     7.532853e-06\n",
      " * time: 5.331376075744629\n",
      "    53    -6.226167e+01     4.287555e-06\n",
      " * time: 5.3942790031433105\n",
      "    54    -6.226167e+01     2.464717e-06\n",
      " * time: 5.456387996673584\n",
      "    55    -6.226167e+01     2.212898e-06\n",
      " * time: 5.526163101196289\n"
     ]
    }
   ],
   "cell_type": "code",
   "source": [
    "scfres = direct_minimization(basis, tol=1e-5);"
   ],
   "metadata": {},
   "execution_count": 4
  },
  {
   "outputs": [
    {
     "output_type": "execute_result",
     "data": {
      "text/plain": "Energy breakdown (in Ha):\n    Kinetic             25.7671067\n    AtomicLocal         -18.8557686\n    AtomicNonlocal      14.8522655\n    Ewald               -67.1831486\n    PspCorrection       -2.3569765\n    Hartree             4.8485370 \n    Xc                  -19.3336819\n\n    total               -62.261666460484"
     },
     "metadata": {},
     "execution_count": 5
    }
   ],
   "cell_type": "code",
   "source": [
    "scfres.energies"
   ],
   "metadata": {},
   "execution_count": 5
  }
 ],
 "nbformat_minor": 3,
 "metadata": {
  "language_info": {
   "file_extension": ".jl",
   "mimetype": "application/julia",
   "name": "julia",
   "version": "1.7.2"
  },
  "kernelspec": {
   "name": "julia-1.7",
   "display_name": "Julia 1.7.2",
   "language": "julia"
  }
 },
 "nbformat": 4
}
