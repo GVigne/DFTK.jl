{
 "cells": [
  {
   "cell_type": "markdown",
   "source": [
    "# Creating supercells with pymatgen\n",
    "\n",
    "The [Pymatgen](https://pymatgen.org/) python library allows to setup\n",
    "solid-state calculations using a flexible set of classes as well as an API\n",
    "to an online data base of structures. Its `Structure` and `Lattice`\n",
    "objects are directly supported by the DFTK `load_atoms` and `load_lattice`\n",
    "functions, such that DFTK may be readily used to run calculation on systems\n",
    "defined in pymatgen. Using the `pymatgen_structure` function a conversion\n",
    "from DFTK to pymatgen structures is also possible. In the following we\n",
    "use this to create a silicon supercell and find its LDA ground state\n",
    "using direct minimisation. To run this example Julia's `PyCall` package\n",
    "needs to be able to find an installation of `pymatgen`."
   ],
   "metadata": {}
  },
  {
   "cell_type": "markdown",
   "source": [
    "First we setup the silicon lattice in DFTK."
   ],
   "metadata": {}
  },
  {
   "outputs": [],
   "cell_type": "code",
   "source": [
    "using DFTK\n",
    "\n",
    "a = 10.263141334305942  # Lattice constant in Bohr\n",
    "lattice = a / 2 .* [[0 1 1.]; [1 0 1.]; [1 1 0.]]\n",
    "Si = ElementPsp(:Si, psp=load_psp(\"hgh/lda/Si-q4\"))\n",
    "atoms = [Si => [ones(3)/8, -ones(3)/8]];"
   ],
   "metadata": {},
   "execution_count": 1
  },
  {
   "cell_type": "markdown",
   "source": [
    "Next we make a `[2, 2, 2]` supercell using pymatgen"
   ],
   "metadata": {}
  },
  {
   "outputs": [
    {
     "name": "stdout",
     "output_type": "stream",
     "text": [
      "┌ Warning: `vendor()` is deprecated, use `BLAS.get_config()` and inspect the output instead\n",
      "│   caller = npyinitialize() at numpy.jl:67\n",
      "└ @ PyCall /home/runner/.julia/packages/PyCall/L0fLP/src/numpy.jl:67\n"
     ]
    }
   ],
   "cell_type": "code",
   "source": [
    "pystruct = pymatgen_structure(lattice, atoms)\n",
    "pystruct.make_supercell([2, 2, 2])\n",
    "lattice = load_lattice(pystruct)\n",
    "atoms = [Si => [s.frac_coords for s in pystruct.sites]];"
   ],
   "metadata": {},
   "execution_count": 2
  },
  {
   "cell_type": "markdown",
   "source": [
    "Setup an LDA model and discretize using\n",
    "a single k-point and a small `Ecut` of 5 Hartree."
   ],
   "metadata": {}
  },
  {
   "outputs": [
    {
     "output_type": "execute_result",
     "data": {
      "text/plain": "PlaneWaveBasis discretization:\n    Ecut                 : 5.0 Ha\n    fft_size             : (32, 32, 32), 32768 total points\n    kgrid type           : Monkhorst-Pack\n    kgrid                : [1, 1, 1]\n    num. irred. kpoints  : 1\n\n    Discretized Model(lda_xc_teter93, 3D):\n        lattice (in Bohr)    : [0         , 10.2631   , 10.2631   ]\n                               [10.2631   , 0         , 10.2631   ]\n                               [10.2631   , 10.2631   , 0         ]\n        unit cell volume     : 2162.1 Bohr³\n    \n        atoms                : Si₁₆\n        atom potentials      : ElementPsp(Si, psp=\"hgh/lda/si-q4\")\n    \n        num. electrons       : 64\n        spin polarization    : none\n        temperature          : 0 Ha\n    \n        terms                : Kinetic()\n                               AtomicLocal()\n                               AtomicNonlocal()\n                               Ewald()\n                               PspCorrection()\n                               Hartree()\n                               Xc(:lda_xc_teter93)"
     },
     "metadata": {},
     "execution_count": 3
    }
   ],
   "cell_type": "code",
   "source": [
    "model = model_LDA(lattice, atoms)\n",
    "basis = PlaneWaveBasis(model; Ecut=5, kgrid=(1, 1, 1))"
   ],
   "metadata": {},
   "execution_count": 3
  },
  {
   "cell_type": "markdown",
   "source": [
    "Find the ground state using direct minimisation (always using SCF is boring ...)"
   ],
   "metadata": {}
  },
  {
   "outputs": [
    {
     "name": "stdout",
     "output_type": "stream",
     "text": [
      "Iter     Function value   Gradient norm \n",
      "     0     1.126937e+02     1.464220e+00\n",
      " * time: 0.6401729583740234\n",
      "     1     1.122035e+01     7.334003e-01\n",
      " * time: 1.4844939708709717\n",
      "     2    -1.195517e+01     8.549777e-01\n",
      " * time: 1.724377155303955\n",
      "     3    -3.411999e+01     6.834433e-01\n",
      " * time: 1.8495640754699707\n",
      "     4    -4.762319e+01     5.702326e-01\n",
      " * time: 1.9764800071716309\n",
      "     5    -5.692044e+01     2.238606e-01\n",
      " * time: 2.103924036026001\n",
      "     6    -5.984010e+01     1.174792e-01\n",
      " * time: 2.2050399780273438\n",
      "     7    -6.091982e+01     5.429760e-02\n",
      " * time: 2.828202962875366\n",
      "     8    -6.129743e+01     7.226635e-02\n",
      " * time: 2.9039180278778076\n",
      "     9    -6.158072e+01     3.469794e-02\n",
      " * time: 2.987352132797241\n",
      "    10    -6.176809e+01     2.748429e-02\n",
      " * time: 3.0701589584350586\n",
      "    11    -6.192700e+01     1.989239e-02\n",
      " * time: 3.1582961082458496\n",
      "    12    -6.199515e+01     1.760090e-02\n",
      " * time: 3.249221086502075\n",
      "    13    -6.207155e+01     1.494827e-02\n",
      " * time: 3.629390001296997\n",
      "    14    -6.210975e+01     1.245993e-02\n",
      " * time: 3.707875967025757\n",
      "    15    -6.214664e+01     1.079670e-02\n",
      " * time: 3.784662961959839\n",
      "    16    -6.216740e+01     9.578485e-03\n",
      " * time: 3.865186929702759\n",
      "    17    -6.218421e+01     9.050295e-03\n",
      " * time: 3.9607160091400146\n",
      "    18    -6.219736e+01     9.496697e-03\n",
      " * time: 4.037084102630615\n",
      "    19    -6.220816e+01     7.140542e-03\n",
      " * time: 4.11501407623291\n",
      "    20    -6.221790e+01     6.673155e-03\n",
      " * time: 4.20878005027771\n",
      "    21    -6.222736e+01     7.221834e-03\n",
      " * time: 4.287294149398804\n",
      "    22    -6.223646e+01     6.419014e-03\n",
      " * time: 4.372383117675781\n",
      "    23    -6.224491e+01     6.706390e-03\n",
      " * time: 4.457096099853516\n",
      "    24    -6.225161e+01     5.061029e-03\n",
      " * time: 4.544003963470459\n",
      "    25    -6.225574e+01     3.904848e-03\n",
      " * time: 4.6210410594940186\n",
      "    26    -6.225822e+01     2.709087e-03\n",
      " * time: 4.710132122039795\n",
      "    27    -6.225957e+01     2.115363e-03\n",
      " * time: 4.797843933105469\n",
      "    28    -6.226030e+01     1.645822e-03\n",
      " * time: 4.891106128692627\n",
      "    29    -6.226073e+01     1.434156e-03\n",
      " * time: 4.9732301235198975\n",
      "    30    -6.226103e+01     1.202918e-03\n",
      " * time: 5.055673122406006\n",
      "    31    -6.226125e+01     9.156921e-04\n",
      " * time: 5.1412670612335205\n",
      "    32    -6.226140e+01     7.600206e-04\n",
      " * time: 5.230683088302612\n",
      "    33    -6.226152e+01     6.913098e-04\n",
      " * time: 5.307620048522949\n",
      "    34    -6.226159e+01     5.121942e-04\n",
      " * time: 5.383806943893433\n",
      "    35    -6.226163e+01     3.309899e-04\n",
      " * time: 5.474513053894043\n",
      "    36    -6.226165e+01     2.275177e-04\n",
      " * time: 5.54935097694397\n",
      "    37    -6.226165e+01     1.541959e-04\n",
      " * time: 5.624093055725098\n",
      "    38    -6.226166e+01     1.150872e-04\n",
      " * time: 5.7033820152282715\n",
      "    39    -6.226166e+01     9.114758e-05\n",
      " * time: 5.791300058364868\n",
      "    40    -6.226166e+01     7.739060e-05\n",
      " * time: 5.885364055633545\n",
      "    41    -6.226166e+01     6.258690e-05\n",
      " * time: 5.974576950073242\n",
      "    42    -6.226167e+01     6.576144e-05\n",
      " * time: 6.061066150665283\n",
      "    43    -6.226167e+01     4.662752e-05\n",
      " * time: 6.154689073562622\n",
      "    44    -6.226167e+01     3.414023e-05\n",
      " * time: 6.232206106185913\n",
      "    45    -6.226167e+01     2.594465e-05\n",
      " * time: 6.337378978729248\n",
      "    46    -6.226167e+01     1.738856e-05\n",
      " * time: 6.427747964859009\n",
      "    47    -6.226167e+01     1.123858e-05\n",
      " * time: 6.521060943603516\n",
      "    48    -6.226167e+01     9.616646e-06\n",
      " * time: 6.5973060131073\n",
      "    49    -6.226167e+01     6.708733e-06\n",
      " * time: 6.67961311340332\n",
      "    50    -6.226167e+01     4.088356e-06\n",
      " * time: 6.767724990844727\n"
     ]
    }
   ],
   "cell_type": "code",
   "source": [
    "scfres = direct_minimization(basis, tol=1e-5);"
   ],
   "metadata": {},
   "execution_count": 4
  },
  {
   "outputs": [
    {
     "output_type": "execute_result",
     "data": {
      "text/plain": "Energy breakdown (in Ha):\n    Kinetic             25.7671057\n    AtomicLocal         -18.8557693\n    AtomicNonlocal      14.8522672\n    Ewald               -67.1831486\n    PspCorrection       -2.3569765\n    Hartree             4.8485370 \n    Xc                  -19.3336819\n\n    total               -62.261666454521"
     },
     "metadata": {},
     "execution_count": 5
    }
   ],
   "cell_type": "code",
   "source": [
    "scfres.energies"
   ],
   "metadata": {},
   "execution_count": 5
  }
 ],
 "nbformat_minor": 3,
 "metadata": {
  "language_info": {
   "file_extension": ".jl",
   "mimetype": "application/julia",
   "name": "julia",
   "version": "1.7.2"
  },
  "kernelspec": {
   "name": "julia-1.7",
   "display_name": "Julia 1.7.2",
   "language": "julia"
  }
 },
 "nbformat": 4
}
