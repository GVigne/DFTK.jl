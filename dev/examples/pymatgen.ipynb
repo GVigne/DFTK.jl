{
 "cells": [
  {
   "cell_type": "markdown",
   "source": [
    "# Creating supercells with pymatgen\n",
    "\n",
    "The [Pymatgen](https://pymatgen.org/) python library allows to setup\n",
    "solid-state calculations using a flexible set of classes as well as an API\n",
    "to an online data base of structures. Its `Structure` and `Lattice`\n",
    "objects are directly supported by the DFTK `load_atoms` and `load_lattice`\n",
    "functions, such that DFTK may be readily used to run calculation on systems\n",
    "defined in pymatgen. Using the `pymatgen_structure` function a conversion\n",
    "from DFTK to pymatgen structures is also possible. In the following we\n",
    "use this to create a silicon supercell and find its LDA ground state\n",
    "using direct minimisation. To run this example Julia's `PyCall` package\n",
    "needs to be able to find an installation of `pymatgen`."
   ],
   "metadata": {}
  },
  {
   "cell_type": "markdown",
   "source": [
    "First we setup the silicon lattice in DFTK."
   ],
   "metadata": {}
  },
  {
   "outputs": [],
   "cell_type": "code",
   "source": [
    "using DFTK\n",
    "\n",
    "a = 10.263141334305942  # Lattice constant in Bohr\n",
    "lattice = a / 2 .* [[0 1 1.]; [1 0 1.]; [1 1 0.]]\n",
    "Si = ElementPsp(:Si, psp=load_psp(\"hgh/lda/Si-q4\"))\n",
    "atoms = [Si => [ones(3)/8, -ones(3)/8]];"
   ],
   "metadata": {},
   "execution_count": 1
  },
  {
   "cell_type": "markdown",
   "source": [
    "Next we make a `[2, 2, 2]` supercell using pymatgen"
   ],
   "metadata": {}
  },
  {
   "outputs": [],
   "cell_type": "code",
   "source": [
    "pystruct = pymatgen_structure(lattice, atoms)\n",
    "pystruct.make_supercell([2, 2, 2])\n",
    "lattice = load_lattice(pystruct)\n",
    "atoms = [Si => [s.frac_coords for s in pystruct.sites]];"
   ],
   "metadata": {},
   "execution_count": 2
  },
  {
   "cell_type": "markdown",
   "source": [
    "Setup an LDA model and discretize using\n",
    "a single k-point and a small `Ecut` of 5 Hartree."
   ],
   "metadata": {}
  },
  {
   "outputs": [
    {
     "output_type": "execute_result",
     "data": {
      "text/plain": "PlaneWaveBasis discretization:\n    Ecut                 : 5.0 Ha\n    fft_size             : (32, 32, 32), 32768 total points\n    kgrid type           : Monkhorst-Pack\n    kgrid                : [1, 1, 1]\n    num. irred. kpoints  : 1\n\n    Discretized Model(lda_xc_teter93, 3D):\n        lattice (in Bohr)    : [0         , 10.2631   , 10.2631   ]\n                               [10.2631   , 0         , 10.2631   ]\n                               [10.2631   , 10.2631   , 0         ]\n        unit cell volume     : 2162.1 Bohr³\n    \n        atoms                : Si₁₆\n        atom potentials      : ElementPsp(Si, psp=\"hgh/lda/si-q4\")\n    \n        num. electrons       : 64\n        spin polarization    : none\n        temperature          : 0 Ha\n    \n        terms                : Kinetic()\n                               AtomicLocal()\n                               AtomicNonlocal()\n                               Ewald()\n                               PspCorrection()\n                               Hartree()\n                               Xc(:lda_xc_teter93)"
     },
     "metadata": {},
     "execution_count": 3
    }
   ],
   "cell_type": "code",
   "source": [
    "model = model_LDA(lattice, atoms)\n",
    "basis = PlaneWaveBasis(model; Ecut=5, kgrid=(1, 1, 1))"
   ],
   "metadata": {},
   "execution_count": 3
  },
  {
   "cell_type": "markdown",
   "source": [
    "Find the ground state using direct minimisation (always using SCF is boring ...)"
   ],
   "metadata": {}
  },
  {
   "outputs": [
    {
     "name": "stdout",
     "output_type": "stream",
     "text": [
      "Iter     Function value   Gradient norm \n",
      "     0     1.122836e+02     1.414590e+00\n",
      " * time: 0.5619759559631348\n",
      "     1     1.120988e+01     1.043680e+00\n",
      " * time: 2.042696952819824\n",
      "     2    -1.207646e+01     1.008341e+00\n",
      " * time: 2.127655029296875\n",
      "     3    -3.434096e+01     7.119857e-01\n",
      " * time: 2.2479920387268066\n",
      "     4    -4.802453e+01     5.042651e-01\n",
      " * time: 2.36666202545166\n",
      "     5    -5.696970e+01     2.149420e-01\n",
      " * time: 2.4969139099121094\n",
      "     6    -5.976902e+01     1.110563e-01\n",
      " * time: 2.571697950363159\n",
      "     7    -6.085833e+01     5.860489e-02\n",
      " * time: 2.647753953933716\n",
      "     8    -6.129375e+01     7.291428e-02\n",
      " * time: 2.7255449295043945\n",
      "     9    -6.162831e+01     3.518771e-02\n",
      " * time: 2.825071096420288\n",
      "    10    -6.185061e+01     2.515122e-02\n",
      " * time: 2.902782917022705\n",
      "    11    -6.201180e+01     2.120545e-02\n",
      " * time: 2.9773740768432617\n",
      "    12    -6.207090e+01     1.734512e-02\n",
      " * time: 3.0542490482330322\n",
      "    13    -6.212403e+01     1.278108e-02\n",
      " * time: 3.1290369033813477\n",
      "    14    -6.214679e+01     1.256590e-02\n",
      " * time: 3.2145190238952637\n",
      "    15    -6.216708e+01     8.666241e-03\n",
      " * time: 3.2922780513763428\n",
      "    16    -6.217937e+01     7.383569e-03\n",
      " * time: 3.3683929443359375\n",
      "    17    -6.218868e+01     5.799741e-03\n",
      " * time: 3.4528720378875732\n",
      "    18    -6.219676e+01     6.999147e-03\n",
      " * time: 3.5303618907928467\n",
      "    19    -6.220383e+01     6.035000e-03\n",
      " * time: 3.6153769493103027\n",
      "    20    -6.221068e+01     5.981368e-03\n",
      " * time: 3.689940929412842\n",
      "    21    -6.221770e+01     5.931294e-03\n",
      " * time: 3.7679669857025146\n",
      "    22    -6.222487e+01     5.687769e-03\n",
      " * time: 3.848421096801758\n",
      "    23    -6.223145e+01     5.100351e-03\n",
      " * time: 3.92375111579895\n",
      "    24    -6.223736e+01     4.533610e-03\n",
      " * time: 4.008807897567749\n",
      "    25    -6.224253e+01     4.579671e-03\n",
      " * time: 4.08801007270813\n",
      "    26    -6.224689e+01     4.229596e-03\n",
      " * time: 4.164379119873047\n",
      "    27    -6.225073e+01     3.880296e-03\n",
      " * time: 4.245503902435303\n",
      "    28    -6.225393e+01     3.714456e-03\n",
      " * time: 4.323015928268433\n",
      "    29    -6.225663e+01     3.240554e-03\n",
      " * time: 4.410052061080933\n",
      "    30    -6.225872e+01     2.518468e-03\n",
      " * time: 4.48365592956543\n",
      "    31    -6.226012e+01     2.112964e-03\n",
      " * time: 4.560251951217651\n",
      "    32    -6.226085e+01     1.488704e-03\n",
      " * time: 4.63333797454834\n",
      "    33    -6.226125e+01     1.027565e-03\n",
      " * time: 4.710513114929199\n",
      "    34    -6.226144e+01     9.827365e-04\n",
      " * time: 4.797267913818359\n",
      "    35    -6.226154e+01     5.326697e-04\n",
      " * time: 4.876943111419678\n",
      "    36    -6.226160e+01     3.628774e-04\n",
      " * time: 4.953188896179199\n",
      "    37    -6.226162e+01     2.812714e-04\n",
      " * time: 5.032624959945679\n",
      "    38    -6.226163e+01     2.478343e-04\n",
      " * time: 5.110238075256348\n",
      "    39    -6.226165e+01     2.042856e-04\n",
      " * time: 5.192811012268066\n",
      "    40    -6.226165e+01     1.626098e-04\n",
      " * time: 5.26730489730835\n",
      "    41    -6.226166e+01     1.409254e-04\n",
      " * time: 5.351979970932007\n",
      "    42    -6.226166e+01     1.202213e-04\n",
      " * time: 5.427757978439331\n",
      "    43    -6.226166e+01     7.008291e-05\n",
      " * time: 5.503468036651611\n",
      "    44    -6.226167e+01     4.985438e-05\n",
      " * time: 5.587738990783691\n",
      "    45    -6.226167e+01     3.292798e-05\n",
      " * time: 5.662264108657837\n",
      "    46    -6.226167e+01     2.468087e-05\n",
      " * time: 5.735965013504028\n",
      "    47    -6.226167e+01     1.751668e-05\n",
      " * time: 5.811194896697998\n",
      "    48    -6.226167e+01     1.573421e-05\n",
      " * time: 5.884727954864502\n",
      "    49    -6.226167e+01     1.217378e-05\n",
      " * time: 5.969166994094849\n",
      "    50    -6.226167e+01     1.028442e-05\n",
      " * time: 6.047002077102661\n",
      "    51    -6.226167e+01     6.991447e-06\n",
      " * time: 6.120435953140259\n",
      "    52    -6.226167e+01     6.068181e-06\n",
      " * time: 6.21221399307251\n",
      "    53    -6.226167e+01     4.953854e-06\n",
      " * time: 6.290369987487793\n",
      "    54    -6.226167e+01     4.009429e-06\n",
      " * time: 6.375504016876221\n",
      "    55    -6.226167e+01     3.464330e-06\n",
      " * time: 6.454577922821045\n",
      "    56    -6.226167e+01     2.767994e-06\n",
      " * time: 6.535336971282959\n"
     ]
    }
   ],
   "cell_type": "code",
   "source": [
    "scfres = direct_minimization(basis, tol=1e-5);"
   ],
   "metadata": {},
   "execution_count": 4
  },
  {
   "outputs": [
    {
     "output_type": "execute_result",
     "data": {
      "text/plain": "Energy breakdown (in Ha):\n    Kinetic             25.7671077\n    AtomicLocal         -18.8557720\n    AtomicNonlocal      14.8522670\n    Ewald               -67.1831486\n    PspCorrection       -2.3569765\n    Hartree             4.8485385 \n    Xc                  -19.3336825\n\n    total               -62.261666461870"
     },
     "metadata": {},
     "execution_count": 5
    }
   ],
   "cell_type": "code",
   "source": [
    "scfres.energies"
   ],
   "metadata": {},
   "execution_count": 5
  }
 ],
 "nbformat_minor": 3,
 "metadata": {
  "language_info": {
   "file_extension": ".jl",
   "mimetype": "application/julia",
   "name": "julia",
   "version": "1.7.2"
  },
  "kernelspec": {
   "name": "julia-1.7",
   "display_name": "Julia 1.7.2",
   "language": "julia"
  }
 },
 "nbformat": 4
}
