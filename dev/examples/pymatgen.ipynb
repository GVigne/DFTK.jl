{
 "cells": [
  {
   "cell_type": "markdown",
   "source": [
    "# Creating supercells with pymatgen\n",
    "\n",
    "The [Pymatgen](https://pymatgen.org/) python library allows to setup\n",
    "solid-state calculations using a flexible set of classes as well as an API\n",
    "to an online data base of structures. Its `Structure` and `Lattice`\n",
    "objects are directly supported by the DFTK `load_atoms` and `load_lattice`\n",
    "functions, such that DFTK may be readily used to run calculation on systems\n",
    "defined in pymatgen. Using the `pymatgen_structure` function a conversion\n",
    "from DFTK to pymatgen structures is also possible. In the following we\n",
    "use this to create a silicon supercell and find its LDA ground state\n",
    "using direct minimisation. To run this example Julia's `PyCall` package\n",
    "needs to be able to find an installation of `pymatgen`."
   ],
   "metadata": {}
  },
  {
   "cell_type": "markdown",
   "source": [
    "First we setup the silicon lattice in DFTK."
   ],
   "metadata": {}
  },
  {
   "outputs": [],
   "cell_type": "code",
   "source": [
    "using DFTK\n",
    "\n",
    "a = 10.263141334305942  # Lattice constant in Bohr\n",
    "lattice = a / 2 .* [[0 1 1.]; [1 0 1.]; [1 1 0.]]\n",
    "Si = ElementPsp(:Si, psp=load_psp(\"hgh/lda/Si-q4\"))\n",
    "atoms = [Si => [ones(3)/8, -ones(3)/8]];"
   ],
   "metadata": {},
   "execution_count": 1
  },
  {
   "cell_type": "markdown",
   "source": [
    "Next we make a `[2, 2, 2]` supercell using pymatgen"
   ],
   "metadata": {}
  },
  {
   "outputs": [],
   "cell_type": "code",
   "source": [
    "pystruct = pymatgen_structure(lattice, atoms)\n",
    "pystruct.make_supercell([2, 2, 2])\n",
    "lattice = load_lattice(pystruct)\n",
    "atoms = [Si => [s.frac_coords for s in pystruct.sites]];"
   ],
   "metadata": {},
   "execution_count": 2
  },
  {
   "cell_type": "markdown",
   "source": [
    "Setup an LDA model and discretize using\n",
    "a single k-point and a small `Ecut` of 5 Hartree."
   ],
   "metadata": {}
  },
  {
   "outputs": [
    {
     "output_type": "execute_result",
     "data": {
      "text/plain": "PlaneWaveBasis discretization:\n    Ecut                 : 5.0 Ha\n    fft_size             : (32, 32, 32)\n    kgrid type           : Monkhorst-Pack\n    kgrid                : [1, 1, 1]\n    num. irred. kpoints  : 1\n\n    Discretized Model(lda_xc_teter93, 3D):\n        lattice (in Bohr)    : [0         , 10.2631   , 10.2631   ]\n                               [10.2631   , 0         , 10.2631   ]\n                               [10.2631   , 10.2631   , 0         ]\n        unit cell volume     : 2162.1 Bohr³\n    \n        atoms                : Si₁₆\n        atom potentials      : ElementPsp(Si, psp=hgh/lda/si-q4)\n    \n        num. electrons       : 64\n        spin polarization    : none\n        temperature          : 0 Ha\n    \n        terms                : Kinetic(1)\n                               AtomicLocal()\n                               AtomicNonlocal()\n                               Ewald()\n                               PspCorrection()\n                               Hartree(1)\n                               Xc([:lda_xc_teter93], 1, nothing)"
     },
     "metadata": {},
     "execution_count": 3
    }
   ],
   "cell_type": "code",
   "source": [
    "model = model_LDA(lattice, atoms)\n",
    "basis = PlaneWaveBasis(model; Ecut=5, kgrid=(1, 1, 1))"
   ],
   "metadata": {},
   "execution_count": 3
  },
  {
   "cell_type": "markdown",
   "source": [
    "Find the ground state using direct minimisation (always using SCF is boring ...)"
   ],
   "metadata": {}
  },
  {
   "outputs": [
    {
     "name": "stdout",
     "output_type": "stream",
     "text": [
      "Iter     Function value   Gradient norm \n",
      "     0     1.117321e+02     1.448079e+00\n",
      " * time: 0.6722080707550049\n",
      "     1     1.052856e+01     9.192584e-01\n",
      " * time: 1.7243189811706543\n",
      "     2    -1.179296e+01     9.656650e-01\n",
      " * time: 2.2277960777282715\n",
      "     3    -3.410818e+01     7.548330e-01\n",
      " * time: 2.9831528663635254\n",
      "     4    -4.757392e+01     5.445843e-01\n",
      " * time: 3.715108871459961\n",
      "     5    -5.700694e+01     2.064073e-01\n",
      " * time: 4.449311017990112\n",
      "     6    -5.984354e+01     1.214770e-01\n",
      " * time: 4.9591429233551025\n",
      "     7    -6.089312e+01     5.082017e-02\n",
      " * time: 5.455082893371582\n",
      "     8    -6.130376e+01     6.274855e-02\n",
      " * time: 5.950934886932373\n",
      "     9    -6.159409e+01     3.586553e-02\n",
      " * time: 6.446707010269165\n",
      "    10    -6.180805e+01     2.521219e-02\n",
      " * time: 6.951552867889404\n",
      "    11    -6.196599e+01     2.073727e-02\n",
      " * time: 7.4475390911102295\n",
      "    12    -6.203069e+01     1.718458e-02\n",
      " * time: 7.944231986999512\n",
      "    13    -6.209324e+01     1.819502e-02\n",
      " * time: 8.439349889755249\n",
      "    14    -6.212050e+01     1.327245e-02\n",
      " * time: 8.941256046295166\n",
      "    15    -6.214393e+01     8.967992e-03\n",
      " * time: 9.437787055969238\n",
      "    16    -6.215648e+01     7.139584e-03\n",
      " * time: 9.934009075164795\n",
      "    17    -6.216602e+01     5.804974e-03\n",
      " * time: 10.434619903564453\n",
      "    18    -6.217308e+01     6.142397e-03\n",
      " * time: 10.931443929672241\n",
      "    19    -6.217896e+01     5.846938e-03\n",
      " * time: 11.427161931991577\n",
      "    20    -6.218430e+01     5.692971e-03\n",
      " * time: 11.922861099243164\n",
      "    21    -6.219013e+01     5.907543e-03\n",
      " * time: 12.424107074737549\n",
      "    22    -6.219651e+01     5.861196e-03\n",
      " * time: 12.920358896255493\n",
      "    23    -6.220286e+01     6.372168e-03\n",
      " * time: 13.415796995162964\n",
      "    24    -6.220855e+01     4.477239e-03\n",
      " * time: 13.910862922668457\n",
      "    25    -6.221276e+01     4.979805e-03\n",
      " * time: 14.412528038024902\n",
      "    26    -6.221569e+01     5.026956e-03\n",
      " * time: 14.907974004745483\n",
      "    27    -6.221805e+01     4.775966e-03\n",
      " * time: 15.403487920761108\n",
      "    28    -6.222034e+01     4.980713e-03\n",
      " * time: 15.900572061538696\n",
      "    29    -6.222325e+01     5.786421e-03\n",
      " * time: 16.40070104598999\n",
      "    30    -6.222751e+01     6.907732e-03\n",
      " * time: 16.898560047149658\n",
      "    31    -6.223337e+01     7.051796e-03\n",
      " * time: 17.39469289779663\n",
      "    32    -6.224118e+01     6.620858e-03\n",
      " * time: 17.89010000228882\n",
      "    33    -6.224955e+01     4.315991e-03\n",
      " * time: 18.39337992668152\n",
      "    34    -6.225445e+01     3.615308e-03\n",
      " * time: 18.889235973358154\n",
      "    35    -6.225769e+01     3.053774e-03\n",
      " * time: 19.384700059890747\n",
      "    36    -6.225912e+01     2.132312e-03\n",
      " * time: 19.885539054870605\n",
      "    37    -6.225996e+01     1.867751e-03\n",
      " * time: 20.380598068237305\n",
      "    38    -6.226049e+01     2.272930e-03\n",
      " * time: 20.876609086990356\n",
      "    39    -6.226086e+01     1.038042e-03\n",
      " * time: 21.37253499031067\n",
      "    40    -6.226112e+01     8.913214e-04\n",
      " * time: 21.873013973236084\n",
      "    41    -6.226129e+01     7.494986e-04\n",
      " * time: 22.368818044662476\n",
      "    42    -6.226142e+01     7.545702e-04\n",
      " * time: 22.865150928497314\n",
      "    43    -6.226152e+01     5.391032e-04\n",
      " * time: 23.360605001449585\n",
      "    44    -6.226159e+01     3.937724e-04\n",
      " * time: 23.86139488220215\n",
      "    45    -6.226162e+01     2.730478e-04\n",
      " * time: 24.35820198059082\n",
      "    46    -6.226164e+01     2.323288e-04\n",
      " * time: 24.85436987876892\n",
      "    47    -6.226166e+01     1.908857e-04\n",
      " * time: 25.35057306289673\n",
      "    48    -6.226166e+01     1.220869e-04\n",
      " * time: 25.851290941238403\n",
      "    49    -6.226166e+01     8.868569e-05\n",
      " * time: 26.346422910690308\n",
      "    50    -6.226167e+01     4.781093e-05\n",
      " * time: 26.842750072479248\n",
      "    51    -6.226167e+01     3.752120e-05\n",
      " * time: 27.34352397918701\n",
      "    52    -6.226167e+01     2.558707e-05\n",
      " * time: 27.838674068450928\n",
      "    53    -6.226167e+01     2.473426e-05\n",
      " * time: 28.33532190322876\n",
      "    54    -6.226167e+01     1.897649e-05\n",
      " * time: 28.833422899246216\n",
      "    55    -6.226167e+01     1.672188e-05\n",
      " * time: 29.334555864334106\n",
      "    56    -6.226167e+01     1.180931e-05\n",
      " * time: 29.829835891723633\n",
      "    57    -6.226167e+01     8.105352e-06\n",
      " * time: 30.326255083084106\n",
      "    58    -6.226167e+01     6.494354e-06\n",
      " * time: 30.82161593437195\n",
      "    59    -6.226167e+01     5.306770e-06\n",
      " * time: 31.322426080703735\n",
      "    60    -6.226167e+01     5.629574e-06\n",
      " * time: 31.817347049713135\n",
      "    61    -6.226167e+01     4.709498e-06\n",
      " * time: 32.31419801712036\n"
     ]
    }
   ],
   "cell_type": "code",
   "source": [
    "scfres = direct_minimization(basis, tol=1e-5);"
   ],
   "metadata": {},
   "execution_count": 4
  },
  {
   "outputs": [
    {
     "output_type": "execute_result",
     "data": {
      "text/plain": "Energy breakdown (in Ha):\n    Kinetic             25.7671095\n    AtomicLocal         -18.8557767\n    AtomicNonlocal      14.8522683\n    Ewald               -67.1831486\n    PspCorrection       -2.3569765\n    Hartree             4.8485411 \n    Xc                  -19.3336836\n\n    total               -62.261666460542"
     },
     "metadata": {},
     "execution_count": 5
    }
   ],
   "cell_type": "code",
   "source": [
    "scfres.energies"
   ],
   "metadata": {},
   "execution_count": 5
  }
 ],
 "nbformat_minor": 3,
 "metadata": {
  "language_info": {
   "file_extension": ".jl",
   "mimetype": "application/julia",
   "name": "julia",
   "version": "1.6.3"
  },
  "kernelspec": {
   "name": "julia-1.6",
   "display_name": "Julia 1.6.3",
   "language": "julia"
  }
 },
 "nbformat": 4
}
