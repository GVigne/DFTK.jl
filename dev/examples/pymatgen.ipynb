{
 "cells": [
  {
   "cell_type": "markdown",
   "source": [
    "# Creating supercells with pymatgen\n",
    "\n",
    "The [Pymatgen](https://pymatgen.org/) python library allows to setup\n",
    "solid-state calculations using a flexible set of classes as well as an API\n",
    "to an online data base of structures. Its `Structure` and `Lattice`\n",
    "objects are directly supported by the DFTK `load_atoms` and `load_lattice`\n",
    "functions, such that DFTK may be readily used to run calculation on systems\n",
    "defined in pymatgen. Using the `pymatgen_structure` function a conversion\n",
    "from DFTK to pymatgen structures is also possible. In the following we\n",
    "use this to create a silicon supercell and find its LDA ground state\n",
    "using direct minimisation. To run this example Julia's `PyCall` package\n",
    "needs to be able to find an installation of `pymatgen`."
   ],
   "metadata": {}
  },
  {
   "cell_type": "markdown",
   "source": [
    "First we setup the silicon lattice in DFTK."
   ],
   "metadata": {}
  },
  {
   "outputs": [],
   "cell_type": "code",
   "source": [
    "using DFTK\n",
    "\n",
    "a = 10.263141334305942  # Lattice constant in Bohr\n",
    "lattice = a / 2 .* [[0 1 1.]; [1 0 1.]; [1 1 0.]]\n",
    "Si = ElementPsp(:Si, psp=load_psp(\"hgh/lda/Si-q4\"))\n",
    "atoms = [Si => [ones(3)/8, -ones(3)/8]];"
   ],
   "metadata": {},
   "execution_count": 1
  },
  {
   "cell_type": "markdown",
   "source": [
    "Next we make a `[2, 2, 2]` supercell using pymatgen"
   ],
   "metadata": {}
  },
  {
   "outputs": [
    {
     "name": "stdout",
     "output_type": "stream",
     "text": [
      "┌ Warning: `vendor()` is deprecated, use `BLAS.get_config()` and inspect the output instead\n",
      "│   caller = npyinitialize() at numpy.jl:67\n",
      "└ @ PyCall /home/runner/.julia/packages/PyCall/L0fLP/src/numpy.jl:67\n"
     ]
    }
   ],
   "cell_type": "code",
   "source": [
    "pystruct = pymatgen_structure(lattice, atoms)\n",
    "pystruct.make_supercell([2, 2, 2])\n",
    "lattice = load_lattice(pystruct)\n",
    "atoms = [Si => [s.frac_coords for s in pystruct.sites]];"
   ],
   "metadata": {},
   "execution_count": 2
  },
  {
   "cell_type": "markdown",
   "source": [
    "Setup an LDA model and discretize using\n",
    "a single k-point and a small `Ecut` of 5 Hartree."
   ],
   "metadata": {}
  },
  {
   "outputs": [
    {
     "output_type": "execute_result",
     "data": {
      "text/plain": "PlaneWaveBasis discretization:\n    Ecut                 : 5.0 Ha\n    fft_size             : (32, 32, 32), 32768 total points\n    kgrid type           : Monkhorst-Pack\n    kgrid                : [1, 1, 1]\n    num. irred. kpoints  : 1\n\n    Discretized Model(lda_xc_teter93, 3D):\n        lattice (in Bohr)    : [0         , 10.2631   , 10.2631   ]\n                               [10.2631   , 0         , 10.2631   ]\n                               [10.2631   , 10.2631   , 0         ]\n        unit cell volume     : 2162.1 Bohr³\n    \n        atoms                : Si₁₆\n        atom potentials      : ElementPsp(Si, psp=\"hgh/lda/si-q4\")\n    \n        num. electrons       : 64\n        spin polarization    : none\n        temperature          : 0 Ha\n    \n        terms                : Kinetic()\n                               AtomicLocal()\n                               AtomicNonlocal()\n                               Ewald()\n                               PspCorrection()\n                               Hartree()\n                               Xc(:lda_xc_teter93)"
     },
     "metadata": {},
     "execution_count": 3
    }
   ],
   "cell_type": "code",
   "source": [
    "model = model_LDA(lattice, atoms)\n",
    "basis = PlaneWaveBasis(model; Ecut=5, kgrid=(1, 1, 1))"
   ],
   "metadata": {},
   "execution_count": 3
  },
  {
   "cell_type": "markdown",
   "source": [
    "Find the ground state using direct minimisation (always using SCF is boring ...)"
   ],
   "metadata": {}
  },
  {
   "outputs": [
    {
     "name": "stdout",
     "output_type": "stream",
     "text": [
      "Iter     Function value   Gradient norm \n",
      "     0     1.120738e+02     1.916022e+00\n",
      " * time: 0.4219391345977783\n",
      "     1     1.111326e+01     8.705235e-01\n",
      " * time: 1.6427311897277832\n",
      "     2    -1.133160e+01     1.020552e+00\n",
      " * time: 1.7145600318908691\n",
      "     3    -3.372012e+01     7.611188e-01\n",
      " * time: 1.8152000904083252\n",
      "     4    -4.727798e+01     5.578028e-01\n",
      " * time: 1.9361331462860107\n",
      "     5    -5.684817e+01     1.892117e-01\n",
      " * time: 2.018908977508545\n",
      "     6    -5.982954e+01     1.305454e-01\n",
      " * time: 2.0805912017822266\n",
      "     7    -6.093841e+01     5.401616e-02\n",
      " * time: 2.1393861770629883\n",
      "     8    -6.135900e+01     5.672253e-02\n",
      " * time: 2.204686164855957\n",
      "     9    -6.164820e+01     4.612632e-02\n",
      " * time: 2.285731077194214\n",
      "    10    -6.186473e+01     2.457453e-02\n",
      " * time: 2.347414016723633\n",
      "    11    -6.202573e+01     1.877065e-02\n",
      " * time: 2.408764123916626\n",
      "    12    -6.208857e+01     1.465363e-02\n",
      " * time: 2.472053050994873\n",
      "    13    -6.215173e+01     1.426750e-02\n",
      " * time: 2.539340019226074\n",
      "    14    -6.217690e+01     9.959107e-03\n",
      " * time: 2.6186461448669434\n",
      "    15    -6.219837e+01     8.785193e-03\n",
      " * time: 2.681795120239258\n",
      "    16    -6.220831e+01     6.928816e-03\n",
      " * time: 2.7451131343841553\n",
      "    17    -6.221685e+01     6.669378e-03\n",
      " * time: 2.8182930946350098\n",
      "    18    -6.222467e+01     6.285813e-03\n",
      " * time: 2.8871450424194336\n",
      "    19    -6.223164e+01     6.768112e-03\n",
      " * time: 2.960071086883545\n",
      "    20    -6.223923e+01     6.989558e-03\n",
      " * time: 3.0239200592041016\n",
      "    21    -6.224633e+01     6.063510e-03\n",
      " * time: 3.086315155029297\n",
      "    22    -6.225199e+01     4.787987e-03\n",
      " * time: 3.149074077606201\n",
      "    23    -6.225576e+01     3.357102e-03\n",
      " * time: 3.209900140762329\n",
      "    24    -6.225800e+01     2.394380e-03\n",
      " * time: 3.2805631160736084\n",
      "    25    -6.225931e+01     2.002035e-03\n",
      " * time: 3.33917498588562\n",
      "    26    -6.226008e+01     1.518351e-03\n",
      " * time: 3.4000890254974365\n",
      "    27    -6.226058e+01     1.191603e-03\n",
      " * time: 3.469758987426758\n",
      "    28    -6.226094e+01     1.090481e-03\n",
      " * time: 3.5468060970306396\n",
      "    29    -6.226122e+01     1.127179e-03\n",
      " * time: 3.6198830604553223\n",
      "    30    -6.226141e+01     8.079002e-04\n",
      " * time: 3.6816511154174805\n",
      "    31    -6.226152e+01     6.625896e-04\n",
      " * time: 3.7436490058898926\n",
      "    32    -6.226159e+01     4.087665e-04\n",
      " * time: 3.8046770095825195\n",
      "    33    -6.226162e+01     2.882399e-04\n",
      " * time: 3.865567207336426\n",
      "    34    -6.226164e+01     2.047867e-04\n",
      " * time: 3.934028148651123\n",
      "    35    -6.226166e+01     1.758899e-04\n",
      " * time: 4.00071907043457\n",
      "    36    -6.226166e+01     1.424514e-04\n",
      " * time: 4.065375089645386\n",
      "    37    -6.226166e+01     1.058169e-04\n",
      " * time: 4.125881195068359\n",
      "    38    -6.226166e+01     1.015522e-04\n",
      " * time: 4.186202049255371\n",
      "    39    -6.226166e+01     6.984294e-05\n",
      " * time: 4.255881071090698\n",
      "    40    -6.226167e+01     5.490060e-05\n",
      " * time: 4.316826105117798\n",
      "    41    -6.226167e+01     3.563075e-05\n",
      " * time: 4.381834983825684\n",
      "    42    -6.226167e+01     2.932798e-05\n",
      " * time: 4.4435131549835205\n",
      "    43    -6.226167e+01     2.232464e-05\n",
      " * time: 4.507846117019653\n",
      "    44    -6.226167e+01     1.736058e-05\n",
      " * time: 4.575669050216675\n",
      "    45    -6.226167e+01     1.371113e-05\n",
      " * time: 4.637421131134033\n",
      "    46    -6.226167e+01     9.167153e-06\n",
      " * time: 4.702234983444214\n",
      "    47    -6.226167e+01     5.970600e-06\n",
      " * time: 4.763916015625\n",
      "    48    -6.226167e+01     3.454001e-06\n",
      " * time: 4.825952053070068\n",
      "    49    -6.226167e+01     3.027437e-06\n",
      " * time: 4.893296003341675\n",
      "    50    -6.226167e+01     2.449872e-06\n",
      " * time: 4.954385042190552\n"
     ]
    }
   ],
   "cell_type": "code",
   "source": [
    "scfres = direct_minimization(basis, tol=1e-5);"
   ],
   "metadata": {},
   "execution_count": 4
  },
  {
   "outputs": [
    {
     "output_type": "execute_result",
     "data": {
      "text/plain": "Energy breakdown (in Ha):\n    Kinetic             25.7671069\n    AtomicLocal         -18.8557655\n    AtomicNonlocal      14.8522623\n    Ewald               -67.1831486\n    PspCorrection       -2.3569765\n    Hartree             4.8485370 \n    Xc                  -19.3336820\n\n    total               -62.261666460444"
     },
     "metadata": {},
     "execution_count": 5
    }
   ],
   "cell_type": "code",
   "source": [
    "scfres.energies"
   ],
   "metadata": {},
   "execution_count": 5
  }
 ],
 "nbformat_minor": 3,
 "metadata": {
  "language_info": {
   "file_extension": ".jl",
   "mimetype": "application/julia",
   "name": "julia",
   "version": "1.7.2"
  },
  "kernelspec": {
   "name": "julia-1.7",
   "display_name": "Julia 1.7.2",
   "language": "julia"
  }
 },
 "nbformat": 4
}
