{
 "cells": [
  {
   "cell_type": "markdown",
   "source": [
    "# Creating supercells with pymatgen\n",
    "\n",
    "The [Pymatgen](https://pymatgen.org/) python library allows to setup\n",
    "solid-state calculations using a flexible set of classes as well as an API\n",
    "to an online data base of structures. Its `Structure` and `Lattice`\n",
    "objects are directly supported by the DFTK `load_atoms` and `load_lattice`\n",
    "functions, such that DFTK may be readily used to run calculation on systems\n",
    "defined in pymatgen. Using the `pymatgen_structure` function a conversion\n",
    "from DFTK to pymatgen structures is also possible. In the following we\n",
    "use this to create a silicon supercell and find its LDA ground state\n",
    "using direct minimisation. To run this example Julia's `PyCall` package\n",
    "needs to be able to find an installation of `pymatgen`."
   ],
   "metadata": {}
  },
  {
   "cell_type": "markdown",
   "source": [
    "First we setup the silicon lattice in DFTK."
   ],
   "metadata": {}
  },
  {
   "outputs": [],
   "cell_type": "code",
   "source": [
    "using DFTK\n",
    "\n",
    "a = 10.263141334305942  # Lattice constant in Bohr\n",
    "lattice = a / 2 .* [[0 1 1.]; [1 0 1.]; [1 1 0.]]\n",
    "Si = ElementPsp(:Si, psp=load_psp(\"hgh/lda/Si-q4\"))\n",
    "atoms = [Si => [ones(3)/8, -ones(3)/8]];"
   ],
   "metadata": {},
   "execution_count": 1
  },
  {
   "cell_type": "markdown",
   "source": [
    "Next we make a `[2, 2, 2]` supercell using pymatgen"
   ],
   "metadata": {}
  },
  {
   "outputs": [],
   "cell_type": "code",
   "source": [
    "pystruct = pymatgen_structure(lattice, atoms)\n",
    "pystruct.make_supercell([2, 2, 2])\n",
    "lattice = load_lattice(pystruct)\n",
    "atoms = [Si => [s.frac_coords for s in pystruct.sites]];"
   ],
   "metadata": {},
   "execution_count": 2
  },
  {
   "cell_type": "markdown",
   "source": [
    "Setup an LDA model and discretize using\n",
    "a single k-point and a small `Ecut` of 5 Hartree."
   ],
   "metadata": {}
  },
  {
   "outputs": [
    {
     "output_type": "execute_result",
     "data": {
      "text/plain": "PlaneWaveBasis discretization:\n    Ecut                 : 5.0 Ha\n    fft_size             : (32, 32, 32)\n    kgrid type           : Monkhorst-Pack\n    kgrid                : [1, 1, 1]\n    num. irred. kpoints  : 1\n\n    Discretized Model(lda_xc_teter93, 3D):\n        lattice (in Bohr)    : [0         , 10.2631   , 10.2631   ]\n                               [10.2631   , 0         , 10.2631   ]\n                               [10.2631   , 10.2631   , 0         ]\n        unit cell volume     : 2162.1 Bohr³\n    \n        atoms                : Si₁₆\n        atom potentials      : ElementPsp(Si, psp=hgh/lda/si-q4)\n    \n        num. electrons       : 64\n        spin polarization    : none\n        temperature          : 0 Ha\n    \n        terms                : Kinetic(1)\n                               AtomicLocal()\n                               AtomicNonlocal()\n                               Ewald()\n                               PspCorrection()\n                               Hartree(1)\n                               Xc([:lda_xc_teter93], 1, nothing)"
     },
     "metadata": {},
     "execution_count": 3
    }
   ],
   "cell_type": "code",
   "source": [
    "model = model_LDA(lattice, atoms)\n",
    "basis = PlaneWaveBasis(model; Ecut=5, kgrid=(1, 1, 1))"
   ],
   "metadata": {},
   "execution_count": 3
  },
  {
   "cell_type": "markdown",
   "source": [
    "Find the ground state using direct minimisation (always using SCF is boring ...)"
   ],
   "metadata": {}
  },
  {
   "outputs": [
    {
     "name": "stdout",
     "output_type": "stream",
     "text": [
      "Iter     Function value   Gradient norm \n",
      "     0     1.118355e+02     1.514427e+00\n",
      " * time: 0.8001198768615723\n",
      "     1     9.940476e+00     8.086351e-01\n",
      " * time: 2.2900118827819824\n",
      "     2    -1.178393e+01     9.592551e-01\n",
      " * time: 2.9428298473358154\n",
      "     3    -3.417813e+01     7.180333e-01\n",
      " * time: 3.9324448108673096\n",
      "     4    -4.740685e+01     5.244211e-01\n",
      " * time: 4.884706974029541\n",
      "     5    -5.697417e+01     2.064539e-01\n",
      " * time: 5.860307931900024\n",
      "     6    -5.987293e+01     1.011426e-01\n",
      " * time: 6.52989387512207\n",
      "     7    -6.097896e+01     4.854106e-02\n",
      " * time: 7.18466591835022\n",
      "     8    -6.142180e+01     4.399788e-02\n",
      " * time: 7.821630954742432\n",
      "     9    -6.167193e+01     3.210368e-02\n",
      " * time: 8.488303899765015\n",
      "    10    -6.187282e+01     2.800966e-02\n",
      " * time: 9.127388000488281\n",
      "    11    -6.200954e+01     2.020580e-02\n",
      " * time: 9.766714811325073\n",
      "    12    -6.208004e+01     1.792141e-02\n",
      " * time: 10.419861793518066\n",
      "    13    -6.212429e+01     1.433366e-02\n",
      " * time: 11.074052810668945\n",
      "    14    -6.215777e+01     1.474339e-02\n",
      " * time: 11.730735778808594\n",
      "    15    -6.217796e+01     1.089790e-02\n",
      " * time: 12.375794887542725\n",
      "    16    -6.219274e+01     7.986062e-03\n",
      " * time: 13.034034967422485\n",
      "    17    -6.220435e+01     7.652812e-03\n",
      " * time: 13.691463947296143\n",
      "    18    -6.221438e+01     6.693995e-03\n",
      " * time: 14.33748197555542\n",
      "    19    -6.222361e+01     7.993725e-03\n",
      " * time: 14.988833904266357\n",
      "    20    -6.223248e+01     6.380137e-03\n",
      " * time: 15.633931875228882\n",
      "    21    -6.224093e+01     5.866913e-03\n",
      " * time: 16.290854930877686\n",
      "    22    -6.224850e+01     6.408039e-03\n",
      " * time: 16.953426837921143\n",
      "    23    -6.225422e+01     5.391846e-03\n",
      " * time: 17.58182191848755\n",
      "    24    -6.225781e+01     3.820897e-03\n",
      " * time: 18.220043897628784\n",
      "    25    -6.225963e+01     2.265698e-03\n",
      " * time: 18.866768836975098\n",
      "    26    -6.226053e+01     1.440817e-03\n",
      " * time: 19.511679887771606\n",
      "    27    -6.226096e+01     1.074452e-03\n",
      " * time: 20.176376819610596\n",
      "    28    -6.226119e+01     9.383790e-04\n",
      " * time: 20.837416887283325\n",
      "    29    -6.226134e+01     7.854239e-04\n",
      " * time: 21.48246693611145\n",
      "    30    -6.226144e+01     6.417783e-04\n",
      " * time: 22.134167909622192\n",
      "    31    -6.226152e+01     5.198413e-04\n",
      " * time: 22.795488834381104\n",
      "    32    -6.226157e+01     3.665226e-04\n",
      " * time: 23.442009925842285\n",
      "    33    -6.226161e+01     3.056691e-04\n",
      " * time: 24.124745845794678\n",
      "    34    -6.226164e+01     2.330973e-04\n",
      " * time: 24.789742946624756\n",
      "    35    -6.226165e+01     2.155788e-04\n",
      " * time: 25.441184997558594\n",
      "    36    -6.226166e+01     1.817748e-04\n",
      " * time: 26.09557294845581\n",
      "    37    -6.226166e+01     8.534911e-05\n",
      " * time: 26.742122888565063\n",
      "    38    -6.226166e+01     6.145864e-05\n",
      " * time: 27.39996600151062\n",
      "    39    -6.226167e+01     4.502575e-05\n",
      " * time: 28.050566911697388\n",
      "    40    -6.226167e+01     4.489335e-05\n",
      " * time: 28.695058822631836\n",
      "    41    -6.226167e+01     3.711402e-05\n",
      " * time: 29.33581781387329\n",
      "    42    -6.226167e+01     3.388354e-05\n",
      " * time: 29.999873876571655\n",
      "    43    -6.226167e+01     2.282256e-05\n",
      " * time: 30.648433923721313\n",
      "    44    -6.226167e+01     1.913891e-05\n",
      " * time: 31.303879976272583\n",
      "    45    -6.226167e+01     1.675864e-05\n",
      " * time: 31.967817783355713\n",
      "    46    -6.226167e+01     1.364489e-05\n",
      " * time: 32.62586688995361\n",
      "    47    -6.226167e+01     7.993557e-06\n",
      " * time: 33.28321886062622\n",
      "    48    -6.226167e+01     5.112338e-06\n",
      " * time: 33.93938493728638\n",
      "    49    -6.226167e+01     3.793262e-06\n",
      " * time: 34.59080696105957\n",
      "    50    -6.226167e+01     2.882612e-06\n",
      " * time: 35.241227865219116\n"
     ]
    }
   ],
   "cell_type": "code",
   "source": [
    "scfres = direct_minimization(basis, tol=1e-5);"
   ],
   "metadata": {},
   "execution_count": 4
  },
  {
   "outputs": [
    {
     "output_type": "execute_result",
     "data": {
      "text/plain": "Energy breakdown (in Ha):\n    Kinetic             25.7671067\n    AtomicLocal         -18.8557667\n    AtomicNonlocal      14.8522636\n    Ewald               -67.1831486\n    PspCorrection       -2.3569765\n    Hartree             4.8485372 \n    Xc                  -19.3336821\n\n    total               -62.261666460406"
     },
     "metadata": {},
     "execution_count": 5
    }
   ],
   "cell_type": "code",
   "source": [
    "scfres.energies"
   ],
   "metadata": {},
   "execution_count": 5
  }
 ],
 "nbformat_minor": 3,
 "metadata": {
  "language_info": {
   "file_extension": ".jl",
   "mimetype": "application/julia",
   "name": "julia",
   "version": "1.6.4"
  },
  "kernelspec": {
   "name": "julia-1.6",
   "display_name": "Julia 1.6.4",
   "language": "julia"
  }
 },
 "nbformat": 4
}
