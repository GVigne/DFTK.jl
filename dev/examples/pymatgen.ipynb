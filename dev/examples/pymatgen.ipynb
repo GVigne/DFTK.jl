{
 "cells": [
  {
   "cell_type": "markdown",
   "source": [
    "# Creating supercells with pymatgen\n",
    "\n",
    "The [Pymatgen](https://pymatgen.org/) python library allows to setup\n",
    "solid-state calculations using a flexible set of classes as well as an API\n",
    "to an online data base of structures. Its `Structure` and `Lattice`\n",
    "objects are directly supported by the DFTK `load_atoms` and `load_lattice`\n",
    "functions, such that DFTK may be readily used to run calculation on systems\n",
    "defined in pymatgen. Using the `pymatgen_structure` function a conversion\n",
    "from DFTK to pymatgen structures is also possible. In the following we\n",
    "use this to create a silicon supercell and find its LDA ground state\n",
    "using direct minimisation. To run this example Julia's `PyCall` package\n",
    "needs to be able to find an installation of `pymatgen`."
   ],
   "metadata": {}
  },
  {
   "cell_type": "markdown",
   "source": [
    "First we setup the silicon lattice in DFTK."
   ],
   "metadata": {}
  },
  {
   "outputs": [],
   "cell_type": "code",
   "source": [
    "using DFTK\n",
    "\n",
    "a = 10.263141334305942  # Lattice constant in Bohr\n",
    "lattice = a / 2 .* [[0 1 1.]; [1 0 1.]; [1 1 0.]]\n",
    "Si = ElementPsp(:Si, psp=load_psp(\"hgh/lda/Si-q4\"))\n",
    "atoms = [Si => [ones(3)/8, -ones(3)/8]];"
   ],
   "metadata": {},
   "execution_count": 1
  },
  {
   "cell_type": "markdown",
   "source": [
    "Next we make a `[2, 2, 2]` supercell using pymatgen"
   ],
   "metadata": {}
  },
  {
   "outputs": [
    {
     "name": "stdout",
     "output_type": "stream",
     "text": [
      "┌ Warning: `vendor()` is deprecated, use `BLAS.get_config()` and inspect the output instead\n",
      "│   caller = npyinitialize() at numpy.jl:67\n",
      "└ @ PyCall /home/runner/.julia/packages/PyCall/3fwVL/src/numpy.jl:67\n"
     ]
    }
   ],
   "cell_type": "code",
   "source": [
    "pystruct = pymatgen_structure(lattice, atoms)\n",
    "pystruct.make_supercell([2, 2, 2])\n",
    "lattice = load_lattice(pystruct)\n",
    "atoms = [Si => [s.frac_coords for s in pystruct.sites]];"
   ],
   "metadata": {},
   "execution_count": 2
  },
  {
   "cell_type": "markdown",
   "source": [
    "Setup an LDA model and discretize using\n",
    "a single k-point and a small `Ecut` of 5 Hartree."
   ],
   "metadata": {}
  },
  {
   "outputs": [
    {
     "output_type": "execute_result",
     "data": {
      "text/plain": "PlaneWaveBasis discretization:\n    Ecut                 : 5.0 Ha\n    fft_size             : (32, 32, 32)\n    kgrid type           : Monkhorst-Pack\n    kgrid                : [1, 1, 1]\n    num. irred. kpoints  : 1\n\n    Discretized Model(lda_xc_teter93, 3D):\n        lattice (in Bohr)    : [0         , 10.2631   , 10.2631   ]\n                               [10.2631   , 0         , 10.2631   ]\n                               [10.2631   , 10.2631   , 0         ]\n        unit cell volume     : 2162.1 Bohr³\n    \n        atoms                : Si₁₆\n        atom potentials      : ElementPsp(Si, psp=hgh/lda/si-q4)\n    \n        num. electrons       : 64\n        spin polarization    : none\n        temperature          : 0 Ha\n    \n        terms                : Kinetic(1)\n                               AtomicLocal()\n                               AtomicNonlocal()\n                               Ewald()\n                               PspCorrection()\n                               Hartree(1)\n                               Xc([:lda_xc_teter93], 1, nothing)"
     },
     "metadata": {},
     "execution_count": 3
    }
   ],
   "cell_type": "code",
   "source": [
    "model = model_LDA(lattice, atoms)\n",
    "basis = PlaneWaveBasis(model; Ecut=5, kgrid=(1, 1, 1))"
   ],
   "metadata": {},
   "execution_count": 3
  },
  {
   "cell_type": "markdown",
   "source": [
    "Find the ground state using direct minimisation (always using SCF is boring ...)"
   ],
   "metadata": {}
  },
  {
   "outputs": [
    {
     "name": "stdout",
     "output_type": "stream",
     "text": [
      "Iter     Function value   Gradient norm \n",
      "     0     1.110967e+02     1.561077e+00\n",
      " * time: 0.8085858821868896\n",
      "     1     1.093044e+01     8.456962e-01\n",
      " * time: 2.238671064376831\n",
      "     2    -1.126373e+01     9.539656e-01\n",
      " * time: 2.917288064956665\n",
      "     3    -3.406989e+01     7.095714e-01\n",
      " * time: 3.936923027038574\n",
      "     4    -4.749263e+01     5.436764e-01\n",
      " * time: 4.989543914794922\n",
      "     5    -5.704709e+01     2.325354e-01\n",
      " * time: 6.001209020614624\n",
      "     6    -5.994957e+01     1.223554e-01\n",
      " * time: 6.674109935760498\n",
      "     7    -6.099807e+01     4.321675e-02\n",
      " * time: 7.36518406867981\n",
      "     8    -6.137786e+01     6.605933e-02\n",
      " * time: 8.051923990249634\n",
      "     9    -6.163496e+01     3.901783e-02\n",
      " * time: 8.73885703086853\n",
      "    10    -6.183567e+01     2.594680e-02\n",
      " * time: 9.444921016693115\n",
      "    11    -6.199801e+01     1.714071e-02\n",
      " * time: 10.143418073654175\n",
      "    12    -6.206154e+01     1.620563e-02\n",
      " * time: 10.808022022247314\n",
      "    13    -6.212654e+01     1.436242e-02\n",
      " * time: 11.474538087844849\n",
      "    14    -6.215324e+01     1.289655e-02\n",
      " * time: 12.16256308555603\n",
      "    15    -6.217794e+01     1.006279e-02\n",
      " * time: 12.840978860855103\n",
      "    16    -6.219136e+01     1.016968e-02\n",
      " * time: 13.522969007492065\n",
      "    17    -6.220307e+01     9.089588e-03\n",
      " * time: 14.203842878341675\n",
      "    18    -6.221342e+01     8.060591e-03\n",
      " * time: 14.91093897819519\n",
      "    19    -6.222339e+01     7.388882e-03\n",
      " * time: 15.57392406463623\n",
      "    20    -6.223330e+01     6.337215e-03\n",
      " * time: 16.224973917007446\n",
      "    21    -6.224261e+01     5.586117e-03\n",
      " * time: 16.897860050201416\n",
      "    22    -6.225028e+01     4.998067e-03\n",
      " * time: 17.562443017959595\n",
      "    23    -6.225553e+01     3.380733e-03\n",
      " * time: 18.214030027389526\n",
      "    24    -6.225851e+01     2.607323e-03\n",
      " * time: 18.870662927627563\n",
      "    25    -6.225991e+01     1.695865e-03\n",
      " * time: 19.53260898590088\n",
      "    26    -6.226061e+01     1.224169e-03\n",
      " * time: 20.199136972427368\n",
      "    27    -6.226098e+01     1.174384e-03\n",
      " * time: 20.872550010681152\n",
      "    28    -6.226120e+01     8.803801e-04\n",
      " * time: 21.53922700881958\n",
      "    29    -6.226135e+01     8.361853e-04\n",
      " * time: 22.207308053970337\n",
      "    30    -6.226145e+01     7.028593e-04\n",
      " * time: 22.870267868041992\n",
      "    31    -6.226153e+01     4.510767e-04\n",
      " * time: 23.533386945724487\n",
      "    32    -6.226158e+01     3.749026e-04\n",
      " * time: 24.205928087234497\n",
      "    33    -6.226162e+01     3.486502e-04\n",
      " * time: 24.878880977630615\n",
      "    34    -6.226164e+01     2.156104e-04\n",
      " * time: 25.53930902481079\n",
      "    35    -6.226166e+01     1.814861e-04\n",
      " * time: 26.185890913009644\n",
      "    36    -6.226166e+01     1.319568e-04\n",
      " * time: 26.85448908805847\n",
      "    37    -6.226166e+01     7.696979e-05\n",
      " * time: 27.529994010925293\n",
      "    38    -6.226166e+01     5.779395e-05\n",
      " * time: 28.19430708885193\n",
      "    39    -6.226167e+01     4.800489e-05\n",
      " * time: 28.852560997009277\n",
      "    40    -6.226167e+01     4.704220e-05\n",
      " * time: 29.50667691230774\n",
      "    41    -6.226167e+01     3.890126e-05\n",
      " * time: 30.178350925445557\n",
      "    42    -6.226167e+01     2.519659e-05\n",
      " * time: 30.839416027069092\n",
      "    43    -6.226167e+01     2.559517e-05\n",
      " * time: 31.489480018615723\n",
      "    44    -6.226167e+01     1.760842e-05\n",
      " * time: 32.15346598625183\n",
      "    45    -6.226167e+01     1.364740e-05\n",
      " * time: 32.83298397064209\n",
      "    46    -6.226167e+01     8.555088e-06\n",
      " * time: 33.5039279460907\n",
      "    47    -6.226167e+01     6.966612e-06\n",
      " * time: 34.15353989601135\n",
      "    48    -6.226167e+01     3.784642e-06\n",
      " * time: 34.82788801193237\n",
      "    49    -6.226167e+01     2.997346e-06\n",
      " * time: 35.53318500518799\n"
     ]
    }
   ],
   "cell_type": "code",
   "source": [
    "scfres = direct_minimization(basis, tol=1e-5);"
   ],
   "metadata": {},
   "execution_count": 4
  },
  {
   "outputs": [
    {
     "output_type": "execute_result",
     "data": {
      "text/plain": "Energy breakdown (in Ha):\n    Kinetic             25.7671064\n    AtomicLocal         -18.8557705\n    AtomicNonlocal      14.8522676\n    Ewald               -67.1831486\n    PspCorrection       -2.3569765\n    Hartree             4.8485372 \n    Xc                  -19.3336820\n\n    total               -62.261666459741"
     },
     "metadata": {},
     "execution_count": 5
    }
   ],
   "cell_type": "code",
   "source": [
    "scfres.energies"
   ],
   "metadata": {},
   "execution_count": 5
  }
 ],
 "nbformat_minor": 3,
 "metadata": {
  "language_info": {
   "file_extension": ".jl",
   "mimetype": "application/julia",
   "name": "julia",
   "version": "1.7.0"
  },
  "kernelspec": {
   "name": "julia-1.7",
   "display_name": "Julia 1.7.0",
   "language": "julia"
  }
 },
 "nbformat": 4
}
