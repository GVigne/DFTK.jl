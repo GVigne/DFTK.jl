{
 "cells": [
  {
   "cell_type": "markdown",
   "source": [
    "# Creating supercells with pymatgen\n",
    "\n",
    "The [Pymatgen](https://pymatgen.org/) python library allows to setup\n",
    "solid-state calculations using a flexible set of classes as well as an API\n",
    "to an online data base of structures. Its `Structure` and `Lattice`\n",
    "objects are directly supported by the DFTK `load_atoms` and `load_lattice`\n",
    "functions, such that DFTK may be readily used to run calculation on systems\n",
    "defined in pymatgen. Using the `pymatgen_structure` function a conversion\n",
    "from DFTK to pymatgen structures is also possible. In the following we\n",
    "use this to create a silicon supercell and find its LDA ground state\n",
    "using direct minimisation. To run this example Julia's `PyCall` package\n",
    "needs to be able to find an installation of `pymatgen`."
   ],
   "metadata": {}
  },
  {
   "cell_type": "markdown",
   "source": [
    "First we setup the silicon lattice in DFTK."
   ],
   "metadata": {}
  },
  {
   "outputs": [],
   "cell_type": "code",
   "source": [
    "using DFTK\n",
    "\n",
    "a = 10.263141334305942  # Lattice constant in Bohr\n",
    "lattice = a / 2 .* [[0 1 1.]; [1 0 1.]; [1 1 0.]]\n",
    "Si = ElementPsp(:Si, psp=load_psp(\"hgh/lda/Si-q4\"))\n",
    "atoms = [Si => [ones(3)/8, -ones(3)/8]];"
   ],
   "metadata": {},
   "execution_count": 1
  },
  {
   "cell_type": "markdown",
   "source": [
    "Next we make a `[2, 2, 2]` supercell using pymatgen"
   ],
   "metadata": {}
  },
  {
   "outputs": [],
   "cell_type": "code",
   "source": [
    "pystruct = pymatgen_structure(lattice, atoms)\n",
    "pystruct.make_supercell([2, 2, 2])\n",
    "lattice = load_lattice(pystruct)\n",
    "atoms = [Si => [s.frac_coords for s in pystruct.sites]];"
   ],
   "metadata": {},
   "execution_count": 2
  },
  {
   "cell_type": "markdown",
   "source": [
    "Setup an LDA model and discretize using\n",
    "a single k-point and a small `Ecut` of 5 Hartree."
   ],
   "metadata": {}
  },
  {
   "outputs": [
    {
     "output_type": "execute_result",
     "data": {
      "text/plain": "PlaneWaveBasis discretization:\n    Ecut                 : 5.0 Ha\n    fft_size             : (32, 32, 32), 32768 total points\n    kgrid type           : Monkhorst-Pack\n    kgrid                : [1, 1, 1]\n    num. irred. kpoints  : 1\n\n    Discretized Model(lda_xc_teter93, 3D):\n        lattice (in Bohr)    : [0         , 10.2631   , 10.2631   ]\n                               [10.2631   , 0         , 10.2631   ]\n                               [10.2631   , 10.2631   , 0         ]\n        unit cell volume     : 2162.1 Bohr³\n    \n        atoms                : Si₁₆\n        atom potentials      : ElementPsp(Si, psp=\"hgh/lda/si-q4\")\n    \n        num. electrons       : 64\n        spin polarization    : none\n        temperature          : 0 Ha\n    \n        terms                : Kinetic()\n                               AtomicLocal()\n                               AtomicNonlocal()\n                               Ewald()\n                               PspCorrection()\n                               Hartree()\n                               Xc(:lda_xc_teter93)"
     },
     "metadata": {},
     "execution_count": 3
    }
   ],
   "cell_type": "code",
   "source": [
    "model = model_LDA(lattice, atoms)\n",
    "basis = PlaneWaveBasis(model; Ecut=5, kgrid=(1, 1, 1))"
   ],
   "metadata": {},
   "execution_count": 3
  },
  {
   "cell_type": "markdown",
   "source": [
    "Find the ground state using direct minimisation (always using SCF is boring ...)"
   ],
   "metadata": {}
  },
  {
   "outputs": [
    {
     "name": "stdout",
     "output_type": "stream",
     "text": [
      "Iter     Function value   Gradient norm \n",
      "     0     1.120028e+02     1.640208e+00\n",
      " * time: 0.40019822120666504\n",
      "     1     1.092183e+01     8.736691e-01\n",
      " * time: 1.5821130275726318\n",
      "     2    -1.137790e+01     1.022288e+00\n",
      " * time: 1.6468992233276367\n",
      "     3    -3.415220e+01     7.119952e-01\n",
      " * time: 1.7700080871582031\n",
      "     4    -4.755048e+01     5.475081e-01\n",
      " * time: 1.844135046005249\n",
      "     5    -5.692776e+01     1.858093e-01\n",
      " * time: 1.9329001903533936\n",
      "     6    -5.978803e+01     1.157083e-01\n",
      " * time: 1.9990651607513428\n",
      "     7    -6.084729e+01     5.542336e-02\n",
      " * time: 2.075888156890869\n",
      "     8    -6.126533e+01     7.332236e-02\n",
      " * time: 2.1308541297912598\n",
      "     9    -6.161498e+01     3.196271e-02\n",
      " * time: 2.1859350204467773\n",
      "    10    -6.184304e+01     2.643906e-02\n",
      " * time: 2.243234157562256\n",
      "    11    -6.200240e+01     1.802944e-02\n",
      " * time: 2.2990081310272217\n",
      "    12    -6.206678e+01     1.611707e-02\n",
      " * time: 2.373042106628418\n",
      "    13    -6.212709e+01     1.390636e-02\n",
      " * time: 2.4283761978149414\n",
      "    14    -6.215366e+01     1.267067e-02\n",
      " * time: 2.4833950996398926\n",
      "    15    -6.217599e+01     8.832885e-03\n",
      " * time: 2.5455031394958496\n",
      "    16    -6.218813e+01     6.774036e-03\n",
      " * time: 2.6019182205200195\n",
      "    17    -6.219789e+01     7.118800e-03\n",
      " * time: 2.666952133178711\n",
      "    18    -6.220483e+01     6.727310e-03\n",
      " * time: 2.722548007965088\n",
      "    19    -6.221069e+01     9.005000e-03\n",
      " * time: 2.777684211730957\n",
      "    20    -6.221603e+01     8.398588e-03\n",
      " * time: 2.8339672088623047\n",
      "    21    -6.222158e+01     8.663283e-03\n",
      " * time: 2.889742136001587\n",
      "    22    -6.222782e+01     6.118868e-03\n",
      " * time: 2.9528191089630127\n",
      "    23    -6.223450e+01     6.851646e-03\n",
      " * time: 3.007949113845825\n",
      "    24    -6.224107e+01     6.083703e-03\n",
      " * time: 3.063115119934082\n",
      "    25    -6.224702e+01     4.827398e-03\n",
      " * time: 3.1182050704956055\n",
      "    26    -6.225181e+01     3.619214e-03\n",
      " * time: 3.1823480129241943\n",
      "    27    -6.225513e+01     3.213500e-03\n",
      " * time: 3.2378971576690674\n",
      "    28    -6.225731e+01     2.673466e-03\n",
      " * time: 3.29284405708313\n",
      "    29    -6.225885e+01     2.458132e-03\n",
      " * time: 3.3488881587982178\n",
      "    30    -6.225998e+01     1.932794e-03\n",
      " * time: 3.404797077178955\n",
      "    31    -6.226068e+01     1.529510e-03\n",
      " * time: 3.468233108520508\n",
      "    32    -6.226109e+01     1.128918e-03\n",
      " * time: 3.523027181625366\n",
      "    33    -6.226136e+01     7.185880e-04\n",
      " * time: 3.5782241821289062\n",
      "    34    -6.226151e+01     6.270448e-04\n",
      " * time: 3.6330621242523193\n",
      "    35    -6.226158e+01     4.494833e-04\n",
      " * time: 3.688822031021118\n",
      "    36    -6.226162e+01     2.760468e-04\n",
      " * time: 3.7522671222686768\n",
      "    37    -6.226164e+01     2.540783e-04\n",
      " * time: 3.806941032409668\n",
      "    38    -6.226165e+01     1.918288e-04\n",
      " * time: 3.8619351387023926\n",
      "    39    -6.226165e+01     1.546171e-04\n",
      " * time: 3.916588068008423\n",
      "    40    -6.226166e+01     1.401535e-04\n",
      " * time: 3.9729650020599365\n",
      "    41    -6.226166e+01     9.209890e-05\n",
      " * time: 4.036145210266113\n",
      "    42    -6.226166e+01     7.743670e-05\n",
      " * time: 4.091376066207886\n",
      "    43    -6.226166e+01     6.264774e-05\n",
      " * time: 4.150485992431641\n",
      "    44    -6.226167e+01     4.354914e-05\n",
      " * time: 4.2051050662994385\n",
      "    45    -6.226167e+01     3.269494e-05\n",
      " * time: 4.260825157165527\n",
      "    46    -6.226167e+01     2.317059e-05\n",
      " * time: 4.324414014816284\n",
      "    47    -6.226167e+01     1.667650e-05\n",
      " * time: 4.379205226898193\n",
      "    48    -6.226167e+01     1.050446e-05\n",
      " * time: 4.435855150222778\n",
      "    49    -6.226167e+01     9.865086e-06\n",
      " * time: 4.490953207015991\n",
      "    50    -6.226167e+01     6.772067e-06\n",
      " * time: 4.54650616645813\n",
      "    51    -6.226167e+01     5.742213e-06\n",
      " * time: 4.6099090576171875\n",
      "    52    -6.226167e+01     4.194683e-06\n",
      " * time: 4.664927005767822\n",
      "    53    -6.226167e+01     3.453662e-06\n",
      " * time: 4.7256760597229\n",
      "    54    -6.226167e+01     3.138920e-06\n",
      " * time: 4.785224199295044\n",
      "    55    -6.226167e+01     2.834290e-06\n",
      " * time: 4.840184211730957\n",
      "    56    -6.226167e+01     2.324944e-06\n",
      " * time: 4.903555154800415\n"
     ]
    }
   ],
   "cell_type": "code",
   "source": [
    "scfres = direct_minimization(basis, tol=1e-5);"
   ],
   "metadata": {},
   "execution_count": 4
  },
  {
   "outputs": [
    {
     "output_type": "execute_result",
     "data": {
      "text/plain": "Energy breakdown (in Ha):\n    Kinetic             25.7671069\n    AtomicLocal         -18.8557691\n    AtomicNonlocal      14.8522656\n    Ewald               -67.1831486\n    PspCorrection       -2.3569765\n    Hartree             4.8485375 \n    Xc                  -19.3336821\n\n    total               -62.261666461667"
     },
     "metadata": {},
     "execution_count": 5
    }
   ],
   "cell_type": "code",
   "source": [
    "scfres.energies"
   ],
   "metadata": {},
   "execution_count": 5
  }
 ],
 "nbformat_minor": 3,
 "metadata": {
  "language_info": {
   "file_extension": ".jl",
   "mimetype": "application/julia",
   "name": "julia",
   "version": "1.7.2"
  },
  "kernelspec": {
   "name": "julia-1.7",
   "display_name": "Julia 1.7.2",
   "language": "julia"
  }
 },
 "nbformat": 4
}
