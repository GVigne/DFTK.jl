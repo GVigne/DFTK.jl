{
 "cells": [
  {
   "cell_type": "markdown",
   "source": [
    "# Creating supercells with pymatgen\n",
    "\n",
    "The [Pymatgen](https://pymatgen.org/) python library allows to setup\n",
    "solid-state calculations using a flexible set of classes as well as an API\n",
    "to an online data base of structures. Its `Structure` and `Lattice`\n",
    "objects are directly supported by the DFTK `load_atoms` and `load_lattice`\n",
    "functions, such that DFTK may be readily used to run calculation on systems\n",
    "defined in pymatgen. Using the `pymatgen_structure` function a conversion\n",
    "from DFTK to pymatgen structures is also possible. In the following we\n",
    "use this to create a silicon supercell and find its LDA ground state\n",
    "using direct minimisation. To run this example Julia's `PyCall` package\n",
    "needs to be able to find an installation of `pymatgen`."
   ],
   "metadata": {}
  },
  {
   "cell_type": "markdown",
   "source": [
    "First we setup the silicon lattice in DFTK."
   ],
   "metadata": {}
  },
  {
   "outputs": [],
   "cell_type": "code",
   "source": [
    "using DFTK\n",
    "\n",
    "a = 10.263141334305942  # Lattice constant in Bohr\n",
    "lattice = a / 2 .* [[0 1 1.]; [1 0 1.]; [1 1 0.]]\n",
    "Si = ElementPsp(:Si, psp=load_psp(\"hgh/lda/Si-q4\"))\n",
    "atoms = [Si => [ones(3)/8, -ones(3)/8]];"
   ],
   "metadata": {},
   "execution_count": 1
  },
  {
   "cell_type": "markdown",
   "source": [
    "Next we make a `[2, 2, 2]` supercell using pymatgen"
   ],
   "metadata": {}
  },
  {
   "outputs": [
    {
     "name": "stdout",
     "output_type": "stream",
     "text": [
      "┌ Warning: `vendor()` is deprecated, use `BLAS.get_config()` and inspect the output instead\n",
      "│   caller = npyinitialize() at numpy.jl:67\n",
      "└ @ PyCall /home/runner/.julia/packages/PyCall/L0fLP/src/numpy.jl:67\n"
     ]
    }
   ],
   "cell_type": "code",
   "source": [
    "pystruct = pymatgen_structure(lattice, atoms)\n",
    "pystruct.make_supercell([2, 2, 2])\n",
    "lattice = load_lattice(pystruct)\n",
    "atoms = [Si => [s.frac_coords for s in pystruct.sites]];"
   ],
   "metadata": {},
   "execution_count": 2
  },
  {
   "cell_type": "markdown",
   "source": [
    "Setup an LDA model and discretize using\n",
    "a single k-point and a small `Ecut` of 5 Hartree."
   ],
   "metadata": {}
  },
  {
   "outputs": [
    {
     "output_type": "execute_result",
     "data": {
      "text/plain": "PlaneWaveBasis discretization:\n    Ecut                 : 5.0 Ha\n    fft_size             : (32, 32, 32)\n    kgrid type           : Monkhorst-Pack\n    kgrid                : [1, 1, 1]\n    num. irred. kpoints  : 1\n\n    Discretized Model(lda_xc_teter93, 3D):\n        lattice (in Bohr)    : [0         , 10.2631   , 10.2631   ]\n                               [10.2631   , 0         , 10.2631   ]\n                               [10.2631   , 10.2631   , 0         ]\n        unit cell volume     : 2162.1 Bohr³\n    \n        atoms                : Si₁₆\n        atom potentials      : ElementPsp(Si, psp=hgh/lda/si-q4)\n    \n        num. electrons       : 64\n        spin polarization    : none\n        temperature          : 0 Ha\n    \n        terms                : Kinetic()\n                               AtomicLocal()\n                               AtomicNonlocal()\n                               Ewald()\n                               PspCorrection()\n                               Hartree()\n                               Xc(:lda_xc_teter93)"
     },
     "metadata": {},
     "execution_count": 3
    }
   ],
   "cell_type": "code",
   "source": [
    "model = model_LDA(lattice, atoms)\n",
    "basis = PlaneWaveBasis(model; Ecut=5, kgrid=(1, 1, 1))"
   ],
   "metadata": {},
   "execution_count": 3
  },
  {
   "cell_type": "markdown",
   "source": [
    "Find the ground state using direct minimisation (always using SCF is boring ...)"
   ],
   "metadata": {}
  },
  {
   "outputs": [
    {
     "name": "stdout",
     "output_type": "stream",
     "text": [
      "Iter     Function value   Gradient norm \n",
      "     0     1.117092e+02     1.355799e+00\n",
      " * time: 0.6605770587921143\n",
      "     1     1.048722e+01     9.888376e-01\n",
      " * time: 1.7157981395721436\n",
      "     2    -1.114612e+01     9.716824e-01\n",
      " * time: 2.20776104927063\n",
      "     3    -3.357151e+01     7.160080e-01\n",
      " * time: 2.939056158065796\n",
      "     4    -4.687811e+01     5.350490e-01\n",
      " * time: 3.676406145095825\n",
      "     5    -5.665968e+01     2.341792e-01\n",
      " * time: 4.392704010009766\n",
      "     6    -5.970281e+01     1.308285e-01\n",
      " * time: 4.895066022872925\n",
      "     7    -6.083937e+01     4.762119e-02\n",
      " * time: 5.377885103225708\n",
      "     8    -6.128095e+01     6.818549e-02\n",
      " * time: 5.860935211181641\n",
      "     9    -6.155123e+01     4.776654e-02\n",
      " * time: 6.344331979751587\n",
      "    10    -6.179221e+01     3.858167e-02\n",
      " * time: 6.836021184921265\n",
      "    11    -6.196893e+01     2.062045e-02\n",
      " * time: 7.319491147994995\n",
      "    12    -6.204597e+01     1.979359e-02\n",
      " * time: 7.802845001220703\n",
      "    13    -6.212998e+01     1.660712e-02\n",
      " * time: 8.294742107391357\n",
      "    14    -6.217089e+01     1.591988e-02\n",
      " * time: 8.777928113937378\n",
      "    15    -6.220922e+01     9.277513e-03\n",
      " * time: 9.26146912574768\n",
      "    16    -6.222804e+01     6.747439e-03\n",
      " * time: 9.745223045349121\n",
      "    17    -6.224010e+01     5.007653e-03\n",
      " * time: 10.237210988998413\n",
      "    18    -6.224669e+01     5.062888e-03\n",
      " * time: 10.72015118598938\n",
      "    19    -6.225079e+01     3.898602e-03\n",
      " * time: 11.203493118286133\n",
      "    20    -6.225361e+01     3.873836e-03\n",
      " * time: 11.695657014846802\n",
      "    21    -6.225605e+01     3.645375e-03\n",
      " * time: 12.179211139678955\n",
      "    22    -6.225807e+01     3.158762e-03\n",
      " * time: 12.662604093551636\n",
      "    23    -6.225962e+01     2.226253e-03\n",
      " * time: 13.155002117156982\n",
      "    24    -6.226064e+01     1.477964e-03\n",
      " * time: 13.638591051101685\n",
      "    25    -6.226119e+01     1.008830e-03\n",
      " * time: 14.122105121612549\n",
      "    26    -6.226143e+01     7.220133e-04\n",
      " * time: 14.605539083480835\n",
      "    27    -6.226155e+01     4.953151e-04\n",
      " * time: 15.09700608253479\n",
      "    28    -6.226160e+01     4.596968e-04\n",
      " * time: 15.580280065536499\n",
      "    29    -6.226163e+01     2.884082e-04\n",
      " * time: 16.06340217590332\n",
      "    30    -6.226164e+01     2.200328e-04\n",
      " * time: 16.555426120758057\n",
      "    31    -6.226165e+01     2.035205e-04\n",
      " * time: 17.03844404220581\n",
      "    32    -6.226165e+01     1.688939e-04\n",
      " * time: 17.521690130233765\n",
      "    33    -6.226166e+01     1.387895e-04\n",
      " * time: 18.004605054855347\n",
      "    34    -6.226166e+01     1.327753e-04\n",
      " * time: 18.495326042175293\n",
      "    35    -6.226166e+01     8.465459e-05\n",
      " * time: 18.978355169296265\n",
      "    36    -6.226167e+01     9.358487e-05\n",
      " * time: 19.460154056549072\n",
      "    37    -6.226167e+01     3.966622e-05\n",
      " * time: 19.951780080795288\n",
      "    38    -6.226167e+01     2.498686e-05\n",
      " * time: 20.434391021728516\n",
      "    39    -6.226167e+01     1.632475e-05\n",
      " * time: 20.917018175125122\n",
      "    40    -6.226167e+01     1.280649e-05\n",
      " * time: 21.399469137191772\n",
      "    41    -6.226167e+01     9.752606e-06\n",
      " * time: 21.890908002853394\n",
      "    42    -6.226167e+01     8.904125e-06\n",
      " * time: 22.373533010482788\n",
      "    43    -6.226167e+01     6.224021e-06\n",
      " * time: 22.856433153152466\n",
      "    44    -6.226167e+01     4.538962e-06\n",
      " * time: 23.347491025924683\n",
      "    45    -6.226167e+01     3.847478e-06\n",
      " * time: 23.83079719543457\n",
      "    46    -6.226167e+01     3.967171e-06\n",
      " * time: 24.314129114151\n",
      "    47    -6.226167e+01     3.445756e-06\n",
      " * time: 24.804708003997803\n",
      "    48    -6.226167e+01     2.561774e-06\n",
      " * time: 25.287837982177734\n"
     ]
    }
   ],
   "cell_type": "code",
   "source": [
    "scfres = direct_minimization(basis, tol=1e-5);"
   ],
   "metadata": {},
   "execution_count": 4
  },
  {
   "outputs": [
    {
     "output_type": "execute_result",
     "data": {
      "text/plain": "Energy breakdown (in Ha):\n    Kinetic             25.7671065\n    AtomicLocal         -18.8557681\n    AtomicNonlocal      14.8522653\n    Ewald               -67.1831486\n    PspCorrection       -2.3569765\n    Hartree             4.8485369 \n    Xc                  -19.3336819\n\n    total               -62.261666461149"
     },
     "metadata": {},
     "execution_count": 5
    }
   ],
   "cell_type": "code",
   "source": [
    "scfres.energies"
   ],
   "metadata": {},
   "execution_count": 5
  }
 ],
 "nbformat_minor": 3,
 "metadata": {
  "language_info": {
   "file_extension": ".jl",
   "mimetype": "application/julia",
   "name": "julia",
   "version": "1.7.1"
  },
  "kernelspec": {
   "name": "julia-1.7",
   "display_name": "Julia 1.7.1",
   "language": "julia"
  }
 },
 "nbformat": 4
}
