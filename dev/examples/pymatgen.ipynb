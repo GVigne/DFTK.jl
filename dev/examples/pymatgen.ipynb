{
 "cells": [
  {
   "cell_type": "markdown",
   "source": [
    "# Creating supercells with pymatgen\n",
    "\n",
    "The [Pymatgen](https://pymatgen.org/) python library allows to setup\n",
    "solid-state calculations using a flexible set of classes as well as an API\n",
    "to an online data base of structures. Its `Structure` and `Lattice`\n",
    "objects are directly supported by the DFTK `load_atoms` and `load_lattice`\n",
    "functions, such that DFTK may be readily used to run calculation on systems\n",
    "defined in pymatgen. Using the `pymatgen_structure` function a conversion\n",
    "from DFTK to pymatgen structures is also possible. In the following we\n",
    "use this to create a silicon supercell and find its LDA ground state\n",
    "using direct minimisation. To run this example Julia's `PyCall` package\n",
    "needs to be able to find an installation of `pymatgen`."
   ],
   "metadata": {}
  },
  {
   "cell_type": "markdown",
   "source": [
    "First we setup the silicon lattice in DFTK."
   ],
   "metadata": {}
  },
  {
   "outputs": [],
   "cell_type": "code",
   "source": [
    "using DFTK\n",
    "\n",
    "a = 10.263141334305942  # Lattice constant in Bohr\n",
    "lattice = a / 2 .* [[0 1 1.]; [1 0 1.]; [1 1 0.]]\n",
    "Si = ElementPsp(:Si, psp=load_psp(\"hgh/lda/Si-q4\"))\n",
    "atoms = [Si => [ones(3)/8, -ones(3)/8]];"
   ],
   "metadata": {},
   "execution_count": 1
  },
  {
   "cell_type": "markdown",
   "source": [
    "Next we make a `[2, 2, 2]` supercell using pymatgen"
   ],
   "metadata": {}
  },
  {
   "outputs": [],
   "cell_type": "code",
   "source": [
    "pystruct = pymatgen_structure(lattice, atoms)\n",
    "pystruct.make_supercell([2, 2, 2])\n",
    "lattice = load_lattice(pystruct)\n",
    "atoms = [Si => [s.frac_coords for s in pystruct.sites]];"
   ],
   "metadata": {},
   "execution_count": 2
  },
  {
   "cell_type": "markdown",
   "source": [
    "Setup an LDA model and discretize using\n",
    "a single k-point and a small `Ecut` of 5 Hartree."
   ],
   "metadata": {}
  },
  {
   "outputs": [
    {
     "output_type": "execute_result",
     "data": {
      "text/plain": "PlaneWaveBasis discretization:\n    Ecut                 : 5.0 Ha\n    fft_size             : (32, 32, 32)\n    kgrid type           : Monkhorst-Pack\n    kgrid                : [1, 1, 1]\n    num. irred. kpoints  : 1\n\n    Discretized Model(lda_xc_teter93, 3D):\n        lattice (in Bohr)    : [0         , 10.2631   , 10.2631   ]\n                               [10.2631   , 0         , 10.2631   ]\n                               [10.2631   , 10.2631   , 0         ]\n        unit cell volume     : 2162.1 Bohr³\n    \n        atoms                : Si₁₆\n        atom potentials      : ElementPsp(Si, psp=hgh/lda/si-q4)\n    \n        num. electrons       : 64\n        spin polarization    : none\n        temperature          : 0 Ha\n    \n        terms                : Kinetic(1)\n                               AtomicLocal()\n                               AtomicNonlocal()\n                               Ewald()\n                               PspCorrection()\n                               Hartree(1)\n                               Xc([:lda_xc_teter93], 1, nothing)"
     },
     "metadata": {},
     "execution_count": 3
    }
   ],
   "cell_type": "code",
   "source": [
    "model = model_LDA(lattice, atoms)\n",
    "basis = PlaneWaveBasis(model; Ecut=5, kgrid=(1, 1, 1))"
   ],
   "metadata": {},
   "execution_count": 3
  },
  {
   "cell_type": "markdown",
   "source": [
    "Find the ground state using direct minimisation (always using SCF is boring ...)"
   ],
   "metadata": {}
  },
  {
   "outputs": [
    {
     "name": "stdout",
     "output_type": "stream",
     "text": [
      "Iter     Function value   Gradient norm \n",
      "     0     1.122682e+02     1.652504e+00\n",
      " * time: 0.8273241519927979\n",
      "     1     1.088194e+01     9.293316e-01\n",
      " * time: 2.25628399848938\n",
      "     2    -1.213888e+01     1.086085e+00\n",
      " * time: 2.922645092010498\n",
      "     3    -3.452989e+01     8.379984e-01\n",
      " * time: 3.8980581760406494\n",
      "     4    -4.827546e+01     5.582063e-01\n",
      " * time: 4.873944044113159\n",
      "     5    -5.710443e+01     1.874320e-01\n",
      " * time: 5.8821680545806885\n",
      "     6    -5.978810e+01     9.497801e-02\n",
      " * time: 6.527482032775879\n",
      "     7    -6.076928e+01     5.528690e-02\n",
      " * time: 7.171008110046387\n",
      "     8    -6.119773e+01     7.142007e-02\n",
      " * time: 7.842709064483643\n",
      "     9    -6.155908e+01     3.362932e-02\n",
      " * time: 8.568040132522583\n",
      "    10    -6.182108e+01     2.628880e-02\n",
      " * time: 9.212083101272583\n",
      "    11    -6.199024e+01     2.145215e-02\n",
      " * time: 9.874828100204468\n",
      "    12    -6.206437e+01     1.990505e-02\n",
      " * time: 10.520344972610474\n",
      "    13    -6.212278e+01     1.457103e-02\n",
      " * time: 11.18025517463684\n",
      "    14    -6.215243e+01     1.200277e-02\n",
      " * time: 11.826421022415161\n",
      "    15    -6.217476e+01     1.120759e-02\n",
      " * time: 12.472671031951904\n",
      "    16    -6.218772e+01     7.255895e-03\n",
      " * time: 13.114786148071289\n",
      "    17    -6.219804e+01     5.810413e-03\n",
      " * time: 13.772692203521729\n",
      "    18    -6.220644e+01     5.438412e-03\n",
      " * time: 14.408583164215088\n",
      "    19    -6.221328e+01     5.620701e-03\n",
      " * time: 15.05168604850769\n",
      "    20    -6.221963e+01     5.515842e-03\n",
      " * time: 15.692876100540161\n",
      "    21    -6.222579e+01     6.727345e-03\n",
      " * time: 16.37067699432373\n",
      "    22    -6.223225e+01     6.096020e-03\n",
      " * time: 17.03572106361389\n",
      "    23    -6.223868e+01     5.516435e-03\n",
      " * time: 17.69958519935608\n",
      "    24    -6.224461e+01     5.524146e-03\n",
      " * time: 18.3384530544281\n",
      "    25    -6.224931e+01     5.096760e-03\n",
      " * time: 18.995537996292114\n",
      "    26    -6.225299e+01     4.593077e-03\n",
      " * time: 19.63314199447632\n",
      "    27    -6.225584e+01     3.439229e-03\n",
      " * time: 20.27298903465271\n",
      "    28    -6.225794e+01     2.530408e-03\n",
      " * time: 20.9131760597229\n",
      "    29    -6.225943e+01     2.373162e-03\n",
      " * time: 21.61138606071472\n",
      "    30    -6.226035e+01     1.720340e-03\n",
      " * time: 22.276127099990845\n",
      "    31    -6.226090e+01     1.395993e-03\n",
      " * time: 22.949719190597534\n",
      "    32    -6.226123e+01     9.968856e-04\n",
      " * time: 23.59688115119934\n",
      "    33    -6.226142e+01     6.194965e-04\n",
      " * time: 24.243467092514038\n",
      "    34    -6.226154e+01     4.598339e-04\n",
      " * time: 24.911198139190674\n",
      "    35    -6.226160e+01     3.351211e-04\n",
      " * time: 25.564218997955322\n",
      "    36    -6.226162e+01     2.849999e-04\n",
      " * time: 26.215703010559082\n",
      "    37    -6.226164e+01     2.992348e-04\n",
      " * time: 26.869449138641357\n",
      "    38    -6.226165e+01     2.251016e-04\n",
      " * time: 27.52670407295227\n",
      "    39    -6.226165e+01     1.528236e-04\n",
      " * time: 28.2020480632782\n",
      "    40    -6.226166e+01     1.158101e-04\n",
      " * time: 28.844495058059692\n",
      "    41    -6.226166e+01     9.916126e-05\n",
      " * time: 29.518038034439087\n",
      "    42    -6.226166e+01     7.107572e-05\n",
      " * time: 30.16487216949463\n",
      "    43    -6.226167e+01     5.729445e-05\n",
      " * time: 30.822105169296265\n",
      "    44    -6.226167e+01     4.903969e-05\n",
      " * time: 31.472043991088867\n",
      "    45    -6.226167e+01     2.595196e-05\n",
      " * time: 32.11947798728943\n",
      "    46    -6.226167e+01     2.161470e-05\n",
      " * time: 32.79157114028931\n",
      "    47    -6.226167e+01     1.235550e-05\n",
      " * time: 33.46306300163269\n",
      "    48    -6.226167e+01     9.600490e-06\n",
      " * time: 34.11580419540405\n",
      "    49    -6.226167e+01     8.045077e-06\n",
      " * time: 34.76674818992615\n",
      "    50    -6.226167e+01     5.939928e-06\n",
      " * time: 35.42107820510864\n",
      "    51    -6.226167e+01     5.400263e-06\n",
      " * time: 36.10435700416565\n",
      "    52    -6.226167e+01     3.999933e-06\n",
      " * time: 36.798147201538086\n",
      "    53    -6.226167e+01     3.218409e-06\n",
      " * time: 37.50079011917114\n"
     ]
    }
   ],
   "cell_type": "code",
   "source": [
    "scfres = direct_minimization(basis, tol=1e-5);"
   ],
   "metadata": {},
   "execution_count": 4
  },
  {
   "outputs": [
    {
     "output_type": "execute_result",
     "data": {
      "text/plain": "Energy breakdown (in Ha):\n    Kinetic             25.7671078\n    AtomicLocal         -18.8557717\n    AtomicNonlocal      14.8522666\n    Ewald               -67.1831486\n    PspCorrection       -2.3569765\n    Hartree             4.8485386 \n    Xc                  -19.3336826\n\n    total               -62.261666456197"
     },
     "metadata": {},
     "execution_count": 5
    }
   ],
   "cell_type": "code",
   "source": [
    "scfres.energies"
   ],
   "metadata": {},
   "execution_count": 5
  }
 ],
 "nbformat_minor": 3,
 "metadata": {
  "language_info": {
   "file_extension": ".jl",
   "mimetype": "application/julia",
   "name": "julia",
   "version": "1.6.3"
  },
  "kernelspec": {
   "name": "julia-1.6",
   "display_name": "Julia 1.6.3",
   "language": "julia"
  }
 },
 "nbformat": 4
}
