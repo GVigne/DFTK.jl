{
 "cells": [
  {
   "cell_type": "markdown",
   "source": [
    "# Creating supercells with pymatgen\n",
    "\n",
    "The [Pymatgen](https://pymatgen.org/) python library allows to setup\n",
    "solid-state calculations using a flexible set of classes as well as an API\n",
    "to an online data base of structures. Its `Structure` and `Lattice`\n",
    "objects are directly supported by the DFTK `load_atoms` and `load_lattice`\n",
    "functions, such that DFTK may be readily used to run calculation on systems\n",
    "defined in pymatgen. Using the `pymatgen_structure` function a conversion\n",
    "from DFTK to pymatgen structures is also possible. In the following we\n",
    "use this to create a silicon supercell and find its LDA ground state\n",
    "using direct minimisation. To run this example Julia's `PyCall` package\n",
    "needs to be able to find an installation of `pymatgen`."
   ],
   "metadata": {}
  },
  {
   "cell_type": "markdown",
   "source": [
    "First we setup the silicon lattice in DFTK."
   ],
   "metadata": {}
  },
  {
   "outputs": [],
   "cell_type": "code",
   "source": [
    "using DFTK\n",
    "\n",
    "a = 10.263141334305942  # Lattice constant in Bohr\n",
    "lattice = a / 2 .* [[0 1 1.]; [1 0 1.]; [1 1 0.]]\n",
    "Si = ElementPsp(:Si, psp=load_psp(\"hgh/lda/Si-q4\"))\n",
    "atoms = [Si => [ones(3)/8, -ones(3)/8]];"
   ],
   "metadata": {},
   "execution_count": 1
  },
  {
   "cell_type": "markdown",
   "source": [
    "Next we make a `[2, 2, 2]` supercell using pymatgen"
   ],
   "metadata": {}
  },
  {
   "outputs": [
    {
     "name": "stdout",
     "output_type": "stream",
     "text": [
      "┌ Warning: `vendor()` is deprecated, use `BLAS.get_config()` and inspect the output instead\n",
      "│   caller = npyinitialize() at numpy.jl:67\n",
      "└ @ PyCall /home/runner/.julia/packages/PyCall/L0fLP/src/numpy.jl:67\n"
     ]
    }
   ],
   "cell_type": "code",
   "source": [
    "pystruct = pymatgen_structure(lattice, atoms)\n",
    "pystruct.make_supercell([2, 2, 2])\n",
    "lattice = load_lattice(pystruct)\n",
    "atoms = [Si => [s.frac_coords for s in pystruct.sites]];"
   ],
   "metadata": {},
   "execution_count": 2
  },
  {
   "cell_type": "markdown",
   "source": [
    "Setup an LDA model and discretize using\n",
    "a single k-point and a small `Ecut` of 5 Hartree."
   ],
   "metadata": {}
  },
  {
   "outputs": [
    {
     "output_type": "execute_result",
     "data": {
      "text/plain": "PlaneWaveBasis discretization:\n    Ecut                 : 5.0 Ha\n    fft_size             : (32, 32, 32), 32768 total points\n    kgrid type           : Monkhorst-Pack\n    kgrid                : [1, 1, 1]\n    num. irred. kpoints  : 1\n\n    Discretized Model(lda_xc_teter93, 3D):\n        lattice (in Bohr)    : [0         , 10.2631   , 10.2631   ]\n                               [10.2631   , 0         , 10.2631   ]\n                               [10.2631   , 10.2631   , 0         ]\n        unit cell volume     : 2162.1 Bohr³\n    \n        atoms                : Si₁₆\n        atom potentials      : ElementPsp(Si, psp=\"hgh/lda/si-q4\")\n    \n        num. electrons       : 64\n        spin polarization    : none\n        temperature          : 0 Ha\n    \n        terms                : Kinetic()\n                               AtomicLocal()\n                               AtomicNonlocal()\n                               Ewald()\n                               PspCorrection()\n                               Hartree()\n                               Xc(:lda_xc_teter93)"
     },
     "metadata": {},
     "execution_count": 3
    }
   ],
   "cell_type": "code",
   "source": [
    "model = model_LDA(lattice, atoms)\n",
    "basis = PlaneWaveBasis(model; Ecut=5, kgrid=(1, 1, 1))"
   ],
   "metadata": {},
   "execution_count": 3
  },
  {
   "cell_type": "markdown",
   "source": [
    "Find the ground state using direct minimisation (always using SCF is boring ...)"
   ],
   "metadata": {}
  },
  {
   "outputs": [
    {
     "name": "stdout",
     "output_type": "stream",
     "text": [
      "Iter     Function value   Gradient norm \n",
      "     0     1.118004e+02     1.751060e+00\n",
      " * time: 0.4772989749908447\n",
      "     1     1.057568e+01     8.923173e-01\n",
      " * time: 1.297929048538208\n",
      "     2    -1.155901e+01     1.071310e+00\n",
      " * time: 1.3908109664916992\n",
      "     3    -3.389846e+01     8.223062e-01\n",
      " * time: 1.5510990619659424\n",
      "     4    -4.725541e+01     5.865324e-01\n",
      " * time: 1.656383991241455\n",
      "     5    -5.663616e+01     2.140275e-01\n",
      " * time: 1.7636258602142334\n",
      "     6    -5.959785e+01     1.648513e-01\n",
      " * time: 1.8566110134124756\n",
      "     7    -6.080999e+01     5.535659e-02\n",
      " * time: 1.969588041305542\n",
      "     8    -6.132293e+01     4.990539e-02\n",
      " * time: 2.048318862915039\n",
      "     9    -6.160761e+01     3.019375e-02\n",
      " * time: 2.1292409896850586\n",
      "    10    -6.179415e+01     3.046985e-02\n",
      " * time: 2.2091128826141357\n",
      "    11    -6.195440e+01     2.152971e-02\n",
      " * time: 2.2874138355255127\n",
      "    12    -6.205308e+01     1.773558e-02\n",
      " * time: 2.367421865463257\n",
      "    13    -6.209686e+01     1.591552e-02\n",
      " * time: 2.4637649059295654\n",
      "    14    -6.214386e+01     1.291248e-02\n",
      " * time: 2.5435750484466553\n",
      "    15    -6.216517e+01     1.100874e-02\n",
      " * time: 2.623487949371338\n",
      "    16    -6.218335e+01     7.768346e-03\n",
      " * time: 2.7029268741607666\n",
      "    17    -6.219647e+01     7.183266e-03\n",
      " * time: 2.782824993133545\n",
      "    18    -6.220708e+01     8.906215e-03\n",
      " * time: 2.8705430030822754\n",
      "    19    -6.221600e+01     7.528491e-03\n",
      " * time: 2.947464942932129\n",
      "    20    -6.222409e+01     6.725395e-03\n",
      " * time: 3.026113986968994\n",
      "    21    -6.223220e+01     5.901080e-03\n",
      " * time: 3.1095759868621826\n",
      "    22    -6.224047e+01     5.304877e-03\n",
      " * time: 3.1922478675842285\n",
      "    23    -6.224823e+01     4.947473e-03\n",
      " * time: 3.2791450023651123\n",
      "    24    -6.225373e+01     3.480584e-03\n",
      " * time: 3.3559699058532715\n",
      "    25    -6.225686e+01     2.544050e-03\n",
      " * time: 3.4341659545898438\n",
      "    26    -6.225859e+01     2.224025e-03\n",
      " * time: 3.5129928588867188\n",
      "    27    -6.225958e+01     1.842895e-03\n",
      " * time: 3.593961000442505\n",
      "    28    -6.226021e+01     1.544389e-03\n",
      " * time: 3.6813809871673584\n",
      "    29    -6.226067e+01     1.224230e-03\n",
      " * time: 3.7582240104675293\n",
      "    30    -6.226101e+01     1.011349e-03\n",
      " * time: 3.8384909629821777\n",
      "    31    -6.226125e+01     7.326397e-04\n",
      " * time: 3.9160139560699463\n",
      "    32    -6.226143e+01     6.207784e-04\n",
      " * time: 3.9995808601379395\n",
      "    33    -6.226154e+01     4.805790e-04\n",
      " * time: 4.08434796333313\n",
      "    34    -6.226160e+01     4.680410e-04\n",
      " * time: 4.160636901855469\n",
      "    35    -6.226163e+01     2.941494e-04\n",
      " * time: 4.239693880081177\n",
      "    36    -6.226165e+01     1.668482e-04\n",
      " * time: 4.3177878856658936\n",
      "    37    -6.226166e+01     1.122023e-04\n",
      " * time: 4.397049903869629\n",
      "    38    -6.226166e+01     1.007517e-04\n",
      " * time: 4.486894845962524\n",
      "    39    -6.226166e+01     8.558747e-05\n",
      " * time: 4.57209587097168\n",
      "    40    -6.226166e+01     6.795621e-05\n",
      " * time: 4.654480934143066\n",
      "    41    -6.226167e+01     5.784785e-05\n",
      " * time: 4.73570704460144\n",
      "    42    -6.226167e+01     4.875553e-05\n",
      " * time: 4.81569504737854\n",
      "    43    -6.226167e+01     3.308434e-05\n",
      " * time: 4.90273904800415\n",
      "    44    -6.226167e+01     2.961221e-05\n",
      " * time: 4.98429799079895\n",
      "    45    -6.226167e+01     2.243470e-05\n",
      " * time: 5.067481994628906\n",
      "    46    -6.226167e+01     1.600833e-05\n",
      " * time: 5.147912979125977\n",
      "    47    -6.226167e+01     1.106593e-05\n",
      " * time: 5.226284027099609\n",
      "    48    -6.226167e+01     7.055159e-06\n",
      " * time: 5.3077919483184814\n",
      "    49    -6.226167e+01     4.586379e-06\n",
      " * time: 5.395021915435791\n",
      "    50    -6.226167e+01     3.043302e-06\n",
      " * time: 5.473606824874878\n",
      "    51    -6.226167e+01     2.862742e-06\n",
      " * time: 5.5535478591918945\n",
      "    52    -6.226167e+01     2.573550e-06\n",
      " * time: 5.635087013244629\n"
     ]
    }
   ],
   "cell_type": "code",
   "source": [
    "scfres = direct_minimization(basis, tol=1e-5);"
   ],
   "metadata": {},
   "execution_count": 4
  },
  {
   "outputs": [
    {
     "output_type": "execute_result",
     "data": {
      "text/plain": "Energy breakdown (in Ha):\n    Kinetic             25.7671073\n    AtomicLocal         -18.8557695\n    AtomicNonlocal      14.8522654\n    Ewald               -67.1831486\n    PspCorrection       -2.3569765\n    Hartree             4.8485378 \n    Xc                  -19.3336823\n\n    total               -62.261666460449"
     },
     "metadata": {},
     "execution_count": 5
    }
   ],
   "cell_type": "code",
   "source": [
    "scfres.energies"
   ],
   "metadata": {},
   "execution_count": 5
  }
 ],
 "nbformat_minor": 3,
 "metadata": {
  "language_info": {
   "file_extension": ".jl",
   "mimetype": "application/julia",
   "name": "julia",
   "version": "1.7.2"
  },
  "kernelspec": {
   "name": "julia-1.7",
   "display_name": "Julia 1.7.2",
   "language": "julia"
  }
 },
 "nbformat": 4
}
