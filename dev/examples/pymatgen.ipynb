{
 "cells": [
  {
   "cell_type": "markdown",
   "source": [
    "# Creating supercells with pymatgen\n",
    "\n",
    "The [Pymatgen](https://pymatgen.org/) python library allows to setup\n",
    "solid-state calculations using a flexible set of classes as well as an API\n",
    "to an online data base of structures. Its `Structure` and `Lattice`\n",
    "objects are directly supported by the DFTK `load_atoms` and `load_lattice`\n",
    "functions, such that DFTK may be readily used to run calculation on systems\n",
    "defined in pymatgen. Using the `pymatgen_structure` function a conversion\n",
    "from DFTK to pymatgen structures is also possible. In the following we\n",
    "use this to create a silicon supercell and find its LDA ground state\n",
    "using direct minimisation. To run this example Julia's `PyCall` package\n",
    "needs to be able to find an installation of `pymatgen`."
   ],
   "metadata": {}
  },
  {
   "cell_type": "markdown",
   "source": [
    "First we setup the silicon lattice in DFTK."
   ],
   "metadata": {}
  },
  {
   "outputs": [],
   "cell_type": "code",
   "source": [
    "using DFTK\n",
    "\n",
    "a = 10.263141334305942  # Lattice constant in Bohr\n",
    "lattice = a / 2 .* [[0 1 1.]; [1 0 1.]; [1 1 0.]]\n",
    "Si = ElementPsp(:Si, psp=load_psp(\"hgh/lda/Si-q4\"))\n",
    "atoms = [Si => [ones(3)/8, -ones(3)/8]];"
   ],
   "metadata": {},
   "execution_count": 1
  },
  {
   "cell_type": "markdown",
   "source": [
    "Next we make a `[2, 2, 2]` supercell using pymatgen"
   ],
   "metadata": {}
  },
  {
   "outputs": [
    {
     "name": "stdout",
     "output_type": "stream",
     "text": [
      "┌ Warning: `vendor()` is deprecated, use `BLAS.get_config()` and inspect the output instead\n",
      "│   caller = npyinitialize() at numpy.jl:67\n",
      "└ @ PyCall /home/runner/.julia/packages/PyCall/3fwVL/src/numpy.jl:67\n"
     ]
    }
   ],
   "cell_type": "code",
   "source": [
    "pystruct = pymatgen_structure(lattice, atoms)\n",
    "pystruct.make_supercell([2, 2, 2])\n",
    "lattice = load_lattice(pystruct)\n",
    "atoms = [Si => [s.frac_coords for s in pystruct.sites]];"
   ],
   "metadata": {},
   "execution_count": 2
  },
  {
   "cell_type": "markdown",
   "source": [
    "Setup an LDA model and discretize using\n",
    "a single k-point and a small `Ecut` of 5 Hartree."
   ],
   "metadata": {}
  },
  {
   "outputs": [
    {
     "output_type": "execute_result",
     "data": {
      "text/plain": "PlaneWaveBasis discretization:\n    Ecut                 : 5.0 Ha\n    fft_size             : (32, 32, 32)\n    kgrid type           : Monkhorst-Pack\n    kgrid                : [1, 1, 1]\n    num. irred. kpoints  : 1\n\n    Discretized Model(lda_xc_teter93, 3D):\n        lattice (in Bohr)    : [0         , 10.2631   , 10.2631   ]\n                               [10.2631   , 0         , 10.2631   ]\n                               [10.2631   , 10.2631   , 0         ]\n        unit cell volume     : 2162.1 Bohr³\n    \n        atoms                : Si₁₆\n        atom potentials      : ElementPsp(Si, psp=hgh/lda/si-q4)\n    \n        num. electrons       : 64\n        spin polarization    : none\n        temperature          : 0 Ha\n    \n        terms                : Kinetic(1)\n                               AtomicLocal()\n                               AtomicNonlocal()\n                               Ewald()\n                               PspCorrection()\n                               Hartree(1)\n                               Xc([:lda_xc_teter93], 1, nothing)"
     },
     "metadata": {},
     "execution_count": 3
    }
   ],
   "cell_type": "code",
   "source": [
    "model = model_LDA(lattice, atoms)\n",
    "basis = PlaneWaveBasis(model; Ecut=5, kgrid=(1, 1, 1))"
   ],
   "metadata": {},
   "execution_count": 3
  },
  {
   "cell_type": "markdown",
   "source": [
    "Find the ground state using direct minimisation (always using SCF is boring ...)"
   ],
   "metadata": {}
  },
  {
   "outputs": [
    {
     "name": "stdout",
     "output_type": "stream",
     "text": [
      "Iter     Function value   Gradient norm \n",
      "     0     1.129451e+02     1.581398e+00\n",
      " * time: 0.7261879444122314\n",
      "     1     1.091651e+01     8.547808e-01\n",
      " * time: 1.9987280368804932\n",
      "     2    -1.176096e+01     9.355712e-01\n",
      " * time: 2.616676092147827\n",
      "     3    -3.393286e+01     6.864485e-01\n",
      " * time: 3.482422113418579\n",
      "     4    -4.762610e+01     5.204062e-01\n",
      " * time: 4.361424922943115\n",
      "     5    -5.699029e+01     1.825766e-01\n",
      " * time: 5.241307020187378\n",
      "     6    -5.990645e+01     1.127285e-01\n",
      " * time: 5.822336912155151\n",
      "     7    -6.094197e+01     4.596010e-02\n",
      " * time: 6.402735948562622\n",
      "     8    -6.130848e+01     7.805175e-02\n",
      " * time: 6.998521089553833\n",
      "     9    -6.161226e+01     2.898982e-02\n",
      " * time: 7.5784900188446045\n",
      "    10    -6.178957e+01     2.524730e-02\n",
      " * time: 8.160737037658691\n",
      "    11    -6.194642e+01     2.172310e-02\n",
      " * time: 8.742638111114502\n",
      "    12    -6.201811e+01     2.000961e-02\n",
      " * time: 9.332704067230225\n",
      "    13    -6.209834e+01     1.769683e-02\n",
      " * time: 9.913828134536743\n",
      "    14    -6.214126e+01     1.421054e-02\n",
      " * time: 10.496752977371216\n",
      "    15    -6.218003e+01     9.558973e-03\n",
      " * time: 11.086036920547485\n",
      "    16    -6.219894e+01     8.049827e-03\n",
      " * time: 11.671488046646118\n",
      "    17    -6.221156e+01     6.562774e-03\n",
      " * time: 12.255500078201294\n",
      "    18    -6.222009e+01     5.221189e-03\n",
      " * time: 12.838365077972412\n",
      "    19    -6.222656e+01     5.118526e-03\n",
      " * time: 13.429723978042603\n",
      "    20    -6.223256e+01     4.284337e-03\n",
      " * time: 14.01167607307434\n",
      "    21    -6.223858e+01     4.403387e-03\n",
      " * time: 14.591331005096436\n",
      "    22    -6.224481e+01     5.339433e-03\n",
      " * time: 15.180057048797607\n",
      "    23    -6.225046e+01     4.598006e-03\n",
      " * time: 15.75926399230957\n",
      "    24    -6.225479e+01     4.304195e-03\n",
      " * time: 16.340630054473877\n",
      "    25    -6.225759e+01     3.066339e-03\n",
      " * time: 16.93297505378723\n",
      "    26    -6.225924e+01     2.152956e-03\n",
      " * time: 17.526684999465942\n",
      "    27    -6.226020e+01     1.550744e-03\n",
      " * time: 18.108919143676758\n",
      "    28    -6.226071e+01     1.073967e-03\n",
      " * time: 18.690662145614624\n",
      "    29    -6.226104e+01     8.507537e-04\n",
      " * time: 19.29453992843628\n",
      "    30    -6.226124e+01     8.948979e-04\n",
      " * time: 19.91234803199768\n",
      "    31    -6.226138e+01     8.036097e-04\n",
      " * time: 20.493930101394653\n",
      "    32    -6.226148e+01     6.586042e-04\n",
      " * time: 21.076821088790894\n",
      "    33    -6.226156e+01     4.862901e-04\n",
      " * time: 21.6681170463562\n",
      "    34    -6.226161e+01     3.022420e-04\n",
      " * time: 22.24892497062683\n",
      "    35    -6.226164e+01     2.542211e-04\n",
      " * time: 22.83148694038391\n",
      "    36    -6.226165e+01     1.535645e-04\n",
      " * time: 23.41439414024353\n",
      "    37    -6.226166e+01     1.197766e-04\n",
      " * time: 24.010338068008423\n",
      "    38    -6.226166e+01     1.010385e-04\n",
      " * time: 24.59210205078125\n",
      "    39    -6.226166e+01     7.700927e-05\n",
      " * time: 25.17470693588257\n",
      "    40    -6.226166e+01     6.294711e-05\n",
      " * time: 25.75424814224243\n",
      "    41    -6.226167e+01     4.386223e-05\n",
      " * time: 26.344515085220337\n",
      "    42    -6.226167e+01     3.676694e-05\n",
      " * time: 26.925473928451538\n",
      "    43    -6.226167e+01     3.272359e-05\n",
      " * time: 27.50583791732788\n",
      "    44    -6.226167e+01     2.674597e-05\n",
      " * time: 28.095778942108154\n",
      "    45    -6.226167e+01     2.199016e-05\n",
      " * time: 28.677027940750122\n",
      "    46    -6.226167e+01     1.522363e-05\n",
      " * time: 29.25745391845703\n",
      "    47    -6.226167e+01     9.033726e-06\n",
      " * time: 29.83876609802246\n",
      "    48    -6.226167e+01     5.725472e-06\n",
      " * time: 30.427739143371582\n",
      "    49    -6.226167e+01     4.511424e-06\n",
      " * time: 31.00921106338501\n",
      "    50    -6.226167e+01     3.165993e-06\n",
      " * time: 31.58894991874695\n",
      "    51    -6.226167e+01     2.476686e-06\n",
      " * time: 32.18065094947815\n"
     ]
    }
   ],
   "cell_type": "code",
   "source": [
    "scfres = direct_minimization(basis, tol=1e-5);"
   ],
   "metadata": {},
   "execution_count": 4
  },
  {
   "outputs": [
    {
     "output_type": "execute_result",
     "data": {
      "text/plain": "Energy breakdown (in Ha):\n    Kinetic             25.7671068\n    AtomicLocal         -18.8557684\n    AtomicNonlocal      14.8522651\n    Ewald               -67.1831486\n    PspCorrection       -2.3569765\n    Hartree             4.8485372 \n    Xc                  -19.3336820\n\n    total               -62.261666460466"
     },
     "metadata": {},
     "execution_count": 5
    }
   ],
   "cell_type": "code",
   "source": [
    "scfres.energies"
   ],
   "metadata": {},
   "execution_count": 5
  }
 ],
 "nbformat_minor": 3,
 "metadata": {
  "language_info": {
   "file_extension": ".jl",
   "mimetype": "application/julia",
   "name": "julia",
   "version": "1.7.0"
  },
  "kernelspec": {
   "name": "julia-1.7",
   "display_name": "Julia 1.7.0",
   "language": "julia"
  }
 },
 "nbformat": 4
}
