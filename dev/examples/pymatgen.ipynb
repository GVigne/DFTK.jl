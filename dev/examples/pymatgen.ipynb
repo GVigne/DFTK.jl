{
 "cells": [
  {
   "cell_type": "markdown",
   "source": [
    "# Creating supercells with pymatgen\n",
    "\n",
    "The [Pymatgen](https://pymatgen.org/) python library allows to setup\n",
    "solid-state calculations using a flexible set of classes as well as an API\n",
    "to an online data base of structures. Its `Structure` and `Lattice`\n",
    "objects are directly supported by the DFTK `load_atoms` and `load_lattice`\n",
    "functions, such that DFTK may be readily used to run calculation on systems\n",
    "defined in pymatgen. Using the `pymatgen_structure` function a conversion\n",
    "from DFTK to pymatgen structures is also possible. In the following we\n",
    "use this to create a silicon supercell and find its LDA ground state\n",
    "using direct minimisation. To run this example Julia's `PyCall` package\n",
    "needs to be able to find an installation of `pymatgen`."
   ],
   "metadata": {}
  },
  {
   "cell_type": "markdown",
   "source": [
    "First we setup the silicon lattice in DFTK."
   ],
   "metadata": {}
  },
  {
   "outputs": [],
   "cell_type": "code",
   "source": [
    "using DFTK\n",
    "\n",
    "a = 10.263141334305942  # Lattice constant in Bohr\n",
    "lattice = a / 2 .* [[0 1 1.]; [1 0 1.]; [1 1 0.]]\n",
    "Si = ElementPsp(:Si, psp=load_psp(\"hgh/lda/Si-q4\"))\n",
    "atoms = [Si => [ones(3)/8, -ones(3)/8]];"
   ],
   "metadata": {},
   "execution_count": 1
  },
  {
   "cell_type": "markdown",
   "source": [
    "Next we make a `[2, 2, 2]` supercell using pymatgen"
   ],
   "metadata": {}
  },
  {
   "outputs": [
    {
     "name": "stdout",
     "output_type": "stream",
     "text": [
      "┌ Warning: `vendor()` is deprecated, use `BLAS.get_config()` and inspect the output instead\n",
      "│   caller = npyinitialize() at numpy.jl:67\n",
      "└ @ PyCall /home/runner/.julia/packages/PyCall/L0fLP/src/numpy.jl:67\n"
     ]
    }
   ],
   "cell_type": "code",
   "source": [
    "pystruct = pymatgen_structure(lattice, atoms)\n",
    "pystruct.make_supercell([2, 2, 2])\n",
    "lattice = load_lattice(pystruct)\n",
    "atoms = [Si => [s.frac_coords for s in pystruct.sites]];"
   ],
   "metadata": {},
   "execution_count": 2
  },
  {
   "cell_type": "markdown",
   "source": [
    "Setup an LDA model and discretize using\n",
    "a single k-point and a small `Ecut` of 5 Hartree."
   ],
   "metadata": {}
  },
  {
   "outputs": [
    {
     "output_type": "execute_result",
     "data": {
      "text/plain": "PlaneWaveBasis discretization:\n    Ecut                 : 5.0 Ha\n    fft_size             : (32, 32, 32), 32768 total points\n    kgrid type           : Monkhorst-Pack\n    kgrid                : [1, 1, 1]\n    num. irred. kpoints  : 1\n\n    Discretized Model(lda_xc_teter93, 3D):\n        lattice (in Bohr)    : [0         , 10.2631   , 10.2631   ]\n                               [10.2631   , 0         , 10.2631   ]\n                               [10.2631   , 10.2631   , 0         ]\n        unit cell volume     : 2162.1 Bohr³\n    \n        atoms                : Si₁₆\n        atom potentials      : ElementPsp(Si, psp=\"hgh/lda/si-q4\")\n    \n        num. electrons       : 64\n        spin polarization    : none\n        temperature          : 0 Ha\n    \n        terms                : Kinetic()\n                               AtomicLocal()\n                               AtomicNonlocal()\n                               Ewald()\n                               PspCorrection()\n                               Hartree()\n                               Xc(:lda_xc_teter93)"
     },
     "metadata": {},
     "execution_count": 3
    }
   ],
   "cell_type": "code",
   "source": [
    "model = model_LDA(lattice, atoms)\n",
    "basis = PlaneWaveBasis(model; Ecut=5, kgrid=(1, 1, 1))"
   ],
   "metadata": {},
   "execution_count": 3
  },
  {
   "cell_type": "markdown",
   "source": [
    "Find the ground state using direct minimisation (always using SCF is boring ...)"
   ],
   "metadata": {}
  },
  {
   "outputs": [
    {
     "name": "stdout",
     "output_type": "stream",
     "text": [
      "Iter     Function value   Gradient norm \n",
      "     0     1.123828e+02     1.515170e+00\n",
      " * time: 0.43060803413391113\n",
      "     1     1.096319e+01     9.424041e-01\n",
      " * time: 1.0360639095306396\n",
      "     2    -1.212317e+01     9.387949e-01\n",
      " * time: 1.106600046157837\n",
      "     3    -3.424970e+01     7.644800e-01\n",
      " * time: 1.2273139953613281\n",
      "     4    -4.788737e+01     5.520322e-01\n",
      " * time: 1.311527967453003\n",
      "     5    -5.703239e+01     2.188563e-01\n",
      " * time: 1.3976070880889893\n",
      "     6    -5.988656e+01     1.204298e-01\n",
      " * time: 1.4689109325408936\n",
      "     7    -6.087511e+01     5.685124e-02\n",
      " * time: 1.5521430969238281\n",
      "     8    -6.125037e+01     9.120279e-02\n",
      " * time: 1.6146910190582275\n",
      "     9    -6.159172e+01     3.396612e-02\n",
      " * time: 1.6777489185333252\n",
      "    10    -6.182435e+01     2.702401e-02\n",
      " * time: 1.7410149574279785\n",
      "    11    -6.199526e+01     2.161100e-02\n",
      " * time: 1.8048570156097412\n",
      "    12    -6.206808e+01     1.758027e-02\n",
      " * time: 1.8682420253753662\n",
      "    13    -6.213269e+01     1.335476e-02\n",
      " * time: 1.9423329830169678\n",
      "    14    -6.216024e+01     1.072576e-02\n",
      " * time: 2.0048720836639404\n",
      "    15    -6.218433e+01     1.055614e-02\n",
      " * time: 2.067362070083618\n",
      "    16    -6.219743e+01     7.179028e-03\n",
      " * time: 2.1305811405181885\n",
      "    17    -6.220890e+01     5.461838e-03\n",
      " * time: 2.1935629844665527\n",
      "    18    -6.221907e+01     7.404461e-03\n",
      " * time: 2.262284994125366\n",
      "    19    -6.222841e+01     6.385862e-03\n",
      " * time: 2.3249330520629883\n",
      "    20    -6.223623e+01     6.284389e-03\n",
      " * time: 2.387397050857544\n",
      "    21    -6.224346e+01     4.792609e-03\n",
      " * time: 2.4500510692596436\n",
      "    22    -6.224956e+01     6.245591e-03\n",
      " * time: 2.513045072555542\n",
      "    23    -6.225425e+01     3.605386e-03\n",
      " * time: 2.5812571048736572\n",
      "    24    -6.225736e+01     3.358321e-03\n",
      " * time: 2.6438140869140625\n",
      "    25    -6.225910e+01     2.237821e-03\n",
      " * time: 2.706305980682373\n",
      "    26    -6.225998e+01     1.599006e-03\n",
      " * time: 2.769247055053711\n",
      "    27    -6.226051e+01     1.300798e-03\n",
      " * time: 2.8318769931793213\n",
      "    28    -6.226085e+01     1.135478e-03\n",
      " * time: 2.8998501300811768\n",
      "    29    -6.226111e+01     8.861746e-04\n",
      " * time: 2.9624979496002197\n",
      "    30    -6.226131e+01     7.979750e-04\n",
      " * time: 3.0276970863342285\n",
      "    31    -6.226146e+01     6.271462e-04\n",
      " * time: 3.090865135192871\n",
      "    32    -6.226155e+01     5.056369e-04\n",
      " * time: 3.154137134552002\n",
      "    33    -6.226161e+01     3.627102e-04\n",
      " * time: 3.222414016723633\n",
      "    34    -6.226164e+01     3.098842e-04\n",
      " * time: 3.2852540016174316\n",
      "    35    -6.226165e+01     1.608324e-04\n",
      " * time: 3.3483150005340576\n",
      "    36    -6.226166e+01     1.299681e-04\n",
      " * time: 3.411452054977417\n",
      "    37    -6.226166e+01     1.152444e-04\n",
      " * time: 3.474832057952881\n",
      "    38    -6.226166e+01     6.395092e-05\n",
      " * time: 3.5377371311187744\n",
      "    39    -6.226167e+01     5.833692e-05\n",
      " * time: 3.605515956878662\n",
      "    40    -6.226167e+01     4.910650e-05\n",
      " * time: 3.6680150032043457\n",
      "    41    -6.226167e+01     3.483131e-05\n",
      " * time: 3.7304370403289795\n",
      "    42    -6.226167e+01     3.048589e-05\n",
      " * time: 3.7929389476776123\n",
      "    43    -6.226167e+01     2.311800e-05\n",
      " * time: 3.8558881282806396\n",
      "    44    -6.226167e+01     2.447952e-05\n",
      " * time: 3.9238250255584717\n",
      "    45    -6.226167e+01     1.480907e-05\n",
      " * time: 3.986297130584717\n",
      "    46    -6.226167e+01     1.128604e-05\n",
      " * time: 4.048654079437256\n",
      "    47    -6.226167e+01     7.314320e-06\n",
      " * time: 4.1110169887542725\n",
      "    48    -6.226167e+01     4.905710e-06\n",
      " * time: 4.17411208152771\n",
      "    49    -6.226167e+01     3.656889e-06\n",
      " * time: 4.2427051067352295\n",
      "    50    -6.226167e+01     2.382952e-06\n",
      " * time: 4.3059539794921875\n"
     ]
    }
   ],
   "cell_type": "code",
   "source": [
    "scfres = direct_minimization(basis, tol=1e-5);"
   ],
   "metadata": {},
   "execution_count": 4
  },
  {
   "outputs": [
    {
     "output_type": "execute_result",
     "data": {
      "text/plain": "Energy breakdown (in Ha):\n    Kinetic             25.7671064\n    AtomicLocal         -18.8557693\n    AtomicNonlocal      14.8522663\n    Ewald               -67.1831486\n    PspCorrection       -2.3569765\n    Hartree             4.8485372 \n    Xc                  -19.3336820\n\n    total               -62.261666460462"
     },
     "metadata": {},
     "execution_count": 5
    }
   ],
   "cell_type": "code",
   "source": [
    "scfres.energies"
   ],
   "metadata": {},
   "execution_count": 5
  }
 ],
 "nbformat_minor": 3,
 "metadata": {
  "language_info": {
   "file_extension": ".jl",
   "mimetype": "application/julia",
   "name": "julia",
   "version": "1.7.2"
  },
  "kernelspec": {
   "name": "julia-1.7",
   "display_name": "Julia 1.7.2",
   "language": "julia"
  }
 },
 "nbformat": 4
}
