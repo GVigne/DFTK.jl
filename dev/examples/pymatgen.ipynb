{
 "cells": [
  {
   "cell_type": "markdown",
   "source": [
    "# Creating supercells with pymatgen\n",
    "\n",
    "The [Pymatgen](https://pymatgen.org/) python library allows to setup\n",
    "solid-state calculations using a flexible set of classes as well as an API\n",
    "to an online data base of structures. Its `Structure` and `Lattice`\n",
    "objects are directly supported by the DFTK `load_atoms` and `load_lattice`\n",
    "functions, such that DFTK may be readily used to run calculation on systems\n",
    "defined in pymatgen. Using the `pymatgen_structure` function a conversion\n",
    "from DFTK to pymatgen structures is also possible. In the following we\n",
    "use this to create a silicon supercell and find its LDA ground state\n",
    "using direct minimisation. To run this example Julia's `PyCall` package\n",
    "needs to be able to find an installation of `pymatgen`."
   ],
   "metadata": {}
  },
  {
   "cell_type": "markdown",
   "source": [
    "First we setup the silicon lattice in DFTK."
   ],
   "metadata": {}
  },
  {
   "outputs": [],
   "cell_type": "code",
   "source": [
    "using DFTK\n",
    "\n",
    "a = 10.263141334305942  # Lattice constant in Bohr\n",
    "lattice = a / 2 .* [[0 1 1.]; [1 0 1.]; [1 1 0.]]\n",
    "Si = ElementPsp(:Si, psp=load_psp(\"hgh/lda/Si-q4\"))\n",
    "atoms = [Si => [ones(3)/8, -ones(3)/8]];"
   ],
   "metadata": {},
   "execution_count": 1
  },
  {
   "cell_type": "markdown",
   "source": [
    "Next we make a `[2, 2, 2]` supercell using pymatgen"
   ],
   "metadata": {}
  },
  {
   "outputs": [
    {
     "name": "stdout",
     "output_type": "stream",
     "text": [
      "┌ Warning: `vendor()` is deprecated, use `BLAS.get_config()` and inspect the output instead\n",
      "│   caller = npyinitialize() at numpy.jl:67\n",
      "└ @ PyCall /home/runner/.julia/packages/PyCall/L0fLP/src/numpy.jl:67\n"
     ]
    }
   ],
   "cell_type": "code",
   "source": [
    "pystruct = pymatgen_structure(lattice, atoms)\n",
    "pystruct.make_supercell([2, 2, 2])\n",
    "lattice = load_lattice(pystruct)\n",
    "atoms = [Si => [s.frac_coords for s in pystruct.sites]];"
   ],
   "metadata": {},
   "execution_count": 2
  },
  {
   "cell_type": "markdown",
   "source": [
    "Setup an LDA model and discretize using\n",
    "a single k-point and a small `Ecut` of 5 Hartree."
   ],
   "metadata": {}
  },
  {
   "outputs": [
    {
     "output_type": "execute_result",
     "data": {
      "text/plain": "PlaneWaveBasis discretization:\n    Ecut                 : 5.0 Ha\n    fft_size             : (32, 32, 32)\n    kgrid type           : Monkhorst-Pack\n    kgrid                : [1, 1, 1]\n    num. irred. kpoints  : 1\n\n    Discretized Model(lda_xc_teter93, 3D):\n        lattice (in Bohr)    : [0         , 10.2631   , 10.2631   ]\n                               [10.2631   , 0         , 10.2631   ]\n                               [10.2631   , 10.2631   , 0         ]\n        unit cell volume     : 2162.1 Bohr³\n    \n        atoms                : Si₁₆\n        atom potentials      : ElementPsp(Si, psp=\"hgh/lda/si-q4\")\n    \n        num. electrons       : 64\n        spin polarization    : none\n        temperature          : 0 Ha\n    \n        terms                : Kinetic()\n                               AtomicLocal()\n                               AtomicNonlocal()\n                               Ewald()\n                               PspCorrection()\n                               Hartree()\n                               Xc(:lda_xc_teter93)"
     },
     "metadata": {},
     "execution_count": 3
    }
   ],
   "cell_type": "code",
   "source": [
    "model = model_LDA(lattice, atoms)\n",
    "basis = PlaneWaveBasis(model; Ecut=5, kgrid=(1, 1, 1))"
   ],
   "metadata": {},
   "execution_count": 3
  },
  {
   "cell_type": "markdown",
   "source": [
    "Find the ground state using direct minimisation (always using SCF is boring ...)"
   ],
   "metadata": {}
  },
  {
   "outputs": [
    {
     "name": "stdout",
     "output_type": "stream",
     "text": [
      "Iter     Function value   Gradient norm \n",
      "     0     1.124098e+02     1.670183e+00\n",
      " * time: 0.6052181720733643\n",
      "     1     1.052503e+01     9.223864e-01\n",
      " * time: 1.6336572170257568\n",
      "     2    -1.217641e+01     1.040792e+00\n",
      " * time: 2.143484115600586\n",
      "     3    -3.423296e+01     7.737940e-01\n",
      " * time: 2.8672451972961426\n",
      "     4    -4.773641e+01     5.649162e-01\n",
      " * time: 3.607746124267578\n",
      "     5    -5.696506e+01     2.033505e-01\n",
      " * time: 4.319956064224243\n",
      "     6    -5.964566e+01     2.029232e-01\n",
      " * time: 4.799715042114258\n",
      "     7    -6.078294e+01     8.726615e-02\n",
      " * time: 5.309797048568726\n",
      "     8    -6.133182e+01     4.307360e-02\n",
      " * time: 5.789692163467407\n",
      "     9    -6.161459e+01     3.464900e-02\n",
      " * time: 6.269586086273193\n",
      "    10    -6.181651e+01     2.791243e-02\n",
      " * time: 6.753457069396973\n",
      "    11    -6.197237e+01     2.068270e-02\n",
      " * time: 7.2406980991363525\n",
      "    12    -6.207241e+01     1.467854e-02\n",
      " * time: 7.7208411693573\n",
      "    13    -6.212946e+01     1.262740e-02\n",
      " * time: 8.201327085494995\n",
      "    14    -6.217457e+01     1.089442e-02\n",
      " * time: 8.688963174819946\n",
      "    15    -6.219758e+01     1.029781e-02\n",
      " * time: 9.168874025344849\n",
      "    16    -6.221226e+01     7.487767e-03\n",
      " * time: 9.649485111236572\n",
      "    17    -6.222098e+01     6.945421e-03\n",
      " * time: 10.138055086135864\n",
      "    18    -6.222813e+01     5.512341e-03\n",
      " * time: 10.618719100952148\n",
      "    19    -6.223383e+01     4.809791e-03\n",
      " * time: 11.09878921508789\n",
      "    20    -6.223955e+01     5.102804e-03\n",
      " * time: 11.578992128372192\n",
      "    21    -6.224555e+01     5.015612e-03\n",
      " * time: 12.066270112991333\n",
      "    22    -6.225123e+01     4.589303e-03\n",
      " * time: 12.545735120773315\n",
      "    23    -6.225563e+01     3.864976e-03\n",
      " * time: 13.024585008621216\n",
      "    24    -6.225838e+01     2.818083e-03\n",
      " * time: 13.51209807395935\n",
      "    25    -6.225979e+01     1.899831e-03\n",
      " * time: 13.991417169570923\n",
      "    26    -6.226050e+01     1.228427e-03\n",
      " * time: 14.470739126205444\n",
      "    27    -6.226088e+01     9.641184e-04\n",
      " * time: 14.950024127960205\n",
      "    28    -6.226111e+01     8.436994e-04\n",
      " * time: 15.437860012054443\n",
      "    29    -6.226128e+01     7.350330e-04\n",
      " * time: 15.917649030685425\n",
      "    30    -6.226141e+01     8.848505e-04\n",
      " * time: 16.39691400527954\n",
      "    31    -6.226151e+01     5.755303e-04\n",
      " * time: 16.88606309890747\n",
      "    32    -6.226157e+01     3.957915e-04\n",
      " * time: 17.365373134613037\n",
      "    33    -6.226162e+01     2.621437e-04\n",
      " * time: 17.850342988967896\n",
      "    34    -6.226164e+01     2.242394e-04\n",
      " * time: 18.347692012786865\n",
      "    35    -6.226165e+01     1.703488e-04\n",
      " * time: 18.828697204589844\n",
      "    36    -6.226166e+01     1.395533e-04\n",
      " * time: 19.307716131210327\n",
      "    37    -6.226166e+01     9.911047e-05\n",
      " * time: 19.787063121795654\n",
      "    38    -6.226166e+01     5.812217e-05\n",
      " * time: 20.274181127548218\n",
      "    39    -6.226167e+01     4.783129e-05\n",
      " * time: 20.75390911102295\n",
      "    40    -6.226167e+01     3.989627e-05\n",
      " * time: 21.23285412788391\n",
      "    41    -6.226167e+01     3.521905e-05\n",
      " * time: 21.719325065612793\n",
      "    42    -6.226167e+01     2.550018e-05\n",
      " * time: 22.198180198669434\n",
      "    43    -6.226167e+01     2.656395e-05\n",
      " * time: 22.67759418487549\n",
      "    44    -6.226167e+01     1.461092e-05\n",
      " * time: 23.1565260887146\n",
      "    45    -6.226167e+01     1.145263e-05\n",
      " * time: 23.644460201263428\n",
      "    46    -6.226167e+01     9.231978e-06\n",
      " * time: 24.124260187149048\n",
      "    47    -6.226167e+01     7.011259e-06\n",
      " * time: 24.60396099090576\n",
      "    48    -6.226167e+01     5.159390e-06\n",
      " * time: 25.093369007110596\n",
      "    49    -6.226167e+01     2.899857e-06\n",
      " * time: 25.572980165481567\n"
     ]
    }
   ],
   "cell_type": "code",
   "source": [
    "scfres = direct_minimization(basis, tol=1e-5);"
   ],
   "metadata": {},
   "execution_count": 4
  },
  {
   "outputs": [
    {
     "output_type": "execute_result",
     "data": {
      "text/plain": "Energy breakdown (in Ha):\n    Kinetic             25.7671052\n    AtomicLocal         -18.8557660\n    AtomicNonlocal      14.8522654\n    Ewald               -67.1831486\n    PspCorrection       -2.3569765\n    Hartree             4.8485353 \n    Xc                  -19.3336812\n\n    total               -62.261666459099"
     },
     "metadata": {},
     "execution_count": 5
    }
   ],
   "cell_type": "code",
   "source": [
    "scfres.energies"
   ],
   "metadata": {},
   "execution_count": 5
  }
 ],
 "nbformat_minor": 3,
 "metadata": {
  "language_info": {
   "file_extension": ".jl",
   "mimetype": "application/julia",
   "name": "julia",
   "version": "1.7.1"
  },
  "kernelspec": {
   "name": "julia-1.7",
   "display_name": "Julia 1.7.1",
   "language": "julia"
  }
 },
 "nbformat": 4
}
