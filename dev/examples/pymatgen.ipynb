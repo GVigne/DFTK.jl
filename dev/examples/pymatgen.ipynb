{
 "cells": [
  {
   "cell_type": "markdown",
   "source": [
    "# Creating supercells with pymatgen\n",
    "\n",
    "The [Pymatgen](https://pymatgen.org/) python library allows to setup\n",
    "solid-state calculations using a flexible set of classes as well as an API\n",
    "to an online data base of structures. Its `Structure` and `Lattice`\n",
    "objects are directly supported by the DFTK `load_atoms` and `load_lattice`\n",
    "functions, such that DFTK may be readily used to run calculation on systems\n",
    "defined in pymatgen. Using the `pymatgen_structure` function a conversion\n",
    "from DFTK to pymatgen structures is also possible. In the following we\n",
    "use this to create a silicon supercell and find its LDA ground state\n",
    "using direct minimisation. To run this example Julia's `PyCall` package\n",
    "needs to be able to find an installation of `pymatgen`."
   ],
   "metadata": {}
  },
  {
   "cell_type": "markdown",
   "source": [
    "First we setup the silicon lattice in DFTK."
   ],
   "metadata": {}
  },
  {
   "outputs": [],
   "cell_type": "code",
   "source": [
    "using DFTK\n",
    "\n",
    "a = 10.263141334305942  # Lattice constant in Bohr\n",
    "lattice = a / 2 .* [[0 1 1.]; [1 0 1.]; [1 1 0.]]\n",
    "Si = ElementPsp(:Si, psp=load_psp(\"hgh/lda/Si-q4\"))\n",
    "atoms = [Si => [ones(3)/8, -ones(3)/8]];"
   ],
   "metadata": {},
   "execution_count": 1
  },
  {
   "cell_type": "markdown",
   "source": [
    "Next we make a `[2, 2, 2]` supercell using pymatgen"
   ],
   "metadata": {}
  },
  {
   "outputs": [
    {
     "name": "stdout",
     "output_type": "stream",
     "text": [
      "┌ Warning: `vendor()` is deprecated, use `BLAS.get_config()` and inspect the output instead\n",
      "│   caller = npyinitialize() at numpy.jl:67\n",
      "└ @ PyCall /home/runner/.julia/packages/PyCall/3fwVL/src/numpy.jl:67\n"
     ]
    }
   ],
   "cell_type": "code",
   "source": [
    "pystruct = pymatgen_structure(lattice, atoms)\n",
    "pystruct.make_supercell([2, 2, 2])\n",
    "lattice = load_lattice(pystruct)\n",
    "atoms = [Si => [s.frac_coords for s in pystruct.sites]];"
   ],
   "metadata": {},
   "execution_count": 2
  },
  {
   "cell_type": "markdown",
   "source": [
    "Setup an LDA model and discretize using\n",
    "a single k-point and a small `Ecut` of 5 Hartree."
   ],
   "metadata": {}
  },
  {
   "outputs": [
    {
     "output_type": "execute_result",
     "data": {
      "text/plain": "PlaneWaveBasis discretization:\n    Ecut                 : 5.0 Ha\n    fft_size             : (32, 32, 32)\n    kgrid type           : Monkhorst-Pack\n    kgrid                : [1, 1, 1]\n    num. irred. kpoints  : 1\n\n    Discretized Model(lda_xc_teter93, 3D):\n        lattice (in Bohr)    : [0         , 10.2631   , 10.2631   ]\n                               [10.2631   , 0         , 10.2631   ]\n                               [10.2631   , 10.2631   , 0         ]\n        unit cell volume     : 2162.1 Bohr³\n    \n        atoms                : Si₁₆\n        atom potentials      : ElementPsp(Si, psp=hgh/lda/si-q4)\n    \n        num. electrons       : 64\n        spin polarization    : none\n        temperature          : 0 Ha\n    \n        terms                : Kinetic(1)\n                               AtomicLocal()\n                               AtomicNonlocal()\n                               Ewald()\n                               PspCorrection()\n                               Hartree(1)\n                               Xc([:lda_xc_teter93], 1, nothing)"
     },
     "metadata": {},
     "execution_count": 3
    }
   ],
   "cell_type": "code",
   "source": [
    "model = model_LDA(lattice, atoms)\n",
    "basis = PlaneWaveBasis(model; Ecut=5, kgrid=(1, 1, 1))"
   ],
   "metadata": {},
   "execution_count": 3
  },
  {
   "cell_type": "markdown",
   "source": [
    "Find the ground state using direct minimisation (always using SCF is boring ...)"
   ],
   "metadata": {}
  },
  {
   "outputs": [
    {
     "name": "stdout",
     "output_type": "stream",
     "text": [
      "Iter     Function value   Gradient norm \n",
      "     0     1.109914e+02     1.517198e+00\n",
      " * time: 0.6551768779754639\n",
      "     1     1.075656e+01     9.181533e-01\n",
      " * time: 1.8612239360809326\n",
      "     2    -1.135157e+01     1.017175e+00\n",
      " * time: 2.397350788116455\n",
      "     3    -3.395202e+01     8.069783e-01\n",
      " * time: 3.226378917694092\n",
      "     4    -4.743429e+01     6.276000e-01\n",
      " * time: 3.9999380111694336\n",
      "     5    -5.705116e+01     2.227474e-01\n",
      " * time: 4.8019139766693115\n",
      "     6    -5.988743e+01     1.551811e-01\n",
      " * time: 5.442120790481567\n",
      "     7    -6.095469e+01     4.583492e-02\n",
      " * time: 5.972431898117065\n",
      "     8    -6.137436e+01     4.955922e-02\n",
      " * time: 6.516424894332886\n",
      "     9    -6.163572e+01     3.784033e-02\n",
      " * time: 7.063226938247681\n",
      "    10    -6.184561e+01     3.077059e-02\n",
      " * time: 7.601094007492065\n",
      "    11    -6.200704e+01     1.883761e-02\n",
      " * time: 8.536406993865967\n",
      "    12    -6.208497e+01     1.411549e-02\n",
      " * time: 9.06083083152771\n",
      "    13    -6.213049e+01     1.329343e-02\n",
      " * time: 9.581295013427734\n",
      "    14    -6.216012e+01     1.140766e-02\n",
      " * time: 10.10000491142273\n",
      "    15    -6.217863e+01     9.424650e-03\n",
      " * time: 10.625932931900024\n",
      "    16    -6.219218e+01     7.030422e-03\n",
      " * time: 11.41727590560913\n",
      "    17    -6.220295e+01     6.628891e-03\n",
      " * time: 11.989635944366455\n",
      "    18    -6.221126e+01     5.852988e-03\n",
      " * time: 12.555647850036621\n",
      "    19    -6.221837e+01     6.100861e-03\n",
      " * time: 13.116872787475586\n",
      "    20    -6.222423e+01     5.385265e-03\n",
      " * time: 13.638375997543335\n",
      "    21    -6.222992e+01     5.898491e-03\n",
      " * time: 14.157076835632324\n",
      "    22    -6.223585e+01     5.119965e-03\n",
      " * time: 14.655016899108887\n",
      "    23    -6.224190e+01     5.488229e-03\n",
      " * time: 15.14160680770874\n",
      "    24    -6.224733e+01     5.018524e-03\n",
      " * time: 15.631760835647583\n",
      "    25    -6.225175e+01     4.079072e-03\n",
      " * time: 16.126585960388184\n",
      "    26    -6.225507e+01     3.295197e-03\n",
      " * time: 16.63302183151245\n",
      "    27    -6.225723e+01     2.773251e-03\n",
      " * time: 17.12308382987976\n",
      "    28    -6.225875e+01     2.453267e-03\n",
      " * time: 17.6145977973938\n",
      "    29    -6.225987e+01     2.104562e-03\n",
      " * time: 18.10004687309265\n",
      "    30    -6.226067e+01     1.408911e-03\n",
      " * time: 18.586071014404297\n",
      "    31    -6.226111e+01     1.130969e-03\n",
      " * time: 19.08006191253662\n",
      "    32    -6.226137e+01     8.593338e-04\n",
      " * time: 19.57929301261902\n",
      "    33    -6.226150e+01     5.786416e-04\n",
      " * time: 20.074116945266724\n",
      "    34    -6.226158e+01     4.783144e-04\n",
      " * time: 20.572722911834717\n",
      "    35    -6.226162e+01     2.711962e-04\n",
      " * time: 21.08685278892517\n",
      "    36    -6.226164e+01     2.339776e-04\n",
      " * time: 21.601751804351807\n",
      "    37    -6.226165e+01     1.896019e-04\n",
      " * time: 22.099851846694946\n",
      "    38    -6.226166e+01     1.439923e-04\n",
      " * time: 22.59999179840088\n",
      "    39    -6.226166e+01     1.166796e-04\n",
      " * time: 23.10543179512024\n",
      "    40    -6.226166e+01     8.303007e-05\n",
      " * time: 23.605085849761963\n",
      "    41    -6.226166e+01     8.674733e-05\n",
      " * time: 24.10309600830078\n",
      "    42    -6.226166e+01     5.271959e-05\n",
      " * time: 24.602242946624756\n",
      "    43    -6.226167e+01     3.601432e-05\n",
      " * time: 25.109598875045776\n",
      "    44    -6.226167e+01     2.883954e-05\n",
      " * time: 25.607114791870117\n",
      "    45    -6.226167e+01     2.054544e-05\n",
      " * time: 26.092089891433716\n",
      "    46    -6.226167e+01     1.594877e-05\n",
      " * time: 26.609130859375\n",
      "    47    -6.226167e+01     1.295469e-05\n",
      " * time: 27.105904817581177\n",
      "    48    -6.226167e+01     9.604149e-06\n",
      " * time: 27.59073781967163\n",
      "    49    -6.226167e+01     7.331770e-06\n",
      " * time: 28.072381019592285\n",
      "    50    -6.226167e+01     5.637347e-06\n",
      " * time: 28.565754890441895\n",
      "    51    -6.226167e+01     4.613866e-06\n",
      " * time: 29.056058883666992\n",
      "    52    -6.226167e+01     3.682889e-06\n",
      " * time: 29.526340007781982\n",
      "    53    -6.226167e+01     3.027222e-06\n",
      " * time: 30.00547981262207\n"
     ]
    }
   ],
   "cell_type": "code",
   "source": [
    "scfres = direct_minimization(basis, tol=1e-5);"
   ],
   "metadata": {},
   "execution_count": 4
  },
  {
   "outputs": [
    {
     "output_type": "execute_result",
     "data": {
      "text/plain": "Energy breakdown (in Ha):\n    Kinetic             25.7671076\n    AtomicLocal         -18.8557693\n    AtomicNonlocal      14.8522648\n    Ewald               -67.1831486\n    PspCorrection       -2.3569765\n    Hartree             4.8485378 \n    Xc                  -19.3336823\n\n    total               -62.261666457984"
     },
     "metadata": {},
     "execution_count": 5
    }
   ],
   "cell_type": "code",
   "source": [
    "scfres.energies"
   ],
   "metadata": {},
   "execution_count": 5
  }
 ],
 "nbformat_minor": 3,
 "metadata": {
  "language_info": {
   "file_extension": ".jl",
   "mimetype": "application/julia",
   "name": "julia",
   "version": "1.7.0"
  },
  "kernelspec": {
   "name": "julia-1.7",
   "display_name": "Julia 1.7.0",
   "language": "julia"
  }
 },
 "nbformat": 4
}
