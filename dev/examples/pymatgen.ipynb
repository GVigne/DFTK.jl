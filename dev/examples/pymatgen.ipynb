{
 "cells": [
  {
   "cell_type": "markdown",
   "source": [
    "# Creating supercells with pymatgen\n",
    "\n",
    "The [Pymatgen](https://pymatgen.org/) python library allows to setup\n",
    "solid-state calculations using a flexible set of classes as well as an API\n",
    "to an online data base of structures. Its `Structure` and `Lattice`\n",
    "objects are directly supported by the DFTK `load_atoms` and `load_lattice`\n",
    "functions, such that DFTK may be readily used to run calculation on systems\n",
    "defined in pymatgen. Using the `pymatgen_structure` function a conversion\n",
    "from DFTK to pymatgen structures is also possible. In the following we\n",
    "use this to create a silicon supercell and find its LDA ground state\n",
    "using direct minimisation. To run this example Julia's `PyCall` package\n",
    "needs to be able to find an installation of `pymatgen`."
   ],
   "metadata": {}
  },
  {
   "cell_type": "markdown",
   "source": [
    "First we setup the silicon lattice in DFTK."
   ],
   "metadata": {}
  },
  {
   "outputs": [],
   "cell_type": "code",
   "source": [
    "using DFTK\n",
    "\n",
    "a = 10.263141334305942  # Lattice constant in Bohr\n",
    "lattice = a / 2 .* [[0 1 1.]; [1 0 1.]; [1 1 0.]]\n",
    "Si = ElementPsp(:Si, psp=load_psp(\"hgh/lda/Si-q4\"))\n",
    "atoms = [Si => [ones(3)/8, -ones(3)/8]];"
   ],
   "metadata": {},
   "execution_count": 1
  },
  {
   "cell_type": "markdown",
   "source": [
    "Next we make a `[2, 2, 2]` supercell using pymatgen"
   ],
   "metadata": {}
  },
  {
   "outputs": [],
   "cell_type": "code",
   "source": [
    "pystruct = pymatgen_structure(lattice, atoms)\n",
    "pystruct.make_supercell([2, 2, 2])\n",
    "lattice = load_lattice(pystruct)\n",
    "atoms = [Si => [s.frac_coords for s in pystruct.sites]];"
   ],
   "metadata": {},
   "execution_count": 2
  },
  {
   "cell_type": "markdown",
   "source": [
    "Setup an LDA model and discretize using\n",
    "a single k-point and a small `Ecut` of 5 Hartree."
   ],
   "metadata": {}
  },
  {
   "outputs": [
    {
     "output_type": "execute_result",
     "data": {
      "text/plain": "PlaneWaveBasis discretization:\n    Ecut                 : 5.0 Ha\n    fft_size             : (32, 32, 32)\n    kgrid type           : Monkhorst-Pack\n    kgrid                : [1, 1, 1]\n    num. irred. kpoints  : 1\n\n    Discretized Model(lda_xc_teter93, 3D):\n        lattice (in Bohr)    : [0         , 10.2631   , 10.2631   ]\n                               [10.2631   , 0         , 10.2631   ]\n                               [10.2631   , 10.2631   , 0         ]\n        unit cell volume     : 2162.1 Bohr³\n    \n        atoms                : Si₁₆\n        atom potentials      : ElementPsp(Si, psp=hgh/lda/si-q4)\n    \n        num. electrons       : 64\n        spin polarization    : none\n        temperature          : 0 Ha\n    \n        terms                : Kinetic(1)\n                               AtomicLocal()\n                               AtomicNonlocal()\n                               Ewald()\n                               PspCorrection()\n                               Hartree(1)\n                               Xc([:lda_xc_teter93], 1, nothing)"
     },
     "metadata": {},
     "execution_count": 3
    }
   ],
   "cell_type": "code",
   "source": [
    "model = model_LDA(lattice, atoms)\n",
    "basis = PlaneWaveBasis(model; Ecut=5, kgrid=(1, 1, 1))"
   ],
   "metadata": {},
   "execution_count": 3
  },
  {
   "cell_type": "markdown",
   "source": [
    "Find the ground state using direct minimisation (always using SCF is boring ...)"
   ],
   "metadata": {}
  },
  {
   "outputs": [
    {
     "name": "stdout",
     "output_type": "stream",
     "text": [
      "Iter     Function value   Gradient norm \n",
      "     0     1.121862e+02     1.589379e+00\n",
      " * time: 0.6774599552154541\n",
      "     1     1.057670e+01     9.392203e-01\n",
      " * time: 1.8896818161010742\n",
      "     2    -1.197663e+01     1.021141e+00\n",
      " * time: 2.4454538822174072\n",
      "     3    -3.404865e+01     7.766549e-01\n",
      " * time: 3.2689919471740723\n",
      "     4    -4.761936e+01     6.074254e-01\n",
      " * time: 4.093204021453857\n",
      "     5    -5.693613e+01     2.031675e-01\n",
      " * time: 4.8945558071136475\n",
      "     6    -5.983430e+01     1.580816e-01\n",
      " * time: 5.436577796936035\n",
      "     7    -6.097309e+01     6.572126e-02\n",
      " * time: 5.994704008102417\n",
      "     8    -6.141990e+01     5.480991e-02\n",
      " * time: 6.539752960205078\n",
      "     9    -6.166372e+01     5.226871e-02\n",
      " * time: 7.084851026535034\n",
      "    10    -6.186608e+01     2.535829e-02\n",
      " * time: 7.634469985961914\n",
      "    11    -6.200132e+01     1.974553e-02\n",
      " * time: 8.180641889572144\n",
      "    12    -6.206913e+01     1.535799e-02\n",
      " * time: 8.72635293006897\n",
      "    13    -6.212287e+01     1.210669e-02\n",
      " * time: 9.272773027420044\n",
      "    14    -6.215859e+01     1.287654e-02\n",
      " * time: 9.826574802398682\n",
      "    15    -6.218501e+01     1.115088e-02\n",
      " * time: 10.37195897102356\n",
      "    16    -6.220244e+01     8.146956e-03\n",
      " * time: 10.916718006134033\n",
      "    17    -6.221488e+01     5.896890e-03\n",
      " * time: 11.467665910720825\n",
      "    18    -6.222428e+01     6.592655e-03\n",
      " * time: 12.010607957839966\n",
      "    19    -6.223176e+01     5.842175e-03\n",
      " * time: 12.552892923355103\n",
      "    20    -6.223852e+01     5.205145e-03\n",
      " * time: 13.09787893295288\n",
      "    21    -6.224503e+01     5.180189e-03\n",
      " * time: 13.631870985031128\n",
      "    22    -6.225071e+01     5.634193e-03\n",
      " * time: 14.16841197013855\n",
      "    23    -6.225516e+01     3.967054e-03\n",
      " * time: 14.70389986038208\n",
      "    24    -6.225817e+01     2.898805e-03\n",
      " * time: 15.245530843734741\n",
      "    25    -6.225985e+01     2.303276e-03\n",
      " * time: 15.7780020236969\n",
      "    26    -6.226065e+01     1.598643e-03\n",
      " * time: 16.3113009929657\n",
      "    27    -6.226104e+01     1.082053e-03\n",
      " * time: 16.85318899154663\n",
      "    28    -6.226125e+01     8.160951e-04\n",
      " * time: 17.387606859207153\n",
      "    29    -6.226138e+01     8.502055e-04\n",
      " * time: 17.925269842147827\n",
      "    30    -6.226147e+01     6.398780e-04\n",
      " * time: 18.458879947662354\n",
      "    31    -6.226153e+01     5.277586e-04\n",
      " * time: 19.005631923675537\n",
      "    32    -6.226158e+01     3.935831e-04\n",
      " * time: 19.53912591934204\n",
      "    33    -6.226161e+01     2.763619e-04\n",
      " * time: 20.07410192489624\n",
      "    34    -6.226164e+01     2.150253e-04\n",
      " * time: 20.62007188796997\n",
      "    35    -6.226165e+01     1.470854e-04\n",
      " * time: 21.158414840698242\n",
      "    36    -6.226166e+01     1.632428e-04\n",
      " * time: 21.693708896636963\n",
      "    37    -6.226166e+01     9.590074e-05\n",
      " * time: 22.230679988861084\n",
      "    38    -6.226166e+01     5.312969e-05\n",
      " * time: 22.777100801467896\n",
      "    39    -6.226167e+01     4.117486e-05\n",
      " * time: 23.319087028503418\n",
      "    40    -6.226167e+01     3.347382e-05\n",
      " * time: 23.862034797668457\n",
      "    41    -6.226167e+01     2.656598e-05\n",
      " * time: 24.40533185005188\n",
      "    42    -6.226167e+01     2.129256e-05\n",
      " * time: 24.945109844207764\n",
      "    43    -6.226167e+01     1.590240e-05\n",
      " * time: 25.488163948059082\n",
      "    44    -6.226167e+01     1.424150e-05\n",
      " * time: 26.03059697151184\n",
      "    45    -6.226167e+01     1.015566e-05\n",
      " * time: 26.574378967285156\n",
      "    46    -6.226167e+01     8.175963e-06\n",
      " * time: 27.111231803894043\n",
      "    47    -6.226167e+01     6.350399e-06\n",
      " * time: 27.648520946502686\n",
      "    48    -6.226167e+01     4.970116e-06\n",
      " * time: 28.193830966949463\n",
      "    49    -6.226167e+01     3.610901e-06\n",
      " * time: 28.729468822479248\n",
      "    50    -6.226167e+01     2.942292e-06\n",
      " * time: 29.27020788192749\n"
     ]
    }
   ],
   "cell_type": "code",
   "source": [
    "scfres = direct_minimization(basis, tol=1e-5);"
   ],
   "metadata": {},
   "execution_count": 4
  },
  {
   "outputs": [
    {
     "output_type": "execute_result",
     "data": {
      "text/plain": "Energy breakdown (in Ha):\n    Kinetic             25.7671066\n    AtomicLocal         -18.8557659\n    AtomicNonlocal      14.8522629\n    Ewald               -67.1831486\n    PspCorrection       -2.3569765\n    Hartree             4.8485370 \n    Xc                  -19.3336820\n\n    total               -62.261666460738"
     },
     "metadata": {},
     "execution_count": 5
    }
   ],
   "cell_type": "code",
   "source": [
    "scfres.energies"
   ],
   "metadata": {},
   "execution_count": 5
  }
 ],
 "nbformat_minor": 3,
 "metadata": {
  "language_info": {
   "file_extension": ".jl",
   "mimetype": "application/julia",
   "name": "julia",
   "version": "1.6.4"
  },
  "kernelspec": {
   "name": "julia-1.6",
   "display_name": "Julia 1.6.4",
   "language": "julia"
  }
 },
 "nbformat": 4
}
