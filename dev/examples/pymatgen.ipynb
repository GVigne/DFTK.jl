{
 "cells": [
  {
   "cell_type": "markdown",
   "source": [
    "# Creating supercells with pymatgen\n",
    "\n",
    "The [Pymatgen](https://pymatgen.org/) python library allows to setup\n",
    "solid-state calculations using a flexible set of classes as well as an API\n",
    "to an online data base of structures. Its `Structure` and `Lattice`\n",
    "objects are directly supported by the DFTK `load_atoms` and `load_lattice`\n",
    "functions, such that DFTK may be readily used to run calculation on systems\n",
    "defined in pymatgen. Using the `pymatgen_structure` function a conversion\n",
    "from DFTK to pymatgen structures is also possible. In the following we\n",
    "use this to create a silicon supercell and find its LDA ground state\n",
    "using direct minimisation. To run this example Julia's `PyCall` package\n",
    "needs to be able to find an installation of `pymatgen`."
   ],
   "metadata": {}
  },
  {
   "cell_type": "markdown",
   "source": [
    "First we setup the silicon lattice in DFTK."
   ],
   "metadata": {}
  },
  {
   "outputs": [],
   "cell_type": "code",
   "source": [
    "using DFTK\n",
    "\n",
    "a = 10.263141334305942  # Lattice constant in Bohr\n",
    "lattice = a / 2 .* [[0 1 1.]; [1 0 1.]; [1 1 0.]]\n",
    "Si = ElementPsp(:Si, psp=load_psp(\"hgh/lda/Si-q4\"))\n",
    "atoms = [Si => [ones(3)/8, -ones(3)/8]];"
   ],
   "metadata": {},
   "execution_count": 1
  },
  {
   "cell_type": "markdown",
   "source": [
    "Next we make a `[2, 2, 2]` supercell using pymatgen"
   ],
   "metadata": {}
  },
  {
   "outputs": [],
   "cell_type": "code",
   "source": [
    "pystruct = pymatgen_structure(lattice, atoms)\n",
    "pystruct.make_supercell([2, 2, 2])\n",
    "lattice = load_lattice(pystruct)\n",
    "atoms = [Si => [s.frac_coords for s in pystruct.sites]];"
   ],
   "metadata": {},
   "execution_count": 2
  },
  {
   "cell_type": "markdown",
   "source": [
    "Setup an LDA model and discretize using\n",
    "a single k-point and a small `Ecut` of 5 Hartree."
   ],
   "metadata": {}
  },
  {
   "outputs": [
    {
     "output_type": "execute_result",
     "data": {
      "text/plain": "PlaneWaveBasis discretization:\n    Ecut                 : 5.0 Ha\n    fft_size             : (32, 32, 32)\n    kgrid type           : Monkhorst-Pack\n    kgrid                : [1, 1, 1]\n    num. irred. kpoints  : 1\n\n    Discretized Model(lda_xc_teter93, 3D):\n        lattice (in Bohr)    : [0         , 10.2631   , 10.2631   ]\n                               [10.2631   , 0         , 10.2631   ]\n                               [10.2631   , 10.2631   , 0         ]\n        unit cell volume     : 2162.1 Bohr³\n    \n        atoms                : Si₁₆\n        atom potentials      : ElementPsp(Si, psp=hgh/lda/si-q4)\n    \n        num. electrons       : 64\n        spin polarization    : none\n        temperature          : 0 Ha\n    \n        terms                : Kinetic(1)\n                               AtomicLocal()\n                               AtomicNonlocal()\n                               Ewald()\n                               PspCorrection()\n                               Hartree(1)\n                               Xc([:lda_xc_teter93], 1, nothing)"
     },
     "metadata": {},
     "execution_count": 3
    }
   ],
   "cell_type": "code",
   "source": [
    "model = model_LDA(lattice, atoms)\n",
    "basis = PlaneWaveBasis(model; Ecut=5, kgrid=(1, 1, 1))"
   ],
   "metadata": {},
   "execution_count": 3
  },
  {
   "cell_type": "markdown",
   "source": [
    "Find the ground state using direct minimisation (always using SCF is boring ...)"
   ],
   "metadata": {}
  },
  {
   "outputs": [
    {
     "name": "stdout",
     "output_type": "stream",
     "text": [
      "Iter     Function value   Gradient norm \n",
      "     0     1.116958e+02     1.500496e+00\n",
      " * time: 0.8037819862365723\n",
      "     1     9.650855e+00     8.922791e-01\n",
      " * time: 2.0646259784698486\n",
      "     2    -1.157081e+01     1.037945e+00\n",
      " * time: 2.657961845397949\n",
      "     3    -3.392960e+01     7.334544e-01\n",
      " * time: 3.4649078845977783\n",
      "     4    -4.741695e+01     4.991691e-01\n",
      " * time: 4.25744891166687\n",
      "     5    -5.697837e+01     2.147135e-01\n",
      " * time: 5.087173938751221\n",
      "     6    -5.987778e+01     1.590732e-01\n",
      " * time: 5.620847940444946\n",
      "     7    -6.092916e+01     4.525865e-02\n",
      " * time: 6.145229816436768\n",
      "     8    -6.132460e+01     6.666359e-02\n",
      " * time: 6.648605823516846\n",
      "     9    -6.156191e+01     3.737103e-02\n",
      " * time: 7.179724931716919\n",
      "    10    -6.176768e+01     2.884225e-02\n",
      " * time: 7.685828924179077\n",
      "    11    -6.193426e+01     2.691123e-02\n",
      " * time: 8.222980976104736\n",
      "    12    -6.200957e+01     1.681799e-02\n",
      " * time: 8.762418985366821\n",
      "    13    -6.208148e+01     1.574938e-02\n",
      " * time: 9.293834924697876\n",
      "    14    -6.212036e+01     1.295938e-02\n",
      " * time: 9.840411901473999\n",
      "    15    -6.215420e+01     1.111049e-02\n",
      " * time: 10.369302034378052\n",
      "    16    -6.217320e+01     9.066335e-03\n",
      " * time: 10.90552282333374\n",
      "    17    -6.218584e+01     7.475161e-03\n",
      " * time: 11.4373939037323\n",
      "    18    -6.219591e+01     7.668495e-03\n",
      " * time: 11.97780990600586\n",
      "    19    -6.220448e+01     6.954125e-03\n",
      " * time: 12.520970821380615\n",
      "    20    -6.221296e+01     6.930064e-03\n",
      " * time: 13.046983003616333\n",
      "    21    -6.222177e+01     6.323034e-03\n",
      " * time: 13.57947587966919\n",
      "    22    -6.223112e+01     5.826128e-03\n",
      " * time: 14.104318857192993\n",
      "    23    -6.224023e+01     5.723529e-03\n",
      " * time: 14.645792007446289\n",
      "    24    -6.224805e+01     5.112197e-03\n",
      " * time: 15.19457197189331\n",
      "    25    -6.225315e+01     3.732561e-03\n",
      " * time: 15.739977836608887\n",
      "    26    -6.225608e+01     2.624235e-03\n",
      " * time: 16.271633863449097\n",
      "    27    -6.225791e+01     2.388967e-03\n",
      " * time: 16.809011936187744\n",
      "    28    -6.225902e+01     1.942134e-03\n",
      " * time: 17.341831922531128\n",
      "    29    -6.225981e+01     1.658309e-03\n",
      " * time: 17.8509738445282\n",
      "    30    -6.226040e+01     1.463358e-03\n",
      " * time: 18.359092950820923\n",
      "    31    -6.226085e+01     1.117191e-03\n",
      " * time: 18.87403893470764\n",
      "    32    -6.226118e+01     9.254713e-04\n",
      " * time: 19.435324907302856\n",
      "    33    -6.226140e+01     7.434878e-04\n",
      " * time: 19.99084782600403\n",
      "    34    -6.226153e+01     6.061818e-04\n",
      " * time: 20.51636290550232\n",
      "    35    -6.226160e+01     4.363093e-04\n",
      " * time: 21.05356502532959\n",
      "    36    -6.226164e+01     3.295512e-04\n",
      " * time: 21.582430839538574\n",
      "    37    -6.226165e+01     1.580087e-04\n",
      " * time: 22.0933358669281\n",
      "    38    -6.226166e+01     1.080699e-04\n",
      " * time: 22.600247859954834\n",
      "    39    -6.226166e+01     8.427466e-05\n",
      " * time: 23.124738931655884\n",
      "    40    -6.226166e+01     6.977455e-05\n",
      " * time: 23.672353982925415\n",
      "    41    -6.226166e+01     6.029020e-05\n",
      " * time: 24.210996866226196\n",
      "    42    -6.226167e+01     4.672103e-05\n",
      " * time: 24.7376070022583\n",
      "    43    -6.226167e+01     3.890004e-05\n",
      " * time: 25.27112603187561\n",
      "    44    -6.226167e+01     2.494327e-05\n",
      " * time: 25.804585933685303\n",
      "    45    -6.226167e+01     2.024801e-05\n",
      " * time: 26.354952812194824\n",
      "    46    -6.226167e+01     1.554921e-05\n",
      " * time: 26.91038990020752\n",
      "    47    -6.226167e+01     1.276101e-05\n",
      " * time: 27.459779024124146\n",
      "    48    -6.226167e+01     1.276725e-05\n",
      " * time: 28.008262872695923\n",
      "    49    -6.226167e+01     7.489630e-06\n",
      " * time: 28.532757997512817\n",
      "    50    -6.226167e+01     4.427895e-06\n",
      " * time: 29.081827878952026\n",
      "    51    -6.226167e+01     3.394415e-06\n",
      " * time: 29.609372854232788\n"
     ]
    }
   ],
   "cell_type": "code",
   "source": [
    "scfres = direct_minimization(basis, tol=1e-5);"
   ],
   "metadata": {},
   "execution_count": 4
  },
  {
   "outputs": [
    {
     "output_type": "execute_result",
     "data": {
      "text/plain": "Energy breakdown (in Ha):\n    Kinetic             25.7671082\n    AtomicLocal         -18.8557744\n    AtomicNonlocal      14.8522683\n    Ewald               -67.1831486\n    PspCorrection       -2.3569765\n    Hartree             4.8485396 \n    Xc                  -19.3336829\n\n    total               -62.261666455814"
     },
     "metadata": {},
     "execution_count": 5
    }
   ],
   "cell_type": "code",
   "source": [
    "scfres.energies"
   ],
   "metadata": {},
   "execution_count": 5
  }
 ],
 "nbformat_minor": 3,
 "metadata": {
  "language_info": {
   "file_extension": ".jl",
   "mimetype": "application/julia",
   "name": "julia",
   "version": "1.6.3"
  },
  "kernelspec": {
   "name": "julia-1.6",
   "display_name": "Julia 1.6.3",
   "language": "julia"
  }
 },
 "nbformat": 4
}
