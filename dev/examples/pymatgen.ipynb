{
 "cells": [
  {
   "cell_type": "markdown",
   "source": [
    "# Creating supercells with pymatgen\n",
    "\n",
    "The [Pymatgen](https://pymatgen.org/) python library allows to setup\n",
    "solid-state calculations using a flexible set of classes as well as an API\n",
    "to an online data base of structures. Its `Structure` and `Lattice`\n",
    "objects are directly supported by the DFTK `load_atoms` and `load_lattice`\n",
    "functions, such that DFTK may be readily used to run calculation on systems\n",
    "defined in pymatgen. Using the `pymatgen_structure` function a conversion\n",
    "from DFTK to pymatgen structures is also possible. In the following we\n",
    "use this to create a silicon supercell and find its LDA ground state\n",
    "using direct minimisation. To run this example Julia's `PyCall` package\n",
    "needs to be able to find an installation of `pymatgen`."
   ],
   "metadata": {}
  },
  {
   "cell_type": "markdown",
   "source": [
    "First we setup the silicon lattice in DFTK."
   ],
   "metadata": {}
  },
  {
   "outputs": [],
   "cell_type": "code",
   "source": [
    "using DFTK\n",
    "\n",
    "a = 10.263141334305942  # Lattice constant in Bohr\n",
    "lattice = a / 2 .* [[0 1 1.]; [1 0 1.]; [1 1 0.]]\n",
    "Si = ElementPsp(:Si, psp=load_psp(\"hgh/lda/Si-q4\"))\n",
    "atoms = [Si => [ones(3)/8, -ones(3)/8]];"
   ],
   "metadata": {},
   "execution_count": 1
  },
  {
   "cell_type": "markdown",
   "source": [
    "Next we make a `[2, 2, 2]` supercell using pymatgen"
   ],
   "metadata": {}
  },
  {
   "outputs": [
    {
     "name": "stdout",
     "output_type": "stream",
     "text": [
      "┌ Warning: `vendor()` is deprecated, use `BLAS.get_config()` and inspect the output instead\n",
      "│   caller = npyinitialize() at numpy.jl:67\n",
      "└ @ PyCall /home/runner/.julia/packages/PyCall/L0fLP/src/numpy.jl:67\n"
     ]
    }
   ],
   "cell_type": "code",
   "source": [
    "pystruct = pymatgen_structure(lattice, atoms)\n",
    "pystruct.make_supercell([2, 2, 2])\n",
    "lattice = load_lattice(pystruct)\n",
    "atoms = [Si => [s.frac_coords for s in pystruct.sites]];"
   ],
   "metadata": {},
   "execution_count": 2
  },
  {
   "cell_type": "markdown",
   "source": [
    "Setup an LDA model and discretize using\n",
    "a single k-point and a small `Ecut` of 5 Hartree."
   ],
   "metadata": {}
  },
  {
   "outputs": [
    {
     "output_type": "execute_result",
     "data": {
      "text/plain": "PlaneWaveBasis discretization:\n    Ecut                 : 5.0 Ha\n    fft_size             : (32, 32, 32), 32768 total points\n    kgrid type           : Monkhorst-Pack\n    kgrid                : [1, 1, 1]\n    num. irred. kpoints  : 1\n\n    Discretized Model(lda_xc_teter93, 3D):\n        lattice (in Bohr)    : [0         , 10.2631   , 10.2631   ]\n                               [10.2631   , 0         , 10.2631   ]\n                               [10.2631   , 10.2631   , 0         ]\n        unit cell volume     : 2162.1 Bohr³\n    \n        atoms                : Si₁₆\n        atom potentials      : ElementPsp(Si, psp=\"hgh/lda/si-q4\")\n    \n        num. electrons       : 64\n        spin polarization    : none\n        temperature          : 0 Ha\n    \n        terms                : Kinetic()\n                               AtomicLocal()\n                               AtomicNonlocal()\n                               Ewald()\n                               PspCorrection()\n                               Hartree()\n                               Xc(:lda_xc_teter93)"
     },
     "metadata": {},
     "execution_count": 3
    }
   ],
   "cell_type": "code",
   "source": [
    "model = model_LDA(lattice, atoms)\n",
    "basis = PlaneWaveBasis(model; Ecut=5, kgrid=(1, 1, 1))"
   ],
   "metadata": {},
   "execution_count": 3
  },
  {
   "cell_type": "markdown",
   "source": [
    "Find the ground state using direct minimisation (always using SCF is boring ...)"
   ],
   "metadata": {}
  },
  {
   "outputs": [
    {
     "name": "stdout",
     "output_type": "stream",
     "text": [
      "Iter     Function value   Gradient norm \n",
      "     0     1.112619e+02     1.667666e+00\n",
      " * time: 0.4822978973388672\n",
      "     1     1.055433e+01     9.118738e-01\n",
      " * time: 1.2437820434570312\n",
      "     2    -1.181642e+01     1.051866e+00\n",
      " * time: 1.3228800296783447\n",
      "     3    -3.399627e+01     8.508238e-01\n",
      " * time: 1.430250883102417\n",
      "     4    -4.753362e+01     6.288202e-01\n",
      " * time: 1.5623500347137451\n",
      "     5    -5.703422e+01     1.670421e-01\n",
      " * time: 1.649662971496582\n",
      "     6    -5.996041e+01     1.012886e-01\n",
      " * time: 1.71331787109375\n",
      "     7    -6.098776e+01     4.858283e-02\n",
      " * time: 1.7769038677215576\n",
      "     8    -6.135013e+01     5.774975e-02\n",
      " * time: 1.8489608764648438\n",
      "     9    -6.162907e+01     3.269137e-02\n",
      " * time: 2.0293569564819336\n",
      "    10    -6.183087e+01     2.721120e-02\n",
      " * time: 2.094251871109009\n",
      "    11    -6.199550e+01     2.440487e-02\n",
      " * time: 2.161911964416504\n",
      "    12    -6.205845e+01     1.891038e-02\n",
      " * time: 2.229367971420288\n",
      "    13    -6.212710e+01     1.217234e-02\n",
      " * time: 2.2940170764923096\n",
      "    14    -6.215230e+01     1.062900e-02\n",
      " * time: 2.3597559928894043\n",
      "    15    -6.217772e+01     9.725059e-03\n",
      " * time: 2.891155958175659\n",
      "    16    -6.218997e+01     1.030531e-02\n",
      " * time: 2.9543039798736572\n",
      "    17    -6.220332e+01     6.484152e-03\n",
      " * time: 3.017719030380249\n",
      "    18    -6.221471e+01     6.976246e-03\n",
      " * time: 3.0805530548095703\n",
      "    19    -6.222392e+01     6.783758e-03\n",
      " * time: 3.1444320678710938\n",
      "    20    -6.223249e+01     6.340033e-03\n",
      " * time: 3.206454038619995\n",
      "    21    -6.224032e+01     5.746112e-03\n",
      " * time: 3.5385918617248535\n",
      "    22    -6.224726e+01     5.140115e-03\n",
      " * time: 3.6019420623779297\n",
      "    23    -6.225274e+01     3.702572e-03\n",
      " * time: 3.6647958755493164\n",
      "    24    -6.225627e+01     3.256409e-03\n",
      " * time: 3.739377021789551\n",
      "    25    -6.225820e+01     2.513860e-03\n",
      " * time: 3.8024940490722656\n",
      "    26    -6.225932e+01     1.956490e-03\n",
      " * time: 3.863281011581421\n",
      "    27    -6.226003e+01     1.762335e-03\n",
      " * time: 3.927435874938965\n",
      "    28    -6.226054e+01     1.652108e-03\n",
      " * time: 4.003774881362915\n",
      "    29    -6.226094e+01     1.357674e-03\n",
      " * time: 4.065939903259277\n",
      "    30    -6.226124e+01     8.381666e-04\n",
      " * time: 4.130131959915161\n",
      "    31    -6.226145e+01     5.979900e-04\n",
      " * time: 4.193943023681641\n",
      "    32    -6.226156e+01     4.659488e-04\n",
      " * time: 4.262579917907715\n",
      "    33    -6.226161e+01     3.896892e-04\n",
      " * time: 4.324769973754883\n",
      "    34    -6.226164e+01     2.326260e-04\n",
      " * time: 4.397008895874023\n",
      "    35    -6.226165e+01     2.190003e-04\n",
      " * time: 4.455958843231201\n",
      "    36    -6.226166e+01     1.602097e-04\n",
      " * time: 4.523952007293701\n",
      "    37    -6.226166e+01     1.081680e-04\n",
      " * time: 4.585083961486816\n",
      "    38    -6.226166e+01     7.390479e-05\n",
      " * time: 4.647130012512207\n",
      "    39    -6.226166e+01     6.499449e-05\n",
      " * time: 4.710195064544678\n",
      "    40    -6.226167e+01     5.163766e-05\n",
      " * time: 4.779723882675171\n",
      "    41    -6.226167e+01     4.365174e-05\n",
      " * time: 4.843235015869141\n",
      "    42    -6.226167e+01     3.432690e-05\n",
      " * time: 4.906688928604126\n",
      "    43    -6.226167e+01     2.605124e-05\n",
      " * time: 4.976392030715942\n",
      "    44    -6.226167e+01     1.681977e-05\n",
      " * time: 5.040618896484375\n",
      "    45    -6.226167e+01     1.452166e-05\n",
      " * time: 5.103123903274536\n",
      "    46    -6.226167e+01     9.164222e-06\n",
      " * time: 5.166198968887329\n",
      "    47    -6.226167e+01     6.102146e-06\n",
      " * time: 5.235656976699829\n",
      "    48    -6.226167e+01     4.851509e-06\n",
      " * time: 5.297338962554932\n",
      "    49    -6.226167e+01     3.992834e-06\n",
      " * time: 5.360369920730591\n"
     ]
    }
   ],
   "cell_type": "code",
   "source": [
    "scfres = direct_minimization(basis, tol=1e-5);"
   ],
   "metadata": {},
   "execution_count": 4
  },
  {
   "outputs": [
    {
     "output_type": "execute_result",
     "data": {
      "text/plain": "Energy breakdown (in Ha):\n    Kinetic             25.7671061\n    AtomicLocal         -18.8557671\n    AtomicNonlocal      14.8522649\n    Ewald               -67.1831486\n    PspCorrection       -2.3569765\n    Hartree             4.8485366 \n    Xc                  -19.3336818\n\n    total               -62.261666456753"
     },
     "metadata": {},
     "execution_count": 5
    }
   ],
   "cell_type": "code",
   "source": [
    "scfres.energies"
   ],
   "metadata": {},
   "execution_count": 5
  }
 ],
 "nbformat_minor": 3,
 "metadata": {
  "language_info": {
   "file_extension": ".jl",
   "mimetype": "application/julia",
   "name": "julia",
   "version": "1.7.2"
  },
  "kernelspec": {
   "name": "julia-1.7",
   "display_name": "Julia 1.7.2",
   "language": "julia"
  }
 },
 "nbformat": 4
}
