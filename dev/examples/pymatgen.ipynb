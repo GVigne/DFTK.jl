{
 "cells": [
  {
   "cell_type": "markdown",
   "source": [
    "# Creating supercells with pymatgen\n",
    "\n",
    "The [Pymatgen](https://pymatgen.org/) python library allows to setup\n",
    "solid-state calculations using a flexible set of classes as well as an API\n",
    "to an online data base of structures. Its `Structure` and `Lattice`\n",
    "objects are directly supported by the DFTK `load_atoms` and `load_lattice`\n",
    "functions, such that DFTK may be readily used to run calculation on systems\n",
    "defined in pymatgen. Using the `pymatgen_structure` function a conversion\n",
    "from DFTK to pymatgen structures is also possible. In the following we\n",
    "use this to create a silicon supercell and find its LDA ground state\n",
    "using direct minimisation."
   ],
   "metadata": {}
  },
  {
   "cell_type": "markdown",
   "source": [
    "First we setup the silicon lattice in DFTK."
   ],
   "metadata": {}
  },
  {
   "outputs": [],
   "cell_type": "code",
   "source": [
    "using DFTK\n",
    "\n",
    "a = 10.263141334305942  # Lattice constant in Bohr\n",
    "lattice = a / 2 .* [[0 1 1.]; [1 0 1.]; [1 1 0.]]\n",
    "Si = ElementPsp(:Si, psp=load_psp(\"hgh/lda/Si-q4\"))\n",
    "atoms = [Si => [ones(3)/8, -ones(3)/8]];"
   ],
   "metadata": {},
   "execution_count": 1
  },
  {
   "cell_type": "markdown",
   "source": [
    "Next we make a `[2, 2, 2]` supercell using pymatgen"
   ],
   "metadata": {}
  },
  {
   "outputs": [],
   "cell_type": "code",
   "source": [
    "pystruct = pymatgen_structure(lattice, atoms)\n",
    "pystruct.make_supercell([2, 2, 2])\n",
    "lattice = load_lattice(pystruct)\n",
    "atoms = [Si => [s.frac_coords for s in pystruct.sites]];"
   ],
   "metadata": {},
   "execution_count": 2
  },
  {
   "cell_type": "markdown",
   "source": [
    "Setup an LDA model and discretize using\n",
    "a single kpoint and a small `Ecut` of 5 Hartree."
   ],
   "metadata": {}
  },
  {
   "outputs": [
    {
     "output_type": "execute_result",
     "data": {
      "text/plain": "PlaneWaveBasis (Ecut=5.0, 1 kpoints)"
     },
     "metadata": {},
     "execution_count": 3
    }
   ],
   "cell_type": "code",
   "source": [
    "model = model_LDA(lattice, atoms)\n",
    "basis = PlaneWaveBasis(model; Ecut=5, kgrid=(1, 1, 1))"
   ],
   "metadata": {},
   "execution_count": 3
  },
  {
   "cell_type": "markdown",
   "source": [
    "Find the ground state using direct minimisation (always using SCF is boring ...)"
   ],
   "metadata": {}
  },
  {
   "outputs": [
    {
     "name": "stdout",
     "output_type": "stream",
     "text": [
      "Iter     Function value   Gradient norm \n",
      "     0     1.124089e+02     1.501167e+00\n",
      " * time: 0.6385419368743896\n",
      "     1     1.010639e+01     9.031554e-01\n",
      " * time: 1.724782943725586\n",
      "     2    -1.263490e+01     9.840851e-01\n",
      " * time: 2.307387113571167\n",
      "     3    -3.473784e+01     7.193209e-01\n",
      " * time: 3.107499122619629\n",
      "     4    -4.820621e+01     4.879385e-01\n",
      " * time: 3.9196510314941406\n",
      "     5    -5.734739e+01     1.937919e-01\n",
      " * time: 4.872514009475708\n",
      "     6    -6.002847e+01     1.219501e-01\n",
      " * time: 5.421026945114136\n",
      "     7    -6.098501e+01     5.799827e-02\n",
      " * time: 5.97014594078064\n",
      "     8    -6.134788e+01     7.144321e-02\n",
      " * time: 6.519359111785889\n",
      "     9    -6.162246e+01     4.487731e-02\n",
      " * time: 7.073666095733643\n",
      "    10    -6.181112e+01     2.726836e-02\n",
      " * time: 8.004288911819458\n",
      "    11    -6.195821e+01     2.154707e-02\n",
      " * time: 8.54223108291626\n",
      "    12    -6.202360e+01     1.671919e-02\n",
      " * time: 9.080785036087036\n",
      "    13    -6.209379e+01     1.234975e-02\n",
      " * time: 9.625065088272095\n",
      "    14    -6.212807e+01     1.462038e-02\n",
      " * time: 10.398179054260254\n",
      "    15    -6.215807e+01     9.920688e-03\n",
      " * time: 10.93522310256958\n",
      "    16    -6.217346e+01     7.812506e-03\n",
      " * time: 11.468610048294067\n",
      "    17    -6.218567e+01     5.912376e-03\n",
      " * time: 12.023289918899536\n",
      "    18    -6.219525e+01     6.047267e-03\n",
      " * time: 12.560336112976074\n",
      "    19    -6.220344e+01     5.791801e-03\n",
      " * time: 13.100870132446289\n",
      "    20    -6.221079e+01     5.966267e-03\n",
      " * time: 13.663783073425293\n",
      "    21    -6.221788e+01     6.601762e-03\n",
      " * time: 14.209811925888062\n",
      "    22    -6.222524e+01     6.115991e-03\n",
      " * time: 14.754303932189941\n",
      "    23    -6.223287e+01     5.629764e-03\n",
      " * time: 15.31694507598877\n",
      "    24    -6.224005e+01     4.547615e-03\n",
      " * time: 15.865612983703613\n",
      "    25    -6.224578e+01     4.252577e-03\n",
      " * time: 16.4028639793396\n",
      "    26    -6.225042e+01     3.900462e-03\n",
      " * time: 16.940004110336304\n",
      "    27    -6.225379e+01     3.515055e-03\n",
      " * time: 17.479583978652954\n",
      "    28    -6.225622e+01     2.706381e-03\n",
      " * time: 18.012855052947998\n",
      "    29    -6.225795e+01     2.811258e-03\n",
      " * time: 18.54948902130127\n",
      "    30    -6.225926e+01     1.914485e-03\n",
      " * time: 19.092517137527466\n",
      "    31    -6.226020e+01     1.781228e-03\n",
      " * time: 19.62937307357788\n",
      "    32    -6.226082e+01     1.455761e-03\n",
      " * time: 20.165765047073364\n",
      "    33    -6.226121e+01     9.359456e-04\n",
      " * time: 20.708702087402344\n",
      "    34    -6.226144e+01     7.257663e-04\n",
      " * time: 21.245598077774048\n",
      "    35    -6.226156e+01     4.726279e-04\n",
      " * time: 21.786574125289917\n",
      "    36    -6.226161e+01     4.094844e-04\n",
      " * time: 22.32970690727234\n",
      "    37    -6.226163e+01     3.214884e-04\n",
      " * time: 22.86635112762451\n",
      "    38    -6.226165e+01     2.223282e-04\n",
      " * time: 23.402822017669678\n",
      "    39    -6.226165e+01     1.902124e-04\n",
      " * time: 23.94542694091797\n",
      "    40    -6.226166e+01     1.686687e-04\n",
      " * time: 24.482201099395752\n",
      "    41    -6.226166e+01     1.299746e-04\n",
      " * time: 25.02678894996643\n",
      "    42    -6.226166e+01     9.995707e-05\n",
      " * time: 25.590115070343018\n",
      "    43    -6.226166e+01     6.105407e-05\n",
      " * time: 26.129719018936157\n",
      "    44    -6.226167e+01     5.497199e-05\n",
      " * time: 26.674638032913208\n",
      "    45    -6.226167e+01     3.751655e-05\n",
      " * time: 27.2341411113739\n",
      "    46    -6.226167e+01     2.471582e-05\n",
      " * time: 27.77368712425232\n",
      "    47    -6.226167e+01     1.819398e-05\n",
      " * time: 28.310671091079712\n",
      "    48    -6.226167e+01     1.396302e-05\n",
      " * time: 28.847754955291748\n",
      "    49    -6.226167e+01     1.233558e-05\n",
      " * time: 29.396587133407593\n",
      "    50    -6.226167e+01     7.976649e-06\n",
      " * time: 29.933917999267578\n",
      "    51    -6.226167e+01     6.118873e-06\n",
      " * time: 30.471215963363647\n",
      "    52    -6.226167e+01     5.336880e-06\n",
      " * time: 31.009732007980347\n",
      "    53    -6.226167e+01     4.421668e-06\n",
      " * time: 31.546276092529297\n"
     ]
    }
   ],
   "cell_type": "code",
   "source": [
    "scfres = direct_minimization(basis, tol=1e-5);"
   ],
   "metadata": {},
   "execution_count": 4
  },
  {
   "outputs": [
    {
     "output_type": "execute_result",
     "data": {
      "text/plain": "Energy breakdown:\n    Kinetic             25.7671075\n    AtomicLocal         -18.8557694\n    AtomicNonlocal      14.8522649\n    Ewald               -67.1831486\n    PspCorrection       -2.3569765\n    Hartree             4.8485379 \n    Xc                  -19.3336823\n\n    total               -62.261666452026\n"
     },
     "metadata": {},
     "execution_count": 5
    }
   ],
   "cell_type": "code",
   "source": [
    "scfres.energies"
   ],
   "metadata": {},
   "execution_count": 5
  }
 ],
 "nbformat_minor": 3,
 "metadata": {
  "language_info": {
   "file_extension": ".jl",
   "mimetype": "application/julia",
   "name": "julia",
   "version": "1.6.3"
  },
  "kernelspec": {
   "name": "julia-1.6",
   "display_name": "Julia 1.6.3",
   "language": "julia"
  }
 },
 "nbformat": 4
}
