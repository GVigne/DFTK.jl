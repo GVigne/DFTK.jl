{
 "cells": [
  {
   "cell_type": "markdown",
   "source": [
    "# Creating supercells with pymatgen\n",
    "\n",
    "The [Pymatgen](https://pymatgen.org/) python library allows to setup\n",
    "solid-state calculations using a flexible set of classes as well as an API\n",
    "to an online data base of structures. Its `Structure` and `Lattice`\n",
    "objects are directly supported by the DFTK `load_atoms` and `load_lattice`\n",
    "functions, such that DFTK may be readily used to run calculation on systems\n",
    "defined in pymatgen. Using the `pymatgen_structure` function a conversion\n",
    "from DFTK to pymatgen structures is also possible. In the following we\n",
    "use this to create a silicon supercell and find its LDA ground state\n",
    "using direct minimisation. To run this example Julia's `PyCall` package\n",
    "needs to be able to find an installation of `pymatgen`."
   ],
   "metadata": {}
  },
  {
   "cell_type": "markdown",
   "source": [
    "First we setup the silicon lattice in DFTK."
   ],
   "metadata": {}
  },
  {
   "outputs": [],
   "cell_type": "code",
   "source": [
    "using DFTK\n",
    "\n",
    "a = 10.263141334305942  # Lattice constant in Bohr\n",
    "lattice = a / 2 .* [[0 1 1.]; [1 0 1.]; [1 1 0.]]\n",
    "Si = ElementPsp(:Si, psp=load_psp(\"hgh/lda/Si-q4\"))\n",
    "atoms = [Si => [ones(3)/8, -ones(3)/8]];"
   ],
   "metadata": {},
   "execution_count": 1
  },
  {
   "cell_type": "markdown",
   "source": [
    "Next we make a `[2, 2, 2]` supercell using pymatgen"
   ],
   "metadata": {}
  },
  {
   "outputs": [
    {
     "name": "stdout",
     "output_type": "stream",
     "text": [
      "┌ Warning: `vendor()` is deprecated, use `BLAS.get_config()` and inspect the output instead\n",
      "│   caller = npyinitialize() at numpy.jl:67\n",
      "└ @ PyCall /home/runner/.julia/packages/PyCall/3fwVL/src/numpy.jl:67\n"
     ]
    }
   ],
   "cell_type": "code",
   "source": [
    "pystruct = pymatgen_structure(lattice, atoms)\n",
    "pystruct.make_supercell([2, 2, 2])\n",
    "lattice = load_lattice(pystruct)\n",
    "atoms = [Si => [s.frac_coords for s in pystruct.sites]];"
   ],
   "metadata": {},
   "execution_count": 2
  },
  {
   "cell_type": "markdown",
   "source": [
    "Setup an LDA model and discretize using\n",
    "a single k-point and a small `Ecut` of 5 Hartree."
   ],
   "metadata": {}
  },
  {
   "outputs": [
    {
     "output_type": "execute_result",
     "data": {
      "text/plain": "PlaneWaveBasis discretization:\n    Ecut                 : 5.0 Ha\n    fft_size             : (32, 32, 32)\n    kgrid type           : Monkhorst-Pack\n    kgrid                : [1, 1, 1]\n    num. irred. kpoints  : 1\n\n    Discretized Model(lda_xc_teter93, 3D):\n        lattice (in Bohr)    : [0         , 10.2631   , 10.2631   ]\n                               [10.2631   , 0         , 10.2631   ]\n                               [10.2631   , 10.2631   , 0         ]\n        unit cell volume     : 2162.1 Bohr³\n    \n        atoms                : Si₁₆\n        atom potentials      : ElementPsp(Si, psp=hgh/lda/si-q4)\n    \n        num. electrons       : 64\n        spin polarization    : none\n        temperature          : 0 Ha\n    \n        terms                : Kinetic()\n                               AtomicLocal()\n                               AtomicNonlocal()\n                               Ewald()\n                               PspCorrection()\n                               Hartree()\n                               Xc(:lda_xc_teter93)"
     },
     "metadata": {},
     "execution_count": 3
    }
   ],
   "cell_type": "code",
   "source": [
    "model = model_LDA(lattice, atoms)\n",
    "basis = PlaneWaveBasis(model; Ecut=5, kgrid=(1, 1, 1))"
   ],
   "metadata": {},
   "execution_count": 3
  },
  {
   "cell_type": "markdown",
   "source": [
    "Find the ground state using direct minimisation (always using SCF is boring ...)"
   ],
   "metadata": {}
  },
  {
   "outputs": [
    {
     "name": "stdout",
     "output_type": "stream",
     "text": [
      "Iter     Function value   Gradient norm \n",
      "     0     1.124057e+02     1.659169e+00\n",
      " * time: 0.7234539985656738\n",
      "     1     1.105723e+01     9.008074e-01\n",
      " * time: 1.9188990592956543\n",
      "     2    -1.140068e+01     1.082332e+00\n",
      " * time: 2.491284132003784\n",
      "     3    -3.419012e+01     8.108837e-01\n",
      " * time: 3.3433971405029297\n",
      "     4    -4.778864e+01     5.905854e-01\n",
      " * time: 4.232666015625\n",
      "     5    -5.705555e+01     1.816030e-01\n",
      " * time: 5.09128999710083\n",
      "     6    -5.994715e+01     7.525200e-02\n",
      " * time: 5.661306142807007\n",
      "     7    -6.089002e+01     6.032427e-02\n",
      " * time: 6.220146179199219\n",
      "     8    -6.130937e+01     5.891921e-02\n",
      " * time: 6.806177139282227\n",
      "     9    -6.161888e+01     3.381117e-02\n",
      " * time: 7.3673670291900635\n",
      "    10    -6.184759e+01     2.697570e-02\n",
      " * time: 7.942413091659546\n",
      "    11    -6.198341e+01     1.899891e-02\n",
      " * time: 8.518501043319702\n",
      "    12    -6.206118e+01     1.699742e-02\n",
      " * time: 9.083923101425171\n",
      "    13    -6.211459e+01     1.259310e-02\n",
      " * time: 9.650257110595703\n",
      "    14    -6.214979e+01     1.166222e-02\n",
      " * time: 10.21044111251831\n",
      "    15    -6.217568e+01     1.020626e-02\n",
      " * time: 10.76667308807373\n",
      "    16    -6.219296e+01     1.014649e-02\n",
      " * time: 11.325510025024414\n",
      "    17    -6.220596e+01     7.765449e-03\n",
      " * time: 11.904131174087524\n",
      "    18    -6.221596e+01     6.762154e-03\n",
      " * time: 12.472107172012329\n",
      "    19    -6.222340e+01     6.332615e-03\n",
      " * time: 13.033788204193115\n",
      "    20    -6.222929e+01     5.949197e-03\n",
      " * time: 13.59637999534607\n",
      "    21    -6.223472e+01     5.531975e-03\n",
      " * time: 14.16858720779419\n",
      "    22    -6.224035e+01     5.593042e-03\n",
      " * time: 14.728381156921387\n",
      "    23    -6.224588e+01     5.524866e-03\n",
      " * time: 15.301027059555054\n",
      "    24    -6.225092e+01     4.717486e-03\n",
      " * time: 15.868077039718628\n",
      "    25    -6.225505e+01     3.671918e-03\n",
      " * time: 16.43076515197754\n",
      "    26    -6.225783e+01     2.463209e-03\n",
      " * time: 17.00134301185608\n",
      "    27    -6.225940e+01     2.204006e-03\n",
      " * time: 17.559781074523926\n",
      "    28    -6.226029e+01     1.845863e-03\n",
      " * time: 18.126315116882324\n",
      "    29    -6.226076e+01     1.407627e-03\n",
      " * time: 18.690152168273926\n",
      "    30    -6.226107e+01     1.142952e-03\n",
      " * time: 19.26171112060547\n",
      "    31    -6.226127e+01     9.467216e-04\n",
      " * time: 19.831114053726196\n",
      "    32    -6.226141e+01     7.650975e-04\n",
      " * time: 20.387102127075195\n",
      "    33    -6.226151e+01     6.011204e-04\n",
      " * time: 20.963470220565796\n",
      "    34    -6.226158e+01     4.361927e-04\n",
      " * time: 21.517415046691895\n",
      "    35    -6.226162e+01     2.672268e-04\n",
      " * time: 22.081372022628784\n",
      "    36    -6.226164e+01     2.673291e-04\n",
      " * time: 22.64403200149536\n",
      "    37    -6.226165e+01     2.051741e-04\n",
      " * time: 23.191500186920166\n",
      "    38    -6.226166e+01     1.530747e-04\n",
      " * time: 23.75697898864746\n",
      "    39    -6.226166e+01     1.354593e-04\n",
      " * time: 24.333031177520752\n",
      "    40    -6.226166e+01     8.885552e-05\n",
      " * time: 24.89931607246399\n",
      "    41    -6.226166e+01     6.152619e-05\n",
      " * time: 25.461956024169922\n",
      "    42    -6.226167e+01     4.758407e-05\n",
      " * time: 26.020029067993164\n",
      "    43    -6.226167e+01     3.444922e-05\n",
      " * time: 26.586333990097046\n",
      "    44    -6.226167e+01     2.880543e-05\n",
      " * time: 27.172826051712036\n",
      "    45    -6.226167e+01     2.577487e-05\n",
      " * time: 27.749061107635498\n",
      "    46    -6.226167e+01     2.324631e-05\n",
      " * time: 28.32140302658081\n",
      "    47    -6.226167e+01     1.718056e-05\n",
      " * time: 28.894095182418823\n",
      "    48    -6.226167e+01     1.319114e-05\n",
      " * time: 29.474385023117065\n",
      "    49    -6.226167e+01     8.225083e-06\n",
      " * time: 30.037476062774658\n",
      "    50    -6.226167e+01     5.862503e-06\n",
      " * time: 30.602148056030273\n",
      "    51    -6.226167e+01     4.249681e-06\n",
      " * time: 31.162216186523438\n",
      "    52    -6.226167e+01     2.852976e-06\n",
      " * time: 31.730825185775757\n",
      "    53    -6.226167e+01     2.629797e-06\n",
      " * time: 32.311336040496826\n"
     ]
    }
   ],
   "cell_type": "code",
   "source": [
    "scfres = direct_minimization(basis, tol=1e-5);"
   ],
   "metadata": {},
   "execution_count": 4
  },
  {
   "outputs": [
    {
     "output_type": "execute_result",
     "data": {
      "text/plain": "Energy breakdown (in Ha):\n    Kinetic             25.7671078\n    AtomicLocal         -18.8557697\n    AtomicNonlocal      14.8522648\n    Ewald               -67.1831486\n    PspCorrection       -2.3569765\n    Hartree             4.8485383 \n    Xc                  -19.3336825\n\n    total               -62.261666460617"
     },
     "metadata": {},
     "execution_count": 5
    }
   ],
   "cell_type": "code",
   "source": [
    "scfres.energies"
   ],
   "metadata": {},
   "execution_count": 5
  }
 ],
 "nbformat_minor": 3,
 "metadata": {
  "language_info": {
   "file_extension": ".jl",
   "mimetype": "application/julia",
   "name": "julia",
   "version": "1.7.0"
  },
  "kernelspec": {
   "name": "julia-1.7",
   "display_name": "Julia 1.7.0",
   "language": "julia"
  }
 },
 "nbformat": 4
}
