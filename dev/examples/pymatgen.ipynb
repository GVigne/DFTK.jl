{
 "cells": [
  {
   "cell_type": "markdown",
   "source": [
    "# Creating supercells with pymatgen\n",
    "\n",
    "The [Pymatgen](https://pymatgen.org/) python library allows to setup\n",
    "solid-state calculations using a flexible set of classes as well as an API\n",
    "to an online data base of structures. Its `Structure` and `Lattice`\n",
    "objects are directly supported by the DFTK `load_atoms` and `load_lattice`\n",
    "functions, such that DFTK may be readily used to run calculation on systems\n",
    "defined in pymatgen. Using the `pymatgen_structure` function a conversion\n",
    "from DFTK to pymatgen structures is also possible. In the following we\n",
    "use this to create a silicon supercell and find its LDA ground state\n",
    "using direct minimisation. To run this example Julia's `PyCall` package\n",
    "needs to be able to find an installation of `pymatgen`."
   ],
   "metadata": {}
  },
  {
   "cell_type": "markdown",
   "source": [
    "First we setup the silicon lattice in DFTK."
   ],
   "metadata": {}
  },
  {
   "outputs": [],
   "cell_type": "code",
   "source": [
    "using DFTK\n",
    "\n",
    "a = 10.263141334305942  # Lattice constant in Bohr\n",
    "lattice = a / 2 .* [[0 1 1.]; [1 0 1.]; [1 1 0.]]\n",
    "Si = ElementPsp(:Si, psp=load_psp(\"hgh/lda/Si-q4\"))\n",
    "atoms = [Si => [ones(3)/8, -ones(3)/8]];"
   ],
   "metadata": {},
   "execution_count": 1
  },
  {
   "cell_type": "markdown",
   "source": [
    "Next we make a `[2, 2, 2]` supercell using pymatgen"
   ],
   "metadata": {}
  },
  {
   "outputs": [
    {
     "name": "stdout",
     "output_type": "stream",
     "text": [
      "┌ Warning: `vendor()` is deprecated, use `BLAS.get_config()` and inspect the output instead\n",
      "│   caller = npyinitialize() at numpy.jl:67\n",
      "└ @ PyCall /home/runner/.julia/packages/PyCall/L0fLP/src/numpy.jl:67\n"
     ]
    }
   ],
   "cell_type": "code",
   "source": [
    "pystruct = pymatgen_structure(lattice, atoms)\n",
    "pystruct.make_supercell([2, 2, 2])\n",
    "lattice = load_lattice(pystruct)\n",
    "atoms = [Si => [s.frac_coords for s in pystruct.sites]];"
   ],
   "metadata": {},
   "execution_count": 2
  },
  {
   "cell_type": "markdown",
   "source": [
    "Setup an LDA model and discretize using\n",
    "a single k-point and a small `Ecut` of 5 Hartree."
   ],
   "metadata": {}
  },
  {
   "outputs": [
    {
     "output_type": "execute_result",
     "data": {
      "text/plain": "PlaneWaveBasis discretization:\n    Ecut                 : 5.0 Ha\n    fft_size             : (32, 32, 32)\n    kgrid type           : Monkhorst-Pack\n    kgrid                : [1, 1, 1]\n    num. irred. kpoints  : 1\n\n    Discretized Model(lda_xc_teter93, 3D):\n        lattice (in Bohr)    : [0         , 10.2631   , 10.2631   ]\n                               [10.2631   , 0         , 10.2631   ]\n                               [10.2631   , 10.2631   , 0         ]\n        unit cell volume     : 2162.1 Bohr³\n    \n        atoms                : Si₁₆\n        atom potentials      : ElementPsp(Si, psp=\"hgh/lda/si-q4\")\n    \n        num. electrons       : 64\n        spin polarization    : none\n        temperature          : 0 Ha\n    \n        terms                : Kinetic()\n                               AtomicLocal()\n                               AtomicNonlocal()\n                               Ewald()\n                               PspCorrection()\n                               Hartree()\n                               Xc(:lda_xc_teter93)"
     },
     "metadata": {},
     "execution_count": 3
    }
   ],
   "cell_type": "code",
   "source": [
    "model = model_LDA(lattice, atoms)\n",
    "basis = PlaneWaveBasis(model; Ecut=5, kgrid=(1, 1, 1))"
   ],
   "metadata": {},
   "execution_count": 3
  },
  {
   "cell_type": "markdown",
   "source": [
    "Find the ground state using direct minimisation (always using SCF is boring ...)"
   ],
   "metadata": {}
  },
  {
   "outputs": [
    {
     "name": "stdout",
     "output_type": "stream",
     "text": [
      "Iter     Function value   Gradient norm \n",
      "     0     1.113863e+02     1.480949e+00\n",
      " * time: 0.5769550800323486\n",
      "     1     9.761403e+00     8.917134e-01\n",
      " * time: 1.4879381656646729\n",
      "     2    -1.154806e+01     1.040526e+00\n",
      " * time: 1.924795150756836\n",
      "     3    -3.418577e+01     7.356843e-01\n",
      " * time: 2.6000311374664307\n",
      "     4    -4.732633e+01     5.542582e-01\n",
      " * time: 3.2462470531463623\n",
      "     5    -5.684717e+01     1.991013e-01\n",
      " * time: 3.8927621841430664\n",
      "     6    -5.964455e+01     1.919482e-01\n",
      " * time: 4.420489072799683\n",
      "     7    -6.081992e+01     8.512674e-02\n",
      " * time: 4.850468158721924\n",
      "     8    -6.138238e+01     3.945361e-02\n",
      " * time: 5.277125120162964\n",
      "     9    -6.169248e+01     3.271517e-02\n",
      " * time: 5.703619003295898\n",
      "    10    -6.186096e+01     3.092292e-02\n",
      " * time: 6.130918025970459\n",
      "    11    -6.200060e+01     2.278331e-02\n",
      " * time: 6.560705184936523\n",
      "    12    -6.207489e+01     1.813195e-02\n",
      " * time: 7.352417230606079\n",
      "    13    -6.212205e+01     1.200906e-02\n",
      " * time: 7.777557134628296\n",
      "    14    -6.215454e+01     1.103996e-02\n",
      " * time: 8.206733226776123\n",
      "    15    -6.217534e+01     1.126021e-02\n",
      " * time: 8.635124206542969\n",
      "    16    -6.218884e+01     9.968847e-03\n",
      " * time: 9.28670620918274\n",
      "    17    -6.219794e+01     6.496090e-03\n",
      " * time: 9.710758209228516\n",
      "    18    -6.220456e+01     4.460405e-03\n",
      " * time: 10.134743213653564\n",
      "    19    -6.220893e+01     4.630263e-03\n",
      " * time: 10.55982518196106\n",
      "    20    -6.221224e+01     4.353318e-03\n",
      " * time: 10.997345209121704\n",
      "    21    -6.221495e+01     4.691631e-03\n",
      " * time: 11.422299146652222\n",
      "    22    -6.221747e+01     5.314789e-03\n",
      " * time: 11.847012042999268\n",
      "    23    -6.222008e+01     4.984302e-03\n",
      " * time: 12.28540301322937\n",
      "    24    -6.222341e+01     5.647354e-03\n",
      " * time: 12.710604190826416\n",
      "    25    -6.222834e+01     5.455928e-03\n",
      " * time: 13.135622024536133\n",
      "    26    -6.223494e+01     6.234349e-03\n",
      " * time: 13.566091060638428\n",
      "    27    -6.224251e+01     6.131780e-03\n",
      " * time: 13.99212121963501\n",
      "    28    -6.225003e+01     5.105473e-03\n",
      " * time: 14.419876098632812\n",
      "    29    -6.225411e+01     3.787369e-03\n",
      " * time: 14.846139192581177\n",
      "    30    -6.225725e+01     3.464824e-03\n",
      " * time: 15.277766227722168\n",
      "    31    -6.225886e+01     2.990984e-03\n",
      " * time: 15.703517198562622\n",
      "    32    -6.225999e+01     2.370119e-03\n",
      " * time: 16.13455104827881\n",
      "    33    -6.226067e+01     1.390822e-03\n",
      " * time: 16.569472074508667\n",
      "    34    -6.226113e+01     1.106247e-03\n",
      " * time: 16.997912168502808\n",
      "    35    -6.226139e+01     1.008962e-03\n",
      " * time: 17.42850112915039\n",
      "    36    -6.226153e+01     6.292982e-04\n",
      " * time: 17.863704204559326\n",
      "    37    -6.226159e+01     3.934668e-04\n",
      " * time: 18.292370080947876\n",
      "    38    -6.226162e+01     3.614344e-04\n",
      " * time: 18.721111059188843\n",
      "    39    -6.226164e+01     2.942029e-04\n",
      " * time: 19.156124114990234\n",
      "    40    -6.226165e+01     2.818016e-04\n",
      " * time: 19.585530042648315\n",
      "    41    -6.226165e+01     2.416226e-04\n",
      " * time: 20.015193223953247\n",
      "    42    -6.226166e+01     1.852685e-04\n",
      " * time: 20.443563222885132\n",
      "    43    -6.226166e+01     1.164164e-04\n",
      " * time: 20.877991199493408\n",
      "    44    -6.226166e+01     7.549577e-05\n",
      " * time: 21.30579900741577\n",
      "    45    -6.226166e+01     7.076327e-05\n",
      " * time: 21.733723163604736\n",
      "    46    -6.226167e+01     5.270478e-05\n",
      " * time: 22.168184995651245\n",
      "    47    -6.226167e+01     3.638756e-05\n",
      " * time: 22.596310138702393\n",
      "    48    -6.226167e+01     2.597490e-05\n",
      " * time: 23.18688201904297\n",
      "    49    -6.226167e+01     1.934635e-05\n",
      " * time: 23.710455179214478\n",
      "    50    -6.226167e+01     1.572279e-05\n",
      " * time: 24.196521997451782\n",
      "    51    -6.226167e+01     1.262166e-05\n",
      " * time: 24.689333200454712\n",
      "    52    -6.226167e+01     1.404583e-05\n",
      " * time: 25.171430110931396\n",
      "    53    -6.226167e+01     9.957522e-06\n",
      " * time: 25.66108202934265\n",
      "    54    -6.226167e+01     9.173567e-06\n",
      " * time: 26.144833087921143\n",
      "    55    -6.226167e+01     6.002210e-06\n",
      " * time: 26.63143014907837\n",
      "    56    -6.226167e+01     4.533390e-06\n",
      " * time: 27.124478101730347\n",
      "    57    -6.226167e+01     3.908417e-06\n",
      " * time: 27.606251001358032\n",
      "    58    -6.226167e+01     2.250671e-06\n",
      " * time: 28.087509155273438\n"
     ]
    }
   ],
   "cell_type": "code",
   "source": [
    "scfres = direct_minimization(basis, tol=1e-5);"
   ],
   "metadata": {},
   "execution_count": 4
  },
  {
   "outputs": [
    {
     "output_type": "execute_result",
     "data": {
      "text/plain": "Energy breakdown (in Ha):\n    Kinetic             25.7671061\n    AtomicLocal         -18.8557575\n    AtomicNonlocal      14.8522565\n    Ewald               -67.1831486\n    PspCorrection       -2.3569765\n    Hartree             4.8485349 \n    Xc                  -19.3336813\n\n    total               -62.261666461011"
     },
     "metadata": {},
     "execution_count": 5
    }
   ],
   "cell_type": "code",
   "source": [
    "scfres.energies"
   ],
   "metadata": {},
   "execution_count": 5
  }
 ],
 "nbformat_minor": 3,
 "metadata": {
  "language_info": {
   "file_extension": ".jl",
   "mimetype": "application/julia",
   "name": "julia",
   "version": "1.7.1"
  },
  "kernelspec": {
   "name": "julia-1.7",
   "display_name": "Julia 1.7.1",
   "language": "julia"
  }
 },
 "nbformat": 4
}
