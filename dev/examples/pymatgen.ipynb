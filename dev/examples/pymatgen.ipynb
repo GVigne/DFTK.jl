{
 "cells": [
  {
   "cell_type": "markdown",
   "source": [
    "# Creating supercells with pymatgen\n",
    "\n",
    "The [Pymatgen](https://pymatgen.org/) python library allows to setup\n",
    "solid-state calculations using a flexible set of classes as well as an API\n",
    "to an online data base of structures. Its `Structure` and `Lattice`\n",
    "objects are directly supported by the DFTK `load_atoms` and `load_lattice`\n",
    "functions, such that DFTK may be readily used to run calculation on systems\n",
    "defined in pymatgen. Using the `pymatgen_structure` function a conversion\n",
    "from DFTK to pymatgen structures is also possible. In the following we\n",
    "use this to create a silicon supercell and find its LDA ground state\n",
    "using direct minimisation. To run this example Julia's `PyCall` package\n",
    "needs to be able to find an installation of `pymatgen`."
   ],
   "metadata": {}
  },
  {
   "cell_type": "markdown",
   "source": [
    "First we setup the silicon lattice in DFTK."
   ],
   "metadata": {}
  },
  {
   "outputs": [],
   "cell_type": "code",
   "source": [
    "using DFTK\n",
    "\n",
    "a = 10.263141334305942  # Lattice constant in Bohr\n",
    "lattice = a / 2 .* [[0 1 1.]; [1 0 1.]; [1 1 0.]]\n",
    "Si = ElementPsp(:Si, psp=load_psp(\"hgh/lda/Si-q4\"))\n",
    "atoms = [Si => [ones(3)/8, -ones(3)/8]];"
   ],
   "metadata": {},
   "execution_count": 1
  },
  {
   "cell_type": "markdown",
   "source": [
    "Next we make a `[2, 2, 2]` supercell using pymatgen"
   ],
   "metadata": {}
  },
  {
   "outputs": [
    {
     "name": "stdout",
     "output_type": "stream",
     "text": [
      "┌ Warning: `vendor()` is deprecated, use `BLAS.get_config()` and inspect the output instead\n",
      "│   caller = npyinitialize() at numpy.jl:67\n",
      "└ @ PyCall /home/runner/.julia/packages/PyCall/L0fLP/src/numpy.jl:67\n"
     ]
    }
   ],
   "cell_type": "code",
   "source": [
    "pystruct = pymatgen_structure(lattice, atoms)\n",
    "pystruct.make_supercell([2, 2, 2])\n",
    "lattice = load_lattice(pystruct)\n",
    "atoms = [Si => [s.frac_coords for s in pystruct.sites]];"
   ],
   "metadata": {},
   "execution_count": 2
  },
  {
   "cell_type": "markdown",
   "source": [
    "Setup an LDA model and discretize using\n",
    "a single k-point and a small `Ecut` of 5 Hartree."
   ],
   "metadata": {}
  },
  {
   "outputs": [
    {
     "output_type": "execute_result",
     "data": {
      "text/plain": "PlaneWaveBasis discretization:\n    Ecut                 : 5.0 Ha\n    fft_size             : (32, 32, 32), 32768 total points\n    kgrid type           : Monkhorst-Pack\n    kgrid                : [1, 1, 1]\n    num. irred. kpoints  : 1\n\n    Discretized Model(lda_xc_teter93, 3D):\n        lattice (in Bohr)    : [0         , 10.2631   , 10.2631   ]\n                               [10.2631   , 0         , 10.2631   ]\n                               [10.2631   , 10.2631   , 0         ]\n        unit cell volume     : 2162.1 Bohr³\n    \n        atoms                : Si₁₆\n        atom potentials      : ElementPsp(Si, psp=\"hgh/lda/si-q4\")\n    \n        num. electrons       : 64\n        spin polarization    : none\n        temperature          : 0 Ha\n    \n        terms                : Kinetic()\n                               AtomicLocal()\n                               AtomicNonlocal()\n                               Ewald()\n                               PspCorrection()\n                               Hartree()\n                               Xc(:lda_xc_teter93)"
     },
     "metadata": {},
     "execution_count": 3
    }
   ],
   "cell_type": "code",
   "source": [
    "model = model_LDA(lattice, atoms)\n",
    "basis = PlaneWaveBasis(model; Ecut=5, kgrid=(1, 1, 1))"
   ],
   "metadata": {},
   "execution_count": 3
  },
  {
   "cell_type": "markdown",
   "source": [
    "Find the ground state using direct minimisation (always using SCF is boring ...)"
   ],
   "metadata": {}
  },
  {
   "outputs": [
    {
     "name": "stdout",
     "output_type": "stream",
     "text": [
      "Iter     Function value   Gradient norm \n",
      "     0     1.119167e+02     1.405216e+00\n",
      " * time: 0.5235610008239746\n",
      "     1     1.119692e+01     8.794230e-01\n",
      " * time: 2.0470900535583496\n",
      "     2    -1.152405e+01     9.149951e-01\n",
      " * time: 2.13710618019104\n",
      "     3    -3.377764e+01     7.149767e-01\n",
      " * time: 2.2963461875915527\n",
      "     4    -4.738557e+01     5.366183e-01\n",
      " * time: 2.3977952003479004\n",
      "     5    -5.678756e+01     1.941509e-01\n",
      " * time: 2.502794027328491\n",
      "     6    -5.974868e+01     1.046804e-01\n",
      " * time: 2.5872039794921875\n",
      "     7    -6.086163e+01     5.016075e-02\n",
      " * time: 2.69685697555542\n",
      "     8    -6.127248e+01     6.174350e-02\n",
      " * time: 2.773332118988037\n",
      "     9    -6.159130e+01     3.684576e-02\n",
      " * time: 2.849560022354126\n",
      "    10    -6.181787e+01     2.999821e-02\n",
      " * time: 2.9290921688079834\n",
      "    11    -6.199701e+01     2.273859e-02\n",
      " * time: 3.0193111896514893\n",
      "    12    -6.206501e+01     1.976431e-02\n",
      " * time: 3.1178810596466064\n",
      "    13    -6.213218e+01     1.402222e-02\n",
      " * time: 3.194888114929199\n",
      "    14    -6.215637e+01     1.104695e-02\n",
      " * time: 3.2799630165100098\n",
      "    15    -6.217867e+01     8.955643e-03\n",
      " * time: 3.3585081100463867\n",
      "    16    -6.219049e+01     7.436095e-03\n",
      " * time: 3.4341890811920166\n",
      "    17    -6.220102e+01     5.849064e-03\n",
      " * time: 3.5228171348571777\n",
      "    18    -6.220964e+01     5.709935e-03\n",
      " * time: 3.610722064971924\n",
      "    19    -6.221755e+01     6.429540e-03\n",
      " * time: 3.685621976852417\n",
      "    20    -6.222497e+01     7.781224e-03\n",
      " * time: 3.7611820697784424\n",
      "    21    -6.223256e+01     6.807523e-03\n",
      " * time: 3.836059093475342\n",
      "    22    -6.224001e+01     5.655929e-03\n",
      " * time: 3.92055606842041\n",
      "    23    -6.224707e+01     5.960335e-03\n",
      " * time: 3.9974751472473145\n",
      "    24    -6.225255e+01     5.093784e-03\n",
      " * time: 4.072607040405273\n",
      "    25    -6.225592e+01     3.718980e-03\n",
      " * time: 4.149160146713257\n",
      "    26    -6.225793e+01     2.974882e-03\n",
      " * time: 4.224081993103027\n",
      "    27    -6.225910e+01     2.810343e-03\n",
      " * time: 4.3299360275268555\n",
      "    28    -6.225986e+01     2.136486e-03\n",
      " * time: 4.406731128692627\n",
      "    29    -6.226044e+01     1.513303e-03\n",
      " * time: 4.482781171798706\n",
      "    30    -6.226089e+01     1.169606e-03\n",
      " * time: 4.57741117477417\n",
      "    31    -6.226122e+01     9.186069e-04\n",
      " * time: 4.652523994445801\n",
      "    32    -6.226141e+01     7.248201e-04\n",
      " * time: 4.7431252002716064\n",
      "    33    -6.226153e+01     5.266160e-04\n",
      " * time: 4.819123983383179\n",
      "    34    -6.226160e+01     4.509361e-04\n",
      " * time: 4.892918109893799\n",
      "    35    -6.226163e+01     2.950135e-04\n",
      " * time: 4.971299171447754\n",
      "    36    -6.226165e+01     1.906883e-04\n",
      " * time: 5.04845118522644\n",
      "    37    -6.226166e+01     1.529236e-04\n",
      " * time: 5.130868196487427\n",
      "    38    -6.226166e+01     1.115651e-04\n",
      " * time: 5.211803197860718\n",
      "    39    -6.226166e+01     9.585592e-05\n",
      " * time: 5.293156147003174\n",
      "    40    -6.226166e+01     7.971897e-05\n",
      " * time: 5.3715291023254395\n",
      "    41    -6.226166e+01     6.443502e-05\n",
      " * time: 5.4481000900268555\n",
      "    42    -6.226167e+01     4.548278e-05\n",
      " * time: 5.532883167266846\n",
      "    43    -6.226167e+01     3.782769e-05\n",
      " * time: 5.609209060668945\n",
      "    44    -6.226167e+01     3.461859e-05\n",
      " * time: 5.685127019882202\n",
      "    45    -6.226167e+01     2.345825e-05\n",
      " * time: 5.764368057250977\n",
      "    46    -6.226167e+01     1.860858e-05\n",
      " * time: 5.840965032577515\n",
      "    47    -6.226167e+01     1.263704e-05\n",
      " * time: 5.923376083374023\n",
      "    48    -6.226167e+01     6.401422e-06\n",
      " * time: 5.997335195541382\n",
      "    49    -6.226167e+01     4.133627e-06\n",
      " * time: 6.075620174407959\n",
      "    50    -6.226167e+01     3.231429e-06\n",
      " * time: 6.154620170593262\n",
      "    51    -6.226167e+01     2.745326e-06\n",
      " * time: 6.2406721115112305\n"
     ]
    }
   ],
   "cell_type": "code",
   "source": [
    "scfres = direct_minimization(basis, tol=1e-5);"
   ],
   "metadata": {},
   "execution_count": 4
  },
  {
   "outputs": [
    {
     "output_type": "execute_result",
     "data": {
      "text/plain": "Energy breakdown (in Ha):\n    Kinetic             25.7671073\n    AtomicLocal         -18.8557699\n    AtomicNonlocal      14.8522656\n    Ewald               -67.1831486\n    PspCorrection       -2.3569765\n    Hartree             4.8485382 \n    Xc                  -19.3336824\n\n    total               -62.261666459506"
     },
     "metadata": {},
     "execution_count": 5
    }
   ],
   "cell_type": "code",
   "source": [
    "scfres.energies"
   ],
   "metadata": {},
   "execution_count": 5
  }
 ],
 "nbformat_minor": 3,
 "metadata": {
  "language_info": {
   "file_extension": ".jl",
   "mimetype": "application/julia",
   "name": "julia",
   "version": "1.7.2"
  },
  "kernelspec": {
   "name": "julia-1.7",
   "display_name": "Julia 1.7.2",
   "language": "julia"
  }
 },
 "nbformat": 4
}
