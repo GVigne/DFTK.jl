{
 "cells": [
  {
   "cell_type": "markdown",
   "source": [
    "# Creating supercells with pymatgen\n",
    "\n",
    "The [Pymatgen](https://pymatgen.org/) python library allows to setup\n",
    "solid-state calculations using a flexible set of classes as well as an API\n",
    "to an online data base of structures. Its `Structure` and `Lattice`\n",
    "objects are directly supported by the DFTK `load_atoms` and `load_lattice`\n",
    "functions, such that DFTK may be readily used to run calculation on systems\n",
    "defined in pymatgen. Using the `pymatgen_structure` function a conversion\n",
    "from DFTK to pymatgen structures is also possible. In the following we\n",
    "use this to create a silicon supercell and find its LDA ground state\n",
    "using direct minimisation. To run this example Julia's `PyCall` package\n",
    "needs to be able to find an installation of `pymatgen`."
   ],
   "metadata": {}
  },
  {
   "cell_type": "markdown",
   "source": [
    "First we setup the silicon lattice in DFTK."
   ],
   "metadata": {}
  },
  {
   "outputs": [],
   "cell_type": "code",
   "source": [
    "using DFTK\n",
    "\n",
    "a = 10.263141334305942  # Lattice constant in Bohr\n",
    "lattice = a / 2 .* [[0 1 1.]; [1 0 1.]; [1 1 0.]]\n",
    "Si = ElementPsp(:Si, psp=load_psp(\"hgh/lda/Si-q4\"))\n",
    "atoms = [Si => [ones(3)/8, -ones(3)/8]];"
   ],
   "metadata": {},
   "execution_count": 1
  },
  {
   "cell_type": "markdown",
   "source": [
    "Next we make a `[2, 2, 2]` supercell using pymatgen"
   ],
   "metadata": {}
  },
  {
   "outputs": [
    {
     "name": "stdout",
     "output_type": "stream",
     "text": [
      "┌ Warning: `vendor()` is deprecated, use `BLAS.get_config()` and inspect the output instead\n",
      "│   caller = npyinitialize() at numpy.jl:67\n",
      "└ @ PyCall /home/runner/.julia/packages/PyCall/L0fLP/src/numpy.jl:67\n"
     ]
    }
   ],
   "cell_type": "code",
   "source": [
    "pystruct = pymatgen_structure(lattice, atoms)\n",
    "pystruct.make_supercell([2, 2, 2])\n",
    "lattice = load_lattice(pystruct)\n",
    "atoms = [Si => [s.frac_coords for s in pystruct.sites]];"
   ],
   "metadata": {},
   "execution_count": 2
  },
  {
   "cell_type": "markdown",
   "source": [
    "Setup an LDA model and discretize using\n",
    "a single k-point and a small `Ecut` of 5 Hartree."
   ],
   "metadata": {}
  },
  {
   "outputs": [
    {
     "output_type": "execute_result",
     "data": {
      "text/plain": "PlaneWaveBasis discretization:\n    Ecut                 : 5.0 Ha\n    fft_size             : (32, 32, 32), 32768 total points\n    kgrid type           : Monkhorst-Pack\n    kgrid                : [1, 1, 1]\n    num. irred. kpoints  : 1\n\n    Discretized Model(lda_xc_teter93, 3D):\n        lattice (in Bohr)    : [0         , 10.2631   , 10.2631   ]\n                               [10.2631   , 0         , 10.2631   ]\n                               [10.2631   , 10.2631   , 0         ]\n        unit cell volume     : 2162.1 Bohr³\n    \n        atoms                : Si₁₆\n        atom potentials      : ElementPsp(Si, psp=\"hgh/lda/si-q4\")\n    \n        num. electrons       : 64\n        spin polarization    : none\n        temperature          : 0 Ha\n    \n        terms                : Kinetic()\n                               AtomicLocal()\n                               AtomicNonlocal()\n                               Ewald()\n                               PspCorrection()\n                               Hartree()\n                               Xc(:lda_xc_teter93)"
     },
     "metadata": {},
     "execution_count": 3
    }
   ],
   "cell_type": "code",
   "source": [
    "model = model_LDA(lattice, atoms)\n",
    "basis = PlaneWaveBasis(model; Ecut=5, kgrid=(1, 1, 1))"
   ],
   "metadata": {},
   "execution_count": 3
  },
  {
   "cell_type": "markdown",
   "source": [
    "Find the ground state using direct minimisation (always using SCF is boring ...)"
   ],
   "metadata": {}
  },
  {
   "outputs": [
    {
     "name": "stdout",
     "output_type": "stream",
     "text": [
      "Iter     Function value   Gradient norm \n",
      "     0     1.127391e+02     1.404413e+00\n",
      " * time: 0.459460973739624\n",
      "     1     1.192609e+01     8.260435e-01\n",
      " * time: 1.08274507522583\n",
      "     2    -1.150068e+01     9.617794e-01\n",
      " * time: 1.1486129760742188\n",
      "     3    -3.375578e+01     7.360085e-01\n",
      " * time: 1.2558250427246094\n",
      "     4    -4.722922e+01     5.503747e-01\n",
      " * time: 1.3334250450134277\n",
      "     5    -5.670480e+01     2.142005e-01\n",
      " * time: 1.438417911529541\n",
      "     6    -5.966154e+01     1.534305e-01\n",
      " * time: 1.494832992553711\n",
      "     7    -6.083352e+01     4.647775e-02\n",
      " * time: 1.5503299236297607\n",
      "     8    -6.126831e+01     6.148367e-02\n",
      " * time: 1.6060960292816162\n",
      "     9    -6.156283e+01     4.607350e-02\n",
      " * time: 1.677954912185669\n",
      "    10    -6.180548e+01     2.775644e-02\n",
      " * time: 1.7339990139007568\n",
      "    11    -6.199328e+01     2.025088e-02\n",
      " * time: 1.7899360656738281\n",
      "    12    -6.207403e+01     1.698863e-02\n",
      " * time: 1.8528690338134766\n",
      "    13    -6.214141e+01     1.406111e-02\n",
      " * time: 1.9088709354400635\n",
      "    14    -6.217257e+01     1.122146e-02\n",
      " * time: 1.9648590087890625\n",
      "    15    -6.219645e+01     1.284235e-02\n",
      " * time: 2.0212669372558594\n",
      "    16    -6.220916e+01     8.021978e-03\n",
      " * time: 2.0840210914611816\n",
      "    17    -6.221877e+01     5.889284e-03\n",
      " * time: 2.139894962310791\n",
      "    18    -6.222575e+01     5.203732e-03\n",
      " * time: 2.195631980895996\n",
      "    19    -6.223141e+01     4.779972e-03\n",
      " * time: 2.2512190341949463\n",
      "    20    -6.223692e+01     5.975803e-03\n",
      " * time: 2.314215898513794\n",
      "    21    -6.224265e+01     5.511035e-03\n",
      " * time: 2.3704519271850586\n",
      "    22    -6.224853e+01     4.824272e-03\n",
      " * time: 2.4263980388641357\n",
      "    23    -6.225385e+01     3.519847e-03\n",
      " * time: 2.4891529083251953\n",
      "    24    -6.225741e+01     2.753117e-03\n",
      " * time: 2.544935941696167\n",
      "    25    -6.225925e+01     2.040162e-03\n",
      " * time: 2.6007049083709717\n",
      "    26    -6.226020e+01     1.631465e-03\n",
      " * time: 2.6562860012054443\n",
      "    27    -6.226068e+01     1.251684e-03\n",
      " * time: 2.724349021911621\n",
      "    28    -6.226097e+01     1.082104e-03\n",
      " * time: 2.7818500995635986\n",
      "    29    -6.226118e+01     9.602422e-04\n",
      " * time: 2.8381989002227783\n",
      "    30    -6.226135e+01     6.729379e-04\n",
      " * time: 2.9011099338531494\n",
      "    31    -6.226147e+01     6.593534e-04\n",
      " * time: 2.9569780826568604\n",
      "    32    -6.226155e+01     5.120949e-04\n",
      " * time: 3.0126149654388428\n",
      "    33    -6.226160e+01     3.431928e-04\n",
      " * time: 3.0679869651794434\n",
      "    34    -6.226163e+01     2.375953e-04\n",
      " * time: 3.1307010650634766\n",
      "    35    -6.226165e+01     1.632036e-04\n",
      " * time: 3.1870179176330566\n",
      "    36    -6.226166e+01     1.587774e-04\n",
      " * time: 3.2426280975341797\n",
      "    37    -6.226166e+01     1.008172e-04\n",
      " * time: 3.2985999584198\n",
      "    38    -6.226166e+01     1.115169e-04\n",
      " * time: 3.3618478775024414\n",
      "    39    -6.226166e+01     6.073620e-05\n",
      " * time: 3.417387008666992\n",
      "    40    -6.226167e+01     4.978654e-05\n",
      " * time: 3.4731390476226807\n",
      "    41    -6.226167e+01     3.926335e-05\n",
      " * time: 3.535984992980957\n",
      "    42    -6.226167e+01     2.985793e-05\n",
      " * time: 3.5917880535125732\n",
      "    43    -6.226167e+01     2.776855e-05\n",
      " * time: 3.647947072982788\n",
      "    44    -6.226167e+01     2.288460e-05\n",
      " * time: 3.7046520709991455\n",
      "    45    -6.226167e+01     1.465825e-05\n",
      " * time: 3.767991065979004\n",
      "    46    -6.226167e+01     1.002199e-05\n",
      " * time: 3.824341058731079\n",
      "    47    -6.226167e+01     6.103989e-06\n",
      " * time: 3.880202054977417\n",
      "    48    -6.226167e+01     4.300837e-06\n",
      " * time: 3.93533992767334\n",
      "    49    -6.226167e+01     3.405862e-06\n",
      " * time: 4.000051975250244\n"
     ]
    }
   ],
   "cell_type": "code",
   "source": [
    "scfres = direct_minimization(basis, tol=1e-5);"
   ],
   "metadata": {},
   "execution_count": 4
  },
  {
   "outputs": [
    {
     "output_type": "execute_result",
     "data": {
      "text/plain": "Energy breakdown (in Ha):\n    Kinetic             25.7671056\n    AtomicLocal         -18.8557633\n    AtomicNonlocal      14.8522623\n    Ewald               -67.1831486\n    PspCorrection       -2.3569765\n    Hartree             4.8485355 \n    Xc                  -19.3336814\n\n    total               -62.261666458085"
     },
     "metadata": {},
     "execution_count": 5
    }
   ],
   "cell_type": "code",
   "source": [
    "scfres.energies"
   ],
   "metadata": {},
   "execution_count": 5
  }
 ],
 "nbformat_minor": 3,
 "metadata": {
  "language_info": {
   "file_extension": ".jl",
   "mimetype": "application/julia",
   "name": "julia",
   "version": "1.7.2"
  },
  "kernelspec": {
   "name": "julia-1.7",
   "display_name": "Julia 1.7.2",
   "language": "julia"
  }
 },
 "nbformat": 4
}
