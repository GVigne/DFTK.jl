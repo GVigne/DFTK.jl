{
 "cells": [
  {
   "cell_type": "markdown",
   "source": [
    "# Creating supercells with pymatgen\n",
    "\n",
    "The [Pymatgen](https://pymatgen.org/) python library allows to setup\n",
    "solid-state calculations using a flexible set of classes as well as an API\n",
    "to an online data base of structures. Its `Structure` and `Lattice`\n",
    "objects are directly supported by the DFTK `load_atoms` and `load_lattice`\n",
    "functions, such that DFTK may be readily used to run calculation on systems\n",
    "defined in pymatgen. Using the `pymatgen_structure` function a conversion\n",
    "from DFTK to pymatgen structures is also possible. In the following we\n",
    "use this to create a silicon supercell and find its LDA ground state\n",
    "using direct minimisation."
   ],
   "metadata": {}
  },
  {
   "cell_type": "markdown",
   "source": [
    "First we setup the silicon lattice in DFTK."
   ],
   "metadata": {}
  },
  {
   "outputs": [],
   "cell_type": "code",
   "source": [
    "using DFTK\n",
    "\n",
    "a = 10.263141334305942  # Lattice constant in Bohr\n",
    "lattice = a / 2 .* [[0 1 1.]; [1 0 1.]; [1 1 0.]]\n",
    "Si = ElementPsp(:Si, psp=load_psp(\"hgh/lda/Si-q4\"))\n",
    "atoms = [Si => [ones(3)/8, -ones(3)/8]];"
   ],
   "metadata": {},
   "execution_count": 1
  },
  {
   "cell_type": "markdown",
   "source": [
    "Next we make a `[2, 2, 2]` supercell using pymatgen"
   ],
   "metadata": {}
  },
  {
   "outputs": [],
   "cell_type": "code",
   "source": [
    "pystruct = pymatgen_structure(lattice, atoms)\n",
    "pystruct.make_supercell([2, 2, 2])\n",
    "lattice = load_lattice(pystruct)\n",
    "atoms = [Si => [s.frac_coords for s in pystruct.sites]];"
   ],
   "metadata": {},
   "execution_count": 2
  },
  {
   "cell_type": "markdown",
   "source": [
    "Setup an LDA model and discretize using\n",
    "a single kpoint and a small `Ecut` of 5 Hartree."
   ],
   "metadata": {}
  },
  {
   "outputs": [
    {
     "output_type": "execute_result",
     "data": {
      "text/plain": "PlaneWaveBasis (Ecut=5.0, 1 kpoints)"
     },
     "metadata": {},
     "execution_count": 3
    }
   ],
   "cell_type": "code",
   "source": [
    "model = model_LDA(lattice, atoms)\n",
    "basis = PlaneWaveBasis(model; Ecut=5, kgrid=(1, 1, 1))"
   ],
   "metadata": {},
   "execution_count": 3
  },
  {
   "cell_type": "markdown",
   "source": [
    "Find the ground state using direct minimisation (always using SCF is boring ...)"
   ],
   "metadata": {}
  },
  {
   "outputs": [
    {
     "name": "stdout",
     "output_type": "stream",
     "text": [
      "Iter     Function value   Gradient norm \n",
      "     0     1.118975e+02     1.473435e+00\n",
      " * time: 0.8521320819854736\n",
      "     1     1.065894e+01     8.732508e-01\n",
      " * time: 2.316646099090576\n",
      "     2    -1.184965e+01     1.043044e+00\n",
      " * time: 3.0082900524139404\n",
      "     3    -3.389070e+01     7.727178e-01\n",
      " * time: 4.033903121948242\n",
      "     4    -4.731671e+01     5.290484e-01\n",
      " * time: 5.058297157287598\n",
      "     5    -5.675624e+01     2.068437e-01\n",
      " * time: 6.105632066726685\n",
      "     6    -5.971220e+01     1.375479e-01\n",
      " * time: 6.778401136398315\n",
      "     7    -6.085714e+01     5.951071e-02\n",
      " * time: 7.440672159194946\n",
      "     8    -6.130859e+01     7.093248e-02\n",
      " * time: 8.1340651512146\n",
      "     9    -6.161382e+01     4.257664e-02\n",
      " * time: 8.807123184204102\n",
      "    10    -6.185104e+01     2.703491e-02\n",
      " * time: 9.5004141330719\n",
      "    11    -6.200830e+01     2.005826e-02\n",
      " * time: 10.236149072647095\n",
      "    12    -6.207100e+01     1.765543e-02\n",
      " * time: 10.95821499824524\n",
      "    13    -6.213783e+01     1.429014e-02\n",
      " * time: 11.630908012390137\n",
      "    14    -6.217240e+01     1.258562e-02\n",
      " * time: 12.302680015563965\n",
      "    15    -6.220484e+01     8.570577e-03\n",
      " * time: 12.98932409286499\n",
      "    16    -6.222378e+01     7.772546e-03\n",
      " * time: 13.66509199142456\n",
      "    17    -6.223466e+01     5.243591e-03\n",
      " * time: 14.337189197540283\n",
      "    18    -6.224257e+01     4.952591e-03\n",
      " * time: 15.00360918045044\n",
      "    19    -6.224719e+01     5.610470e-03\n",
      " * time: 15.666015148162842\n",
      "    20    -6.225097e+01     4.338395e-03\n",
      " * time: 16.375997066497803\n",
      "    21    -6.225422e+01     3.923518e-03\n",
      " * time: 17.062153100967407\n",
      "    22    -6.225709e+01     3.035364e-03\n",
      " * time: 17.755941152572632\n",
      "    23    -6.225911e+01     2.378520e-03\n",
      " * time: 18.438995122909546\n",
      "    24    -6.226034e+01     1.523488e-03\n",
      " * time: 19.09983801841736\n",
      "    25    -6.226100e+01     1.170362e-03\n",
      " * time: 19.769996166229248\n",
      "    26    -6.226131e+01     8.719635e-04\n",
      " * time: 20.425048112869263\n",
      "    27    -6.226147e+01     8.164617e-04\n",
      " * time: 21.07024121284485\n",
      "    28    -6.226154e+01     4.593269e-04\n",
      " * time: 21.740889072418213\n",
      "    29    -6.226159e+01     3.906554e-04\n",
      " * time: 22.41939115524292\n",
      "    30    -6.226161e+01     2.810015e-04\n",
      " * time: 23.11861515045166\n",
      "    31    -6.226163e+01     2.496641e-04\n",
      " * time: 23.778882026672363\n",
      "    32    -6.226164e+01     2.322691e-04\n",
      " * time: 24.458364009857178\n",
      "    33    -6.226165e+01     1.617855e-04\n",
      " * time: 25.144758224487305\n",
      "    34    -6.226166e+01     1.469017e-04\n",
      " * time: 25.84928607940674\n",
      "    35    -6.226166e+01     1.009853e-04\n",
      " * time: 26.541330099105835\n",
      "    36    -6.226166e+01     7.737400e-05\n",
      " * time: 27.263975143432617\n",
      "    37    -6.226167e+01     5.659587e-05\n",
      " * time: 27.949369192123413\n",
      "    38    -6.226167e+01     4.110177e-05\n",
      " * time: 28.660065174102783\n",
      "    39    -6.226167e+01     3.427878e-05\n",
      " * time: 29.348191022872925\n",
      "    40    -6.226167e+01     2.060229e-05\n",
      " * time: 30.037476062774658\n",
      "    41    -6.226167e+01     1.524921e-05\n",
      " * time: 30.713940143585205\n",
      "    42    -6.226167e+01     1.504612e-05\n",
      " * time: 31.39266300201416\n",
      "    43    -6.226167e+01     1.014132e-05\n",
      " * time: 32.104363203048706\n",
      "    44    -6.226167e+01     8.829030e-06\n",
      " * time: 32.81497621536255\n",
      "    45    -6.226167e+01     7.538047e-06\n",
      " * time: 33.53540110588074\n",
      "    46    -6.226167e+01     5.763329e-06\n",
      " * time: 34.23629808425903\n",
      "    47    -6.226167e+01     4.148893e-06\n",
      " * time: 34.90466809272766\n",
      "    48    -6.226167e+01     4.367639e-06\n",
      " * time: 35.62126302719116\n",
      "    49    -6.226167e+01     3.009730e-06\n",
      " * time: 36.30023002624512\n"
     ]
    }
   ],
   "cell_type": "code",
   "source": [
    "scfres = direct_minimization(basis, tol=1e-5);"
   ],
   "metadata": {},
   "execution_count": 4
  },
  {
   "outputs": [
    {
     "output_type": "execute_result",
     "data": {
      "text/plain": "Energy breakdown:\n    Kinetic             25.7671068\n    AtomicLocal         -18.8557683\n    AtomicNonlocal      14.8522650\n    Ewald               -67.1831486\n    PspCorrection       -2.3569765\n    Hartree             4.8485374 \n    Xc                  -19.3336821\n\n    total               -62.261666461135\n"
     },
     "metadata": {},
     "execution_count": 5
    }
   ],
   "cell_type": "code",
   "source": [
    "scfres.energies"
   ],
   "metadata": {},
   "execution_count": 5
  }
 ],
 "nbformat_minor": 3,
 "metadata": {
  "language_info": {
   "file_extension": ".jl",
   "mimetype": "application/julia",
   "name": "julia",
   "version": "1.6.3"
  },
  "kernelspec": {
   "name": "julia-1.6",
   "display_name": "Julia 1.6.3",
   "language": "julia"
  }
 },
 "nbformat": 4
}
