{
 "cells": [
  {
   "cell_type": "markdown",
   "source": [
    "# Wannierization using Wannier90\n",
    "\n",
    "DFTK features an interface with the program\n",
    "[Wannier90](http://www.wannier.org/),\n",
    "in order to compute maximally-localized Wannier functions (MLWFs)\n",
    "from an initial self consistent field calculation.\n",
    "All processes are handled by calling the routine `run_wannier90`.\n",
    "\n",
    "This example shows how to obtain the MLWFs corresponding\n",
    "to the first eight bands of silicon. Since the bands 5 to 8 are entangled,\n",
    "12 bands are first computed to obtain 8 MLWFs by a disantanglement procedure."
   ],
   "metadata": {}
  },
  {
   "outputs": [
    {
     "name": "stdout",
     "output_type": "stream",
     "text": [
      "n     Energy            Eₙ-Eₙ₋₁     ρout-ρin   α      Diag\n",
      "---   ---------------   ---------   --------   ----   ----\n",
      "  1   -7.873756548036         NaN   1.98e-01   0.80    6.3\n",
      "  2   -7.876459030172   -2.70e-03   3.13e-02   0.80    1.0\n",
      "  3   -7.876572933246   -1.14e-04   3.22e-03   0.80    5.1\n",
      "  4   -7.876573866521   -9.33e-07   3.27e-04   0.80    3.4\n",
      "  5   -7.876573877339   -1.08e-08   1.82e-05   0.80    4.0\n",
      "  6   -7.876573877477   -1.37e-10   3.60e-06   0.80    5.0\n",
      "  7   -7.876573877487   -1.06e-11   6.24e-07   0.80    4.3\n",
      "  8   -7.876573877488   -2.11e-13   7.18e-08   0.80    4.3\n"
     ]
    }
   ],
   "cell_type": "code",
   "source": [
    "using DFTK\n",
    "\n",
    "a = 10.26\n",
    "lattice = a / 2 * [[0 1 1.];\n",
    "                   [1 0 1.];\n",
    "                   [1 1 0.]]\n",
    "Si = ElementPsp(:Si, psp=load_psp(\"hgh/pbe/Si-q4\"))\n",
    "atoms = [ Si => [zeros(3), 0.25*[-1, 3, -1]] ]  # Non-symmetric silicon crystal\n",
    "model = model_PBE(lattice, atoms)\n",
    "basis = PlaneWaveBasis(model; Ecut=15, kgrid=[4, 4, 4])\n",
    "\n",
    "scfres = self_consistent_field(basis, tol=1e-12, n_bands=12);"
   ],
   "metadata": {},
   "execution_count": 1
  },
  {
   "cell_type": "markdown",
   "source": [
    "Now we use the `run_wannier90` routine to generate all files needed by\n",
    "wannier90 and to perform the wannierization procedure.\n",
    "In Wannier90's convention, all files are named with the same prefix and only differ by\n",
    "their extensions. By default all generated input and output files are stored\n",
    "in the subfolder \"wannier90\" under the prefix \"wannier\" (i.e. \"wannier90/wannier.win\",\n",
    "\"wannier90/wannier.wout\", etc.). A different file prefix can be given with the\n",
    "keyword argument `fileprefix` as shown below.\n",
    "\n",
    "We now solve for 8 MLWF using wannier90:"
   ],
   "metadata": {}
  },
  {
   "outputs": [
    {
     "output_type": "execute_result",
     "data": {
      "text/plain": "\"wannier/Si\""
     },
     "metadata": {},
     "execution_count": 2
    }
   ],
   "cell_type": "code",
   "source": [
    "using wannier90_jll  # Needed to make run_wannier90 available\n",
    "run_wannier90(scfres;\n",
    "              fileprefix=\"wannier/Si\",\n",
    "              n_wannier=8,\n",
    "              num_print_cycles=50,\n",
    "              num_iter=500,\n",
    "              dis_win_max=17.185257,\n",
    "              dis_froz_max=6.8318033,\n",
    "              dis_num_iter=120,\n",
    "              dis_mix_ratio=1.0)"
   ],
   "metadata": {},
   "execution_count": 2
  },
  {
   "cell_type": "markdown",
   "source": [
    "As can be observed standard optional arguments for the disentanglement\n",
    "can be passed directly to `run_wannier90` as keyword arguments."
   ],
   "metadata": {}
  },
  {
   "cell_type": "markdown",
   "source": [
    "delete temporary files:"
   ],
   "metadata": {}
  },
  {
   "outputs": [],
   "cell_type": "code",
   "source": [
    "rm(\"wannier\", recursive=true)"
   ],
   "metadata": {},
   "execution_count": 3
  }
 ],
 "nbformat_minor": 3,
 "metadata": {
  "language_info": {
   "file_extension": ".jl",
   "mimetype": "application/julia",
   "name": "julia",
   "version": "1.7.0"
  },
  "kernelspec": {
   "name": "julia-1.7",
   "display_name": "Julia 1.7.0",
   "language": "julia"
  }
 },
 "nbformat": 4
}
